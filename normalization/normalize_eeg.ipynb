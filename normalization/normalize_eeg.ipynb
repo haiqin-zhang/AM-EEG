{
 "cells": [
  {
   "cell_type": "code",
   "execution_count": 45,
   "metadata": {},
   "outputs": [],
   "source": [
    "import mne\n",
    "import os\n",
    "import glob\n",
    "import numpy as np\n",
    "import pandas as pd\n",
    "from scipy.io import savemat, loadmat\n",
    "\n",
    "import os\n",
    "import sys\n",
    "sys.path.append('../utils')\n",
    "from mTRF_utils import *\n"
   ]
  },
  {
   "cell_type": "code",
   "execution_count": 46,
   "metadata": {},
   "outputs": [
    {
     "name": "stdout",
     "output_type": "stream",
     "text": [
      "\n",
      "PROCESSING SUBJECT  01\n",
      "Opening eeg_listen_pre_01.mat\n",
      "\n",
      "PROCESSING SUBJECT  02\n",
      "Opening eeg_listen_pre_02.mat\n"
     ]
    }
   ],
   "source": [
    "#======================================================================================\n",
    "#                        PARAMETERS\n",
    "#======================================================================================\n",
    "subjects_to_process = ['01', '02']\n",
    "task = 'listen'\n",
    "period = 'pre'\n",
    "overwrite = True\n",
    "save_concatenated_original = False\n",
    "\n",
    "#======================================================================================\n",
    "#                        INITIALIZE DIRECTORIES\n",
    "#======================================================================================\n",
    "pp_dir = \"/Users/cindyzhang/Documents/M2/Audiomotor_Piano/AM-EEG/data_preprocessed\" #where the preprocessed files are\n",
    "normalized_dir = '/Users/cindyzhang/Documents/M2/Audiomotor_Piano/AM-EEG/normalization'\n",
    "\n",
    "#======================================================================================\n",
    "#                        CONCATENATE AND NORMALIZE\n",
    "#======================================================================================\n",
    "#initialize lists for saving\n",
    "eeg_list = []\n",
    "eeg_list_normalized = []\n",
    "\n",
    "for folder in sorted(os.listdir(pp_dir)):\n",
    "    \n",
    "    if folder not in subjects_to_process:\n",
    "        continue\n",
    "    \n",
    "    sub_pp_dir = os.path.join(pp_dir, folder)\n",
    "    print('\\nPROCESSING SUBJECT ', folder)\n",
    "\n",
    "\n",
    "    data_path = glob.glob(os.path.join(sub_pp_dir, f'eeg_{task}_{period}_??.mat'))[0]\n",
    "    subject_ID = data_path.split('.')[0][-2:]\n",
    "    print('Opening', data_path.split('/')[-1])\n",
    "    \n",
    "    #--------------------------------------------\n",
    "    #               LOAD FILE AND EVENTS\n",
    "    #--------------------------------------------\n",
    "    data = loadmat(data_path)\n",
    "    eeg = data['trial_data'].T #only the 64 eeg channels, no ext channels\n",
    "\n",
    "    #append to master list\n",
    "    eeg_list.append(eeg)\n",
    "\n",
    "\n",
    "eeg_list_normalized = normalize_responses(eeg_list)\n",
    "        "
   ]
  },
  {
   "cell_type": "code",
   "execution_count": 47,
   "metadata": {},
   "outputs": [],
   "source": [
    "file_tosave = os.path.join(normalized_dir,f'normalized_concat_{task}_{period}.mat')\n",
    "os.path.exists(file_tosave)\n",
    "\n",
    "mat_tosave = {'eeg_normalized': eeg_list_normalized,\n",
    "             'subjects': subjects_to_process,\n",
    "            }\n",
    "if save_concatenated_original:\n",
    "    mat_tosave['eeg_original': eeg_list]\n",
    "\n",
    "if overwrite == False and os.path.exists(file_tosave):\n",
    "    print('File already exists. Choose another file name or set Overwrite to True')\n",
    "else:\n",
    "    savemat(file_tosave, mat_tosave)\n",
    "\n",
    "            "
   ]
  },
  {
   "cell_type": "code",
   "execution_count": 48,
   "metadata": {},
   "outputs": [
    {
     "data": {
      "text/plain": [
       "(85120, 64)"
      ]
     },
     "execution_count": 48,
     "metadata": {},
     "output_type": "execute_result"
    }
   ],
   "source": [
    "mat_tosave['eeg_normalized'][0].shape"
   ]
  }
 ],
 "metadata": {
  "kernelspec": {
   "display_name": "eelbrain-cnsp",
   "language": "python",
   "name": "python3"
  },
  "language_info": {
   "codemirror_mode": {
    "name": "ipython",
    "version": 3
   },
   "file_extension": ".py",
   "mimetype": "text/x-python",
   "name": "python",
   "nbconvert_exporter": "python",
   "pygments_lexer": "ipython3",
   "version": "3.11.5"
  },
  "orig_nbformat": 4
 },
 "nbformat": 4,
 "nbformat_minor": 2
}
