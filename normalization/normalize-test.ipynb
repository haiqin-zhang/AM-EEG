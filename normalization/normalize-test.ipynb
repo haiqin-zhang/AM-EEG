{
 "cells": [
  {
   "cell_type": "code",
   "execution_count": 1,
   "metadata": {},
   "outputs": [],
   "source": [
    "import mne\n",
    "import os\n",
    "import glob\n",
    "import numpy as np\n",
    "import pandas as pd\n",
    "from scipy.io import savemat, loadmat\n",
    "\n",
    "import os\n",
    "import sys\n",
    "sys.path.append('../utils')\n",
    "\n",
    "from mTRF_utils import *\n",
    "from normalize_eeg import *"
   ]
  },
  {
   "cell_type": "code",
   "execution_count": 21,
   "metadata": {},
   "outputs": [],
   "source": [
    "\"\"\"\n",
    "Concatenates and normalizes EEG data\n",
    "\n",
    "Saves a .mat file with task- and period-specific EEG for all participants.\n",
    "Also optionally saves a .mat file with the nonnormalized, task and period specific EEG concatenated for all participants\n",
    "\n",
    "\"\"\"\n",
    "import mne\n",
    "import os\n",
    "import glob\n",
    "import numpy as np\n",
    "import pandas as pd\n",
    "from scipy.io import savemat, loadmat\n",
    "import pickle\n",
    "\n",
    "import os\n",
    "import sys\n",
    "sys.path.append('../utils')\n",
    "from mTRF_utils import *\n",
    "from pp_utils import *\n",
    "\n",
    "\n",
    "def normalize_eeg_stimuli(subjects_to_process, task, period, overwrite = False, save_concatenated_original = False, save_normalized = False):\n",
    "    \"\"\"\n",
    "    Normalizes eeg responses across subjects.\n",
    "    Option to save the normalized lists of responses and stimuli\n",
    "\n",
    "    Returns: eeg_list_normalized (a list of n_timepoints x n_channel arrays)\n",
    "\n",
    "    \"\"\"\n",
    "    #======================================================================================\n",
    "    #                        INITIALIZE DIRECTORIES\n",
    "    #======================================================================================\n",
    "    pp_dir = \"/Users/cindyzhang/Documents/M2/Audiomotor_Piano/AM-EEG/data_preprocessed\" #where the preprocessed files are\n",
    "    normalized_dir = '/Users/cindyzhang/Documents/M2/Audiomotor_Piano/AM-EEG/normalization'\n",
    "\n",
    "    #======================================================================================\n",
    "    #                        CONCATENATE AND NORMALIZE\n",
    "    #======================================================================================\n",
    "    #initialize lists for saving\n",
    "    eeg_list = []\n",
    "    stimuli_list = []\n",
    "    \n",
    "\n",
    "    for folder in sorted(os.listdir(pp_dir)):\n",
    "        \n",
    "        if folder not in subjects_to_process:\n",
    "            continue\n",
    "        \n",
    "        sub_pp_dir = os.path.join(pp_dir, folder)\n",
    "        print('\\nPROCESSING SUBJECT ', folder)\n",
    "\n",
    "\n",
    "        data_path = glob.glob(os.path.join(sub_pp_dir, f'eeg_{task}_{period}_??.mat'))[0]\n",
    "        subject_ID = data_path.split('.')[0][-2:]\n",
    "        print('Opening', data_path.split('/')[-1])\n",
    "        \n",
    "        #--------------------------------------------\n",
    "        #               LOAD FILE AND EVENTS\n",
    "        #--------------------------------------------\n",
    "        data = loadmat(data_path)\n",
    "        eeg = data['trial_data'].T #only the 64 eeg channels, no ext channels\n",
    "        events_sv = data['events']\n",
    "\n",
    "        # EEG\n",
    "        ##########################\n",
    "        #append eeg to master list\n",
    "        eeg_list.append(eeg)\n",
    "\n",
    "        # ONSETS\n",
    "        ########################\n",
    "        events_arr = make_raw_events(events_sv)\n",
    "        events_keystrokes = clean_triggers(events_arr[events_arr[:, 2]==2])\n",
    "        onset_indices = events_keystrokes[:,0]\n",
    "\n",
    "        #make support vector\n",
    "        onsets_sv = np.zeros_like(events_sv[0])\n",
    "        onsets_sv[onset_indices] = 1\n",
    "\n",
    "        # SURPRISAL\n",
    "        ########################\n",
    "        #loading surprisal values from DREX\n",
    "        with open ('/Users/cindyzhang/Documents/M2/Audiomotor_Piano/AM-EEG/analysis_listen/mTRF_stimuli/listen_surprisal_drex.pkl', 'rb') as f:\n",
    "            surprisal_drex = pickle.load(f)\n",
    "        surprisal_drex = surprisal_drex.squeeze()\n",
    "\n",
    "        #make support vector\n",
    "        index_surprisal = 0\n",
    "        surprisal_sv  = []\n",
    "        for num in onsets_sv:\n",
    "            if num == 1:\n",
    "                surprisal_sv.append(surprisal_drex[index_surprisal])\n",
    "                index_surprisal += 1\n",
    "            else:\n",
    "                surprisal_sv.append(num)\n",
    "        surprisal_sv = np.array(surprisal_sv)\n",
    "\n",
    "       \n",
    "        # STACKING STIMULUS FEATURES\n",
    "        stacked_sv = np.vstack([onsets_sv, surprisal_sv])\n",
    "\n",
    "        \n",
    "        #append to events master list\n",
    "        stimuli_list.append(stacked_sv.T)\n",
    "\n",
    "    eeg_list_normalized = normalize_responses(eeg_list)\n",
    "    stimuli_list_normalized = normalize_stimuli(stimuli_list)\n",
    "\n",
    "    #SAVE FILES\n",
    "    #======================================================================================\n",
    "\n",
    "    if save_normalized == True:\n",
    "        file_tosave = os.path.join(normalized_dir,f'normalized_concat_{task}_{period}.mat')\n",
    "        os.path.exists(file_tosave)\n",
    "\n",
    "        mat_tosave = {'eeg_normalized': eeg_list_normalized,\n",
    "                    'subjects': subjects_to_process,\n",
    "                    }\n",
    "        if save_concatenated_original:\n",
    "            mat_tosave['eeg_original': eeg_list]\n",
    "\n",
    "        if overwrite == False and os.path.exists(file_tosave):\n",
    "            print('File already exists. Choose another file name or set Overwrite to True')\n",
    "        else:\n",
    "            savemat(file_tosave, mat_tosave)\n",
    "\n",
    "    return eeg_list_normalized, stimuli_list_normalized"
   ]
  },
  {
   "cell_type": "code",
   "execution_count": 23,
   "metadata": {},
   "outputs": [
    {
     "name": "stdout",
     "output_type": "stream",
     "text": [
      "\n",
      "PROCESSING SUBJECT  01\n",
      "Opening eeg_listen_pre_01.mat\n",
      "\n",
      "PROCESSING SUBJECT  02\n",
      "Opening eeg_listen_pre_02.mat\n"
     ]
    }
   ],
   "source": [
    "eeg_list ,stimuli_list = normalize_eeg_stimuli(subjects_to_process, 'listen', 'pre')"
   ]
  },
  {
   "cell_type": "code",
   "execution_count": 25,
   "metadata": {},
   "outputs": [
    {
     "data": {
      "text/plain": [
       "(85120, 2)"
      ]
     },
     "execution_count": 25,
     "metadata": {},
     "output_type": "execute_result"
    }
   ],
   "source": [
    "stimuli_list[0].shape"
   ]
  },
  {
   "cell_type": "code",
   "execution_count": 27,
   "metadata": {},
   "outputs": [],
   "source": [
    "import matplotlib.pyplot as plt"
   ]
  },
  {
   "cell_type": "code",
   "execution_count": 29,
   "metadata": {},
   "outputs": [
    {
     "data": {
      "text/plain": [
       "[<matplotlib.lines.Line2D at 0x17efbcd10>]"
      ]
     },
     "execution_count": 29,
     "metadata": {},
     "output_type": "execute_result"
    },
    {
     "data": {
      "image/png": "[encoded data removed]",
      "text/plain": [
       "<Figure size 640x480 with 1 Axes>"
      ]
     },
     "metadata": {},
     "output_type": "display_data"
    }
   ],
   "source": [
    "plt.plot(stimuli_list[0][:,1])"
   ]
  }
 ],
 "metadata": {
  "kernelspec": {
   "display_name": "mtrfpy2",
   "language": "python",
   "name": "python3"
  },
  "language_info": {
   "codemirror_mode": {
    "name": "ipython",
    "version": 3
   },
   "file_extension": ".py",
   "mimetype": "text/x-python",
   "name": "python",
   "nbconvert_exporter": "python",
   "pygments_lexer": "ipython3",
   "version": "3.11.5"
  },
  "orig_nbformat": 4
 },
 "nbformat": 4,
 "nbformat_minor": 2
}
