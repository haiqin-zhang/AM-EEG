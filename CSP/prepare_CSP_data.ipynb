{
 "cells": [
  {
   "cell_type": "code",
   "execution_count": 1,
   "metadata": {},
   "outputs": [],
   "source": [
    "import matplotlib.pyplot as plt\n",
    "import matplotlib.ticker as ticker\n",
    "import numpy as np\n",
    "import pandas as pd\n",
    "import scipy.stats as stats\n",
    "\n",
    "import scipy\n",
    "import pywt\n",
    "import mne\n",
    "from mne.decoding import CSP\n",
    "import math\n",
    "\n",
    "from sklearn.discriminant_analysis import LinearDiscriminantAnalysis\n",
    "from sklearn.model_selection import StratifiedKFold, cross_val_score, LeaveOneGroupOut\n",
    "\n",
    "from sklearn.pipeline import make_pipeline\n",
    "from sklearn.preprocessing import LabelEncoder\n",
    "\n",
    "\n",
    "from mne.time_frequency import AverageTFRArray\n",
    "\n",
    "import sys\n",
    "from tqdm import tqdm\n",
    "\n",
    "\n",
    "sys.path.append('../utils')\n",
    "from ERP_utils import *\n",
    "from update_sub_lists import *\n",
    "from wavelet_utils import *\n",
    "from stats_utils import *\n",
    "import glob\n",
    "import os\n",
    "\n",
    "from mne.time_frequency import AverageTFRArray\n",
    "import seaborn as sns\n",
    "import warnings\n",
    "\n",
    "#warnings and logs\n",
    "warnings.simplefilter(action='ignore', category=FutureWarning)\n",
    "mne.set_log_level('CRITICAL')"
   ]
  },
  {
   "cell_type": "markdown",
   "metadata": {},
   "source": [
    "Load data"
   ]
  },
  {
   "cell_type": "code",
   "execution_count": 301,
   "metadata": {},
   "outputs": [
    {
     "name": "stdout",
     "output_type": "stream",
     "text": [
      "processing subjects: ['01', '02', '03', '04', '05', '06', '07', '08', '09', '10', '11', '12', '13', '14', '15', '16', '17', '18', '19', '20', '21']\n"
     ]
    }
   ],
   "source": [
    "task = 'listen'\n",
    "\n",
    "epochs_dir = f'/Users/cindyzhang/Documents/M2/Audiomotor_Piano/AM-EEG/analysis_{task}/{task}_epochs_data_n05to05_30Hz'\n",
    "subjects_to_process = find_existing_subjects(epochs_dir)\n",
    "#subjects_to_process = ['01','05']\n",
    "n_subs = len(subjects_to_process)\n",
    "\n",
    "print('processing subjects:', subjects_to_process)"
   ]
  },
  {
   "cell_type": "markdown",
   "metadata": {},
   "source": [
    "Concatenate subjects"
   ]
  },
  {
   "cell_type": "code",
   "execution_count": 302,
   "metadata": {},
   "outputs": [],
   "source": [
    "def concat_epochs_subs(subjects_to_process, task, epochs_dir, period, drop_bads = True, **kwargs):\n",
    "    \"\"\" \n",
    "    Concatenate epochs over multiple subjects. Use for CSP.\n",
    "    drop_bads: whether to drop bad epochs according to some rejection criteria\n",
    "    ---\n",
    "    Returns: \n",
    "    eps_all: epochs object with concatenated epochs\n",
    "    sub_labels: list of sub labels corresponding to each epoch in concatenated list e.g. [1,1,1,..2,2,...,n] \n",
    "    \"\"\"\n",
    "    eps_list = []\n",
    "    sub_labels = [] #list of subs\n",
    "    for sub in subjects_to_process: \n",
    "        #read epochs\n",
    "        eps_file = os.path.join(epochs_dir, f'{task}_epochs_{period}_{sub}.fif')\n",
    "        eps = mne.read_epochs(eps_file)\n",
    "\n",
    "        #drop bad epochs\n",
    "        if drop_bads:\n",
    "            eps.drop_bad(**kwargs)\n",
    "        eps_list.append(eps)\n",
    "        \n",
    "        \n",
    "\n",
    "        #add sub labels for CV\n",
    "        n_eps = eps.get_data().shape[0]\n",
    "        sub_labels_sub = [sub]*n_eps\n",
    "        sub_labels.extend(sub_labels_sub)\n",
    "\n",
    "    \n",
    "    #drop bad epochs\n",
    "    eps_all = mne.concatenate_epochs(eps_list)\n",
    "     \n",
    "\n",
    "\n",
    "    return eps_all, sub_labels\n",
    "\n"
   ]
  },
  {
   "cell_type": "code",
   "execution_count": 303,
   "metadata": {},
   "outputs": [],
   "source": [
    "\n",
    "reject_criteria = dict(eeg=100e-6) \n",
    "eps_all_pre, sub_labels_pre = concat_epochs_subs(subjects_to_process, task, epochs_dir, 'pre', reject = reject_criteria)\n",
    "eps_all_post, sub_labels_post = concat_epochs_subs(subjects_to_process, task, epochs_dir, 'post', reject = reject_criteria)\n"
   ]
  },
  {
   "cell_type": "markdown",
   "metadata": {},
   "source": [
    "Change pre/post labels \n",
    "\n",
    "(pre = 1, post = 2) and combine pre and post epochs"
   ]
  },
  {
   "cell_type": "code",
   "execution_count": 304,
   "metadata": {},
   "outputs": [],
   "source": [
    "\n",
    "eps_all = mne.concatenate_epochs([eps_all_pre, eps_all_post]) #doesn't have the different labels, don't use these events"
   ]
  },
  {
   "cell_type": "code",
   "execution_count": 305,
   "metadata": {},
   "outputs": [],
   "source": [
    "pre_labels = np.ones_like(eps_all_pre.events[:, 2])  \n",
    "post_labels = np.full_like(eps_all_post.events[:, 2], 2) #the default value is already 2 for listening post\n",
    "\n",
    "labels = np.hstack([pre_labels, post_labels]) #use this instead of events as labels for training\n",
    "sub_labels = np.hstack([sub_labels_pre, sub_labels_post])\n",
    "#combine epochs\n",
    "eps_all = mne.concatenate_epochs([eps_all_pre, eps_all_post])"
   ]
  },
  {
   "cell_type": "code",
   "execution_count": 306,
   "metadata": {},
   "outputs": [],
   "source": [
    "#mne.viz.plot_epochs_image(eps_all, combine = 'mean')"
   ]
  },
  {
   "cell_type": "markdown",
   "metadata": {},
   "source": [
    "Define frequencies"
   ]
  },
  {
   "cell_type": "code",
   "execution_count": 307,
   "metadata": {},
   "outputs": [],
   "source": [
    "# Classification & time-frequency parameters\n",
    "tmin, tmax = -0.500, 0.5\n",
    "n_cycles = 10.0  # how many complete cycles: used to define window size\n",
    "min_freq = 3.0\n",
    "max_freq = 30.0\n",
    "n_freqs = 8  # how many frequency bins to use\n",
    "\n",
    "# Assemble list of frequency range tuples\n",
    "freqs = np.linspace(min_freq, max_freq, n_freqs)  # assemble frequencies\n",
    "freqs = np.round(freqs,2)\n",
    "freq_ranges = list(zip(freqs[:-1], freqs[1:]))  # make freqs list of tuples\n",
    "\n",
    "# Infer window spacing from the max freq and number of cycles to avoid gaps\n",
    "window_spacing = n_cycles / np.max(freqs) / 2.0\n",
    "centered_w_times = np.arange(tmin, tmax, window_spacing)[1:]\n",
    "n_windows = len(centered_w_times)"
   ]
  },
  {
   "cell_type": "markdown",
   "metadata": {},
   "source": [
    "Make CV pipeline"
   ]
  },
  {
   "cell_type": "code",
   "execution_count": 308,
   "metadata": {},
   "outputs": [
    {
     "data": {
      "text/plain": [
       "\"for train_idx, test_idx in cv.split(X, y):\\n    #print(f'train indices: {train_idx}, test indices: {test_idx}')\\n    print(len(train_idx), len(test_idx))\\n    plt.eventplot(train_idx, color = 'grey', lineoffsets = x_pos)\\n    plt.eventplot(test_idx, color = 'orange', lineoffsets = x_pos)\\n    x_pos+=1\\n\\nplt.xlim(1,400)\""
      ]
     },
     "execution_count": 308,
     "metadata": {},
     "output_type": "execute_result"
    }
   ],
   "source": [
    "# PARAMETERS\n",
    "n_splits = 6  # for cross-validation, 5 is better, here we use 3 for speed\n",
    "n_components = 4 #components of CSP to keep\n",
    "iir_params = dict(order=8, ftype=\"butter\") #for filtering frequencies\n",
    "\n",
    "# Assemble the classifier using scikit-learn pipeline\n",
    "clf = make_pipeline(\n",
    "    CSP(n_components=n_components, reg=None, log=True, norm_trace=False),\n",
    "    LinearDiscriminantAnalysis(),\n",
    ")\n",
    "\n",
    "# CV setup\n",
    "cv = StratifiedKFold(n_splits=n_splits, shuffle=True, random_state=42) #use logo instead\n",
    "logo = LeaveOneGroupOut()\n",
    "\n",
    "\n",
    "### PLOT SPLITS\n",
    "#X = eps_all.get_data()[:, :64, :]\n",
    "#y = labels\n",
    "\n",
    "#plot train, test splits\n",
    "\"\"\"plt.figure(figsize = (20,5))\n",
    "x_pos = 0\n",
    "\"\"\"\n",
    "#leave one out\n",
    "\"\"\"\n",
    "for train_idx, test_idx in logo.split(X, y, groups = sub_labels):\n",
    "    #print(f'train indices: {train_idx}, test indices: {test_idx}')\n",
    "    \n",
    "    plt.eventplot(train_idx, color = 'grey', lineoffsets = x_pos)\n",
    "    plt.eventplot(test_idx, color = 'orange', lineoffsets = x_pos)\n",
    "    x_pos+=1\"\"\"\n",
    "\n",
    "#CV \n",
    "\"\"\"for train_idx, test_idx in cv.split(X, y):\n",
    "    #print(f'train indices: {train_idx}, test indices: {test_idx}')\n",
    "    print(len(train_idx), len(test_idx))\n",
    "    plt.eventplot(train_idx, color = 'grey', lineoffsets = x_pos)\n",
    "    plt.eventplot(test_idx, color = 'orange', lineoffsets = x_pos)\n",
    "    x_pos+=1\n",
    "\n",
    "plt.xlim(1,400)\"\"\""
   ]
  },
  {
   "cell_type": "markdown",
   "metadata": {},
   "source": [
    "CV and classification"
   ]
  },
  {
   "cell_type": "code",
   "execution_count": 309,
   "metadata": {},
   "outputs": [],
   "source": [
    "#test on one frequency\n",
    "#cross_val_score_freq = cross_val_score(estimator=clf, X=X, y=y, scoring=\"roc_auc\", cv=logo, groups = sub_labels)\n",
    "\n"
   ]
  },
  {
   "cell_type": "code",
   "execution_count": 310,
   "metadata": {},
   "outputs": [
    {
     "data": {
      "text/plain": [
       "'# Loop through each frequency range of interest\\nfreq_scores = {}\\n\\nfor freq, (fmin, fmax) in enumerate(tqdm(freq_ranges)):\\n\\n    eps_filt = eps_all.copy()\\n    eps_filt.filter(l_freq=fmin, h_freq=fmax, picks=None, method=\\'iir\\', iir_params=iir_params, verbose=None)\\n    X = eps_filt.get_data(copy = True)[:, :64, :]\\n    y = labels\\n\\n\\n    # Save mean scores over folds for each frequency and time window\\n    cross_val_score_freq = cross_val_score(estimator=clf, X=X, y=y, scoring=\"roc_auc\", cv=logo, groups = sub_labels)\\n    #cross_val_score_freq = cross_val_score(estimator=clf, X=X, y=y, scoring=\"roc_auc\", cv=cv)\\n\\n    freq_scores[f\\'{fmin}-{fmax}Hz\\'] = cross_val_score_freq\\n\\n    #freq_scores[freq] = np.mean(cross_val_score(estimator=clf, X=X, y=y, scoring=\"roc_auc\", cv=cv), axis=0)\\n    print(f\\'{fmin}-{fmax}Hz\\', cross_val_score_freq)\\n    \\nsavemat(f\\'freq_scores_logo_{task}.mat\\', freq_scores)'"
      ]
     },
     "execution_count": 310,
     "metadata": {},
     "output_type": "execute_result"
    }
   ],
   "source": [
    "\"\"\"# Loop through each frequency range of interest\n",
    "freq_scores = {}\n",
    "\n",
    "for freq, (fmin, fmax) in enumerate(tqdm(freq_ranges)):\n",
    "\n",
    "    eps_filt = eps_all.copy()\n",
    "    eps_filt.filter(l_freq=fmin, h_freq=fmax, picks=None, method='iir', iir_params=iir_params, verbose=None)\n",
    "    X = eps_filt.get_data(copy = True)[:, :64, :]\n",
    "    y = labels\n",
    "\n",
    "\n",
    "    # Save mean scores over folds for each frequency and time window\n",
    "    cross_val_score_freq = cross_val_score(estimator=clf, X=X, y=y, scoring=\"roc_auc\", cv=logo, groups = sub_labels)\n",
    "    #cross_val_score_freq = cross_val_score(estimator=clf, X=X, y=y, scoring=\"roc_auc\", cv=cv)\n",
    "\n",
    "    freq_scores[f'{fmin}-{fmax}Hz'] = cross_val_score_freq\n",
    "\n",
    "    #freq_scores[freq] = np.mean(cross_val_score(estimator=clf, X=X, y=y, scoring=\"roc_auc\", cv=cv), axis=0)\n",
    "    print(f'{fmin}-{fmax}Hz', cross_val_score_freq)\n",
    "    \n",
    "savemat(f'freq_scores_logo_{task}.mat', freq_scores)\"\"\""
   ]
  },
  {
   "cell_type": "code",
   "execution_count": 329,
   "metadata": {},
   "outputs": [],
   "source": [
    "mat_file = loadmat('freq_scores_cv_motor.mat')\n",
    "freq_scores = {key: mat_file[key] for key in mat_file if not key.startswith('__')}\n"
   ]
  },
  {
   "cell_type": "code",
   "execution_count": 330,
   "metadata": {},
   "outputs": [
    {
     "data": {
      "text/plain": [
       "{'3.0-6.86Hz': array([[0.63786669, 0.61299726, 0.65618975, 0.63760247, 0.60018707,\n",
       "         0.63422555]]),\n",
       " '6.86-10.71Hz': array([[0.65377705, 0.64583835, 0.66803266, 0.64693203, 0.65015853,\n",
       "         0.64390081]]),\n",
       " '10.71-14.57Hz': array([[0.59403481, 0.59598797, 0.61076732, 0.61245707, 0.61304117,\n",
       "         0.60182835]]),\n",
       " '14.57-18.43Hz': array([[0.62702634, 0.60111045, 0.63754259, 0.61719637, 0.61080058,\n",
       "         0.60796985]]),\n",
       " '18.43-22.29Hz': array([[0.61866184, 0.62705415, 0.62653392, 0.62840595, 0.61279236,\n",
       "         0.59948404]]),\n",
       " '22.29-26.14Hz': array([[0.59211845, 0.59063265, 0.60638993, 0.58411978, 0.63244007,\n",
       "         0.58863663]]),\n",
       " '26.14-30.0Hz': array([[0.59111774, 0.56704529, 0.59609042, 0.60136058, 0.62383164,\n",
       "         0.56620472]])}"
      ]
     },
     "execution_count": 330,
     "metadata": {},
     "output_type": "execute_result"
    }
   ],
   "source": [
    "freq_scores"
   ]
  },
  {
   "cell_type": "code",
   "execution_count": 331,
   "metadata": {},
   "outputs": [],
   "source": [
    "freq_scores_mean = np.zeros(n_freqs-1)\n",
    "for i, key in enumerate(freq_scores.keys()):\n",
    "    freq_scores_mean[i] = np.mean(freq_scores[key])"
   ]
  },
  {
   "cell_type": "code",
   "execution_count": 312,
   "metadata": {},
   "outputs": [],
   "source": [
    "#savemat(f'freq_scores_cv_{task}.mat', freq_scores)"
   ]
  },
  {
   "cell_type": "code",
   "execution_count": 333,
   "metadata": {},
   "outputs": [
    {
     "data": {
      "text/plain": [
       "array([ 3.  ,  6.86, 10.71, 14.57, 18.43, 22.29, 26.14, 30.  ])"
      ]
     },
     "execution_count": 333,
     "metadata": {},
     "output_type": "execute_result"
    }
   ],
   "source": [
    "freqs"
   ]
  },
  {
   "cell_type": "markdown",
   "metadata": {},
   "source": [
    "Plotting scores"
   ]
  },
  {
   "cell_type": "code",
   "execution_count": 334,
   "metadata": {},
   "outputs": [
    {
     "ename": "ValueError",
     "evalue": "x and y must be the same size",
     "output_type": "error",
     "traceback": [
      "\u001b[0;31m---------------------------------------------------------------------------\u001b[0m",
      "\u001b[0;31mValueError\u001b[0m                                Traceback (most recent call last)",
      "\u001b[1;32m/Users/cindyzhang/Documents/M2/Audiomotor_Piano/AM-EEG/CSP/prepare_CSP_data.ipynb Cell 25\u001b[0m line \u001b[0;36m1\n\u001b[1;32m     <a href='vscode-notebook-cell:/Users/cindyzhang/Documents/M2/Audiomotor_Piano/AM-EEG/CSP/prepare_CSP_data.ipynb#X24sZmlsZQ%3D%3D?line=15'>16</a>\u001b[0m     freq_toplot \u001b[39m=\u001b[39m np\u001b[39m.\u001b[39mmean(freq_range)\n\u001b[1;32m     <a href='vscode-notebook-cell:/Users/cindyzhang/Documents/M2/Audiomotor_Piano/AM-EEG/CSP/prepare_CSP_data.ipynb#X24sZmlsZQ%3D%3D?line=16'>17</a>\u001b[0m     freq_xpos \u001b[39m=\u001b[39m [freq_toplot]\u001b[39m*\u001b[39m freq_scores[freq]\u001b[39m.\u001b[39mshape[\u001b[39m0\u001b[39m]\n\u001b[0;32m---> <a href='vscode-notebook-cell:/Users/cindyzhang/Documents/M2/Audiomotor_Piano/AM-EEG/CSP/prepare_CSP_data.ipynb#X24sZmlsZQ%3D%3D?line=17'>18</a>\u001b[0m     plt\u001b[39m.\u001b[39;49mscatter(freq_xpos,freq_scores[freq], color \u001b[39m=\u001b[39;49m \u001b[39m'\u001b[39;49m\u001b[39mblack\u001b[39;49m\u001b[39m'\u001b[39;49m)\n\u001b[1;32m     <a href='vscode-notebook-cell:/Users/cindyzhang/Documents/M2/Audiomotor_Piano/AM-EEG/CSP/prepare_CSP_data.ipynb#X24sZmlsZQ%3D%3D?line=18'>19</a>\u001b[0m \u001b[39m\"\"\"\u001b[39;00m\n\u001b[1;32m     <a href='vscode-notebook-cell:/Users/cindyzhang/Documents/M2/Audiomotor_Piano/AM-EEG/CSP/prepare_CSP_data.ipynb#X24sZmlsZQ%3D%3D?line=19'>20</a>\u001b[0m \u001b[39m#plot for each sub\u001b[39;00m\n\u001b[1;32m     <a href='vscode-notebook-cell:/Users/cindyzhang/Documents/M2/Audiomotor_Piano/AM-EEG/CSP/prepare_CSP_data.ipynb#X24sZmlsZQ%3D%3D?line=20'>21</a>\u001b[0m \u001b[39mfor idx in range(n_subs):\u001b[39;00m\n\u001b[1;32m     <a href='vscode-notebook-cell:/Users/cindyzhang/Documents/M2/Audiomotor_Piano/AM-EEG/CSP/prepare_CSP_data.ipynb#X24sZmlsZQ%3D%3D?line=21'>22</a>\u001b[0m \u001b[39m    freq_scores_idx = {key: value[idx] for key, value in freq_scores.items()}\u001b[39;00m\n\u001b[1;32m     <a href='vscode-notebook-cell:/Users/cindyzhang/Documents/M2/Audiomotor_Piano/AM-EEG/CSP/prepare_CSP_data.ipynb#X24sZmlsZQ%3D%3D?line=22'>23</a>\u001b[0m \u001b[39m    score = list(freq_scores_idx.values())\u001b[39;00m\n\u001b[1;32m     <a href='vscode-notebook-cell:/Users/cindyzhang/Documents/M2/Audiomotor_Piano/AM-EEG/CSP/prepare_CSP_data.ipynb#X24sZmlsZQ%3D%3D?line=23'>24</a>\u001b[0m \u001b[39m    plt.plot(freqs_xpos, score, 'o-', label=subjects_to_process[idx])\"\"\"\u001b[39;00m\n\u001b[1;32m     <a href='vscode-notebook-cell:/Users/cindyzhang/Documents/M2/Audiomotor_Piano/AM-EEG/CSP/prepare_CSP_data.ipynb#X24sZmlsZQ%3D%3D?line=25'>26</a>\u001b[0m plt\u001b[39m.\u001b[39mlegend(bbox_to_anchor \u001b[39m=\u001b[39m (\u001b[39m1\u001b[39m,\u001b[39m1\u001b[39m))\n",
      "File \u001b[0;32m~/anaconda3/envs/erpwavelet/lib/python3.13/site-packages/matplotlib/pyplot.py:3903\u001b[0m, in \u001b[0;36mscatter\u001b[0;34m(x, y, s, c, marker, cmap, norm, vmin, vmax, alpha, linewidths, edgecolors, plotnonfinite, data, **kwargs)\u001b[0m\n\u001b[1;32m   3884\u001b[0m \u001b[39m@_copy_docstring_and_deprecators\u001b[39m(Axes\u001b[39m.\u001b[39mscatter)\n\u001b[1;32m   3885\u001b[0m \u001b[39mdef\u001b[39;00m \u001b[39mscatter\u001b[39m(\n\u001b[1;32m   3886\u001b[0m     x: \u001b[39mfloat\u001b[39m \u001b[39m|\u001b[39m ArrayLike,\n\u001b[0;32m   (...)\u001b[0m\n\u001b[1;32m   3901\u001b[0m     \u001b[39m*\u001b[39m\u001b[39m*\u001b[39mkwargs,\n\u001b[1;32m   3902\u001b[0m ) \u001b[39m-\u001b[39m\u001b[39m>\u001b[39m PathCollection:\n\u001b[0;32m-> 3903\u001b[0m     __ret \u001b[39m=\u001b[39m gca()\u001b[39m.\u001b[39;49mscatter(\n\u001b[1;32m   3904\u001b[0m         x,\n\u001b[1;32m   3905\u001b[0m         y,\n\u001b[1;32m   3906\u001b[0m         s\u001b[39m=\u001b[39;49ms,\n\u001b[1;32m   3907\u001b[0m         c\u001b[39m=\u001b[39;49mc,\n\u001b[1;32m   3908\u001b[0m         marker\u001b[39m=\u001b[39;49mmarker,\n\u001b[1;32m   3909\u001b[0m         cmap\u001b[39m=\u001b[39;49mcmap,\n\u001b[1;32m   3910\u001b[0m         norm\u001b[39m=\u001b[39;49mnorm,\n\u001b[1;32m   3911\u001b[0m         vmin\u001b[39m=\u001b[39;49mvmin,\n\u001b[1;32m   3912\u001b[0m         vmax\u001b[39m=\u001b[39;49mvmax,\n\u001b[1;32m   3913\u001b[0m         alpha\u001b[39m=\u001b[39;49malpha,\n\u001b[1;32m   3914\u001b[0m         linewidths\u001b[39m=\u001b[39;49mlinewidths,\n\u001b[1;32m   3915\u001b[0m         edgecolors\u001b[39m=\u001b[39;49medgecolors,\n\u001b[1;32m   3916\u001b[0m         plotnonfinite\u001b[39m=\u001b[39;49mplotnonfinite,\n\u001b[1;32m   3917\u001b[0m         \u001b[39m*\u001b[39;49m\u001b[39m*\u001b[39;49m({\u001b[39m\"\u001b[39;49m\u001b[39mdata\u001b[39;49m\u001b[39m\"\u001b[39;49m: data} \u001b[39mif\u001b[39;49;00m data \u001b[39mis\u001b[39;49;00m \u001b[39mnot\u001b[39;49;00m \u001b[39mNone\u001b[39;49;00m \u001b[39melse\u001b[39;49;00m {}),\n\u001b[1;32m   3918\u001b[0m         \u001b[39m*\u001b[39;49m\u001b[39m*\u001b[39;49mkwargs,\n\u001b[1;32m   3919\u001b[0m     )\n\u001b[1;32m   3920\u001b[0m     sci(__ret)\n\u001b[1;32m   3921\u001b[0m     \u001b[39mreturn\u001b[39;00m __ret\n",
      "File \u001b[0;32m~/anaconda3/envs/erpwavelet/lib/python3.13/site-packages/matplotlib/__init__.py:1473\u001b[0m, in \u001b[0;36m_preprocess_data.<locals>.inner\u001b[0;34m(ax, data, *args, **kwargs)\u001b[0m\n\u001b[1;32m   1470\u001b[0m \u001b[39m@functools\u001b[39m\u001b[39m.\u001b[39mwraps(func)\n\u001b[1;32m   1471\u001b[0m \u001b[39mdef\u001b[39;00m \u001b[39minner\u001b[39m(ax, \u001b[39m*\u001b[39margs, data\u001b[39m=\u001b[39m\u001b[39mNone\u001b[39;00m, \u001b[39m*\u001b[39m\u001b[39m*\u001b[39mkwargs):\n\u001b[1;32m   1472\u001b[0m     \u001b[39mif\u001b[39;00m data \u001b[39mis\u001b[39;00m \u001b[39mNone\u001b[39;00m:\n\u001b[0;32m-> 1473\u001b[0m         \u001b[39mreturn\u001b[39;00m func(\n\u001b[1;32m   1474\u001b[0m             ax,\n\u001b[1;32m   1475\u001b[0m             \u001b[39m*\u001b[39;49m\u001b[39mmap\u001b[39;49m(sanitize_sequence, args),\n\u001b[1;32m   1476\u001b[0m             \u001b[39m*\u001b[39;49m\u001b[39m*\u001b[39;49m{k: sanitize_sequence(v) \u001b[39mfor\u001b[39;49;00m k, v \u001b[39min\u001b[39;49;00m kwargs\u001b[39m.\u001b[39;49mitems()})\n\u001b[1;32m   1478\u001b[0m     bound \u001b[39m=\u001b[39m new_sig\u001b[39m.\u001b[39mbind(ax, \u001b[39m*\u001b[39margs, \u001b[39m*\u001b[39m\u001b[39m*\u001b[39mkwargs)\n\u001b[1;32m   1479\u001b[0m     auto_label \u001b[39m=\u001b[39m (bound\u001b[39m.\u001b[39marguments\u001b[39m.\u001b[39mget(label_namer)\n\u001b[1;32m   1480\u001b[0m                   \u001b[39mor\u001b[39;00m bound\u001b[39m.\u001b[39mkwargs\u001b[39m.\u001b[39mget(label_namer))\n",
      "File \u001b[0;32m~/anaconda3/envs/erpwavelet/lib/python3.13/site-packages/matplotlib/axes/_axes.py:4787\u001b[0m, in \u001b[0;36mAxes.scatter\u001b[0;34m(self, x, y, s, c, marker, cmap, norm, vmin, vmax, alpha, linewidths, edgecolors, plotnonfinite, **kwargs)\u001b[0m\n\u001b[1;32m   4785\u001b[0m y \u001b[39m=\u001b[39m np\u001b[39m.\u001b[39mma\u001b[39m.\u001b[39mravel(y)\n\u001b[1;32m   4786\u001b[0m \u001b[39mif\u001b[39;00m x\u001b[39m.\u001b[39msize \u001b[39m!=\u001b[39m y\u001b[39m.\u001b[39msize:\n\u001b[0;32m-> 4787\u001b[0m     \u001b[39mraise\u001b[39;00m \u001b[39mValueError\u001b[39;00m(\u001b[39m\"\u001b[39m\u001b[39mx and y must be the same size\u001b[39m\u001b[39m\"\u001b[39m)\n\u001b[1;32m   4789\u001b[0m \u001b[39mif\u001b[39;00m s \u001b[39mis\u001b[39;00m \u001b[39mNone\u001b[39;00m:\n\u001b[1;32m   4790\u001b[0m     s \u001b[39m=\u001b[39m (\u001b[39m20\u001b[39m \u001b[39mif\u001b[39;00m mpl\u001b[39m.\u001b[39mrcParams[\u001b[39m'\u001b[39m\u001b[39m_internal.classic_mode\u001b[39m\u001b[39m'\u001b[39m] \u001b[39melse\u001b[39;00m\n\u001b[1;32m   4791\u001b[0m          mpl\u001b[39m.\u001b[39mrcParams[\u001b[39m'\u001b[39m\u001b[39mlines.markersize\u001b[39m\u001b[39m'\u001b[39m] \u001b[39m*\u001b[39m\u001b[39m*\u001b[39m \u001b[39m2.0\u001b[39m)\n",
      "\u001b[0;31mValueError\u001b[0m: x and y must be the same size"
     ]
    },
    {
     "data": {
      "image/png": "[encoded data removed]",
      "text/plain": [
       "<Figure size 640x480 with 1 Axes>"
      ]
     },
     "metadata": {},
     "output_type": "display_data"
    }
   ],
   "source": [
    "#plot mean scores for each freq\n",
    "#plt.figure(figsize = (10,8))\n",
    "\n",
    "freqs_xpos = averages = (freqs[:-1] + freqs[1:]) / 2\n",
    "\n",
    "plt.bar(freqs[:-1], freq_scores_mean, width=np.diff(freqs)[0], align=\"edge\", edgecolor=\"black\", alpha = 0.5)\n",
    "plt.xticks(freqs)\n",
    "plt.ylim([0, 1])\n",
    "plt.axhline(\n",
    "    0.5, color=\"k\", linestyle=\"--\", label=\"chance level\"\n",
    ")\n",
    "\n",
    "#plot points for each fold (should be each subject left out eventually)\n",
    "for i, freq in enumerate(freq_scores.keys()):\n",
    "    freq_range = freq_ranges[i]\n",
    "    freq_toplot = np.mean(freq_range)\n",
    "    freq_xpos = [freq_toplot]* freq_scores[freq].shape[0]\n",
    "    plt.scatter(freq_xpos,freq_scores[freq], color = 'black')\n",
    "\"\"\"\n",
    "#plot for each sub\n",
    "for idx in range(n_subs):\n",
    "    freq_scores_idx = {key: value[idx] for key, value in freq_scores.items()}\n",
    "    score = list(freq_scores_idx.values())\n",
    "    plt.plot(freqs_xpos, score, 'o-', label=subjects_to_process[idx])\"\"\"\n",
    "\n",
    "plt.legend(bbox_to_anchor = (1,1))\n",
    "plt.xlabel(\"Frequency (Hz)\")\n",
    "plt.ylabel(\"Decoding Scores\")\n",
    "plt.title(f\"Frequency Decoding Scores, {task}\")\n",
    "plt.tight_layout()\n",
    "#plt.ylim(0.4, 1)"
   ]
  },
  {
   "cell_type": "markdown",
   "metadata": {},
   "source": [
    "Time-frequency decoding"
   ]
  },
  {
   "cell_type": "code",
   "execution_count": 314,
   "metadata": {},
   "outputs": [
    {
     "name": "stderr",
     "output_type": "stream",
     "text": [
      "Frequency Progress:   0%|          | 0/7 [00:00<?, ?it/s]"
     ]
    },
    {
     "name": "stdout",
     "output_type": "stream",
     "text": [
      "2.028397565922921\n"
     ]
    },
    {
     "name": "stderr",
     "output_type": "stream",
     "text": [
      "Frequency Progress:  14%|█▍        | 1/7 [12:27<1:14:44, 747.38s/it]"
     ]
    },
    {
     "name": "stdout",
     "output_type": "stream",
     "text": [
      "1.1383039271485487\n"
     ]
    },
    {
     "name": "stderr",
     "output_type": "stream",
     "text": [
      "Frequency Progress:  29%|██▊       | 2/7 [30:53<1:19:50, 958.15s/it]"
     ]
    },
    {
     "name": "stdout",
     "output_type": "stream",
     "text": [
      "0.7911392405063291\n"
     ]
    },
    {
     "name": "stderr",
     "output_type": "stream",
     "text": [
      "Frequency Progress:  43%|████▎     | 3/7 [40:53<52:58, 794.71s/it]  "
     ]
    },
    {
     "name": "stdout",
     "output_type": "stream",
     "text": [
      "0.6060606060606061\n"
     ]
    },
    {
     "name": "stderr",
     "output_type": "stream",
     "text": [
      "Frequency Progress:  57%|█████▋    | 4/7 [49:08<33:49, 676.47s/it]"
     ]
    },
    {
     "name": "stdout",
     "output_type": "stream",
     "text": [
      "0.4911591355599214\n"
     ]
    },
    {
     "name": "stderr",
     "output_type": "stream",
     "text": [
      "Frequency Progress:  71%|███████▏  | 5/7 [56:47<19:55, 597.88s/it]"
     ]
    },
    {
     "name": "stdout",
     "output_type": "stream",
     "text": [
      "0.41296716911005577\n"
     ]
    },
    {
     "name": "stderr",
     "output_type": "stream",
     "text": [
      "Frequency Progress:  86%|████████▌ | 6/7 [1:03:42<08:55, 535.94s/it]"
     ]
    },
    {
     "name": "stdout",
     "output_type": "stream",
     "text": [
      "0.3562522265764161\n"
     ]
    },
    {
     "name": "stderr",
     "output_type": "stream",
     "text": [
      "Frequency Progress: 100%|██████████| 7/7 [1:10:24<00:00, 603.48s/it]\n"
     ]
    }
   ],
   "source": [
    "# Classification & time-frequency parameters\n",
    "tmin, tmax = -0.500, 0.5\n",
    "n_cycles = 10.0  # how many complete cycles: used to define window size\n",
    "min_freq = 3.0\n",
    "max_freq = 30.0\n",
    "n_freqs = 8  # how many frequency bins to use\n",
    "\n",
    "# Assemble list of frequency range tuples\n",
    "freqs = np.linspace(min_freq, max_freq, n_freqs)  # assemble frequencies\n",
    "freqs = np.round(freqs,2)\n",
    "freq_ranges = list(zip(freqs[:-1], freqs[1:]))  # make freqs list of tuples\n",
    "\n",
    "# Infer window spacing from the max freq and number of cycles to avoid gaps\n",
    "window_spacing = n_cycles / np.max(freqs) / 2.0\n",
    "centered_w_times = np.arange(tmin, tmax, window_spacing)[1:]\n",
    "n_windows = len(centered_w_times)\n",
    "\n",
    "\n",
    "# init scores\n",
    "tf_scores = np.zeros((n_freqs - 1, n_windows))\n",
    "\n",
    "freq_progress = tqdm(freq_ranges, desc=\"Frequency Progress\", position=0, leave=True)\n",
    "\n",
    "# Loop through each frequency range of interest\n",
    "for freq, (fmin, fmax) in enumerate(freq_progress):\n",
    "    # Infer window size based on the frequency being used\n",
    "    w_size = n_cycles / ((fmax + fmin) / 2.0)  # in seconds\n",
    "\n",
    "    print(w_size)\n",
    "\n",
    "    eps_filt = eps_all.copy()\n",
    "    eps_filt.filter(l_freq=fmin, h_freq=fmax, picks=None, method='iir', iir_params=iir_params, verbose=None)\n",
    "    #X = eps_filt.get_data(copy = True)[:, :64, :]\n",
    "    y = labels\n",
    "\n",
    "    time_progress = tqdm(centered_w_times, desc=\"Time Progress\", position=1, leave=False)\n",
    "    # Roll covariance, csp and lda over time\n",
    "    for t, w_time in enumerate(time_progress):\n",
    "        # Center the min and max of the window\n",
    "        w_tmin = w_time - w_size / 2.0\n",
    "        w_tmax = w_time + w_size / 2.0\n",
    "\n",
    "        # Crop data into time-window of interest\n",
    "        X = eps_filt.get_data(tmin=w_tmin, tmax=w_tmax, copy=False)\n",
    "\n",
    "        # Save mean scores over folds for each frequency and time window\n",
    "        tf_scores[freq, t] = np.mean(\n",
    "            cross_val_score(estimator=clf, X=X, y=y, scoring=\"roc_auc\", cv=cv), axis=0\n",
    "        )"
   ]
  },
  {
   "cell_type": "code",
   "execution_count": 325,
   "metadata": {},
   "outputs": [
    {
     "data": {
      "image/png": "[encoded data removed]",
      "text/plain": [
       "<Figure size 640x480 with 2 Axes>"
      ]
     },
     "metadata": {},
     "output_type": "display_data"
    },
    {
     "data": {
      "text/plain": [
       "[<Figure size 640x480 with 2 Axes>]"
      ]
     },
     "execution_count": 325,
     "metadata": {},
     "output_type": "execute_result"
    }
   ],
   "source": [
    "# Set up time frequency object\n",
    "av_tfr = AverageTFRArray(\n",
    "    info=mne.create_info([\"freq\"], 128),\n",
    "    data=tf_scores[np.newaxis, :],\n",
    "    times=centered_w_times,\n",
    "    freqs=freqs[1:],\n",
    "    nave=1,\n",
    ")\n",
    "\n",
    "chance = np.mean(y)  # set chance level to white in the plot\n",
    "av_tfr.plot(\n",
    "    [0], vlim=(0.5, 0.7), title=f\"Time-Frequency Decoding Scores, {task}\", cmap=plt.cm.Reds\n",
    ")"
   ]
  },
  {
   "cell_type": "code",
   "execution_count": 323,
   "metadata": {},
   "outputs": [],
   "source": [
    "np.save(f'tf_scores_cv_{task}.npy', tf_scores)"
   ]
  },
  {
   "cell_type": "markdown",
   "metadata": {},
   "source": [
    "Train on full dataset to see CSP patterns"
   ]
  },
  {
   "cell_type": "code",
   "execution_count": null,
   "metadata": {},
   "outputs": [],
   "source": [
    "#ep_ex = mne.read_epochs('/Users/cindyzhang/Documents/M2/Audiomotor_Piano/AM-EEG/analysis_listen/listen_epochs_data_n05to05_30Hz/listen_epochs_post_02.fif')"
   ]
  },
  {
   "cell_type": "code",
   "execution_count": null,
   "metadata": {},
   "outputs": [
    {
     "data": {
      "text/plain": [
       "'\\ncsp = CSP(n_components=4, reg=None, log=True, norm_trace=False)\\ncsp.fit_transform(eps_all.get_data(copy = True)[:,:64,:], labels)\\n\\nch_names_64, _ = load_channels()\\neeg_ch_names = ch_names_64\\nnew_info = mne.pick_info(ep_ex.info, sel=[ep_ex.info[\\'ch_names\\'].index(ch) for ch in eeg_ch_names])\\ncsp.plot_patterns(new_info, ch_type=\"eeg\", units=\"Patterns (AU)\", size=1.5)'"
      ]
     },
     "execution_count": 343,
     "metadata": {},
     "output_type": "execute_result"
    }
   ],
   "source": [
    "\"\"\"\n",
    "csp = CSP(n_components=4, reg=None, log=True, norm_trace=False)\n",
    "csp.fit_transform(eps_all.get_data(copy = True)[:,:64,:], labels)\n",
    "\n",
    "ch_names_64, _ = load_channels()\n",
    "eeg_ch_names = ch_names_64\n",
    "new_info = mne.pick_info(ep_ex.info, sel=[ep_ex.info['ch_names'].index(ch) for ch in eeg_ch_names])\n",
    "csp.plot_patterns(new_info, ch_type=\"eeg\", units=\"Patterns (AU)\", size=1.5)\"\"\""
   ]
  }
 ],
 "metadata": {
  "kernelspec": {
   "display_name": "eelbrain-cnsp",
   "language": "python",
   "name": "python3"
  },
  "language_info": {
   "codemirror_mode": {
    "name": "ipython",
    "version": 3
   },
   "file_extension": ".py",
   "mimetype": "text/x-python",
   "name": "python",
   "nbconvert_exporter": "python",
   "pygments_lexer": "ipython3",
   "version": "3.13.0"
  },
  "orig_nbformat": 4
 },
 "nbformat": 4,
 "nbformat_minor": 2
}
