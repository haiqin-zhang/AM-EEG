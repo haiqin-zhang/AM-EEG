{
 "cells": [
  {
   "cell_type": "code",
   "execution_count": 329,
   "metadata": {},
   "outputs": [],
   "source": [
    "import matplotlib.pyplot as plt\n",
    "import matplotlib.ticker as ticker\n",
    "import numpy as np\n",
    "import pandas as pd\n",
    "import scipy.stats as stats\n",
    "\n",
    "import scipy\n",
    "import pywt\n",
    "import mne\n",
    "from mne.decoding import CSP\n",
    "import math\n",
    "\n",
    "import sys\n",
    "from tqdm import tqdm\n",
    "\n",
    "\n",
    "sys.path.append('../utils')\n",
    "from ERP_utils import *\n",
    "from update_sub_lists import *\n",
    "from wavelet_utils import *\n",
    "from stats_utils import *\n",
    "import glob\n",
    "import os\n",
    "\n",
    "from mne.time_frequency import AverageTFRArray\n",
    "import seaborn as sns\n",
    "import warnings\n",
    "\n",
    "#warnings and logs\n",
    "warnings.simplefilter(action='ignore', category=FutureWarning)\n",
    "mne.set_log_level('CRITICAL')"
   ]
  },
  {
   "cell_type": "code",
   "execution_count": 330,
   "metadata": {},
   "outputs": [],
   "source": [
    "\n",
    "from sklearn.discriminant_analysis import LinearDiscriminantAnalysis\n",
    "from sklearn.model_selection import StratifiedKFold, cross_val_score\n",
    "from sklearn.pipeline import make_pipeline\n",
    "from sklearn.preprocessing import LabelEncoder\n",
    "\n",
    "\n",
    "from mne.time_frequency import AverageTFRArray"
   ]
  },
  {
   "cell_type": "markdown",
   "metadata": {},
   "source": [
    "Load data"
   ]
  },
  {
   "cell_type": "code",
   "execution_count": 331,
   "metadata": {},
   "outputs": [
    {
     "name": "stdout",
     "output_type": "stream",
     "text": [
      "processing subjects: ['01', '02', '03', '04', '05', '06', '07', '08', '09', '10', '11', '12', '13', '14', '15', '16', '17', '18', '19', '20', '21']\n"
     ]
    }
   ],
   "source": [
    "task = 'listen'\n",
    "\n",
    "epochs_dir = f'/Users/cindyzhang/Documents/M2/Audiomotor_Piano/AM-EEG/analysis_{task}/{task}_epochs_data_n05to05_30Hz'\n",
    "subjects_to_process = find_existing_subjects(epochs_dir)\n",
    "#subjects_to_process = ['01','05']\n",
    "\n",
    "print('processing subjects:', subjects_to_process)"
   ]
  },
  {
   "cell_type": "markdown",
   "metadata": {},
   "source": [
    "Concatenate subjects"
   ]
  },
  {
   "cell_type": "code",
   "execution_count": 332,
   "metadata": {},
   "outputs": [],
   "source": [
    "def concat_epochs_subs(subjects_to_process, epochs_dir, period, drop_bads = True, **kwargs):\n",
    "    \"\"\" \n",
    "    Concatenate epochs over multiple subjects. Use for CSP.\n",
    "    drop_bads: whether to drop bad epochs according to some rejection criteria\n",
    "    ---\n",
    "    Returns: epochs object with concatenated epochs\n",
    "    \n",
    "    \"\"\"\n",
    "    eps_list = []\n",
    "    for sub in subjects_to_process: \n",
    "        eps_file = os.path.join(epochs_dir, f'listen_epochs_{period}_{sub}.fif')\n",
    "        eps = mne.read_epochs(eps_file)\n",
    "        eps_list.append(eps)\n",
    "\n",
    "    eps_all = mne.concatenate_epochs(eps_list)\n",
    "    if drop_bads:\n",
    "        eps_all.drop_bad(**kwargs)\n",
    "\n",
    "    return eps_all\n",
    "\n"
   ]
  },
  {
   "cell_type": "code",
   "execution_count": 333,
   "metadata": {},
   "outputs": [],
   "source": [
    "\n",
    "reject_criteria = dict(eeg=100e-6) \n",
    "eps_all_pre = concat_epochs_subs(subjects_to_process, epochs_dir, 'pre', reject = reject_criteria)\n",
    "eps_all_post = concat_epochs_subs(subjects_to_process, epochs_dir, 'post', reject = reject_criteria)\n"
   ]
  },
  {
   "cell_type": "markdown",
   "metadata": {},
   "source": [
    "Change pre/post labels \n",
    "\n",
    "(pre = 1, post = 2) and combine pre and post epochs"
   ]
  },
  {
   "cell_type": "code",
   "execution_count": 334,
   "metadata": {},
   "outputs": [],
   "source": [
    "\n",
    "eps_all = mne.concatenate_epochs([eps_all_pre, eps_all_post]) #doesn't have the different labels, don't use these events"
   ]
  },
  {
   "cell_type": "code",
   "execution_count": 335,
   "metadata": {},
   "outputs": [],
   "source": [
    "pre_labels = np.ones_like(eps_all_pre.events[:, 2])  \n",
    "post_labels = eps_all_post.events[:, 2]  #the default value is already 2\n",
    "\n",
    "labels = np.hstack((pre_labels, post_labels)) #use this instead of events as labels for training\n",
    "#combine epochs\n",
    "eps_all = mne.concatenate_epochs([eps_all_pre, eps_all_post])"
   ]
  },
  {
   "cell_type": "code",
   "execution_count": 336,
   "metadata": {},
   "outputs": [],
   "source": [
    "#mne.viz.plot_epochs_image(eps_all, combine = 'mean')"
   ]
  },
  {
   "cell_type": "markdown",
   "metadata": {},
   "source": [
    "Define frequencies"
   ]
  },
  {
   "cell_type": "code",
   "execution_count": 337,
   "metadata": {},
   "outputs": [],
   "source": [
    "# Classification & time-frequency parameters\n",
    "tmin, tmax = -0.500, 0.5\n",
    "n_cycles = 10.0  # how many complete cycles: used to define window size\n",
    "min_freq = 3.0\n",
    "max_freq = 30.0\n",
    "n_freqs = 8  # how many frequency bins to use\n",
    "\n",
    "# Assemble list of frequency range tuples\n",
    "freqs = np.linspace(min_freq, max_freq, n_freqs)  # assemble frequencies\n",
    "freq_ranges = list(zip(freqs[:-1], freqs[1:]))  # make freqs list of tuples\n",
    "\n",
    "# Infer window spacing from the max freq and number of cycles to avoid gaps\n",
    "window_spacing = n_cycles / np.max(freqs) / 2.0\n",
    "centered_w_times = np.arange(tmin, tmax, window_spacing)[1:]\n",
    "n_windows = len(centered_w_times)"
   ]
  },
  {
   "cell_type": "markdown",
   "metadata": {},
   "source": [
    "Make CV pipeline"
   ]
  },
  {
   "cell_type": "code",
   "execution_count": 338,
   "metadata": {},
   "outputs": [],
   "source": [
    "# PARAMETERS\n",
    "n_splits = 6  # for cross-validation, 5 is better, here we use 3 for speed\n",
    "n_components = 4 #components of CSP to keep\n",
    "iir_params = dict(order=8, ftype=\"butter\") #for filtering frequencies\n",
    "\n",
    "# Assemble the classifier using scikit-learn pipeline\n",
    "clf = make_pipeline(\n",
    "    CSP(n_components=n_components, reg=None, log=True, norm_trace=False),\n",
    "    LinearDiscriminantAnalysis(),\n",
    ")\n",
    "\n",
    "cv = StratifiedKFold(n_splits=n_splits, shuffle=True, random_state=42)\n"
   ]
  },
  {
   "cell_type": "markdown",
   "metadata": {},
   "source": [
    "CV and classification"
   ]
  },
  {
   "cell_type": "code",
   "execution_count": 339,
   "metadata": {},
   "outputs": [
    {
     "name": "stderr",
     "output_type": "stream",
     "text": [
      " 14%|█▍        | 1/7 [04:20<26:03, 260.57s/it]"
     ]
    },
    {
     "name": "stdout",
     "output_type": "stream",
     "text": [
      "3.0-6.857142857142858Hz [0.64191688 0.66858354 0.66584539 0.64518293 0.63416635 0.65082723]\n"
     ]
    },
    {
     "name": "stderr",
     "output_type": "stream",
     "text": [
      " 29%|██▊       | 2/7 [10:43<27:42, 332.57s/it]"
     ]
    },
    {
     "name": "stdout",
     "output_type": "stream",
     "text": [
      "6.857142857142858-10.714285714285715Hz [0.6498492  0.64632353 0.61816404 0.6037602  0.66186636 0.6214923 ]\n"
     ]
    },
    {
     "name": "stderr",
     "output_type": "stream",
     "text": [
      " 43%|████▎     | 3/7 [17:39<24:42, 370.73s/it]"
     ]
    },
    {
     "name": "stdout",
     "output_type": "stream",
     "text": [
      "10.714285714285715-14.571428571428571Hz [0.54717899 0.53705372 0.50305359 0.52975833 0.52165812 0.52533046]\n"
     ]
    },
    {
     "name": "stderr",
     "output_type": "stream",
     "text": [
      " 57%|█████▋    | 4/7 [24:05<18:49, 376.64s/it]"
     ]
    },
    {
     "name": "stdout",
     "output_type": "stream",
     "text": [
      "14.571428571428571-18.42857142857143Hz [0.57038922 0.55300837 0.54603665 0.58133056 0.55845085 0.5539499 ]\n"
     ]
    },
    {
     "name": "stderr",
     "output_type": "stream",
     "text": [
      " 71%|███████▏  | 5/7 [30:54<12:56, 388.34s/it]"
     ]
    },
    {
     "name": "stdout",
     "output_type": "stream",
     "text": [
      "18.42857142857143-22.285714285714285Hz [0.56098137 0.5757357  0.49598321 0.54200818 0.54865043 0.548498  ]\n"
     ]
    },
    {
     "name": "stderr",
     "output_type": "stream",
     "text": [
      " 86%|████████▌ | 6/7 [37:12<06:24, 384.95s/it]"
     ]
    },
    {
     "name": "stdout",
     "output_type": "stream",
     "text": [
      "22.285714285714285-26.142857142857142Hz [0.53445577 0.56003808 0.53006469 0.54448238 0.54018139 0.52604075]\n"
     ]
    },
    {
     "name": "stderr",
     "output_type": "stream",
     "text": [
      "100%|██████████| 7/7 [43:37<00:00, 373.99s/it]"
     ]
    },
    {
     "name": "stdout",
     "output_type": "stream",
     "text": [
      "26.142857142857142-30.0Hz [0.53859934 0.55967201 0.49671708 0.5363588  0.55286373 0.52426069]\n"
     ]
    },
    {
     "name": "stderr",
     "output_type": "stream",
     "text": [
      "\n"
     ]
    }
   ],
   "source": [
    "# Loop through each frequency range of interest\n",
    "freq_scores = {}\n",
    "\n",
    "for freq, (fmin, fmax) in enumerate(tqdm(freq_ranges)):\n",
    "    # Infer window size based on the frequency being used\n",
    "    w_size = n_cycles / ((fmax + fmin) / 2.0)  # in seconds\n",
    "\n",
    "    eps_filt = eps_all.copy()\n",
    "    eps_filt.filter(l_freq=fmin, h_freq=fmax, picks=None, method='iir', iir_params=iir_params, verbose=None)\n",
    "    X = eps_filt.get_data(copy = True)[:, :64, :]\n",
    "    y = labels\n",
    "\n",
    "\n",
    "    # Save mean scores over folds for each frequency and time window\n",
    "    cross_val_score_freq = cross_val_score(estimator=clf, X=X, y=y, scoring=\"roc_auc\", cv=cv)\n",
    "    freq_scores[f'{fmin}-{fmax}Hz'] = cross_val_score_freq\n",
    "\n",
    "    #freq_scores[freq] = np.mean(cross_val_score(estimator=clf, X=X, y=y, scoring=\"roc_auc\", cv=cv), axis=0)\n",
    "    print(f'{fmin}-{fmax}Hz', cross_val_score_freq)\n",
    "    \n",
    "    "
   ]
  },
  {
   "cell_type": "code",
   "execution_count": 340,
   "metadata": {},
   "outputs": [],
   "source": [
    "freq_scores_mean = np.zeros(n_freqs-1)\n",
    "for i, key in enumerate(freq_scores.keys()):\n",
    "    freq_scores_mean[i] = np.mean(freq_scores[key])"
   ]
  },
  {
   "cell_type": "code",
   "execution_count": 370,
   "metadata": {},
   "outputs": [
    {
     "data": {
      "text/plain": [
       "(0.4, 1.0)"
      ]
     },
     "execution_count": 370,
     "metadata": {},
     "output_type": "execute_result"
    },
    {
     "data": {
      "image/png": "[encoded data removed]",
      "text/plain": [
       "<Figure size 640x480 with 1 Axes>"
      ]
     },
     "metadata": {},
     "output_type": "display_data"
    }
   ],
   "source": [
    "plt.bar(freqs[:-1], freq_scores_mean, width=np.diff(freqs)[0], align=\"edge\", edgecolor=\"black\")\n",
    "plt.xticks(freqs)\n",
    "plt.ylim([0, 1])\n",
    "plt.axhline(\n",
    "    0.5, color=\"k\", linestyle=\"--\", label=\"chance level\"\n",
    ")\n",
    "\n",
    "for i, freq in enumerate(freq_scores.keys()):\n",
    "    freq_range = freq_ranges[i]\n",
    "    freq_toplot = np.mean(freq_range)\n",
    "    freq_xpos = [freq_toplot]*n_splits\n",
    "    plt.scatter(freq_xpos,freq_scores[freq], color = 'black')\n",
    "\n",
    "plt.legend()\n",
    "plt.xlabel(\"Frequency (Hz)\")\n",
    "plt.ylabel(\"Decoding Scores\")\n",
    "plt.title(f\"Frequency Decoding Scores, {task}\")\n",
    "plt.ylim(0.4, 1)"
   ]
  },
  {
   "cell_type": "code",
   "execution_count": 349,
   "metadata": {},
   "outputs": [
    {
     "data": {
      "text/plain": [
       "array([ 3.        ,  6.85714286, 10.71428571, 14.57142857, 18.42857143,\n",
       "       22.28571429, 26.14285714, 30.        ])"
      ]
     },
     "execution_count": 349,
     "metadata": {},
     "output_type": "execute_result"
    }
   ],
   "source": [
    "freqs"
   ]
  },
  {
   "cell_type": "code",
   "execution_count": 357,
   "metadata": {},
   "outputs": [
    {
     "data": {
      "text/plain": [
       "[(np.float64(3.0), np.float64(6.857142857142858)),\n",
       " (np.float64(6.857142857142858), np.float64(10.714285714285715)),\n",
       " (np.float64(10.714285714285715), np.float64(14.571428571428571)),\n",
       " (np.float64(14.571428571428571), np.float64(18.42857142857143)),\n",
       " (np.float64(18.42857142857143), np.float64(22.285714285714285)),\n",
       " (np.float64(22.285714285714285), np.float64(26.142857142857142)),\n",
       " (np.float64(26.142857142857142), np.float64(30.0))]"
      ]
     },
     "execution_count": 357,
     "metadata": {},
     "output_type": "execute_result"
    }
   ],
   "source": [
    "freq_ranges"
   ]
  },
  {
   "cell_type": "code",
   "execution_count": 363,
   "metadata": {},
   "outputs": [
    {
     "data": {
      "image/png": "[encoded data removed]",
      "text/plain": [
       "<Figure size 640x480 with 1 Axes>"
      ]
     },
     "metadata": {},
     "output_type": "display_data"
    }
   ],
   "source": [
    "for i, freq in enumerate(freq_scores.keys()):\n",
    "    freq_range = freq_ranges[i]\n",
    "    freq_toplot = np.mean(freq_range)\n",
    "    freq_xpos = [freq_toplot]*n_splits\n",
    "    plt.scatter(freq_xpos,freq_scores[freq])\n",
    "    "
   ]
  },
  {
   "cell_type": "code",
   "execution_count": 347,
   "metadata": {},
   "outputs": [],
   "source": [
    "scores_df= pd.DataFrame(freq_scores)"
   ]
  },
  {
   "cell_type": "code",
   "execution_count": 348,
   "metadata": {},
   "outputs": [
    {
     "data": {
      "text/html": [
       "<div>\n",
       "<style scoped>\n",
       "    .dataframe tbody tr th:only-of-type {\n",
       "        vertical-align: middle;\n",
       "    }\n",
       "\n",
       "    .dataframe tbody tr th {\n",
       "        vertical-align: top;\n",
       "    }\n",
       "\n",
       "    .dataframe thead th {\n",
       "        text-align: right;\n",
       "    }\n",
       "</style>\n",
       "<table border=\"1\" class=\"dataframe\">\n",
       "  <thead>\n",
       "    <tr style=\"text-align: right;\">\n",
       "      <th></th>\n",
       "      <th>3.0-6.857142857142858Hz</th>\n",
       "      <th>6.857142857142858-10.714285714285715Hz</th>\n",
       "      <th>10.714285714285715-14.571428571428571Hz</th>\n",
       "      <th>14.571428571428571-18.42857142857143Hz</th>\n",
       "      <th>18.42857142857143-22.285714285714285Hz</th>\n",
       "      <th>22.285714285714285-26.142857142857142Hz</th>\n",
       "      <th>26.142857142857142-30.0Hz</th>\n",
       "    </tr>\n",
       "  </thead>\n",
       "  <tbody>\n",
       "    <tr>\n",
       "      <th>0</th>\n",
       "      <td>0.641917</td>\n",
       "      <td>0.649849</td>\n",
       "      <td>0.547179</td>\n",
       "      <td>0.570389</td>\n",
       "      <td>0.560981</td>\n",
       "      <td>0.534456</td>\n",
       "      <td>0.538599</td>\n",
       "    </tr>\n",
       "    <tr>\n",
       "      <th>1</th>\n",
       "      <td>0.668584</td>\n",
       "      <td>0.646324</td>\n",
       "      <td>0.537054</td>\n",
       "      <td>0.553008</td>\n",
       "      <td>0.575736</td>\n",
       "      <td>0.560038</td>\n",
       "      <td>0.559672</td>\n",
       "    </tr>\n",
       "    <tr>\n",
       "      <th>2</th>\n",
       "      <td>0.665845</td>\n",
       "      <td>0.618164</td>\n",
       "      <td>0.503054</td>\n",
       "      <td>0.546037</td>\n",
       "      <td>0.495983</td>\n",
       "      <td>0.530065</td>\n",
       "      <td>0.496717</td>\n",
       "    </tr>\n",
       "    <tr>\n",
       "      <th>3</th>\n",
       "      <td>0.645183</td>\n",
       "      <td>0.603760</td>\n",
       "      <td>0.529758</td>\n",
       "      <td>0.581331</td>\n",
       "      <td>0.542008</td>\n",
       "      <td>0.544482</td>\n",
       "      <td>0.536359</td>\n",
       "    </tr>\n",
       "    <tr>\n",
       "      <th>4</th>\n",
       "      <td>0.634166</td>\n",
       "      <td>0.661866</td>\n",
       "      <td>0.521658</td>\n",
       "      <td>0.558451</td>\n",
       "      <td>0.548650</td>\n",
       "      <td>0.540181</td>\n",
       "      <td>0.552864</td>\n",
       "    </tr>\n",
       "    <tr>\n",
       "      <th>5</th>\n",
       "      <td>0.650827</td>\n",
       "      <td>0.621492</td>\n",
       "      <td>0.525330</td>\n",
       "      <td>0.553950</td>\n",
       "      <td>0.548498</td>\n",
       "      <td>0.526041</td>\n",
       "      <td>0.524261</td>\n",
       "    </tr>\n",
       "  </tbody>\n",
       "</table>\n",
       "</div>"
      ],
      "text/plain": [
       "   3.0-6.857142857142858Hz  6.857142857142858-10.714285714285715Hz  \\\n",
       "0                 0.641917                                0.649849   \n",
       "1                 0.668584                                0.646324   \n",
       "2                 0.665845                                0.618164   \n",
       "3                 0.645183                                0.603760   \n",
       "4                 0.634166                                0.661866   \n",
       "5                 0.650827                                0.621492   \n",
       "\n",
       "   10.714285714285715-14.571428571428571Hz  \\\n",
       "0                                 0.547179   \n",
       "1                                 0.537054   \n",
       "2                                 0.503054   \n",
       "3                                 0.529758   \n",
       "4                                 0.521658   \n",
       "5                                 0.525330   \n",
       "\n",
       "   14.571428571428571-18.42857142857143Hz  \\\n",
       "0                                0.570389   \n",
       "1                                0.553008   \n",
       "2                                0.546037   \n",
       "3                                0.581331   \n",
       "4                                0.558451   \n",
       "5                                0.553950   \n",
       "\n",
       "   18.42857142857143-22.285714285714285Hz  \\\n",
       "0                                0.560981   \n",
       "1                                0.575736   \n",
       "2                                0.495983   \n",
       "3                                0.542008   \n",
       "4                                0.548650   \n",
       "5                                0.548498   \n",
       "\n",
       "   22.285714285714285-26.142857142857142Hz  26.142857142857142-30.0Hz  \n",
       "0                                 0.534456                   0.538599  \n",
       "1                                 0.560038                   0.559672  \n",
       "2                                 0.530065                   0.496717  \n",
       "3                                 0.544482                   0.536359  \n",
       "4                                 0.540181                   0.552864  \n",
       "5                                 0.526041                   0.524261  "
      ]
     },
     "execution_count": 348,
     "metadata": {},
     "output_type": "execute_result"
    }
   ],
   "source": [
    "scores_df"
   ]
  },
  {
   "cell_type": "code",
   "execution_count": 345,
   "metadata": {},
   "outputs": [
    {
     "data": {
      "text/plain": [
       "{'3.0-6.857142857142858Hz': array([0.64191688, 0.66858354, 0.66584539, 0.64518293, 0.63416635,\n",
       "        0.65082723]),\n",
       " '6.857142857142858-10.714285714285715Hz': array([0.6498492 , 0.64632353, 0.61816404, 0.6037602 , 0.66186636,\n",
       "        0.6214923 ]),\n",
       " '10.714285714285715-14.571428571428571Hz': array([0.54717899, 0.53705372, 0.50305359, 0.52975833, 0.52165812,\n",
       "        0.52533046]),\n",
       " '14.571428571428571-18.42857142857143Hz': array([0.57038922, 0.55300837, 0.54603665, 0.58133056, 0.55845085,\n",
       "        0.5539499 ]),\n",
       " '18.42857142857143-22.285714285714285Hz': array([0.56098137, 0.5757357 , 0.49598321, 0.54200818, 0.54865043,\n",
       "        0.548498  ]),\n",
       " '22.285714285714285-26.142857142857142Hz': array([0.53445577, 0.56003808, 0.53006469, 0.54448238, 0.54018139,\n",
       "        0.52604075]),\n",
       " '26.142857142857142-30.0Hz': array([0.53859934, 0.55967201, 0.49671708, 0.5363588 , 0.55286373,\n",
       "        0.52426069])}"
      ]
     },
     "execution_count": 345,
     "metadata": {},
     "output_type": "execute_result"
    }
   ],
   "source": [
    "freq_scores"
   ]
  },
  {
   "cell_type": "markdown",
   "metadata": {},
   "source": [
    "Train on full dataset to see CSP patterns"
   ]
  },
  {
   "cell_type": "code",
   "execution_count": 342,
   "metadata": {},
   "outputs": [],
   "source": [
    "ep_ex = mne.read_epochs('/Users/cindyzhang/Documents/M2/Audiomotor_Piano/AM-EEG/analysis_listen/listen_epochs_data_n05to05_30Hz/listen_epochs_post_02.fif')"
   ]
  },
  {
   "cell_type": "code",
   "execution_count": 343,
   "metadata": {},
   "outputs": [
    {
     "data": {
      "text/plain": [
       "'\\ncsp = CSP(n_components=4, reg=None, log=True, norm_trace=False)\\ncsp.fit_transform(eps_all.get_data(copy = True)[:,:64,:], labels)\\n\\nch_names_64, _ = load_channels()\\neeg_ch_names = ch_names_64\\nnew_info = mne.pick_info(ep_ex.info, sel=[ep_ex.info[\\'ch_names\\'].index(ch) for ch in eeg_ch_names])\\ncsp.plot_patterns(new_info, ch_type=\"eeg\", units=\"Patterns (AU)\", size=1.5)'"
      ]
     },
     "execution_count": 343,
     "metadata": {},
     "output_type": "execute_result"
    }
   ],
   "source": [
    "\"\"\"\n",
    "csp = CSP(n_components=4, reg=None, log=True, norm_trace=False)\n",
    "csp.fit_transform(eps_all.get_data(copy = True)[:,:64,:], labels)\n",
    "\n",
    "ch_names_64, _ = load_channels()\n",
    "eeg_ch_names = ch_names_64\n",
    "new_info = mne.pick_info(ep_ex.info, sel=[ep_ex.info['ch_names'].index(ch) for ch in eeg_ch_names])\n",
    "csp.plot_patterns(new_info, ch_type=\"eeg\", units=\"Patterns (AU)\", size=1.5)\"\"\""
   ]
  }
 ],
 "metadata": {
  "kernelspec": {
   "display_name": "eelbrain-cnsp",
   "language": "python",
   "name": "python3"
  },
  "language_info": {
   "codemirror_mode": {
    "name": "ipython",
    "version": 3
   },
   "file_extension": ".py",
   "mimetype": "text/x-python",
   "name": "python",
   "nbconvert_exporter": "python",
   "pygments_lexer": "ipython3",
   "version": "3.13.0"
  },
  "orig_nbformat": 4
 },
 "nbformat": 4,
 "nbformat_minor": 2
}
