{
 "cells": [
  {
   "cell_type": "code",
   "execution_count": 2,
   "metadata": {},
   "outputs": [],
   "source": [
    "import mne\n",
    "import os\n",
    "import glob\n",
    "import numpy as np\n",
    "import pandas as pd\n",
    "from scipy.io import savemat, loadmat\n",
    "import matplotlib.pyplot as plt\n",
    "import pickle\n",
    "\n",
    "import sys\n",
    "sys.path.append('../utils')\n",
    "from pp_utils import *\n",
    "from plot_utils import *\n"
   ]
  },
  {
   "cell_type": "code",
   "execution_count": null,
   "metadata": {},
   "outputs": [],
   "source": [
    "def create_mapchange_df(first_keystrokes,  all_keystrokes):\n",
    "    \"\"\" \n",
    "    Makes a df with the times and indices for first and other keystrokes\n",
    "        for first keystrokes, further adds the number of keystrokes in the previous map\n",
    "    returns: mapchange_df\n",
    "    \"\"\"\n",
    "\n",
    "    mapchange_df = pd.DataFrame(columns = ['keystroke_idx', 'time', 'type', 'prev_keystrokes'])\n",
    "    mapchange_df['time'] = all_keystrokes[:,0]\n",
    "\n",
    "    mapchange_df['keystroke_idx'] = mapchange_df.index\n",
    "    mapchange_df['type'] = mapchange_df['time'].apply(\n",
    "            lambda x: 'first' if x in first_keystrokes[:, 0] \n",
    "            else 'other'\n",
    "    )\n",
    "\n",
    "    # Find the indices of rows where type is 'first'\n",
    "    first_indices = mapchange_df.index[mapchange_df['type'] == 'first'].tolist()\n",
    "\n",
    "    # Iterate over these indices and count 'other' keystrokes\n",
    "    for i in range(len(first_indices)):\n",
    "        current_index = first_indices[i]\n",
    "        if i == 0:\n",
    "            # For the first 'first', there are no previous rows to count\n",
    "            mapchange_df.at[current_index, 'prev_keystrokes'] = 0\n",
    "        else:\n",
    "            previous_index = first_indices[i - 1]\n",
    "            # Count 'other' keystrokes between the two 'first' rows\n",
    "            count_others = mapchange_df.loc[previous_index+1:current_index-1, 'type'].value_counts().get('other', 0)\n",
    "            mapchange_df.at[current_index, 'prev_keystrokes'] = count_others\n",
    "\n",
    "    return mapchange_df"
   ]
  },
  {
   "cell_type": "code",
   "execution_count": 44,
   "metadata": {},
   "outputs": [
    {
     "name": "stdout",
     "output_type": "stream",
     "text": [
      "\n",
      "PROCESSING SUBJECT  01\n",
      "Opening eeg_error_pre_01.mat\n",
      "Opening eeg_error_post_01.mat\n"
     ]
    }
   ],
   "source": [
    "subjects_to_process = ['01']\n",
    "periods = ['pre', 'post']\n",
    "keystroke_trigs = 'audio'\n",
    "\n",
    "pp_dir = \"/Users/cindyzhang/Documents/M2/Audiomotor_Piano/AM-EEG/data_preprocessed_30Hz\" \n",
    "mapchange_dir = './mapchange_csv/'\n",
    "if not os.path.exists(mapchange_dir):\n",
    "    os.mkdir(mapchange_dir)\n",
    "\n",
    "for folder in sorted(os.listdir(pp_dir)):\n",
    "    if folder not in subjects_to_process:\n",
    "        continue\n",
    "\n",
    "    print('\\nPROCESSING SUBJECT ', folder)\n",
    "    sub_pp_dir = os.path.join(pp_dir, folder)\n",
    "    for period in periods:\n",
    "        data_path = glob.glob(os.path.join(sub_pp_dir, f'eeg_error_{period}_??.mat'))[0]\n",
    "\n",
    "        subject_ID = data_path.split('.')[0][-2:]\n",
    "\n",
    "        print('Opening', data_path.split('/')[-1])\n",
    "        \n",
    "\n",
    "        #--------------------------------------------\n",
    "        #               LOAD FILE AND EVENTS\n",
    "        #--------------------------------------------\n",
    "        data = loadmat(data_path)\n",
    "        events_sv = data['events']\n",
    "\n",
    "        events_arr = make_raw_events(events_sv)\n",
    "\n",
    "        if keystroke_trigs == 'MIDI':\n",
    "            t_keystrokes = clean_triggers(events_arr[events_arr[:, 2]==6])\n",
    "        else:\n",
    "            t_keystrokes = clean_triggers(events_arr[events_arr[:, 2]==2])\n",
    "\n",
    "        first_keystrokes = mapchange_keystrokes(t_modeswitch = t_modeswitch, t_keystroke=t_keystrokes)\n",
    "        #other_keystrokes = withinmap_keystrokes(t_keystrokes, first_keystrokes)   \n",
    "        \n",
    "        mapchange_df = create_mapchange_df(first_keystrokes, t_keystrokes)\n",
    "\n",
    "        mapchange_df.to_csv(os.path.join(mapchange_dir, f'mapchange_keystrokes_{period}_{subject_ID}.csv'))\n"
   ]
  }
 ],
 "metadata": {
  "kernelspec": {
   "display_name": "eelbrain-cnsp",
   "language": "python",
   "name": "python3"
  },
  "language_info": {
   "codemirror_mode": {
    "name": "ipython",
    "version": 3
   },
   "file_extension": ".py",
   "mimetype": "text/x-python",
   "name": "python",
   "nbconvert_exporter": "python",
   "pygments_lexer": "ipython3",
   "version": "3.11.5"
  },
  "orig_nbformat": 4
 },
 "nbformat": 4,
 "nbformat_minor": 2
}
