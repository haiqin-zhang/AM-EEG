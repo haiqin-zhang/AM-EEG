{
 "cells": [
  {
   "cell_type": "code",
   "execution_count": 2,
   "metadata": {},
   "outputs": [],
   "source": [
    "import mne\n",
    "import os\n",
    "import glob\n",
    "import numpy as np\n",
    "import pandas as pd\n",
    "from scipy.io import savemat, loadmat\n",
    "import matplotlib.pyplot as plt\n",
    "import pickle\n",
    "\n",
    "from mne.preprocessing import ICA, corrmap, create_ecg_epochs, create_eog_epochs\n",
    "from mne_icalabel import label_components\n",
    "\n",
    "import sys\n",
    "sys.path.append('/Users/cindyzhang/Documents/M2/Audiomotor_Piano/AM-EEG/utils')\n",
    "from pp_utils import *\n",
    "from plot_utils import *\n"
   ]
  },
  {
   "cell_type": "code",
   "execution_count": 3,
   "metadata": {},
   "outputs": [],
   "source": [
    "def mapchange_keystrokes_3(t_modeswitch, t_keystroke):\n",
    "    \"\"\" \n",
    "    Finds all the keystroke triggers that are the first keystrokes after a map change.\n",
    "\n",
    "    t_modeswitch: subset of events_array with all mode switch triggers \n",
    "    t_keystroke: subset of events_array with all keystrokes\n",
    "    ---\n",
    "    Returns: first keystrokes, a np array in the same format as events_array (3 columns, first column is time)\n",
    "    \"\"\"\n",
    "    \n",
    "    first_keystrokes = []\n",
    "    switch_times = t_modeswitch[:, 0]  # Extract mode switch times\n",
    "    switch_idx = 0\n",
    "    n_switches = len(switch_times)\n",
    "\n",
    "    \n",
    "\n",
    "    keystroke_times = t_keystroke[:,0]\n",
    "\n",
    "    for keystroke in t_keystroke:\n",
    "        if switch_idx >= n_switches - 2:\n",
    "            break\n",
    "\n",
    "        ktime = keystroke[0]\n",
    "\n",
    "        #make sure the keystroke is between two mode switches\n",
    "        if ktime> switch_times[switch_idx] and ktime < switch_times[switch_idx+1]:\n",
    "            first_keystrokes.append(keystroke)\n",
    "            switch_idx+=1\n",
    "        \n",
    "        #if there are no keystrokes between two mode switches, this forces it to jump to the next mode\n",
    "        elif ktime > switch_times[switch_idx+1] and ktime < switch_times[switch_idx+2]:\n",
    "            first_keystrokes.append(keystroke)\n",
    "            switch_idx+=2\n",
    "\n",
    "    return np.array(first_keystrokes)\n"
   ]
  },
  {
   "cell_type": "code",
   "execution_count": 4,
   "metadata": {},
   "outputs": [
    {
     "name": "stdout",
     "output_type": "stream",
     "text": [
      "\n",
      "PROCESSING SUBJECT  08\n",
      "Opening eeg_error_post_08.mat\n"
     ]
    }
   ],
   "source": [
    "\n",
    "#======================================================================================\n",
    "#                        PARAMETERS\n",
    "#======================================================================================\n",
    "\n",
    "#CHANGE THIS AS THE EXPERIMENT PROGRESSES\n",
    "#----------------------------------------\n",
    "#subjects_to_process =  ['01', '04', '05', '06', '07', '08', '09', '10', '11', '12', '13', '14', '15', '16', '17', '18', '19', '20']\n",
    "subjects_to_process = ['08']\n",
    "periods = ['post']\n",
    "keystroke_trigs = 'audio'\n",
    "\n",
    "overwrite = True #overwrite existing files\n",
    "plot = False\n",
    "\n",
    "find_mapchanges = True\n",
    "find_modekeystrokes = True\n",
    "\n",
    "#-----------------------------------------\n",
    "\n",
    "#times for cropping ERPs\n",
    "erp_begin = -0.5\n",
    "erp_end = 0.5\n",
    "\n",
    "\n",
    "#======================================================================================\n",
    "#                        INITIALIZE DIRECTORIES\n",
    "#======================================================================================\n",
    "pp_dir = \"/Users/cindyzhang/Documents/M2/Audiomotor_Piano/AM-EEG/data_preprocessed_30Hz\" #where the preprocessed files are\n",
    "evokeds_folder = '/Users/cindyzhang/Documents/M2/Audiomotor_Piano/AM-EEG/analysis_error/error_ERP_data_n05to05_30Hz'\n",
    "epochs_folder = '/Users/cindyzhang/Documents/M2/Audiomotor_Piano/AM-EEG/analysis_error/error_epochs_data_n05to05_30Hz'\n",
    "\n",
    "for folder in [evokeds_folder, epochs_folder]:\n",
    "    if not os.path.exists(folder):\n",
    "        os.makedirs(folder)\n",
    "#======================================================================================\n",
    "#                        CALCULATE EVOKEDS\n",
    "#======================================================================================\n",
    "for folder in sorted(os.listdir(pp_dir)):\n",
    "    if folder not in subjects_to_process:\n",
    "        continue\n",
    "\n",
    "    print('\\nPROCESSING SUBJECT ', folder)\n",
    "    sub_pp_dir = os.path.join(pp_dir, folder)\n",
    "    for period in periods:\n",
    "        data_path = glob.glob(os.path.join(sub_pp_dir, f'eeg_error_{period}_??.mat'))[0]\n",
    "\n",
    "        subject_ID = data_path.split('.')[0][-2:]\n",
    "\n",
    "        print('Opening', data_path.split('/')[-1])\n",
    "        \n",
    "\n",
    "        #--------------------------------------------\n",
    "        #               LOAD FILE AND EVENTS\n",
    "        #--------------------------------------------\n",
    "        data = loadmat(data_path)\n",
    "        eeg = data['trial_data']\n",
    "        refs = data['trial_mastoids']\n",
    "        all_electrodes = data['all_electrodes']\n",
    "        events_sv = data['events']\n",
    "\n",
    "        if plot:\n",
    "            mne.viz.plot_raw_psd(raw, fmin = 0, fmax = 64)  \n",
    "\n",
    "        events_arr = make_raw_events(events_sv)\n",
    "\n",
    "        if keystroke_trigs == 'MIDI':\n",
    "            t_keystrokes = clean_triggers(events_arr[events_arr[:, 2]==6])\n",
    "        else:\n",
    "            t_keystrokes = clean_triggers(events_arr[events_arr[:, 2]==2])\n",
    "\n",
    "\n",
    "        t_inv = clean_triggers(events_arr[events_arr[:, 2]==3])\n",
    "        t_shinv = clean_triggers(events_arr[events_arr[:, 2]==4])\n",
    "        t_norm = clean_triggers(events_arr[events_arr[:, 2]==5])\n",
    "        t_modeswitch = np.concatenate([t_inv, t_shinv, t_norm])\n",
    "        t_modeswitch = events_inorder(t_modeswitch)\n",
    "        first_keystrokes = mapchange_keystrokes_3(t_modeswitch = t_modeswitch, t_keystroke=t_keystrokes)\n",
    "        other_keystrokes = withinmap_keystrokes(t_keystrokes, first_keystrokes)\n",
    "\n",
    "\n",
    "        \n"
   ]
  },
  {
   "cell_type": "code",
   "execution_count": 5,
   "metadata": {},
   "outputs": [
    {
     "data": {
      "text/plain": [
       "(0.0, 10000.0)"
      ]
     },
     "execution_count": 5,
     "metadata": {},
     "output_type": "execute_result"
    },
    {
     "data": {
      "image/png": "[encoded data removed]",
      "text/plain": [
       "<Figure size 2500x1000 with 1 Axes>"
      ]
     },
     "metadata": {},
     "output_type": "display_data"
    }
   ],
   "source": [
    "plt.figure(figsize = (25,10))\n",
    "plt.eventplot(t_inv[:, 0], lineoffsets = 3, color = 'green')\n",
    "plt.eventplot(t_shinv[:,0], lineoffsets = 2, color = 'orange')\n",
    "plt.eventplot(t_norm[:,0], lineoffsets = 1,color = 'red')\n",
    "plt.eventplot(t_modeswitch[:,0], lineoffsets = 0, color = 'grey')\n",
    "plt.eventplot(t_keystrokes[:,0], lineoffsets = -1, color = 'black')\n",
    "plt.eventplot(first_keystrokes[:,0], lineoffsets = -2, color = 'purple')\n",
    "plt.eventplot(other_keystrokes[:,0], lineoffsets = -3, color = 'steelblue')\n",
    "plt.xlim(0,10000)"
   ]
  },
  {
   "cell_type": "code",
   "execution_count": 6,
   "metadata": {},
   "outputs": [],
   "source": [
    "def create_mapchange_df(first_keystrokes,  all_keystrokes):\n",
    "    \"\"\" \n",
    "    Makes a df with the times and indices for first and other keystrokes\n",
    "        for first keystrokes, further adds the number of keystrokes in the previous map\n",
    "    returns: mapchange_df\n",
    "    \"\"\"\n",
    "\n",
    "    mapchange_df = pd.DataFrame(columns = ['keystroke_idx', 'time', 'type', 'prev_keystrokes'])\n",
    "    mapchange_df['time'] = all_keystrokes[:,0]\n",
    "\n",
    "    mapchange_df['keystroke_idx'] = mapchange_df.index\n",
    "    mapchange_df['type'] = mapchange_df['time'].apply(\n",
    "            lambda x: 'first' if x in first_keystrokes[:, 0] \n",
    "            else 'other'\n",
    "    )\n",
    "\n",
    "    # Find the indices of rows where type is 'first'\n",
    "    first_indices = mapchange_df.index[mapchange_df['type'] == 'first'].tolist()\n",
    "\n",
    "    # Iterate over these indices and count 'other' keystrokes\n",
    "    for i in range(len(first_indices)):\n",
    "        current_index = first_indices[i]\n",
    "        if i == 0:\n",
    "            mapchange_df.at[current_index, 'prev_keystrokes'] = current_index\n",
    "            #mapchange_df.at[current_index, 'prev_keystrokes'] = 0 #put 0 for previous keystrokes for the first map change (don't use)\n",
    "\n",
    "        else:\n",
    "            previous_index = first_indices[i - 1]\n",
    "            # Count 'other' keystrokes between the two 'first' rows\n",
    "            count_others = mapchange_df.loc[previous_index+1:current_index-1, 'type'].value_counts().get('other', 0)\n",
    "            mapchange_df.at[current_index, 'prev_keystrokes'] = count_others\n",
    "\n",
    "    return mapchange_df"
   ]
  },
  {
   "cell_type": "code",
   "execution_count": 7,
   "metadata": {},
   "outputs": [
    {
     "data": {
      "text/html": [
       "<div>\n",
       "<style scoped>\n",
       "    .dataframe tbody tr th:only-of-type {\n",
       "        vertical-align: middle;\n",
       "    }\n",
       "\n",
       "    .dataframe tbody tr th {\n",
       "        vertical-align: top;\n",
       "    }\n",
       "\n",
       "    .dataframe thead th {\n",
       "        text-align: right;\n",
       "    }\n",
       "</style>\n",
       "<table border=\"1\" class=\"dataframe\">\n",
       "  <thead>\n",
       "    <tr style=\"text-align: right;\">\n",
       "      <th></th>\n",
       "      <th>keystroke_idx</th>\n",
       "      <th>time</th>\n",
       "      <th>type</th>\n",
       "      <th>prev_keystrokes</th>\n",
       "    </tr>\n",
       "  </thead>\n",
       "  <tbody>\n",
       "    <tr>\n",
       "      <th>0</th>\n",
       "      <td>0</td>\n",
       "      <td>24</td>\n",
       "      <td>first</td>\n",
       "      <td>0</td>\n",
       "    </tr>\n",
       "    <tr>\n",
       "      <th>1</th>\n",
       "      <td>1</td>\n",
       "      <td>147</td>\n",
       "      <td>other</td>\n",
       "      <td>NaN</td>\n",
       "    </tr>\n",
       "    <tr>\n",
       "      <th>2</th>\n",
       "      <td>2</td>\n",
       "      <td>275</td>\n",
       "      <td>other</td>\n",
       "      <td>NaN</td>\n",
       "    </tr>\n",
       "    <tr>\n",
       "      <th>3</th>\n",
       "      <td>3</td>\n",
       "      <td>390</td>\n",
       "      <td>other</td>\n",
       "      <td>NaN</td>\n",
       "    </tr>\n",
       "    <tr>\n",
       "      <th>4</th>\n",
       "      <td>4</td>\n",
       "      <td>918</td>\n",
       "      <td>other</td>\n",
       "      <td>NaN</td>\n",
       "    </tr>\n",
       "    <tr>\n",
       "      <th>...</th>\n",
       "      <td>...</td>\n",
       "      <td>...</td>\n",
       "      <td>...</td>\n",
       "      <td>...</td>\n",
       "    </tr>\n",
       "    <tr>\n",
       "      <th>321</th>\n",
       "      <td>321</td>\n",
       "      <td>74951</td>\n",
       "      <td>other</td>\n",
       "      <td>NaN</td>\n",
       "    </tr>\n",
       "    <tr>\n",
       "      <th>322</th>\n",
       "      <td>322</td>\n",
       "      <td>76090</td>\n",
       "      <td>other</td>\n",
       "      <td>NaN</td>\n",
       "    </tr>\n",
       "    <tr>\n",
       "      <th>323</th>\n",
       "      <td>323</td>\n",
       "      <td>76207</td>\n",
       "      <td>other</td>\n",
       "      <td>NaN</td>\n",
       "    </tr>\n",
       "    <tr>\n",
       "      <th>324</th>\n",
       "      <td>324</td>\n",
       "      <td>76322</td>\n",
       "      <td>other</td>\n",
       "      <td>NaN</td>\n",
       "    </tr>\n",
       "    <tr>\n",
       "      <th>325</th>\n",
       "      <td>325</td>\n",
       "      <td>76453</td>\n",
       "      <td>other</td>\n",
       "      <td>NaN</td>\n",
       "    </tr>\n",
       "  </tbody>\n",
       "</table>\n",
       "<p>326 rows × 4 columns</p>\n",
       "</div>"
      ],
      "text/plain": [
       "     keystroke_idx   time   type prev_keystrokes\n",
       "0                0     24  first               0\n",
       "1                1    147  other             NaN\n",
       "2                2    275  other             NaN\n",
       "3                3    390  other             NaN\n",
       "4                4    918  other             NaN\n",
       "..             ...    ...    ...             ...\n",
       "321            321  74951  other             NaN\n",
       "322            322  76090  other             NaN\n",
       "323            323  76207  other             NaN\n",
       "324            324  76322  other             NaN\n",
       "325            325  76453  other             NaN\n",
       "\n",
       "[326 rows x 4 columns]"
      ]
     },
     "execution_count": 7,
     "metadata": {},
     "output_type": "execute_result"
    }
   ],
   "source": [
    "test_mapchange = create_mapchange_df(first_keystrokes, t_keystrokes)\n",
    "test_mapchange\n"
   ]
  },
  {
   "cell_type": "code",
   "execution_count": 8,
   "metadata": {},
   "outputs": [],
   "source": [
    "test_mapchange.to_csv('test_mapchange_2.csv')"
   ]
  },
  {
   "cell_type": "code",
   "execution_count": 9,
   "metadata": {},
   "outputs": [
    {
     "name": "stdout",
     "output_type": "stream",
     "text": [
      "Reading /Users/cindyzhang/Documents/M2/Audiomotor_Piano/AM-EEG/analysis_error/error_epochs_data_n05to05_30Hz_corrected/error_epochs_firsts_post_08.fif ...\n",
      "    Found the data of interest:\n",
      "        t =    -500.00 ...     500.00 ms\n",
      "        0 CTF compensation matrices available\n",
      "Not setting metadata\n",
      "81 matching events found\n",
      "No baseline correction applied\n",
      "0 projection items activated\n"
     ]
    },
    {
     "name": "stderr",
     "output_type": "stream",
     "text": [
      "/var/folders/18/hp_602x50x34x_4p_qjc80g40000gn/T/ipykernel_66602/1513470999.py:1: RuntimeWarning: This filename (/Users/cindyzhang/Documents/M2/Audiomotor_Piano/AM-EEG/analysis_error/error_epochs_data_n05to05_30Hz_corrected/error_epochs_firsts_post_08.fif) does not conform to MNE naming conventions. All epochs files should end with -epo.fif, -epo.fif.gz, _epo.fif or _epo.fif.gz\n",
      "  ep = mne.read_epochs('/Users/cindyzhang/Documents/M2/Audiomotor_Piano/AM-EEG/analysis_error/error_epochs_data_n05to05_30Hz_corrected/error_epochs_firsts_post_08.fif').get_data()\n"
     ]
    }
   ],
   "source": [
    "ep = mne.read_epochs('/Users/cindyzhang/Documents/M2/Audiomotor_Piano/AM-EEG/analysis_error/error_epochs_data_n05to05_30Hz_corrected/error_epochs_firsts_post_08.fif').get_data()"
   ]
  },
  {
   "cell_type": "code",
   "execution_count": 10,
   "metadata": {},
   "outputs": [
    {
     "name": "stdout",
     "output_type": "stream",
     "text": [
      "Reading /Users/cindyzhang/Documents/M2/Audiomotor_Piano/AM-EEG/analysis_error/error_epochs_data_n05to05_30Hz/error_epochs_firsts_post_08.fif ...\n",
      "    Found the data of interest:\n",
      "        t =    -500.00 ...     500.00 ms\n",
      "        0 CTF compensation matrices available\n",
      "Not setting metadata\n",
      "98 matching events found\n",
      "No baseline correction applied\n",
      "0 projection items activated\n"
     ]
    },
    {
     "name": "stderr",
     "output_type": "stream",
     "text": [
      "/var/folders/18/hp_602x50x34x_4p_qjc80g40000gn/T/ipykernel_66602/3729620947.py:1: RuntimeWarning: This filename (/Users/cindyzhang/Documents/M2/Audiomotor_Piano/AM-EEG/analysis_error/error_epochs_data_n05to05_30Hz/error_epochs_firsts_post_08.fif) does not conform to MNE naming conventions. All epochs files should end with -epo.fif, -epo.fif.gz, _epo.fif or _epo.fif.gz\n",
      "  ep_orig = mne.read_epochs('/Users/cindyzhang/Documents/M2/Audiomotor_Piano/AM-EEG/analysis_error/error_epochs_data_n05to05_30Hz/error_epochs_firsts_post_08.fif').get_data()\n"
     ]
    }
   ],
   "source": [
    "ep_orig = mne.read_epochs('/Users/cindyzhang/Documents/M2/Audiomotor_Piano/AM-EEG/analysis_error/error_epochs_data_n05to05_30Hz/error_epochs_firsts_post_08.fif').get_data()\n"
   ]
  }
 ],
 "metadata": {
  "kernelspec": {
   "display_name": "eelbrain-cnsp",
   "language": "python",
   "name": "python3"
  },
  "language_info": {
   "codemirror_mode": {
    "name": "ipython",
    "version": 3
   },
   "file_extension": ".py",
   "mimetype": "text/x-python",
   "name": "python",
   "nbconvert_exporter": "python",
   "pygments_lexer": "ipython3",
   "version": "3.11.5"
  },
  "orig_nbformat": 4
 },
 "nbformat": 4,
 "nbformat_minor": 2
}
