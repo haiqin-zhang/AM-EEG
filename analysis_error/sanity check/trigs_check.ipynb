{
 "cells": [
  {
   "cell_type": "code",
   "execution_count": 281,
   "metadata": {},
   "outputs": [],
   "source": [
    "import mne\n",
    "import os\n",
    "import glob\n",
    "import numpy as np\n",
    "import pandas as pd\n",
    "from scipy.io import savemat, loadmat\n",
    "import matplotlib.pyplot as plt\n",
    "import pickle\n",
    "\n",
    "from mne.preprocessing import ICA, corrmap, create_ecg_epochs, create_eog_epochs\n",
    "from mne_icalabel import label_components\n",
    "\n",
    "import sys\n",
    "sys.path.append('/Users/cindyzhang/Documents/M2/Audiomotor_Piano/AM-EEG/utils')\n",
    "from pp_utils import *\n",
    "from plot_utils import *\n"
   ]
  },
  {
   "cell_type": "code",
   "execution_count": 282,
   "metadata": {},
   "outputs": [],
   "source": [
    "def mapchange_keystrokes_4(t_modeswitch, t_keystroke):\n",
    "    \"\"\" \n",
    "    Finds all the keystroke triggers that are the first keystrokes after a map change.\n",
    "\n",
    "    t_modeswitch: subset of events_array with all mode switch triggers \n",
    "    t_keystroke: subset of events_array with all keystrokes\n",
    "    ---\n",
    "    Returns: first keystrokes, a np array in the same format as events_array (3 columns, first column is time)\n",
    "    \"\"\"\n",
    "    \n",
    "    first_keystrokes = []\n",
    "    switch_times = t_modeswitch[:, 0]  # Extract mode switch times\n",
    "    switch_idx = 0\n",
    "    n_switches = len(switch_times)\n",
    "\n",
    "    \n",
    "    keystroke_times = t_keystroke[:,0]\n",
    "\n",
    "    for keystroke in t_keystroke:\n",
    "        if switch_idx >= n_switches - 2:  # Adjusted condition to avoid out-of-bounds\n",
    "            break\n",
    "\n",
    "        ktime = keystroke[0]\n",
    "\n",
    "        # Make sure the keystroke is between two mode switches\n",
    "        if ktime > switch_times[switch_idx] and ktime < switch_times[switch_idx + 1]:\n",
    "            first_keystrokes.append(keystroke)\n",
    "            switch_idx += 1\n",
    "\n",
    "        # Skip consecutive mode switches until we find a keystroke in between\n",
    "        else:\n",
    "            try:\n",
    "                while ktime > switch_times[switch_idx + 1]:\n",
    "                    switch_idx += 1\n",
    "            except IndexError:\n",
    "                continue\n",
    "\n",
    "            # If the keystroke is still valid after skipping switches, add it\n",
    "            if ktime > switch_times[switch_idx] and ktime < switch_times[switch_idx + 1]:\n",
    "                first_keystrokes.append(keystroke)\n",
    "                switch_idx += 1\n",
    "\n",
    "    return np.array(first_keystrokes)\n",
    "\n",
    "firsts_test=mapchange_keystrokes_4(t_modeswitch, t_keystrokes)"
   ]
  },
  {
   "cell_type": "code",
   "execution_count": 283,
   "metadata": {},
   "outputs": [
    {
     "data": {
      "text/plain": [
       "array([[   24,     0,     2],\n",
       "       [ 1710,     0,     2],\n",
       "       [ 2635,     0,     2],\n",
       "       [ 2860,     0,     2],\n",
       "       [ 4152,     0,     2],\n",
       "       [ 4365,     0,     2],\n",
       "       [ 5142,     0,     2],\n",
       "       [ 5920,     0,     2],\n",
       "       [ 6594,     0,     2],\n",
       "       [ 6838,     0,     2],\n",
       "       [ 7859,     0,     2],\n",
       "       [ 7975,     0,     2],\n",
       "       [ 8206,     0,     2],\n",
       "       [10328,     0,     2],\n",
       "       [10850,     0,     2],\n",
       "       [11274,     0,     2],\n",
       "       [11568,     0,     2],\n",
       "       [13720,     0,     2],\n",
       "       [14086,     0,     2],\n",
       "       [14683,     0,     2],\n",
       "       [15538,     0,     2],\n",
       "       [15792,     0,     2],\n",
       "       [16332,     0,     2],\n",
       "       [17032,     0,     2],\n",
       "       [17334,     0,     2],\n",
       "       [17745,     0,     2],\n",
       "       [18850,     0,     2],\n",
       "       [20033,     0,     2],\n",
       "       [21037,     0,     2],\n",
       "       [23602,     0,     2],\n",
       "       [24259,     0,     2],\n",
       "       [24465,     0,     2],\n",
       "       [25103,     0,     2],\n",
       "       [25834,     0,     2],\n",
       "       [25946,     0,     2],\n",
       "       [26181,     0,     2],\n",
       "       [26721,     0,     2],\n",
       "       [27844,     0,     2],\n",
       "       [28815,     0,     2],\n",
       "       [29723,     0,     2],\n",
       "       [33401,     0,     2],\n",
       "       [33529,     0,     2],\n",
       "       [34307,     0,     2],\n",
       "       [35006,     0,     2],\n",
       "       [36929,     0,     2],\n",
       "       [37545,     0,     2],\n",
       "       [38054,     0,     2],\n",
       "       [38200,     0,     2],\n",
       "       [40268,     0,     2],\n",
       "       [40951,     0,     2],\n",
       "       [43836,     0,     2],\n",
       "       [44630,     0,     2],\n",
       "       [44847,     0,     2],\n",
       "       [46558,     0,     2],\n",
       "       [46781,     0,     2],\n",
       "       [47791,     0,     2],\n",
       "       [48588,     0,     2],\n",
       "       [48821,     0,     2],\n",
       "       [49858,     0,     2],\n",
       "       [50267,     0,     2],\n",
       "       [52544,     0,     2],\n",
       "       [52768,     0,     2],\n",
       "       [56097,     0,     2],\n",
       "       [56843,     0,     2],\n",
       "       [57200,     0,     2],\n",
       "       [58466,     0,     2],\n",
       "       [58594,     0,     2],\n",
       "       [59872,     0,     2],\n",
       "       [59984,     0,     2],\n",
       "       [60208,     0,     2],\n",
       "       [61275,     0,     2],\n",
       "       [62272,     0,     2],\n",
       "       [62494,     0,     2],\n",
       "       [63518,     0,     2],\n",
       "       [66448,     0,     2],\n",
       "       [67401,     0,     2],\n",
       "       [68634,     0,     2],\n",
       "       [69296,     0,     2],\n",
       "       [70486,     0,     2],\n",
       "       [71734,     0,     2],\n",
       "       [72452,     0,     2],\n",
       "       [74611,     0,     2]])"
      ]
     },
     "execution_count": 283,
     "metadata": {},
     "output_type": "execute_result"
    }
   ],
   "source": [
    "firsts_test"
   ]
  },
  {
   "cell_type": "code",
   "execution_count": 284,
   "metadata": {},
   "outputs": [
    {
     "name": "stdout",
     "output_type": "stream",
     "text": [
      "\n",
      "PROCESSING SUBJECT  08\n",
      "Opening eeg_error_post_08.mat\n"
     ]
    }
   ],
   "source": [
    "\n",
    "#======================================================================================\n",
    "#                        PARAMETERS\n",
    "#======================================================================================\n",
    "\n",
    "#CHANGE THIS AS THE EXPERIMENT PROGRESSES\n",
    "#----------------------------------------\n",
    "#subjects_to_process =  ['01', '04', '05', '06', '07', '08', '09', '10', '11', '12', '13', '14', '15', '16', '17', '18', '19', '20']\n",
    "subjects_to_process = ['08']\n",
    "periods = ['post']\n",
    "keystroke_trigs = 'audio'\n",
    "\n",
    "overwrite = True #overwrite existing files\n",
    "plot = False\n",
    "\n",
    "find_mapchanges = True\n",
    "find_modekeystrokes = True\n",
    "\n",
    "#-----------------------------------------\n",
    "\n",
    "#times for cropping ERPs\n",
    "erp_begin = -0.5\n",
    "erp_end = 0.5\n",
    "\n",
    "\n",
    "#======================================================================================\n",
    "#                        INITIALIZE DIRECTORIES\n",
    "#======================================================================================\n",
    "pp_dir = \"/Users/cindyzhang/Documents/M2/Audiomotor_Piano/AM-EEG/data_preprocessed_30Hz\" #where the preprocessed files are\n",
    "evokeds_folder = '/Users/cindyzhang/Documents/M2/Audiomotor_Piano/AM-EEG/analysis_error/error_ERP_data_n05to05_30Hz'\n",
    "epochs_folder = '/Users/cindyzhang/Documents/M2/Audiomotor_Piano/AM-EEG/analysis_error/error_epochs_data_n05to05_30Hz'\n",
    "\n",
    "for folder in [evokeds_folder, epochs_folder]:\n",
    "    if not os.path.exists(folder):\n",
    "        os.makedirs(folder)\n",
    "#======================================================================================\n",
    "#                        CALCULATE EVOKEDS\n",
    "#======================================================================================\n",
    "for folder in sorted(os.listdir(pp_dir)):\n",
    "    if folder not in subjects_to_process:\n",
    "        continue\n",
    "\n",
    "    print('\\nPROCESSING SUBJECT ', folder)\n",
    "    sub_pp_dir = os.path.join(pp_dir, folder)\n",
    "    for period in periods:\n",
    "        data_path = glob.glob(os.path.join(sub_pp_dir, f'eeg_error_{period}_??.mat'))[0]\n",
    "\n",
    "        subject_ID = data_path.split('.')[0][-2:]\n",
    "\n",
    "        print('Opening', data_path.split('/')[-1])\n",
    "        \n",
    "\n",
    "        #--------------------------------------------\n",
    "        #               LOAD FILE AND EVENTS\n",
    "        #--------------------------------------------\n",
    "        data = loadmat(data_path)\n",
    "        eeg = data['trial_data']\n",
    "        refs = data['trial_mastoids']\n",
    "        all_electrodes = data['all_electrodes']\n",
    "        events_sv = data['events']\n",
    "\n",
    "        if plot:\n",
    "            mne.viz.plot_raw_psd(raw, fmin = 0, fmax = 64)  \n",
    "\n",
    "        events_arr = make_raw_events(events_sv)\n",
    "\n",
    "        if keystroke_trigs == 'MIDI':\n",
    "            t_keystrokes = clean_triggers(events_arr[events_arr[:, 2]==6])\n",
    "        else:\n",
    "            t_keystrokes = clean_triggers(events_arr[events_arr[:, 2]==2])\n",
    "\n",
    "\n",
    "        t_inv = clean_triggers(events_arr[events_arr[:, 2]==3])\n",
    "        t_shinv = clean_triggers(events_arr[events_arr[:, 2]==4])\n",
    "        t_norm = clean_triggers(events_arr[events_arr[:, 2]==5])\n",
    "        t_modeswitch = np.concatenate([t_inv, t_shinv, t_norm])\n",
    "        t_modeswitch = events_inorder(t_modeswitch)\n",
    "        first_keystrokes = mapchange_keystrokes_4(t_modeswitch = t_modeswitch, t_keystroke=t_keystrokes)\n",
    "        other_keystrokes = withinmap_keystrokes(t_keystrokes, first_keystrokes)\n",
    "\n",
    "\n",
    "        \n"
   ]
  },
  {
   "cell_type": "code",
   "execution_count": 295,
   "metadata": {},
   "outputs": [
    {
     "ename": "NameError",
     "evalue": "name 'raw' is not defined",
     "output_type": "error",
     "traceback": [
      "\u001b[0;31m---------------------------------------------------------------------------\u001b[0m",
      "\u001b[0;31mNameError\u001b[0m                                 Traceback (most recent call last)",
      "\u001b[1;32m/Users/cindyzhang/Documents/M2/Audiomotor_Piano/AM-EEG/analysis_error/sanity check/trigs_check.ipynb Cell 5\u001b[0m line \u001b[0;36m1\n\u001b[0;32m----> <a href='vscode-notebook-cell:/Users/cindyzhang/Documents/M2/Audiomotor_Piano/AM-EEG/analysis_error/sanity%20check/trigs_check.ipynb#X16sZmlsZQ%3D%3D?line=0'>1</a>\u001b[0m norm_sections \u001b[39m=\u001b[39m find_sections(raw, t_norm, t_modeswitch)\n\u001b[1;32m      <a href='vscode-notebook-cell:/Users/cindyzhang/Documents/M2/Audiomotor_Piano/AM-EEG/analysis_error/sanity%20check/trigs_check.ipynb#X16sZmlsZQ%3D%3D?line=2'>3</a>\u001b[0m all_sections \u001b[39m=\u001b[39m [\n\u001b[1;32m      <a href='vscode-notebook-cell:/Users/cindyzhang/Documents/M2/Audiomotor_Piano/AM-EEG/analysis_error/sanity%20check/trigs_check.ipynb#X16sZmlsZQ%3D%3D?line=3'>4</a>\u001b[0m     \u001b[39m#inv_sections,\u001b[39;00m\n\u001b[1;32m      <a href='vscode-notebook-cell:/Users/cindyzhang/Documents/M2/Audiomotor_Piano/AM-EEG/analysis_error/sanity%20check/trigs_check.ipynb#X16sZmlsZQ%3D%3D?line=4'>5</a>\u001b[0m    \u001b[39m#shinv_sections,\u001b[39;00m\n\u001b[1;32m      <a href='vscode-notebook-cell:/Users/cindyzhang/Documents/M2/Audiomotor_Piano/AM-EEG/analysis_error/sanity%20check/trigs_check.ipynb#X16sZmlsZQ%3D%3D?line=5'>6</a>\u001b[0m     norm_sections\n\u001b[1;32m      <a href='vscode-notebook-cell:/Users/cindyzhang/Documents/M2/Audiomotor_Piano/AM-EEG/analysis_error/sanity%20check/trigs_check.ipynb#X16sZmlsZQ%3D%3D?line=6'>7</a>\u001b[0m ]\n\u001b[1;32m      <a href='vscode-notebook-cell:/Users/cindyzhang/Documents/M2/Audiomotor_Piano/AM-EEG/analysis_error/sanity%20check/trigs_check.ipynb#X16sZmlsZQ%3D%3D?line=8'>9</a>\u001b[0m plot_sections(all_sections)\n",
      "\u001b[0;31mNameError\u001b[0m: name 'raw' is not defined"
     ]
    }
   ],
   "source": [
    "norm_sections = find_sections(raw, t_norm, t_modeswitch)\n",
    "\n",
    "all_sections = [\n",
    "    #inv_sections,\n",
    "   #shinv_sections,\n",
    "    norm_sections\n",
    "]\n",
    "\n",
    "plot_sections(all_sections)"
   ]
  },
  {
   "cell_type": "code",
   "execution_count": 292,
   "metadata": {},
   "outputs": [
    {
     "data": {
      "text/plain": [
       "(70000.0, 80000.0)"
      ]
     },
     "execution_count": 292,
     "metadata": {},
     "output_type": "execute_result"
    },
    {
     "data": {
      "image/png": "[encoded data removed]",
      "text/plain": [
       "<Figure size 2500x1000 with 1 Axes>"
      ]
     },
     "metadata": {},
     "output_type": "display_data"
    }
   ],
   "source": [
    "plt.figure(figsize = (25,10))\n",
    "plt.eventplot(t_inv[:, 0], lineoffsets = 3, color = 'green')\n",
    "plt.eventplot(t_shinv[:,0], lineoffsets = 2, color = 'orange')\n",
    "plt.eventplot(t_norm[:,0], lineoffsets = 1,color = 'red')\n",
    "plt.eventplot(t_modeswitch[:,0], lineoffsets = 0, color = 'grey')\n",
    "plt.eventplot(t_keystrokes[:,0], lineoffsets = -1, color = 'black')\n",
    "plt.eventplot(first_keystrokes[:,0], lineoffsets = -2, color = 'purple')\n",
    "plt.eventplot(other_keystrokes[:,0], lineoffsets = -3, color = 'steelblue')\n",
    "plt.xlim(10000,20000)"
   ]
  },
  {
   "cell_type": "code",
   "execution_count": 286,
   "metadata": {},
   "outputs": [],
   "source": [
    "def create_mapchange_df(first_keystrokes,  all_keystrokes):\n",
    "    \"\"\" \n",
    "    Makes a df with the times and indices for first and other keystrokes\n",
    "        for first keystrokes, further adds the number of keystrokes in the previous map\n",
    "    returns: mapchange_df\n",
    "    \"\"\"\n",
    "\n",
    "    mapchange_df = pd.DataFrame(columns = ['keystroke_idx', 'time', 'type', 'prev_keystrokes'])\n",
    "    mapchange_df['time'] = all_keystrokes[:,0]\n",
    "\n",
    "    mapchange_df['keystroke_idx'] = mapchange_df.index\n",
    "    mapchange_df['type'] = mapchange_df['time'].apply(\n",
    "            lambda x: 'first' if x in first_keystrokes[:, 0] \n",
    "            else 'other'\n",
    "    )\n",
    "\n",
    "    # Find the indices of rows where type is 'first'\n",
    "    first_indices = mapchange_df.index[mapchange_df['type'] == 'first'].tolist()\n",
    "\n",
    "    # Iterate over these indices and count 'other' keystrokes\n",
    "    for i in range(len(first_indices)):\n",
    "        current_index = first_indices[i]\n",
    "        if i == 0:\n",
    "            mapchange_df.at[current_index, 'prev_keystrokes'] = current_index\n",
    "            #mapchange_df.at[current_index, 'prev_keystrokes'] = 0 #put 0 for previous keystrokes for the first map change (don't use)\n",
    "\n",
    "        else:\n",
    "            previous_index = first_indices[i - 1]\n",
    "            # Count 'other' keystrokes between the two 'first' rows\n",
    "            count_others = mapchange_df.loc[previous_index+1:current_index-1, 'type'].value_counts().get('other', 0)\n",
    "            mapchange_df.at[current_index, 'prev_keystrokes'] = count_others\n",
    "\n",
    "    return mapchange_df"
   ]
  },
  {
   "cell_type": "code",
   "execution_count": 287,
   "metadata": {},
   "outputs": [],
   "source": [
    "# test_mapchange = create_mapchange_df(first_keystrokes, t_keystrokes)\n",
    "# test_mapchange\n"
   ]
  },
  {
   "cell_type": "code",
   "execution_count": 288,
   "metadata": {},
   "outputs": [],
   "source": [
    "#test_mapchange.to_csv('test_mapchange_2.csv')"
   ]
  },
  {
   "cell_type": "code",
   "execution_count": 289,
   "metadata": {},
   "outputs": [],
   "source": [
    "#p = mne.read_epochs('/Users/cindyzhang/Documents/M2/Audiomotor_Piano/AM-EEG/analysis_error/error_epochs_data_n05to05_30Hz_corrected/error_epochs_firsts_post_08.fif').get_data()"
   ]
  },
  {
   "cell_type": "code",
   "execution_count": 290,
   "metadata": {},
   "outputs": [],
   "source": [
    "#ep_orig = mne.read_epochs('/Users/cindyzhang/Documents/M2/Audiomotor_Piano/AM-EEG/analysis_error/error_epochs_data_n05to05_30Hz/error_epochs_firsts_post_08.fif').get_data()\n"
   ]
  }
 ],
 "metadata": {
  "kernelspec": {
   "display_name": "eelbrain-cnsp",
   "language": "python",
   "name": "python3"
  },
  "language_info": {
   "codemirror_mode": {
    "name": "ipython",
    "version": 3
   },
   "file_extension": ".py",
   "mimetype": "text/x-python",
   "name": "python",
   "nbconvert_exporter": "python",
   "pygments_lexer": "ipython3",
   "version": "3.11.5"
  },
  "orig_nbformat": 4
 },
 "nbformat": 4,
 "nbformat_minor": 2
}
