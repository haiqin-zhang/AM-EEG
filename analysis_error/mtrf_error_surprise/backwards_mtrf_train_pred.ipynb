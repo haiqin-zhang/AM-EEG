{
 "cells": [
  {
   "cell_type": "code",
   "execution_count": 9,
   "metadata": {},
   "outputs": [],
   "source": [
    "\n",
    "import mne\n",
    "\n",
    "\n",
    "import pandas as pd\n",
    "import mtrf\n",
    "from mtrf.model import TRF\n",
    "from mtrf.stats import crossval, nested_crossval\n",
    "import eelbrain as eel\n",
    "\n",
    "import matplotlib.pyplot as plt\n",
    "import numpy as np\n",
    "import scipy\n",
    "from scipy.io import wavfile, loadmat, savemat\n",
    "from scipy.signal import hilbert\n",
    "\n",
    "from collections import Counter\n",
    "\n",
    "import sys\n",
    "sys.path.append('/Users/cindyzhang/Documents/M2/Audiomotor_Piano/AM-EEG/utils')\n",
    "from pp_utils import *\n",
    "from plot_utils import *\n",
    "from mTRF_utils import *\n",
    "from midi_utils import *\n",
    "from update_sub_lists import*\n",
    "from ERP_utils import *\n",
    "\n",
    "import pickle\n",
    "import os"
   ]
  },
  {
   "cell_type": "code",
   "execution_count": 10,
   "metadata": {},
   "outputs": [],
   "source": [
    "eeg_dir = '/Users/cindyzhang/Documents/M2/Audiomotor_Piano/AM-EEG/data_preprocessed_15Hz'\n",
    "mTRF_path = f'/Users/cindyzhang/Documents/M2/Audiomotor_Piano/AM-EEG/analysis_error/mtrf_error_surprise/trained_models'\n",
    "sv_dir = '/Users/cindyzhang/Documents/M2/Audiomotor_Piano/AM-EEG/analysis_error/mtrf_error_surprise/sv'\n"
   ]
  },
  {
   "cell_type": "markdown",
   "metadata": {},
   "source": [
    "## Subjects and parameters"
   ]
  },
  {
   "cell_type": "code",
   "execution_count": 30,
   "metadata": {},
   "outputs": [
    {
     "name": "stdout",
     "output_type": "stream",
     "text": [
      "processing subjects: ['01', '04', '05', '06', '07', '08', '09', '10', '11', '12', '13', '14', '15', '16', '17', '18', '19', '20']\n"
     ]
    }
   ],
   "source": [
    "\n",
    "#good_listen_subjects, good_motor_subjects,good_error_subjects,musicians,nonmusicians = load_subject_lists_LME()\n",
    "subjects_to_process = good_error_subjects\n",
    "#subjects_to_process = ['06']\n",
    "#subjects_to_process =['01', '04', '05', '06', '07', '08', '09', '10', '11', '12']\n",
    "\n",
    "n_subs = len(subjects_to_process)\n",
    "print('processing subjects:', subjects_to_process)\n",
    "\n",
    "periods = ['pre']\n",
    "#features = 'AM' #AM or onsets\n",
    "\n",
    "overwrite = False\n",
    "n_segments = 10\n",
    "fs = 128\n",
    "tmin, tmax =-0.5, 0.5  # range of time lag\n",
    "regularization = 1\n",
    "\n"
   ]
  },
  {
   "cell_type": "markdown",
   "metadata": {},
   "source": [
    "## Train reverse TRF model"
   ]
  },
  {
   "cell_type": "code",
   "execution_count": 31,
   "metadata": {},
   "outputs": [
    {
     "name": "stdout",
     "output_type": "stream",
     "text": [
      "processing subject 01\n",
      "processing subject 04\n",
      "processing subject 05\n",
      "processing subject 06\n",
      "processing subject 07\n",
      "processing subject 08\n",
      "processing subject 09\n",
      "processing subject 10\n",
      "processing subject 11\n",
      "processing subject 12\n",
      "processing subject 13\n",
      "processing subject 14\n",
      "processing subject 15\n",
      "processing subject 16\n",
      "processing subject 17\n",
      "processing subject 18\n",
      "processing subject 19\n",
      "processing subject 20\n"
     ]
    }
   ],
   "source": [
    "train = 'listen' #listen or error\n",
    "save = True\n",
    "\n",
    "for subject in subjects_to_process:\n",
    "    print(f'processing subject {subject}')\n",
    "    for period in periods:\n",
    "\n",
    "        if train == 'error':\n",
    "            eeg_path = os.path.join(eeg_dir, f'{subject}/eeg_error_{period}_{subject}.mat')\n",
    "            \n",
    "            data = loadmat(eeg_path)\n",
    "            eeg = data['trial_data']\n",
    "\n",
    "            #error events are already pre-extracted and sorted by first or others so sv can be customized to reflect surprisal\n",
    "            sv_data = loadmat(os.path.join(sv_dir, f'sv_data_{period}_{subject}.mat'))\n",
    "            onsets_sv = sv_data['onsets'][0] #take 0 index because it's shaped (1, n_timepoints)\n",
    "\n",
    "        elif train == 'listen':\n",
    "            eeg_path = os.path.join(eeg_dir, f'{subject}/eeg_listen_{period}_{subject}.mat')\n",
    "            data = loadmat(eeg_path)\n",
    "            eeg = data['trial_data']\n",
    "\n",
    "            \n",
    "            #get listening events and make support vector\n",
    "            events_sv = data['events']\n",
    "            events_arr = make_raw_events(events_sv)\n",
    "            events_keystrokes = clean_triggers(events_arr[events_arr[:, 2]==2])\n",
    "            onset_indices = events_keystrokes[:,0]\n",
    "            onsets_sv = np.zeros_like(events_sv[0])\n",
    "            onsets_sv[onset_indices] = 1\n",
    "        \n",
    "        \n",
    "\n",
    "        eeg_segments = segment(eeg.T, n_segments)\n",
    "        eeg_segments_norm = normalize_responses(eeg_segments)\n",
    "\n",
    "        onset_segments = segment(onsets_sv, n_segments) \n",
    "\n",
    "\n",
    "        #train model\n",
    "        bwd_trf = TRF(direction = -1)\n",
    "        bwd_trf.train(onset_segments, eeg_segments_norm, fs, tmin, tmax, regularization = regularization)\n",
    "\n",
    "        #save model\n",
    "        if save: \n",
    "         if not os.path.exists(mTRF_path):\n",
    "            os.mkdir(mTRF_path)\n",
    "         bwd_trf.save(os.path.join(mTRF_path, f'rTRF_{train}_{subject}_{period}.pkl'))\n",
    "\n",
    "        "
   ]
  },
  {
   "cell_type": "markdown",
   "metadata": {},
   "source": [
    "## Using reverse TRF to predict stimulus"
   ]
  },
  {
   "cell_type": "code",
   "execution_count": 27,
   "metadata": {},
   "outputs": [],
   "source": [
    "def load_stim_resp(subject, period, n_segments, eeg_dir, stim_dir, normalize = True, stim_sv = 'firsts'):\n",
    "    \"\"\" \n",
    "    Loads the error eeg and onsets information\n",
    "    stim_sv: either 'onsets' (loads sv where all onsets are 1) or 'firsts' (where all firsts are 1 and others are slightly smaller)\n",
    "     ---\n",
    "    returns:\n",
    "    sv_segments: stimulus, segmented into n_segments\n",
    "    eeg_segments: eeg response, segmented into n_segments\n",
    "    \"\"\"\n",
    "\n",
    "    data_err = loadmat(os.path.join(eeg_dir, f'{subject}/eeg_error_{period}_{subject}.mat'))\n",
    "    eeg_err = data_err['trial_data'].T\n",
    "\n",
    "    \n",
    "    sv_data_err = loadmat(os.path.join(stim_dir, f'sv_data_{period}_{subject}.mat'))\n",
    "\n",
    "    if stim_sv == 'onsets':\n",
    "        sv = sv_data_err['onsets'][0]\n",
    "    elif stim_sv == 'firsts':\n",
    "        sv = sv_data_err['firsts'][0]\n",
    "    \n",
    "    #crop EEG if it's longer than support vector (sv is always 10 mins long but subs 01 and 04 have shorter recordings)\n",
    "    if sv.shape[0] > eeg_err.shape[0]:\n",
    "        sv = sv[:eeg_err.shape[0]]\n",
    "\n",
    "    \n",
    "   \n",
    "    eeg_segments = segment(eeg_err, n_segments)\n",
    "    sv_segments = segment(sv,n_segments)\n",
    "\n",
    "    #normalize EEG segmenets\n",
    "    if normalize:\n",
    "        eeg_segments = normalize_responses(eeg_segments)\n",
    "\n",
    "    return sv_segments, eeg_segments\n",
    "\n",
    "\n",
    "def concat_segments(segments):\n",
    "    \"\"\"\n",
    "    reconcatenate segmented data\n",
    "    \"\"\"\n",
    "    concat = np.stack(segments).squeeze()\n",
    "    concat = concat.reshape(-1)\n",
    "    return concat\n",
    "\n",
    "def find_trf_preds(model, stimulus, response):\n",
    "    \"\"\" \n",
    "    Predicts stimulus and concatenates the results so it can be easily plotted against ground truth\n",
    "\n",
    "    ---\n",
    "    Returns: \n",
    "    prediction (concatenated to be same shape as unsegmented stimulus)\n",
    "\n",
    "\n",
    "    \"\"\"\n",
    "    #prediction using trf model\n",
    "    res = model.predict(stimulus, response) \n",
    "        #res[0] is the prediction of the stimulus. List of len n_segments, where each element is the size of one stimlus segment\n",
    "        #res[1] is a metric to measure how good the prediction is. By default it is pearson r\n",
    "\n",
    "    #get reconstructed stimulus\n",
    "    prediction = res[0]\n",
    "    prediction = np.stack(prediction).squeeze()\n",
    "    #concatenate prediction segments so they can be plotted against ground truth\n",
    "    pred_concat = prediction.reshape(-1)\n",
    "\n",
    "    #get prediction metric\n",
    "    pred_metric = res[1]\n",
    "\n",
    "    return pred_concat, pred_metric\n",
    "\n",
    "\n",
    "def load_trf_model(subject, period, mTRF_path):\n",
    "    with open(os.path.join(mTRF_path, f'rTRF_listen_{subject}_{period}.pkl'), 'rb') as file:\n",
    "        bwd_trf = pickle.load(file)\n",
    "    return bwd_trf"
   ]
  },
  {
   "cell_type": "code",
   "execution_count": 29,
   "metadata": {},
   "outputs": [
    {
     "name": "stdout",
     "output_type": "stream",
     "text": [
      "processing 01\n",
      "(76800,) (76800, 64)\n",
      "10\n",
      "processing 04\n",
      "(76800,) (46068, 64)\n",
      "10\n",
      "processing 05\n",
      "(76800,) (76800, 64)\n",
      "10\n",
      "processing 06\n",
      "(76800,) (76800, 64)\n",
      "10\n",
      "processing 07\n",
      "(76800,) (76800, 64)\n",
      "10\n",
      "processing 08\n",
      "(76800,) (76800, 64)\n",
      "10\n",
      "processing 09\n",
      "(76800,) (76800, 64)\n",
      "10\n",
      "processing 10\n",
      "(76800,) (76800, 64)\n",
      "10\n",
      "processing 11\n",
      "(76800,) (76800, 64)\n",
      "10\n",
      "processing 12\n",
      "(76800,) (76800, 64)\n",
      "10\n",
      "processing 13\n",
      "(76800,) (76343, 64)\n",
      "10\n",
      "processing 14\n",
      "(76800,) (76800, 64)\n",
      "10\n",
      "processing 15\n",
      "(76800,) (76800, 64)\n",
      "10\n",
      "processing 16\n",
      "(76800,) (76800, 64)\n",
      "10\n",
      "processing 17\n",
      "(76800,) (74462, 64)\n",
      "10\n",
      "processing 18\n",
      "(76800,) (76800, 64)\n",
      "10\n",
      "processing 19\n",
      "(76800,) (76800, 64)\n",
      "10\n",
      "processing 20\n",
      "(76800,) (76800, 64)\n",
      "10\n"
     ]
    }
   ],
   "source": [
    "for subject in subjects_to_process:\n",
    "    print(f'processing {subject}')\n",
    "\n",
    "    sv, eeg = load_stim_resp(subject, period, n_segments, eeg_dir, sv_dir, stim_sv='onsets') #load stim\n",
    "    print(len(sv))\n",
    "    \n",
    "    #load model and predict\n",
    "    bwd_trf = load_trf_model(subject, period, mTRF_path)\n",
    "    pred_concat, pred_metric = find_trf_preds(bwd_trf, sv, eeg)\n",
    "\n",
    "    #save predictions\n",
    "    preds = {\n",
    "        'predicted_stim': pred_concat,\n",
    "        'pearsonr': pred_metric\n",
    "    }\n",
    "\n",
    "\n",
    "    preds_path = './rTRF_predictions/'\n",
    "    if not os.path.exists(preds_path):\n",
    "        os.mkdir(preds_path)\n",
    "\n",
    "    savemat(os.path.join(preds_path, f'pred_err_{subject}_{period}.mat'), preds)"
   ]
  },
  {
   "cell_type": "code",
   "execution_count": null,
   "metadata": {},
   "outputs": [
    {
     "data": {
      "text/plain": [
       "Text(0, 0.5, 'amplitude')"
      ]
     },
     "execution_count": 153,
     "metadata": {},
     "output_type": "execute_result"
    },
    {
     "data": {
      "image/png": "[encoded data removed]",
      "text/plain": [
       "<Figure size 1800x600 with 1 Axes>"
      ]
     },
     "metadata": {},
     "output_type": "display_data"
    }
   ],
   "source": [
    "#sanity check\n",
    "\n",
    "# plt.figure(figsize = (18,6))\n",
    "# plt.plot(firsts_sv_err/4, label = 'stimulus')\n",
    "# plt.plot(pred_concat, label = 'reconstruction')\n",
    "# plt.xlim(0,10000)\n",
    "\n",
    "# plt.legend(loc = 'lower left')\n",
    "# plt.xlabel('timepoint (n_samples)')\n",
    "# plt.ylabel('amplitude')"
   ]
  }
 ],
 "metadata": {
  "kernelspec": {
   "display_name": "mtrfpy2",
   "language": "python",
   "name": "python3"
  },
  "language_info": {
   "codemirror_mode": {
    "name": "ipython",
    "version": 3
   },
   "file_extension": ".py",
   "mimetype": "text/x-python",
   "name": "python",
   "nbconvert_exporter": "python",
   "pygments_lexer": "ipython3",
   "version": "3.11.5"
  },
  "orig_nbformat": 4
 },
 "nbformat": 4,
 "nbformat_minor": 2
}
