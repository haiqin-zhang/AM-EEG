{
 "cells": [
  {
   "cell_type": "code",
   "execution_count": 77,
   "metadata": {},
   "outputs": [],
   "source": [
    "\n",
    "import mne\n",
    "\n",
    "\n",
    "import pandas as pd\n",
    "import mtrf\n",
    "from mtrf.model import TRF\n",
    "from mtrf.stats import crossval, nested_crossval\n",
    "import eelbrain as eel\n",
    "\n",
    "import matplotlib.pyplot as plt\n",
    "import numpy as np\n",
    "import scipy\n",
    "from scipy.io import wavfile, loadmat, savemat\n",
    "from scipy.signal import hilbert\n",
    "from scipy.stats import pearsonr, wilcoxon, ttest_ind, ttest_rel, ttest_1samp\n",
    "from scipy.stats.mstats import winsorize\n",
    "from collections import Counter\n",
    "\n",
    "import sys\n",
    "sys.path.append('/Users/cindyzhang/Documents/M2/Audiomotor_Piano/AM-EEG/utils')\n",
    "from pp_utils import *\n",
    "from plot_utils import *\n",
    "from mTRF_utils import *\n",
    "from midi_utils import *\n",
    "from update_sub_lists import*\n",
    "from ERP_utils import *\n",
    "\n",
    "import pickle\n",
    "import os"
   ]
  },
  {
   "cell_type": "code",
   "execution_count": 10,
   "metadata": {},
   "outputs": [],
   "source": [
    "eeg_dir = '/Users/cindyzhang/Documents/M2/Audiomotor_Piano/AM-EEG/data_preprocessed_15Hz'\n",
    "mTRF_path = f'/Users/cindyzhang/Documents/M2/Audiomotor_Piano/AM-EEG/analysis_error/mtrf_error_surprise/trained_models_forward'\n",
    "sv_dir = '/Users/cindyzhang/Documents/M2/Audiomotor_Piano/AM-EEG/analysis_error/mtrf_error_surprise/sv'\n"
   ]
  },
  {
   "cell_type": "markdown",
   "metadata": {},
   "source": [
    "## Subjects and parameters"
   ]
  },
  {
   "cell_type": "code",
   "execution_count": 11,
   "metadata": {},
   "outputs": [
    {
     "name": "stdout",
     "output_type": "stream",
     "text": [
      "processing subjects: ['01', '04', '05', '06', '07', '08', '09', '10', '11', '12', '13', '14', '15', '16', '17', '18', '19', '20']\n"
     ]
    }
   ],
   "source": [
    "\n",
    "#good_listen_subjects, good_motor_subjects,good_error_subjects,musicians,nonmusicians = load_subject_lists_LME()\n",
    "subjects_to_process = good_error_subjects\n",
    "#subjects_to_process = ['06']\n",
    "#subjects_to_process =['01', '04', '05', '06', '07', '08', '09', '10', '11', '12']\n",
    "\n",
    "n_subs = len(subjects_to_process)\n",
    "print('processing subjects:', subjects_to_process)\n",
    "\n",
    "periods = ['pre']\n",
    "#features = 'AM' #AM or onsets\n",
    "\n",
    "overwrite = False\n",
    "n_segments = 10\n",
    "fs = 128\n",
    "tmin, tmax =-0.5, 0.5  # range of time lag\n",
    "regularization = 0\n",
    "\n"
   ]
  },
  {
   "cell_type": "markdown",
   "metadata": {},
   "source": [
    "## Train forward TRF model"
   ]
  },
  {
   "cell_type": "code",
   "execution_count": 12,
   "metadata": {},
   "outputs": [
    {
     "name": "stdout",
     "output_type": "stream",
     "text": [
      "processing subject 01\n"
     ]
    },
    {
     "name": "stdout",
     "output_type": "stream",
     "text": [
      "processing subject 04\n",
      "processing subject 05\n",
      "processing subject 06\n",
      "processing subject 07\n",
      "processing subject 08\n",
      "processing subject 09\n",
      "processing subject 10\n",
      "processing subject 11\n",
      "processing subject 12\n",
      "processing subject 13\n",
      "processing subject 14\n",
      "processing subject 15\n",
      "processing subject 16\n",
      "processing subject 17\n",
      "processing subject 18\n",
      "processing subject 19\n",
      "processing subject 20\n"
     ]
    }
   ],
   "source": [
    "train = 'listen' #listen or error\n",
    "save = True\n",
    "\n",
    "for subject in subjects_to_process:\n",
    "    print(f'processing subject {subject}')\n",
    "    for period in periods:\n",
    "\n",
    "        if train == 'error':\n",
    "            eeg_path = os.path.join(eeg_dir, f'{subject}/eeg_error_{period}_{subject}.mat')\n",
    "            \n",
    "            data = loadmat(eeg_path)\n",
    "            eeg = data['trial_data']\n",
    "\n",
    "            #error events are already pre-extracted and sorted by first or others so sv can be customized to reflect surprisal\n",
    "            sv_data = loadmat(os.path.join(sv_dir, f'sv_data_{period}_{subject}.mat'))\n",
    "            onsets_sv = sv_data['onsets'][0] #take 0 index because it's shaped (1, n_timepoints)\n",
    "\n",
    "        elif train == 'listen':\n",
    "            eeg_path = os.path.join(eeg_dir, f'{subject}/eeg_listen_{period}_{subject}.mat')\n",
    "            data = loadmat(eeg_path)\n",
    "            eeg = data['trial_data']\n",
    "\n",
    "            \n",
    "            #get listening events and make support vector\n",
    "            events_sv = data['events']\n",
    "            events_arr = make_raw_events(events_sv)\n",
    "            events_keystrokes = clean_triggers(events_arr[events_arr[:, 2]==2])\n",
    "            onset_indices = events_keystrokes[:,0]\n",
    "            onsets_sv = np.zeros_like(events_sv[0])\n",
    "            onsets_sv[onset_indices] = 1\n",
    "        \n",
    "        \n",
    "\n",
    "        eeg_segments = segment(eeg.T, n_segments)\n",
    "        eeg_segments_norm = normalize_responses(eeg_segments)\n",
    "\n",
    "        onset_segments = segment(onsets_sv, n_segments) \n",
    "\n",
    "\n",
    "        #train model\n",
    "        fwd_trf = TRF(direction = 1)\n",
    "        fwd_trf.train(onset_segments, eeg_segments_norm, fs, tmin, tmax, regularization = regularization)\n",
    "\n",
    "        #save model\n",
    "        if save: \n",
    "         if not os.path.exists(mTRF_path):\n",
    "            os.mkdir(mTRF_path)\n",
    "         fwd_trf.save(os.path.join(mTRF_path, f'fTRF_{train}_{subject}_{period}.pkl'))\n",
    "\n",
    "        "
   ]
  },
  {
   "cell_type": "markdown",
   "metadata": {},
   "source": [
    "## Using forward TRF to predict stimulus"
   ]
  },
  {
   "cell_type": "code",
   "execution_count": 13,
   "metadata": {},
   "outputs": [],
   "source": [
    "def load_stim_resp(subject, period, n_segments, eeg_dir, stim_dir, normalize = True, stim_sv = 'firsts', shuffle = False):\n",
    "    \"\"\" \n",
    "    Loads the error eeg and onsets information\n",
    "    stim_sv: either 'onsets' (loads sv where all onsets are 1) or 'firsts' (where all firsts are 1 and others are slightly smaller)\n",
    "     ---\n",
    "    returns:\n",
    "    sv_segments: stimulus, segmented into n_segments\n",
    "    eeg_segments: eeg response, segmented into n_segments\n",
    "    \"\"\"\n",
    "\n",
    "    data_err = loadmat(os.path.join(eeg_dir, f'{subject}/eeg_error_{period}_{subject}.mat'))\n",
    "    eeg_err = data_err['trial_data'].T\n",
    "\n",
    "    \n",
    "    sv_data_err = loadmat(os.path.join(stim_dir, f'sv_data_{period}_{subject}.mat'))\n",
    "\n",
    "    sv = sv_data_err[stim_sv][0]\n",
    "   \n",
    "    if shuffle:\n",
    "        \n",
    "        nonzero_indices = np.where(sv != 0)[0]\n",
    "        shuffled_values = sv[nonzero_indices]\n",
    "        np.random.shuffle(shuffled_values)\n",
    "\n",
    "        # Assign shuffled values back to original indices\n",
    "        sv[nonzero_indices] = shuffled_values\n",
    "\n",
    "    \n",
    "    #crop EEG if it's longer than support vector (sv is always 10 mins long but subs 01 and 04 have shorter recordings)\n",
    "    if sv.shape[0] > eeg_err.shape[0]:\n",
    "        sv = sv[:eeg_err.shape[0]]\n",
    "\n",
    "    \n",
    "   \n",
    "    eeg_segments = segment(eeg_err, n_segments)\n",
    "    sv_segments = segment(sv,n_segments)\n",
    "\n",
    "    #normalize EEG segmenets\n",
    "    if normalize:\n",
    "        eeg_segments = normalize_responses(eeg_segments)\n",
    "\n",
    "    return sv_segments, eeg_segments\n",
    "\n",
    "\n",
    "\n",
    "# def concat_segments(segments):\n",
    "#     \"\"\"\n",
    "#     reconcatenate segmented data\n",
    "#     \"\"\"\n",
    "#     concat = np.stack(segments).squeeze()\n",
    "#     concat = concat.reshape(-1)\n",
    "#     return concat\n",
    "\n",
    "def find_fwd_trf_preds(model, stimulus, response, normalize = True):\n",
    "    \"\"\" \n",
    "    Predicts stimulus and concatenates the results so it can be easily plotted against ground truth\n",
    "\n",
    "    ---\n",
    "    Returns: \n",
    "    prediction (concatenated to be same shape as unsegmented stimulus)\n",
    "\n",
    "\n",
    "    \"\"\"\n",
    "    #prediction using trf model\n",
    "    res = model.predict(stimulus, response) \n",
    "        #res[0] is the prediction of the stimulus. List of len n_segments, where each element is the size of one stimlus segment\n",
    "        #res[1] is a metric to measure how good the prediction is. By default it is pearson r\n",
    "\n",
    "    #get reconstructed stimulus\n",
    "    prediction = res[0]\n",
    "    if normalize:\n",
    "        prediction = normalize_responses(prediction)\n",
    "\n",
    "        \n",
    "    pred_concat = np.vstack(prediction).squeeze()\n",
    "\n",
    "    #concatenate prediction segments so they can be plotted against ground truth\n",
    "    #pred_concat = prediction.reshape(-1) #only necessary for single-channel vectors\n",
    "\n",
    "    #get prediction metric\n",
    "    pred_metric = res[1]\n",
    "\n",
    "    return pred_concat, pred_metric\n",
    "\n",
    "def load_trf_model(subject, period, mTRF_path):\n",
    "    with open(os.path.join(mTRF_path, f'fTRF_listen_{subject}_{period}.pkl'), 'rb') as file:\n",
    "        bwd_trf = pickle.load(file)\n",
    "    return bwd_trf"
   ]
  },
  {
   "cell_type": "markdown",
   "metadata": {},
   "source": [
    "Compute predictions"
   ]
  },
  {
   "cell_type": "code",
   "execution_count": 14,
   "metadata": {},
   "outputs": [
    {
     "name": "stdout",
     "output_type": "stream",
     "text": [
      "processing 08\n"
     ]
    }
   ],
   "source": [
    "for subject in ['08']:\n",
    "    print(f'processing {subject}')\n",
    "\n",
    "    r_sub = {\n",
    "        'subject':subject,\n",
    "        'period': period\n",
    "    }\n",
    "    sv, eeg = load_stim_resp(subject, period, 10, eeg_dir, sv_dir, stim_sv='onsets') #load stim\n",
    "\n",
    "    \n",
    "    #load model and predict on onset only\n",
    "    fwd_trf = load_trf_model(subject, period, mTRF_path)\n",
    "    pred_eeg, pred_metric = find_fwd_trf_preds(fwd_trf, sv, eeg)\n",
    "\n"
   ]
  },
  {
   "cell_type": "code",
   "execution_count": 15,
   "metadata": {},
   "outputs": [
    {
     "data": {
      "text/plain": [
       "0.11347467492063304"
      ]
     },
     "execution_count": 15,
     "metadata": {},
     "output_type": "execute_result"
    }
   ],
   "source": [
    "pred_metric"
   ]
  },
  {
   "cell_type": "code",
   "execution_count": 16,
   "metadata": {},
   "outputs": [
    {
     "data": {
      "text/plain": [
       "[<matplotlib.lines.Line2D at 0x140411a90>]"
      ]
     },
     "execution_count": 16,
     "metadata": {},
     "output_type": "execute_result"
    },
    {
     "data": {
      "image/png": "[encoded data removed]",
      "text/plain": [
       "<Figure size 640x480 with 1 Axes>"
      ]
     },
     "metadata": {},
     "output_type": "display_data"
    }
   ],
   "source": [
    "#plt.plot(diff_eeg[0:1000, 37])\n",
    "plt.plot(eeg_orig[0:1000, 37])\n",
    "#plt.plot(pred_eeg[0:1000, 37])\n"
   ]
  },
  {
   "cell_type": "markdown",
   "metadata": {},
   "source": [
    "Compare with onsets"
   ]
  },
  {
   "cell_type": "code",
   "execution_count": 17,
   "metadata": {},
   "outputs": [
    {
     "name": "stdout",
     "output_type": "stream",
     "text": [
      "processing 08\n"
     ]
    }
   ],
   "source": [
    "sv_to_test = ['firsts', 'firsts_sur', 'onsets_sur', 'fo_sur']\n",
    "#sv_to_test = ['firsts']\n",
    "r_data = []\n",
    "\n",
    "for subject in ['08']:\n",
    "    print(f'processing {subject}')\n",
    "\n",
    "    r_sub = {\n",
    "        'subject':subject,\n",
    "        'period': period\n",
    "    }\n",
    "\n",
    "    sv, eeg = load_stim_resp(subject, period, n_segments, eeg_dir, sv_dir, stim_sv='onsets') #load stim\n",
    "\n",
    "    \n",
    "    #load model and predict on onset only\n",
    "    fwd_trf = load_trf_model(subject, period, mTRF_path)\n",
    "    _, pred_metric = find_fwd_trf_preds(fwd_trf, sv, eeg)\n",
    "    r_sub['onset'] = pred_metric\n",
    "\n",
    "    for sv_type in sv_to_test:\n",
    "        sv, eeg = load_stim_resp(subject, period, n_segments, eeg_dir, sv_dir, stim_sv=sv_type) #load stim\n",
    "\n",
    "        \n",
    "        #load model and predict\n",
    "        fwd_trf = load_trf_model(subject, period, mTRF_path)\n",
    "        _, pred_metric = find_fwd_trf_preds(fwd_trf, sv, eeg)\n",
    "\n",
    "        #save predictions\n",
    "        r_sub[sv_type] = pred_metric\n",
    "    \n",
    "    r_data.append(r_sub)\n",
    "\n",
    "r_df = pd.DataFrame(r_data)\n"
   ]
  },
  {
   "cell_type": "code",
   "execution_count": 18,
   "metadata": {},
   "outputs": [
    {
     "data": {
      "text/html": [
       "<div>\n",
       "<style scoped>\n",
       "    .dataframe tbody tr th:only-of-type {\n",
       "        vertical-align: middle;\n",
       "    }\n",
       "\n",
       "    .dataframe tbody tr th {\n",
       "        vertical-align: top;\n",
       "    }\n",
       "\n",
       "    .dataframe thead th {\n",
       "        text-align: right;\n",
       "    }\n",
       "</style>\n",
       "<table border=\"1\" class=\"dataframe\">\n",
       "  <thead>\n",
       "    <tr style=\"text-align: right;\">\n",
       "      <th></th>\n",
       "      <th>subject</th>\n",
       "      <th>period</th>\n",
       "      <th>onset</th>\n",
       "      <th>firsts</th>\n",
       "      <th>firsts_sur</th>\n",
       "      <th>onsets_sur</th>\n",
       "      <th>fo_sur</th>\n",
       "    </tr>\n",
       "  </thead>\n",
       "  <tbody>\n",
       "    <tr>\n",
       "      <th>0</th>\n",
       "      <td>08</td>\n",
       "      <td>pre</td>\n",
       "      <td>0.113475</td>\n",
       "      <td>0.113378</td>\n",
       "      <td>0.069024</td>\n",
       "      <td>0.098534</td>\n",
       "      <td>0.063455</td>\n",
       "    </tr>\n",
       "  </tbody>\n",
       "</table>\n",
       "</div>"
      ],
      "text/plain": [
       "  subject period     onset    firsts  firsts_sur  onsets_sur    fo_sur\n",
       "0      08    pre  0.113475  0.113378    0.069024    0.098534  0.063455"
      ]
     },
     "execution_count": 18,
     "metadata": {},
     "output_type": "execute_result"
    }
   ],
   "source": [
    "r_df"
   ]
  },
  {
   "cell_type": "code",
   "execution_count": 19,
   "metadata": {},
   "outputs": [
    {
     "data": {
      "text/plain": [
       "<matplotlib.collections.LineCollection at 0x145ab2210>"
      ]
     },
     "execution_count": 19,
     "metadata": {},
     "output_type": "execute_result"
    },
    {
     "data": {
      "image/png": "[encoded data removed]",
      "text/plain": [
       "<Figure size 640x480 with 1 Axes>"
      ]
     },
     "metadata": {},
     "output_type": "display_data"
    }
   ],
   "source": [
    "#plt.scatter(np.zeros_like(r_df['firsts_diff']), r_df['firsts_diff'])\n",
    "plt.scatter(np.full_like(r_df['onset'], 1), r_df['onset'])\n",
    "plt.scatter(np.full_like(r_df['firsts'], 2), r_df['firsts'])\n",
    "plt.hlines(0, -0.04, 0.04)"
   ]
  },
  {
   "cell_type": "markdown",
   "metadata": {},
   "source": [
    "### Compute predictions only"
   ]
  },
  {
   "cell_type": "code",
   "execution_count": 20,
   "metadata": {},
   "outputs": [],
   "source": [
    "fwd_pred_path = '/Users/cindyzhang/Documents/M2/Audiomotor_Piano/AM-EEG/analysis_error/mtrf_error_surprise/fTRF_predictions'"
   ]
  },
  {
   "cell_type": "code",
   "execution_count": 44,
   "metadata": {},
   "outputs": [],
   "source": [
    "def eeg_to_numpy(eeg_dir, task, subject, period, normalize = False):\n",
    "\n",
    "\n",
    "    data_err = loadmat(os.path.join(eeg_dir, f'{subject}/eeg_{task}_{period}_{subject}.mat'))\n",
    "    eeg_err = data_err['trial_data'].T\n",
    "\n",
    "    if normalize: \n",
    "        eeg_err = normalize_responses_2([eeg_err])[0] #gets it out of the list\n",
    "\n",
    "    return eeg_err\n",
    "\n",
    "\n",
    "eeg_orig = eeg_to_numpy(eeg_dir, 'error', subject, period, normalize = False)"
   ]
  },
  {
   "cell_type": "code",
   "execution_count": 59,
   "metadata": {},
   "outputs": [
    {
     "name": "stdout",
     "output_type": "stream",
     "text": [
      "processing 01\n",
      "processing 04\n",
      "processing 05\n",
      "processing 06\n",
      "processing 07\n",
      "processing 08\n",
      "processing 09\n",
      "processing 10\n",
      "processing 11\n",
      "processing 12\n",
      "processing 13\n",
      "processing 14\n",
      "processing 15\n",
      "processing 16\n",
      "processing 17\n",
      "processing 18\n",
      "processing 19\n",
      "processing 20\n"
     ]
    }
   ],
   "source": [
    "sv_to_pred = ['onsets','firsts']\n",
    "\n",
    "for subject in subjects_to_process:\n",
    "    print(f'processing {subject}')\n",
    "\n",
    "    for sv_type in sv_to_pred:\n",
    "    \n",
    "        sv, eeg = load_stim_resp(subject, period, n_segments, eeg_dir, sv_dir, stim_sv=sv_type) #load stim\n",
    "\n",
    "        #load model and predict on onset only\n",
    "        fwd_trf = load_trf_model(subject, period, mTRF_path)\n",
    "        pred_eeg, pred_metric = find_fwd_trf_preds(fwd_trf, sv, eeg, normalize= False)\n",
    "\n",
    "        #rereference the predicted eeg\n",
    "        pred_eeg = normalize_responses([pred_eeg])[0]\n",
    "\n",
    "        pred_data = {\n",
    "            'pred_eeg': pred_eeg,\n",
    "            'pred_metric': pred_metric\n",
    "        }\n",
    "        \n",
    "        savemat(os.path.join(fwd_pred_path,f'preds_err_{sv_type}_{subject}_{period}.mat'), pred_data)\n",
    "        \n"
   ]
  },
  {
   "cell_type": "code",
   "execution_count": 32,
   "metadata": {},
   "outputs": [
    {
     "data": {
      "text/plain": [
       "[<matplotlib.lines.Line2D at 0x145af0390>]"
      ]
     },
     "execution_count": 32,
     "metadata": {},
     "output_type": "execute_result"
    },
    {
     "data": {
      "image/png": "[encoded data removed]",
      "text/plain": [
       "<Figure size 640x480 with 1 Axes>"
      ]
     },
     "metadata": {},
     "output_type": "display_data"
    }
   ],
   "source": [
    "plt.plot(sv[0])"
   ]
  },
  {
   "cell_type": "markdown",
   "metadata": {},
   "source": []
  },
  {
   "cell_type": "code",
   "execution_count": 109,
   "metadata": {},
   "outputs": [
    {
     "name": "stdout",
     "output_type": "stream",
     "text": [
      "processing sub 01\n",
      "(55880, 64) (55880, 64)\n",
      "processing sub 04\n",
      "(23440, 64) (23440, 64)\n",
      "processing sub 05\n",
      "(76800, 64) (76800, 64)\n",
      "processing sub 06\n",
      "(76800, 64) (76800, 64)\n",
      "processing sub 07\n",
      "(76800, 64) (76800, 64)\n",
      "processing sub 08\n",
      "(76800, 64) (76800, 64)\n",
      "processing sub 09\n",
      "(76800, 64) (76800, 64)\n",
      "processing sub 10\n",
      "(76800, 64) (76800, 64)\n",
      "processing sub 11\n",
      "(76800, 64) (76800, 64)\n",
      "processing sub 12\n",
      "(76800, 64) (76800, 64)\n",
      "processing sub 13\n",
      "(76800, 64) (76800, 64)\n",
      "processing sub 14\n",
      "(76800, 64) (76800, 64)\n",
      "processing sub 15\n",
      "(76800, 64) (76800, 64)\n",
      "processing sub 16\n",
      "(76800, 64) (76800, 64)\n",
      "processing sub 17\n",
      "(76800, 64) (76800, 64)\n",
      "processing sub 18\n",
      "(76800, 64) (76800, 64)\n",
      "processing sub 19\n",
      "(76800, 64) (76800, 64)\n",
      "processing sub 20\n",
      "(76800, 64) (76800, 64)\n"
     ]
    }
   ],
   "source": [
    "corr_data = []\n",
    "sv_to_test = ['firsts']\n",
    "ch_idx = ch_index(['Fz', 'FCz', 'Cz', 'F1', 'FC1', 'C1', 'C2', 'FC2', 'F2'])\n",
    "period = 'pre'\n",
    "\n",
    "for subject in subjects_to_process:\n",
    "    print('processing sub', subject)\n",
    "\n",
    "    # try:\n",
    "    sub_data = {\n",
    "        'subject':subject,\n",
    "        'period':period\n",
    "    }\n",
    "    \n",
    "    eeg_orig = eeg_to_numpy(eeg_dir, 'error', subject, period, normalize = True)\n",
    "\n",
    "    #eeg_orig = winsorize(eeg_orig, [0.005, 0.005])\n",
    "    \n",
    "    eeg_pred = loadmat(os.path.join(fwd_pred_path,f'preds_err_onsets_{subject}_{period}.mat'))['pred_eeg']\n",
    "\n",
    "    \n",
    "    if eeg_pred.shape[0] != eeg_orig.shape[0]:\n",
    "        smaller = np.min([eeg_pred.shape[0], eeg_orig.shape[0]])\n",
    "        if smaller == eeg_pred.shape[0]:\n",
    "            eeg_orig = eeg_orig[:eeg_pred.shape[0], :]\n",
    "        elif smaller == eeg_orig.shape[0]:\n",
    "            eeg_pred = eeg_pred[:eeg_orig.shape[0], :]\n",
    "\n",
    "    print(eeg_pred.shape, eeg_orig.shape)\n",
    "    corr_all_o = np.array([pearsonr(eeg_pred[:, ch], eeg_orig[:, ch])[0] for ch in ch_idx])\n",
    "    corr_o = np.mean(corr_all_o)\n",
    "\n",
    "\n",
    "    sub_data['onset'] = corr_o\n",
    "    sub_data['diff_onset'] = np.abs((eeg_pred-eeg_orig).mean())\n",
    "\n",
    "    for sv_type in sv_to_test:\n",
    "        eeg_orig = eeg_to_numpy(eeg_dir, 'error', subject, period, normalize = True)\n",
    "        eeg_pred = loadmat(os.path.join(fwd_pred_path,f'preds_err_{sv_type}_{subject}_{period}.mat'))['pred_eeg']\n",
    "        \n",
    "        if eeg_pred.shape[0] != eeg_orig.shape[0]:\n",
    "            smaller = np.min([eeg_pred.shape[0], eeg_orig.shape[0]])\n",
    "        if smaller == eeg_pred.shape[0]:\n",
    "            eeg_orig = eeg_orig[:eeg_pred.shape[0], :]\n",
    "        elif smaller == eeg_orig.shape[0]:\n",
    "            eeg_pred = eeg_pred[:eeg_orig.shape[0], :]\n",
    "\n",
    "        corr_all_f = np.array([pearsonr(eeg_pred[:, ch], eeg_orig[:, ch])[0] for ch in ch_idx])\n",
    "        corr_f = np.mean(corr_all_f)\n",
    "\n",
    "        sub_data[sv_type] = corr_f\n",
    "        sub_data['diff_'+sv_type] = np.abs((eeg_pred-eeg_orig).mean())\n",
    "\n",
    "    corr_data.append(sub_data)\n",
    "    # except ValueError:\n",
    "    #     print('indexing issue in sub', subject)\n",
    "    #     continue\n",
    "\n",
    "corr_df = pd.DataFrame(corr_data)\n"
   ]
  },
  {
   "cell_type": "code",
   "execution_count": 110,
   "metadata": {},
   "outputs": [],
   "source": [
    "corr_df['diff_fo_abs'] = corr_df['diff_firsts'] - corr_df['diff_onset']\n",
    "corr_df['diff'] = corr_df['firsts'] - corr_df['onset']"
   ]
  },
  {
   "cell_type": "code",
   "execution_count": 111,
   "metadata": {},
   "outputs": [
    {
     "data": {
      "text/html": [
       "<div>\n",
       "<style scoped>\n",
       "    .dataframe tbody tr th:only-of-type {\n",
       "        vertical-align: middle;\n",
       "    }\n",
       "\n",
       "    .dataframe tbody tr th {\n",
       "        vertical-align: top;\n",
       "    }\n",
       "\n",
       "    .dataframe thead th {\n",
       "        text-align: right;\n",
       "    }\n",
       "</style>\n",
       "<table border=\"1\" class=\"dataframe\">\n",
       "  <thead>\n",
       "    <tr style=\"text-align: right;\">\n",
       "      <th></th>\n",
       "      <th>subject</th>\n",
       "      <th>period</th>\n",
       "      <th>onset</th>\n",
       "      <th>diff_onset</th>\n",
       "      <th>firsts</th>\n",
       "      <th>diff_firsts</th>\n",
       "      <th>diff_fo_abs</th>\n",
       "      <th>diff</th>\n",
       "    </tr>\n",
       "  </thead>\n",
       "  <tbody>\n",
       "    <tr>\n",
       "      <th>0</th>\n",
       "      <td>01</td>\n",
       "      <td>pre</td>\n",
       "      <td>0.107439</td>\n",
       "      <td>3.091085e-05</td>\n",
       "      <td>0.108269</td>\n",
       "      <td>3.091085e-05</td>\n",
       "      <td>-7.162511e-18</td>\n",
       "      <td>0.000830</td>\n",
       "    </tr>\n",
       "    <tr>\n",
       "      <th>1</th>\n",
       "      <td>04</td>\n",
       "      <td>pre</td>\n",
       "      <td>0.014416</td>\n",
       "      <td>2.229596e-05</td>\n",
       "      <td>0.013646</td>\n",
       "      <td>2.229596e-05</td>\n",
       "      <td>2.347975e-18</td>\n",
       "      <td>-0.000770</td>\n",
       "    </tr>\n",
       "    <tr>\n",
       "      <th>2</th>\n",
       "      <td>05</td>\n",
       "      <td>pre</td>\n",
       "      <td>0.139750</td>\n",
       "      <td>4.836409e-17</td>\n",
       "      <td>0.143375</td>\n",
       "      <td>2.137179e-17</td>\n",
       "      <td>-2.699230e-17</td>\n",
       "      <td>0.003625</td>\n",
       "    </tr>\n",
       "    <tr>\n",
       "      <th>3</th>\n",
       "      <td>06</td>\n",
       "      <td>pre</td>\n",
       "      <td>0.116639</td>\n",
       "      <td>1.165734e-17</td>\n",
       "      <td>0.117573</td>\n",
       "      <td>9.066821e-18</td>\n",
       "      <td>-2.590520e-18</td>\n",
       "      <td>0.000934</td>\n",
       "    </tr>\n",
       "    <tr>\n",
       "      <th>4</th>\n",
       "      <td>07</td>\n",
       "      <td>pre</td>\n",
       "      <td>0.098806</td>\n",
       "      <td>7.991293e-18</td>\n",
       "      <td>0.098765</td>\n",
       "      <td>2.964064e-17</td>\n",
       "      <td>2.164935e-17</td>\n",
       "      <td>-0.000041</td>\n",
       "    </tr>\n",
       "    <tr>\n",
       "      <th>5</th>\n",
       "      <td>08</td>\n",
       "      <td>pre</td>\n",
       "      <td>0.168149</td>\n",
       "      <td>1.188864e-17</td>\n",
       "      <td>0.167857</td>\n",
       "      <td>1.323016e-17</td>\n",
       "      <td>1.341519e-18</td>\n",
       "      <td>-0.000292</td>\n",
       "    </tr>\n",
       "    <tr>\n",
       "      <th>6</th>\n",
       "      <td>09</td>\n",
       "      <td>pre</td>\n",
       "      <td>0.208389</td>\n",
       "      <td>7.771561e-18</td>\n",
       "      <td>0.207733</td>\n",
       "      <td>4.996004e-18</td>\n",
       "      <td>-2.775558e-18</td>\n",
       "      <td>-0.000656</td>\n",
       "    </tr>\n",
       "    <tr>\n",
       "      <th>7</th>\n",
       "      <td>10</td>\n",
       "      <td>pre</td>\n",
       "      <td>0.073932</td>\n",
       "      <td>4.070818e-18</td>\n",
       "      <td>0.073714</td>\n",
       "      <td>3.034610e-17</td>\n",
       "      <td>2.627528e-17</td>\n",
       "      <td>-0.000219</td>\n",
       "    </tr>\n",
       "    <tr>\n",
       "      <th>8</th>\n",
       "      <td>11</td>\n",
       "      <td>pre</td>\n",
       "      <td>0.077531</td>\n",
       "      <td>3.145632e-17</td>\n",
       "      <td>0.078842</td>\n",
       "      <td>2.488750e-17</td>\n",
       "      <td>-6.568820e-18</td>\n",
       "      <td>0.001310</td>\n",
       "    </tr>\n",
       "    <tr>\n",
       "      <th>9</th>\n",
       "      <td>12</td>\n",
       "      <td>pre</td>\n",
       "      <td>0.000626</td>\n",
       "      <td>1.261722e-17</td>\n",
       "      <td>0.000418</td>\n",
       "      <td>9.564109e-18</td>\n",
       "      <td>-3.053113e-18</td>\n",
       "      <td>-0.000209</td>\n",
       "    </tr>\n",
       "    <tr>\n",
       "      <th>10</th>\n",
       "      <td>13</td>\n",
       "      <td>pre</td>\n",
       "      <td>0.079374</td>\n",
       "      <td>2.334938e-17</td>\n",
       "      <td>0.079705</td>\n",
       "      <td>6.140921e-18</td>\n",
       "      <td>-1.720846e-17</td>\n",
       "      <td>0.000331</td>\n",
       "    </tr>\n",
       "    <tr>\n",
       "      <th>11</th>\n",
       "      <td>14</td>\n",
       "      <td>pre</td>\n",
       "      <td>0.124935</td>\n",
       "      <td>1.209681e-17</td>\n",
       "      <td>0.126337</td>\n",
       "      <td>3.006854e-19</td>\n",
       "      <td>-1.179612e-17</td>\n",
       "      <td>0.001402</td>\n",
       "    </tr>\n",
       "    <tr>\n",
       "      <th>12</th>\n",
       "      <td>15</td>\n",
       "      <td>pre</td>\n",
       "      <td>0.150755</td>\n",
       "      <td>3.515706e-18</td>\n",
       "      <td>0.149579</td>\n",
       "      <td>1.302199e-17</td>\n",
       "      <td>9.506285e-18</td>\n",
       "      <td>-0.001176</td>\n",
       "    </tr>\n",
       "    <tr>\n",
       "      <th>13</th>\n",
       "      <td>16</td>\n",
       "      <td>pre</td>\n",
       "      <td>0.124178</td>\n",
       "      <td>1.017704e-17</td>\n",
       "      <td>0.123929</td>\n",
       "      <td>6.661338e-18</td>\n",
       "      <td>-3.515706e-18</td>\n",
       "      <td>-0.000249</td>\n",
       "    </tr>\n",
       "    <tr>\n",
       "      <th>14</th>\n",
       "      <td>17</td>\n",
       "      <td>pre</td>\n",
       "      <td>0.045507</td>\n",
       "      <td>7.540265e-18</td>\n",
       "      <td>0.045065</td>\n",
       "      <td>6.915764e-18</td>\n",
       "      <td>-6.245005e-19</td>\n",
       "      <td>-0.000441</td>\n",
       "    </tr>\n",
       "    <tr>\n",
       "      <th>15</th>\n",
       "      <td>18</td>\n",
       "      <td>pre</td>\n",
       "      <td>0.121034</td>\n",
       "      <td>1.198116e-17</td>\n",
       "      <td>0.119414</td>\n",
       "      <td>1.966020e-18</td>\n",
       "      <td>-1.001514e-17</td>\n",
       "      <td>-0.001619</td>\n",
       "    </tr>\n",
       "    <tr>\n",
       "      <th>16</th>\n",
       "      <td>19</td>\n",
       "      <td>pre</td>\n",
       "      <td>0.120145</td>\n",
       "      <td>8.621576e-18</td>\n",
       "      <td>0.120774</td>\n",
       "      <td>4.677971e-18</td>\n",
       "      <td>-3.943605e-18</td>\n",
       "      <td>0.000629</td>\n",
       "    </tr>\n",
       "    <tr>\n",
       "      <th>17</th>\n",
       "      <td>20</td>\n",
       "      <td>pre</td>\n",
       "      <td>0.094472</td>\n",
       "      <td>6.661338e-18</td>\n",
       "      <td>0.094583</td>\n",
       "      <td>2.127927e-18</td>\n",
       "      <td>-4.533411e-18</td>\n",
       "      <td>0.000111</td>\n",
       "    </tr>\n",
       "  </tbody>\n",
       "</table>\n",
       "</div>"
      ],
      "text/plain": [
       "   subject period     onset    diff_onset    firsts   diff_firsts  \\\n",
       "0       01    pre  0.107439  3.091085e-05  0.108269  3.091085e-05   \n",
       "1       04    pre  0.014416  2.229596e-05  0.013646  2.229596e-05   \n",
       "2       05    pre  0.139750  4.836409e-17  0.143375  2.137179e-17   \n",
       "3       06    pre  0.116639  1.165734e-17  0.117573  9.066821e-18   \n",
       "4       07    pre  0.098806  7.991293e-18  0.098765  2.964064e-17   \n",
       "5       08    pre  0.168149  1.188864e-17  0.167857  1.323016e-17   \n",
       "6       09    pre  0.208389  7.771561e-18  0.207733  4.996004e-18   \n",
       "7       10    pre  0.073932  4.070818e-18  0.073714  3.034610e-17   \n",
       "8       11    pre  0.077531  3.145632e-17  0.078842  2.488750e-17   \n",
       "9       12    pre  0.000626  1.261722e-17  0.000418  9.564109e-18   \n",
       "10      13    pre  0.079374  2.334938e-17  0.079705  6.140921e-18   \n",
       "11      14    pre  0.124935  1.209681e-17  0.126337  3.006854e-19   \n",
       "12      15    pre  0.150755  3.515706e-18  0.149579  1.302199e-17   \n",
       "13      16    pre  0.124178  1.017704e-17  0.123929  6.661338e-18   \n",
       "14      17    pre  0.045507  7.540265e-18  0.045065  6.915764e-18   \n",
       "15      18    pre  0.121034  1.198116e-17  0.119414  1.966020e-18   \n",
       "16      19    pre  0.120145  8.621576e-18  0.120774  4.677971e-18   \n",
       "17      20    pre  0.094472  6.661338e-18  0.094583  2.127927e-18   \n",
       "\n",
       "     diff_fo_abs      diff  \n",
       "0  -7.162511e-18  0.000830  \n",
       "1   2.347975e-18 -0.000770  \n",
       "2  -2.699230e-17  0.003625  \n",
       "3  -2.590520e-18  0.000934  \n",
       "4   2.164935e-17 -0.000041  \n",
       "5   1.341519e-18 -0.000292  \n",
       "6  -2.775558e-18 -0.000656  \n",
       "7   2.627528e-17 -0.000219  \n",
       "8  -6.568820e-18  0.001310  \n",
       "9  -3.053113e-18 -0.000209  \n",
       "10 -1.720846e-17  0.000331  \n",
       "11 -1.179612e-17  0.001402  \n",
       "12  9.506285e-18 -0.001176  \n",
       "13 -3.515706e-18 -0.000249  \n",
       "14 -6.245005e-19 -0.000441  \n",
       "15 -1.001514e-17 -0.001619  \n",
       "16 -3.943605e-18  0.000629  \n",
       "17 -4.533411e-18  0.000111  "
      ]
     },
     "execution_count": 111,
     "metadata": {},
     "output_type": "execute_result"
    }
   ],
   "source": [
    "corr_df"
   ]
  },
  {
   "cell_type": "code",
   "execution_count": 112,
   "metadata": {},
   "outputs": [
    {
     "data": {
      "text/plain": [
       "WilcoxonResult(statistic=50.0, pvalue=0.12973785400390625)"
      ]
     },
     "execution_count": 112,
     "metadata": {},
     "output_type": "execute_result"
    }
   ],
   "source": [
    "wilcoxon_1samp(corr_df['diff_fo_abs'])"
   ]
  },
  {
   "cell_type": "code",
   "execution_count": 79,
   "metadata": {},
   "outputs": [],
   "source": [
    "#load predicted and original data\n",
    "subject = '09'\n",
    "sv_type = 'firsts'\n",
    "eeg_orig = eeg_to_numpy(eeg_dir, 'error', subject, 'pre', normalize = True)\n",
    "eeg_pred = loadmat(os.path.join(fwd_pred_path,f'preds_err_{sv_type}_{subject}_{period}.mat'))['pred_eeg']\n"
   ]
  },
  {
   "cell_type": "code",
   "execution_count": 87,
   "metadata": {},
   "outputs": [],
   "source": [
    "eeg_pred_onsets = loadmat(os.path.join(fwd_pred_path,f'preds_err_onsets_{subject}_{period}.mat'))['pred_eeg']\n",
    "eeg_pred_firsts = loadmat(os.path.join(fwd_pred_path,f'preds_err_firsts_{subject}_{period}.mat'))['pred_eeg']"
   ]
  },
  {
   "cell_type": "code",
   "execution_count": 88,
   "metadata": {},
   "outputs": [],
   "source": [
    "eeg_diff_o = eeg_pred_onsets - eeg_orig\n",
    "eeg_diff_f = eeg_pred_firsts - eeg_orig"
   ]
  },
  {
   "cell_type": "code",
   "execution_count": 89,
   "metadata": {},
   "outputs": [
    {
     "data": {
      "text/plain": [
       "7.771561172376097e-18"
      ]
     },
     "execution_count": 89,
     "metadata": {},
     "output_type": "execute_result"
    }
   ],
   "source": [
    "eeg_diff_o.mean()"
   ]
  },
  {
   "cell_type": "code",
   "execution_count": 90,
   "metadata": {},
   "outputs": [
    {
     "data": {
      "text/plain": [
       "4.996003610813204e-18"
      ]
     },
     "execution_count": 90,
     "metadata": {},
     "output_type": "execute_result"
    }
   ],
   "source": [
    "eeg_diff_f.mean()"
   ]
  },
  {
   "cell_type": "code",
   "execution_count": 122,
   "metadata": {},
   "outputs": [
    {
     "data": {
      "image/png": "[encoded data removed]",
      "text/plain": [
       "<Figure size 2000x500 with 3 Axes>"
      ]
     },
     "metadata": {},
     "output_type": "display_data"
    }
   ],
   "source": [
    "fig, ax = plt.subplots(3,1,figsize=(20,5))\n",
    "#ax[0].plot(eeg_pred[0:4000, 37], color = 'black', alpha = 0.5, label = 'predicted EEG')\n",
    "ax[1].plot(eeg_orig[1500:3000, 37], color = 'black', alpha = 0.5, label = 'real EEG')\n",
    "#ax[2].plot(eeg_diff_f[0:4000, 37], alpha = 0.5, label = 'difference')\n",
    "plt.tight_layout()\n",
    "\n",
    "plt.savefig('eeg.svg')"
   ]
  },
  {
   "cell_type": "markdown",
   "metadata": {},
   "source": [
    "Compare predictions with certain channels"
   ]
  },
  {
   "cell_type": "markdown",
   "metadata": {},
   "source": [
    "Compare with shuffled firsts"
   ]
  },
  {
   "cell_type": "code",
   "execution_count": 339,
   "metadata": {},
   "outputs": [
    {
     "name": "stdout",
     "output_type": "stream",
     "text": [
      "processing 01\n",
      "processing 04\n",
      "processing 05\n",
      "processing 06\n",
      "processing 07\n",
      "processing 08\n",
      "processing 09\n",
      "processing 10\n",
      "processing 11\n",
      "processing 12\n",
      "processing 13\n",
      "processing 14\n",
      "processing 15\n",
      "processing 16\n",
      "processing 17\n",
      "processing 18\n",
      "processing 19\n",
      "processing 20\n"
     ]
    }
   ],
   "source": [
    "#sv_to_test = ['firsts', 'firsts_sur', 'onsets_sur', 'fo_sur']\n",
    "sv_to_test = ['firsts']\n",
    "r_data = []\n",
    "\n",
    "for subject in subjects_to_process:\n",
    "    print(f'processing {subject}')\n",
    "\n",
    "    r_sub = {\n",
    "        'subject':subject,\n",
    "        'period': period\n",
    "    }\n",
    "    \n",
    "    for sv_type in sv_to_test:\n",
    "\n",
    "        #unshuffled\n",
    "        sv, eeg = load_stim_resp(subject, period, n_segments, eeg_dir, sv_dir, stim_sv=sv_type, shuffle = False) #load stim\n",
    "\n",
    "        #load model and predict\n",
    "        fwd_trf = load_trf_model(subject, period, mTRF_path)\n",
    "        _, pred_metric = find_fwd_trf_preds(fwd_trf, sv, eeg)\n",
    "        #save predictions\n",
    "        r_sub[sv_type] = pred_metric\n",
    "\n",
    "        #shuffled\n",
    "        sv, eeg = load_stim_resp(subject, period, n_segments, eeg_dir, sv_dir, stim_sv=sv_type, shuffle = True)\n",
    "\n",
    "        fwd_trf = load_trf_model(subject, period, mTRF_path)\n",
    "        _, pred_metric = find_fwd_trf_preds(fwd_trf, sv, eeg)\n",
    "        r_sub[sv_type+'_shuffled'] = pred_metric\n",
    "\n",
    "    \n",
    "    r_data.append(r_sub)\n",
    "\n",
    "r_df = pd.DataFrame(r_data)\n"
   ]
  },
  {
   "cell_type": "code",
   "execution_count": 340,
   "metadata": {},
   "outputs": [
    {
     "data": {
      "text/html": [
       "<div>\n",
       "<style scoped>\n",
       "    .dataframe tbody tr th:only-of-type {\n",
       "        vertical-align: middle;\n",
       "    }\n",
       "\n",
       "    .dataframe tbody tr th {\n",
       "        vertical-align: top;\n",
       "    }\n",
       "\n",
       "    .dataframe thead th {\n",
       "        text-align: right;\n",
       "    }\n",
       "</style>\n",
       "<table border=\"1\" class=\"dataframe\">\n",
       "  <thead>\n",
       "    <tr style=\"text-align: right;\">\n",
       "      <th></th>\n",
       "      <th>subject</th>\n",
       "      <th>period</th>\n",
       "      <th>firsts</th>\n",
       "      <th>firsts_shuffled</th>\n",
       "      <th>diff</th>\n",
       "    </tr>\n",
       "  </thead>\n",
       "  <tbody>\n",
       "    <tr>\n",
       "      <th>0</th>\n",
       "      <td>01</td>\n",
       "      <td>pre</td>\n",
       "      <td>0.092525</td>\n",
       "      <td>0.092347</td>\n",
       "      <td>0.000178</td>\n",
       "    </tr>\n",
       "    <tr>\n",
       "      <th>1</th>\n",
       "      <td>04</td>\n",
       "      <td>pre</td>\n",
       "      <td>0.003577</td>\n",
       "      <td>0.004232</td>\n",
       "      <td>-0.000655</td>\n",
       "    </tr>\n",
       "    <tr>\n",
       "      <th>2</th>\n",
       "      <td>05</td>\n",
       "      <td>pre</td>\n",
       "      <td>0.101357</td>\n",
       "      <td>0.099679</td>\n",
       "      <td>0.001678</td>\n",
       "    </tr>\n",
       "    <tr>\n",
       "      <th>3</th>\n",
       "      <td>06</td>\n",
       "      <td>pre</td>\n",
       "      <td>0.069709</td>\n",
       "      <td>0.069360</td>\n",
       "      <td>0.000349</td>\n",
       "    </tr>\n",
       "    <tr>\n",
       "      <th>4</th>\n",
       "      <td>07</td>\n",
       "      <td>pre</td>\n",
       "      <td>0.072322</td>\n",
       "      <td>0.072294</td>\n",
       "      <td>0.000028</td>\n",
       "    </tr>\n",
       "    <tr>\n",
       "      <th>5</th>\n",
       "      <td>08</td>\n",
       "      <td>pre</td>\n",
       "      <td>0.112725</td>\n",
       "      <td>0.112846</td>\n",
       "      <td>-0.000121</td>\n",
       "    </tr>\n",
       "    <tr>\n",
       "      <th>6</th>\n",
       "      <td>09</td>\n",
       "      <td>pre</td>\n",
       "      <td>0.133017</td>\n",
       "      <td>0.133229</td>\n",
       "      <td>-0.000212</td>\n",
       "    </tr>\n",
       "    <tr>\n",
       "      <th>7</th>\n",
       "      <td>10</td>\n",
       "      <td>pre</td>\n",
       "      <td>0.044109</td>\n",
       "      <td>0.044240</td>\n",
       "      <td>-0.000131</td>\n",
       "    </tr>\n",
       "    <tr>\n",
       "      <th>8</th>\n",
       "      <td>11</td>\n",
       "      <td>pre</td>\n",
       "      <td>0.060978</td>\n",
       "      <td>0.060000</td>\n",
       "      <td>0.000978</td>\n",
       "    </tr>\n",
       "    <tr>\n",
       "      <th>9</th>\n",
       "      <td>12</td>\n",
       "      <td>pre</td>\n",
       "      <td>0.001060</td>\n",
       "      <td>0.001377</td>\n",
       "      <td>-0.000318</td>\n",
       "    </tr>\n",
       "    <tr>\n",
       "      <th>10</th>\n",
       "      <td>13</td>\n",
       "      <td>pre</td>\n",
       "      <td>0.044956</td>\n",
       "      <td>0.045178</td>\n",
       "      <td>-0.000222</td>\n",
       "    </tr>\n",
       "    <tr>\n",
       "      <th>11</th>\n",
       "      <td>14</td>\n",
       "      <td>pre</td>\n",
       "      <td>0.103258</td>\n",
       "      <td>0.103034</td>\n",
       "      <td>0.000223</td>\n",
       "    </tr>\n",
       "    <tr>\n",
       "      <th>12</th>\n",
       "      <td>15</td>\n",
       "      <td>pre</td>\n",
       "      <td>0.133546</td>\n",
       "      <td>0.134287</td>\n",
       "      <td>-0.000741</td>\n",
       "    </tr>\n",
       "    <tr>\n",
       "      <th>13</th>\n",
       "      <td>16</td>\n",
       "      <td>pre</td>\n",
       "      <td>0.077940</td>\n",
       "      <td>0.077640</td>\n",
       "      <td>0.000300</td>\n",
       "    </tr>\n",
       "    <tr>\n",
       "      <th>14</th>\n",
       "      <td>17</td>\n",
       "      <td>pre</td>\n",
       "      <td>0.032409</td>\n",
       "      <td>0.032145</td>\n",
       "      <td>0.000264</td>\n",
       "    </tr>\n",
       "    <tr>\n",
       "      <th>15</th>\n",
       "      <td>18</td>\n",
       "      <td>pre</td>\n",
       "      <td>0.074811</td>\n",
       "      <td>0.075405</td>\n",
       "      <td>-0.000594</td>\n",
       "    </tr>\n",
       "    <tr>\n",
       "      <th>16</th>\n",
       "      <td>19</td>\n",
       "      <td>pre</td>\n",
       "      <td>0.071526</td>\n",
       "      <td>0.071173</td>\n",
       "      <td>0.000353</td>\n",
       "    </tr>\n",
       "    <tr>\n",
       "      <th>17</th>\n",
       "      <td>20</td>\n",
       "      <td>pre</td>\n",
       "      <td>0.073077</td>\n",
       "      <td>0.072732</td>\n",
       "      <td>0.000345</td>\n",
       "    </tr>\n",
       "  </tbody>\n",
       "</table>\n",
       "</div>"
      ],
      "text/plain": [
       "   subject period    firsts  firsts_shuffled      diff\n",
       "0       01    pre  0.092525         0.092347  0.000178\n",
       "1       04    pre  0.003577         0.004232 -0.000655\n",
       "2       05    pre  0.101357         0.099679  0.001678\n",
       "3       06    pre  0.069709         0.069360  0.000349\n",
       "4       07    pre  0.072322         0.072294  0.000028\n",
       "5       08    pre  0.112725         0.112846 -0.000121\n",
       "6       09    pre  0.133017         0.133229 -0.000212\n",
       "7       10    pre  0.044109         0.044240 -0.000131\n",
       "8       11    pre  0.060978         0.060000  0.000978\n",
       "9       12    pre  0.001060         0.001377 -0.000318\n",
       "10      13    pre  0.044956         0.045178 -0.000222\n",
       "11      14    pre  0.103258         0.103034  0.000223\n",
       "12      15    pre  0.133546         0.134287 -0.000741\n",
       "13      16    pre  0.077940         0.077640  0.000300\n",
       "14      17    pre  0.032409         0.032145  0.000264\n",
       "15      18    pre  0.074811         0.075405 -0.000594\n",
       "16      19    pre  0.071526         0.071173  0.000353\n",
       "17      20    pre  0.073077         0.072732  0.000345"
      ]
     },
     "execution_count": 340,
     "metadata": {},
     "output_type": "execute_result"
    }
   ],
   "source": [
    "r_df['diff'] = r_df['firsts'] - r_df['firsts_shuffled']\n",
    "r_df"
   ]
  },
  {
   "cell_type": "code",
   "execution_count": 341,
   "metadata": {},
   "outputs": [
    {
     "data": {
      "text/plain": [
       "WilcoxonResult(statistic=71.0, pvalue=0.550872802734375)"
      ]
     },
     "execution_count": 341,
     "metadata": {},
     "output_type": "execute_result"
    }
   ],
   "source": [
    "wilcoxon_1samp(r_df['diff'])"
   ]
  },
  {
   "cell_type": "code",
   "execution_count": 337,
   "metadata": {},
   "outputs": [
    {
     "data": {
      "text/plain": [
       "<matplotlib.collections.PathCollection at 0x330aa5490>"
      ]
     },
     "execution_count": 337,
     "metadata": {},
     "output_type": "execute_result"
    },
    {
     "data": {
      "image/png": "[encoded data removed]",
      "text/plain": [
       "<Figure size 640x480 with 1 Axes>"
      ]
     },
     "metadata": {},
     "output_type": "display_data"
    }
   ],
   "source": [
    "plt.scatter(np.zeros_like(r_df['diff']), r_df['diff'])"
   ]
  },
  {
   "cell_type": "markdown",
   "metadata": {},
   "source": [
    "Compare with shuffled onsets"
   ]
  },
  {
   "cell_type": "code",
   "execution_count": 280,
   "metadata": {},
   "outputs": [
    {
     "name": "stdout",
     "output_type": "stream",
     "text": [
      "processing 08\n"
     ]
    },
    {
     "data": {
      "image/png": "[encoded data removed]",
      "text/plain": [
       "<Figure size 640x480 with 1 Axes>"
      ]
     },
     "metadata": {},
     "output_type": "display_data"
    }
   ],
   "source": [
    "#sv_to_test = ['firsts', 'firsts_sur', 'onsets_sur', 'fo_sur']\n",
    "sv_to_test = ['firsts']\n",
    "r_data = []\n",
    "\n",
    "for subject in ['08']:\n",
    "    print(f'processing {subject}')\n",
    "\n",
    "    r_sub = {\n",
    "        'subject':subject,\n",
    "        'period': period\n",
    "    }\n",
    "    sv, eeg = load_stim_resp(subject, period, n_segments, eeg_dir, sv_dir, stim_sv='onsets') #load stim\n",
    "    \n",
    "    \n",
    "    #load model and predict on onset only\n",
    "    fwd_trf = load_trf_model(subject, period, mTRF_path)\n",
    "    _, pred_metric = find_fwd_trf_preds(fwd_trf, sv, eeg)\n",
    "    r_sub['onset'] = pred_metric\n",
    "\n",
    "    #load model and predict on onset only\n",
    "    np.random.shuffle(sv)\n",
    "    plt.plot(sv[0])\n",
    "    _, pred_metric = find_fwd_trf_preds(fwd_trf, sv, eeg)\n",
    "\n",
    "    r_sub['onset_shuffled'] = pred_metric\n",
    "    \n",
    "    r_data.append(r_sub)\n",
    "\n",
    "r_df = pd.DataFrame(r_data)\n"
   ]
  },
  {
   "cell_type": "code",
   "execution_count": 273,
   "metadata": {},
   "outputs": [],
   "source": [
    "r_df_new = r_df.melt(id_vars=['subject', 'period'],\n",
    "          value_vars=['onset', 'onset_shuffled'],\n",
    "          var_name='type',\n",
    "          value_name='corr')"
   ]
  },
  {
   "cell_type": "code",
   "execution_count": 271,
   "metadata": {},
   "outputs": [],
   "source": [
    "import seaborn as sns"
   ]
  },
  {
   "cell_type": "code",
   "execution_count": 278,
   "metadata": {},
   "outputs": [
    {
     "data": {
      "text/plain": [
       "[<matplotlib.lines.Line2D at 0x354de4ed0>]"
      ]
     },
     "execution_count": 278,
     "metadata": {},
     "output_type": "execute_result"
    },
    {
     "data": {
      "image/png": "[encoded data removed]",
      "text/plain": [
       "<Figure size 640x480 with 1 Axes>"
      ]
     },
     "metadata": {},
     "output_type": "display_data"
    }
   ],
   "source": [
    "plt.plot(sv[0])"
   ]
  },
  {
   "cell_type": "code",
   "execution_count": 276,
   "metadata": {},
   "outputs": [
    {
     "data": {
      "text/plain": [
       "<Axes: xlabel='type', ylabel='corr'>"
      ]
     },
     "execution_count": 276,
     "metadata": {},
     "output_type": "execute_result"
    },
    {
     "data": {
      "image/png": "[encoded data removed]",
      "text/plain": [
       "<Figure size 640x480 with 1 Axes>"
      ]
     },
     "metadata": {},
     "output_type": "display_data"
    }
   ],
   "source": [
    "sns.stripplot(data = r_df_new, x = 'type', y = 'corr', color = 'black')\n",
    "sns.barplot(data = r_df_new, x = 'type', y = 'corr')"
   ]
  }
 ],
 "metadata": {
  "kernelspec": {
   "display_name": "mtrfpy2",
   "language": "python",
   "name": "python3"
  },
  "language_info": {
   "codemirror_mode": {
    "name": "ipython",
    "version": 3
   },
   "file_extension": ".py",
   "mimetype": "text/x-python",
   "name": "python",
   "nbconvert_exporter": "python",
   "pygments_lexer": "ipython3",
   "version": "3.11.5"
  },
  "orig_nbformat": 4
 },
 "nbformat": 4,
 "nbformat_minor": 2
}
