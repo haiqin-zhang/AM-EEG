{
 "cells": [
  {
   "cell_type": "code",
   "execution_count": 2,
   "metadata": {},
   "outputs": [],
   "source": [
    "import numpy as np\n",
    "import matplotlib.pyplot as plt\n",
    "from matplotlib.animation import FuncAnimation\n",
    "import pandas as pd\n",
    "import seaborn as sns\n",
    "\n",
    "import mne\n",
    "from scipy.io import loadmat, savemat\n",
    "import glob\n",
    "import os\n",
    "\n",
    "import pickle\n",
    "import sys\n",
    "\n",
    "sys.path.append('../utils')\n",
    "from ERP_utils import *\n",
    "from update_sub_lists import *\n"
   ]
  },
  {
   "cell_type": "code",
   "execution_count": 69,
   "metadata": {},
   "outputs": [
    {
     "name": "stdout",
     "output_type": "stream",
     "text": [
      "processing subjects: ['05', '06', '07', '08', '09', '10', '11', '12', '15', '17', '18', '19', '20', '21']\n"
     ]
    }
   ],
   "source": [
    "task = 'training'\n",
    "erp_window = '_n05to05'\n",
    "freq_high = 30\n",
    "\n",
    "epochs_dir = f'/Users/cindyzhang/Documents/M2/Audiomotor_Piano/AM-EEG/analysis_{task}/{task}_epochs_data{erp_window}_{freq_high}Hz'\n",
    "subjects_to_process = find_existing_subjects(task = task, period = 'pre',erp_window=erp_window,freq_high=freq_high) #subs that exist in pre should exist in post\n",
    "output_dir = f\"./epochs_mat_{task}_{erp_window}_{freq_high}Hz\"\n",
    "\n",
    "print('processing subjects:', subjects_to_process)\n",
    "\n",
    "mne.set_log_level('CRITICAL')"
   ]
  },
  {
   "cell_type": "code",
   "execution_count": 70,
   "metadata": {},
   "outputs": [],
   "source": [
    "subjects_to_process = ['05', '06', '07', '08','09', '10', '11', '12']"
   ]
  },
  {
   "cell_type": "code",
   "execution_count": 71,
   "metadata": {},
   "outputs": [
    {
     "name": "stdout",
     "output_type": "stream",
     "text": [
      "processing training_epochs_05.fif\n",
      "processing training_epochs_06.fif\n",
      "processing training_epochs_07.fif\n",
      "processing training_epochs_08.fif\n",
      "processing training_epochs_09.fif\n",
      "processing training_epochs_10.fif\n",
      "processing training_epochs_11.fif\n",
      "processing training_epochs_12.fif\n",
      "subject 15 not in subjects to process. skipping...\n",
      "subject 17 not in subjects to process. skipping...\n",
      "subject 18 not in subjects to process. skipping...\n",
      "subject 19 not in subjects to process. skipping...\n",
      "subject 20 not in subjects to process. skipping...\n",
      "subject 21 not in subjects to process. skipping...\n"
     ]
    }
   ],
   "source": [
    "def fif_to_mat_ind(ep_dir, subjects_to_process, output_dir, overwrite = False):\n",
    "    \"\"\" \n",
    "    converts all eeg epoch data stored as .fif in directory to mat files\n",
    "    \"\"\"\n",
    "    if not os.path.exists(output_dir):\n",
    "        os.mkdir(output_dir)\n",
    "\n",
    "    #check file type\n",
    "    for fif_name in sorted(os.listdir(ep_dir)):\n",
    "        if not fif_name.endswith(\".fif\"):\n",
    "            print('skipping file', fif_name)\n",
    "            continue\n",
    "\n",
    "        #identify subject\n",
    "        subject_id = fif_name.split(\"_\")[-1].split(\".\")[0]\n",
    "        if subject_id not in subjects_to_process:\n",
    "            print(f'subject {subject_id} not in subjects to process. skipping...')\n",
    "            continue\n",
    "        \n",
    "        mat_name = fif_name.split(\".\")[0]\n",
    "        mat_path = os.path.join(output_dir, f\"{mat_name}.mat\")\n",
    "\n",
    "        if not os.path.exists(mat_path) or overwrite: #skip if the file already exists\n",
    "            print('processing', fif_name)\n",
    "            \n",
    "            #get data\n",
    "            epochs = mne.read_epochs(os.path.join(ep_dir, fif_name))\n",
    "            eeg_data = epochs.get_data()\n",
    "            \n",
    "\n",
    "            #save data\n",
    "\n",
    "            eeg_tosave = {\n",
    "                \"epochs\": eeg_data[:, :64, :]\n",
    "            }\n",
    "            savemat(mat_path, eeg_tosave)\n",
    "        else: \n",
    "            print(f'File {mat_path} already exists. Set overwrite to True to overwrite.')\n",
    "\n",
    "    \n",
    "fif_to_mat_ind(epochs_dir, subjects_to_process, output_dir, overwrite = True)"
   ]
  },
  {
   "cell_type": "code",
   "execution_count": 10,
   "metadata": {},
   "outputs": [],
   "source": [
    "test= loadmat('/Users/cindyzhang/Documents/M2/Audiomotor_Piano/AM-EEG/export_data/epochs_mat_listen__n05to05_30Hz/listen_epochs_post_01.mat')['epochs']"
   ]
  },
  {
   "cell_type": "code",
   "execution_count": 11,
   "metadata": {},
   "outputs": [
    {
     "data": {
      "text/plain": [
       "(328, 64, 129)"
      ]
     },
     "execution_count": 11,
     "metadata": {},
     "output_type": "execute_result"
    }
   ],
   "source": [
    "test.shape"
   ]
  }
 ],
 "metadata": {
  "kernelspec": {
   "display_name": "eelbrain-cnsp",
   "language": "python",
   "name": "python3"
  },
  "language_info": {
   "codemirror_mode": {
    "name": "ipython",
    "version": 3
   },
   "file_extension": ".py",
   "mimetype": "text/x-python",
   "name": "python",
   "nbconvert_exporter": "python",
   "pygments_lexer": "ipython3",
   "version": "3.11.5"
  },
  "orig_nbformat": 4
 },
 "nbformat": 4,
 "nbformat_minor": 2
}
