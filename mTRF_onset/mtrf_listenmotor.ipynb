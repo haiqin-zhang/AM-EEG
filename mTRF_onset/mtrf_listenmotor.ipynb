{
 "cells": [
  {
   "cell_type": "code",
   "execution_count": 52,
   "metadata": {},
   "outputs": [],
   "source": [
    "\n",
    "import mne\n",
    "from mne.preprocessing import ICA\n",
    "\n",
    "\n",
    "import mtrf\n",
    "from mtrf.model import TRF\n",
    "from mtrf.stats import crossval, nested_crossval\n",
    "import eelbrain as eel\n",
    "\n",
    "import matplotlib.pyplot as plt\n",
    "import numpy as np\n",
    "import scipy\n",
    "from scipy.io import wavfile, loadmat, savemat\n",
    "from scipy.signal import hilbert\n",
    "\n",
    "from collections import Counter\n",
    "\n",
    "import sys\n",
    "sys.path.append('../utils')\n",
    "from pp_utils import *\n",
    "from plot_utils import *\n",
    "from mTRF_utils import *\n",
    "from midi_utils import *\n",
    "from update_sub_lists import*\n",
    "from ERP_utils import *\n",
    "\n",
    "import pickle\n",
    "import os"
   ]
  },
  {
   "cell_type": "code",
   "execution_count": 53,
   "metadata": {},
   "outputs": [],
   "source": [
    "task = 'motor'\n",
    "eeg_dir = '/Users/cindyzhang/Documents/M2/Audiomotor_Piano/AM-EEG/data_preprocessed_30Hz'\n",
    "mTRF_path = f'/Users/cindyzhang/Documents/M2/Audiomotor_Piano/AM-EEG/analysis_{task}/{task}_mTRF_data_30Hz'\n"
   ]
  },
  {
   "cell_type": "code",
   "execution_count": 54,
   "metadata": {},
   "outputs": [
    {
     "name": "stdout",
     "output_type": "stream",
     "text": [
      "processing subjects: ['01', '03', '04', '05', '06', '07', '08', '09', '10', '11', '12', '13', '14', '15', '16', '18', '19', '20']\n"
     ]
    }
   ],
   "source": [
    "#subjects_to_process = find_existing_subjects(eeg_dir)\n",
    "#subjects_to_process = ['11']\n",
    "good_listen_subjects, good_motor_subjects,good_error_subjects,musicians,nonmusicians = load_subject_lists_LME()\n",
    "subjects_to_process = good_motor_subjects\n",
    "n_subs = len(subjects_to_process)\n",
    "print('processing subjects:', subjects_to_process)\n"
   ]
  },
  {
   "cell_type": "code",
   "execution_count": 55,
   "metadata": {},
   "outputs": [],
   "source": [
    "periods = ['pre', 'post']\n",
    "#features = 'AM' #AM or onsets\n",
    "\n",
    "overwrite = False\n",
    "n_segments = 10\n",
    "\n",
    "#OPENING SUPPORTING FILES\n",
    "#######################################################\n",
    "\n",
    "with open('../utils/ch_names.pkl', 'rb') as file:\n",
    "    ch_names_all = pickle.load(file)\n",
    "ch_names_64 = ch_names_all[0:64]\n",
    "ch_names_72 = ch_names_all[0:72]\n",
    "\n",
    "fs = 128\n",
    "tmin, tmax =-0.5, 0.5  # range of time lag\n",
    "#regularizations= [0.0001, 0.01, 1, 100, 10000, 1000000]\n"
   ]
  },
  {
   "cell_type": "code",
   "execution_count": 56,
   "metadata": {},
   "outputs": [],
   "source": [
    "\n",
    "for subject in subjects_to_process:\n",
    "    for period in periods:\n",
    "        eeg_path = os.path.join(eeg_dir, f'{subject}/eeg_{task}_{period}_{subject}.mat')\n",
    "        data = loadmat(eeg_path)\n",
    "        eeg = data['trial_data']\n",
    "        events_sv = data['events']\n",
    "\n",
    "        events_arr = make_raw_events(events_sv)\n",
    "        events_keystrokes = clean_triggers(events_arr[events_arr[:, 2]==2])\n",
    "        onset_indices = events_keystrokes[:,0]\n",
    "        onsets_sv = np.zeros_like(events_sv[0])\n",
    "        onsets_sv[onset_indices] = 1\n",
    "\n",
    "        eeg_segments = segment(eeg.T, n_segments)\n",
    "        onset_segments = segment(onsets_sv, n_segments) \n",
    "\n",
    "        #training TRF model\n",
    "        fwd_trf = TRF(direction=1)\n",
    "\n",
    "\n",
    "        # Perform nested cross-validation\n",
    "        #r_fwd, lambdas = nested_crossval(fwd_trf, onset_segments, eeg_segments, fs, tmin, tmax, regularizations)\n",
    "\n",
    "        # Select the best lambda aka the one that was chosen the most frequently\n",
    "        lambda_counts = Counter(lambdas)\n",
    "        most_frequent_lambda = lambda_counts.most_common(1)[0][0]\n",
    "\n",
    "\n",
    "        #r_fwd, lambdas = nested_crossval(fwd_trf, stimulus, eeg_segments, fs, tmin, tmax, regularizations) #skipping for now \n",
    "        #regularization = 1000 # regularization parameter lambda\n",
    "        fwd_trf.train(onset_segments, eeg_segments, fs, tmin, tmax, regularization = 1000)\n",
    "        \n",
    "        \n",
    "        if not os.path.exists(mTRF_path):\n",
    "            os.mkdir(mTRF_path)\n",
    "        savemat(f'{mTRF_path}/mTRFweights_{task}_{period}_{subject}.mat', {'weights': fwd_trf.weights, 'r': r_fwd})"
   ]
  },
  {
   "cell_type": "code",
   "execution_count": 57,
   "metadata": {},
   "outputs": [
    {
     "data": {
      "text/plain": [
       "'fig, ax = plt.subplots(2)\\nfwd_trf.plot(feature=0, axes=ax[0], show=True)'"
      ]
     },
     "execution_count": 57,
     "metadata": {},
     "output_type": "execute_result"
    }
   ],
   "source": [
    "\"\"\"fig, ax = plt.subplots(2)\n",
    "fwd_trf.plot(feature=0, axes=ax[0], show=True)\"\"\""
   ]
  }
 ],
 "metadata": {
  "kernelspec": {
   "display_name": "idyompy",
   "language": "python",
   "name": "python3"
  },
  "language_info": {
   "codemirror_mode": {
    "name": "ipython",
    "version": 3
   },
   "file_extension": ".py",
   "mimetype": "text/x-python",
   "name": "python",
   "nbconvert_exporter": "python",
   "pygments_lexer": "ipython3",
   "version": "3.11.5"
  },
  "orig_nbformat": 4
 },
 "nbformat": 4,
 "nbformat_minor": 2
}
