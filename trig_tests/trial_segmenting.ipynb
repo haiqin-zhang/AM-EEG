{
 "cells": [
  {
   "cell_type": "code",
   "execution_count": 1,
   "metadata": {},
   "outputs": [],
   "source": [
    "import matplotlib.pyplot as plt\n",
    "import matplotlib\n",
    "import mne\n",
    "import pandas as pd\n",
    "import numpy as np\n",
    "\n",
    "from utils import *"
   ]
  },
  {
   "cell_type": "code",
   "execution_count": 4,
   "metadata": {},
   "outputs": [
    {
     "name": "stdout",
     "output_type": "stream",
     "text": [
      "Extracting EDF parameters from /Users/cindyzhang/Documents/M2/Audiomotor_Piano/AM-EEG/test_data/overall_trigtest3.bdf...\n",
      "BDF file detected\n",
      "Setting channel info structure...\n",
      "Creating raw.info structure...\n"
     ]
    }
   ],
   "source": [
    "#import BDF and setting important parameters\n",
    "raw = mne.io.read_raw_bdf('../test_data/overall_trigtest3.bdf')\n",
    "\n",
    "fs = raw.info['sfreq']"
   ]
  },
  {
   "cell_type": "code",
   "execution_count": 5,
   "metadata": {},
   "outputs": [
    {
     "name": "stdout",
     "output_type": "stream",
     "text": [
      "Trigger channel has a non-zero initial value of 130816 (consider using initial_event=True to detect this event)\n",
      "46505 events found\n",
      "Event IDs: [65282 65284 65286 65288 65290 65296]\n"
     ]
    }
   ],
   "source": [
    "#loading the raw events\n",
    "#the stim channel is called 'Status' \n",
    "events = mne.find_events(raw, stim_channel='Status', shortest_event=1) #raises exception if shortest event is default 2...?"
   ]
  },
  {
   "cell_type": "code",
   "execution_count": 48,
   "metadata": {},
   "outputs": [],
   "source": [
    "events_2 = clean_triggers(events[events[:,2] == 65282]) #t2 - keystrokes\n",
    "events_3 = clean_triggers(events[events[:,2] == 65284]) #t3?\n",
    "events_4 = clean_triggers(events[events[:,2] == 65288]) #t4?\n",
    "events_5 = clean_triggers(events[events[:,2] == 65296]) #probably t5 (it's also used for trials, so there should be two far apart at the beginning)\n",
    "events_idk  = clean_triggers(events[events[:,2] == 65290]) #extra weird triggers\n",
    "\n",
    "trial_starts = clean_triggers(events[events[:,2] == 65296], threshold= 1226752) #get only the start triggers that are at least 10 (599 s) mins apart\n"
   ]
  },
  {
   "cell_type": "code",
   "execution_count": 50,
   "metadata": {},
   "outputs": [
    {
     "data": {
      "text/plain": [
       "array([[  27743,   65280,   65296],\n",
       "       [2095825,   65280,   65296]])"
      ]
     },
     "execution_count": 50,
     "metadata": {},
     "output_type": "execute_result"
    }
   ],
   "source": [
    "trial_starts"
   ]
  },
  {
   "cell_type": "code",
   "execution_count": 49,
   "metadata": {},
   "outputs": [
    {
     "ename": "IndexError",
     "evalue": "index 2 is out of bounds for axis 0 with size 2",
     "output_type": "error",
     "traceback": [
      "\u001b[0;31m---------------------------------------------------------------------------\u001b[0m",
      "\u001b[0;31mIndexError\u001b[0m                                Traceback (most recent call last)",
      "\u001b[1;32m/Users/cindyzhang/Documents/M2/Audiomotor_Piano/AM-EEG/trig_tests/trial_segmenting.ipynb Cell 5\u001b[0m line \u001b[0;36m4\n\u001b[1;32m      <a href='vscode-notebook-cell:/Users/cindyzhang/Documents/M2/Audiomotor_Piano/AM-EEG/trig_tests/trial_segmenting.ipynb#W4sZmlsZQ%3D%3D?line=1'>2</a>\u001b[0m l_pre_start \u001b[39m=\u001b[39m trial_starts[\u001b[39m0\u001b[39m][\u001b[39m0\u001b[39m]\u001b[39m/\u001b[39mfs\n\u001b[1;32m      <a href='vscode-notebook-cell:/Users/cindyzhang/Documents/M2/Audiomotor_Piano/AM-EEG/trig_tests/trial_segmenting.ipynb#W4sZmlsZQ%3D%3D?line=2'>3</a>\u001b[0m m_pre_start \u001b[39m=\u001b[39m trial_starts[\u001b[39m1\u001b[39m][\u001b[39m0\u001b[39m]\u001b[39m/\u001b[39mfs\n\u001b[0;32m----> <a href='vscode-notebook-cell:/Users/cindyzhang/Documents/M2/Audiomotor_Piano/AM-EEG/trig_tests/trial_segmenting.ipynb#W4sZmlsZQ%3D%3D?line=3'>4</a>\u001b[0m e_pre_start \u001b[39m=\u001b[39m trial_starts[\u001b[39m2\u001b[39;49m][\u001b[39m0\u001b[39m]\u001b[39m/\u001b[39mfs\n\u001b[1;32m      <a href='vscode-notebook-cell:/Users/cindyzhang/Documents/M2/Audiomotor_Piano/AM-EEG/trig_tests/trial_segmenting.ipynb#W4sZmlsZQ%3D%3D?line=5'>6</a>\u001b[0m \u001b[39m\"\"\" \u001b[39;00m\n\u001b[1;32m      <a href='vscode-notebook-cell:/Users/cindyzhang/Documents/M2/Audiomotor_Piano/AM-EEG/trig_tests/trial_segmenting.ipynb#W4sZmlsZQ%3D%3D?line=6'>7</a>\u001b[0m \u001b[39ml_post_start =  events_5[0][0]/fs\u001b[39;00m\n\u001b[1;32m      <a href='vscode-notebook-cell:/Users/cindyzhang/Documents/M2/Audiomotor_Piano/AM-EEG/trig_tests/trial_segmenting.ipynb#W4sZmlsZQ%3D%3D?line=7'>8</a>\u001b[0m \u001b[39me_post_end = events_5[-1][0]/fs\u001b[39;00m\n\u001b[1;32m      <a href='vscode-notebook-cell:/Users/cindyzhang/Documents/M2/Audiomotor_Piano/AM-EEG/trig_tests/trial_segmenting.ipynb#W4sZmlsZQ%3D%3D?line=8'>9</a>\u001b[0m \n\u001b[1;32m     <a href='vscode-notebook-cell:/Users/cindyzhang/Documents/M2/Audiomotor_Piano/AM-EEG/trig_tests/trial_segmenting.ipynb#W4sZmlsZQ%3D%3D?line=9'>10</a>\u001b[0m \u001b[39m\"\"\"\u001b[39;00m\n\u001b[1;32m     <a href='vscode-notebook-cell:/Users/cindyzhang/Documents/M2/Audiomotor_Piano/AM-EEG/trig_tests/trial_segmenting.ipynb#W4sZmlsZQ%3D%3D?line=12'>13</a>\u001b[0m m_pre_start\n",
      "\u001b[0;31mIndexError\u001b[0m: index 2 is out of bounds for axis 0 with size 2"
     ]
    }
   ],
   "source": [
    "#getting start and end times for each type of trial (end of trial can be deduced by setting end time in crop; motor and error are exactly 10 mins)\n",
    "l_pre_start = trial_starts[0][0]/fs\n",
    "m_pre_start = trial_starts[1][0]/fs\n",
    "#e_pre_start = trial_starts[2][0]/fs\n",
    "\n",
    "\"\"\" \n",
    "l_post_start =  events_5[0][0]/fs\n",
    "e_post_end = events_5[-1][0]/fs\n",
    "\n",
    "\"\"\"\n",
    "\n",
    "\n",
    "m_pre_start"
   ]
  },
  {
   "cell_type": "code",
   "execution_count": null,
   "metadata": {},
   "outputs": [],
   "source": [
    "#to be continued... need a data with the correct trial lengths"
   ]
  }
 ],
 "metadata": {
  "kernelspec": {
   "display_name": "eelbrain-cnsp",
   "language": "python",
   "name": "python3"
  },
  "language_info": {
   "codemirror_mode": {
    "name": "ipython",
    "version": 3
   },
   "file_extension": ".py",
   "mimetype": "text/x-python",
   "name": "python",
   "nbconvert_exporter": "python",
   "pygments_lexer": "ipython3",
   "version": "3.11.5"
  },
  "orig_nbformat": 4
 },
 "nbformat": 4,
 "nbformat_minor": 2
}
