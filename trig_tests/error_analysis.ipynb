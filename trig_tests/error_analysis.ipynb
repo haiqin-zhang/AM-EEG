{
 "cells": [
  {
   "cell_type": "code",
   "execution_count": 1,
   "metadata": {},
   "outputs": [],
   "source": [
    "import matplotlib.pyplot as plt\n",
    "import matplotlib\n",
    "import mne\n",
    "import pandas as pd\n",
    "import numpy as np\n",
    "\n",
    "from utils import *"
   ]
  },
  {
   "cell_type": "code",
   "execution_count": 2,
   "metadata": {},
   "outputs": [
    {
     "name": "stdout",
     "output_type": "stream",
     "text": [
      "Extracting EDF parameters from /Users/cindyzhang/Documents/M2/Audiomotor_Piano/AM-EEG/test_data/error_trigtest2.bdf...\n",
      "BDF file detected\n",
      "Setting channel info structure...\n",
      "Creating raw.info structure...\n"
     ]
    }
   ],
   "source": [
    "#import BDF and setting important parameters\n",
    "raw = mne.io.read_raw_bdf('../test_data/error_trigtest2.bdf')\n",
    "\n",
    "\n",
    "fs = raw.info['sfreq']\n",
    "#raw.info.ch_names\n",
    "\n",
    "raw = raw.copy().crop(tmin = 0, tmax = 60)"
   ]
  },
  {
   "cell_type": "code",
   "execution_count": 3,
   "metadata": {},
   "outputs": [
    {
     "name": "stdout",
     "output_type": "stream",
     "text": [
      "Trigger channel has a non-zero initial value of 130816 (consider using initial_event=True to detect this event)\n",
      "1964 events found\n",
      "Event IDs: [65282 65284 65288 65290 65296]\n"
     ]
    }
   ],
   "source": [
    "#loading the raw events\n",
    "#the stim channel is called 'Status' \n",
    "events = mne.find_events(raw, stim_channel='Status', shortest_event=1) #raises exception if shortest event is default 2...?"
   ]
  },
  {
   "cell_type": "code",
   "execution_count": 7,
   "metadata": {},
   "outputs": [],
   "source": [
    "#sorting events into different IDs\n",
    "\n",
    "t_keystrokes = clean_triggers(events[events[:,2]==65282])\n",
    "t_inv = clean_triggers(events[events[:,2]==65284])\n",
    "t_shinv = clean_triggers(events[events[:,2]==65288])\n",
    "t_norm =  clean_triggers(events[events[:,2]==65296])\n",
    "t_mode = clean_triggers(events[(events[:,2]!=65282) & (events[:,2]!=65290)]) #all triggers that indicate mode switches (i.e. everything except keystrokes)\n"
   ]
  },
  {
   "cell_type": "markdown",
   "metadata": {},
   "source": [
    "1. get the start and end times of each phase (array of start and endtimes)\n",
    "2. see if the time of each keystroke fits in to one of the times"
   ]
  },
  {
   "cell_type": "code",
   "execution_count": 12,
   "metadata": {},
   "outputs": [],
   "source": [
    "inv_times = find_sections(raw, t_inv, t_mode)\n",
    "shinv_times = find_sections(raw, t_shinv, t_mode)\n",
    "norm_times = find_sections(raw, t_norm, t_mode)"
   ]
  },
  {
   "cell_type": "code",
   "execution_count": 14,
   "metadata": {},
   "outputs": [
    {
     "data": {
      "text/plain": [
       "array([[ 35736,  65280,  65282],\n",
       "       [ 40836,  65280,  65282],\n",
       "       [ 42917,  65280,  65282],\n",
       "       [ 44745,  65280,  65282],\n",
       "       [ 46776,  65280,  65282],\n",
       "       [ 51809,  65280,  65282],\n",
       "       [ 54091,  65280,  65282],\n",
       "       [ 58967,  65280,  65282],\n",
       "       [ 63283,  65280,  65282],\n",
       "       [ 65665,  65280,  65282],\n",
       "       [ 67872,  65280,  65282],\n",
       "       [ 69906,  65280,  65282],\n",
       "       [ 73987,  65280,  65282],\n",
       "       [ 80674,  65280,  65282],\n",
       "       [ 85184,  65280,  65282],\n",
       "       [ 87239,  65280,  65282],\n",
       "       [ 90158,  65280,  65282],\n",
       "       [ 92722,  65280,  65282],\n",
       "       [ 97592,  65280,  65282],\n",
       "       [103941,  65280,  65282],\n",
       "       [107163,  65280,  65282],\n",
       "       [109150,  65280,  65282]])"
      ]
     },
     "execution_count": 14,
     "metadata": {},
     "output_type": "execute_result"
    }
   ],
   "source": [
    "def find_keystrokes(raw, t_keystrokes, conditions):\n",
    "    keystrokes = t_keystrokes[:,0]\n",
    "    filt_keystrokes = []\n",
    "    for segment in conditions:\n",
    "        start = segment[0]\n",
    "        end = segment[1]\n",
    "\n",
    "        condition = (keystrokes >= start) & (keystrokes <= end)\n",
    "        filt_keystrokes.extend(keystrokes[condition])\n",
    "\n",
    "    indices = np.where(np.isin(t_keystrokes[:, 0], filt_keystrokes))[0]\n",
    "    filt_keystrokes_events = t_keystrokes[indices]\n",
    "    return filt_keystrokes_events\n",
    "\n",
    "\n",
    "find_keystrokes(raw, t_keystrokes, norm_times)"
   ]
  },
  {
   "cell_type": "code",
   "execution_count": 5,
   "metadata": {},
   "outputs": [],
   "source": [
    "\"\"\" not good because border effect; better to sort keystrokes directly according to conditions\"\"\"\n",
    "\n",
    "#gathering the segments depending on the key mapping condition\n",
    "shinv_raw = concat_uniform(raw, t_shinv, 2, fs)\n",
    "inv_raw = concat_nonuniform(raw, t_inv, t_shinv, fs)"
   ]
  },
  {
   "cell_type": "code",
   "execution_count": 6,
   "metadata": {},
   "outputs": [],
   "source": [
    "#epoch by keystroke"
   ]
  }
 ],
 "metadata": {
  "kernelspec": {
   "display_name": "AMpiano",
   "language": "python",
   "name": "python3"
  },
  "language_info": {
   "codemirror_mode": {
    "name": "ipython",
    "version": 3
   },
   "file_extension": ".py",
   "mimetype": "text/x-python",
   "name": "python",
   "nbconvert_exporter": "python",
   "pygments_lexer": "ipython3",
   "version": "3.11.5"
  },
  "orig_nbformat": 4
 },
 "nbformat": 4,
 "nbformat_minor": 2
}
