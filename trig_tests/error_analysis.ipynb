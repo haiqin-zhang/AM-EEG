{
 "cells": [
  {
   "cell_type": "code",
   "execution_count": 38,
   "metadata": {},
   "outputs": [],
   "source": [
    "import matplotlib.pyplot as plt\n",
    "import matplotlib\n",
    "import mne\n",
    "import pandas as pd\n",
    "import numpy as np"
   ]
  },
  {
   "cell_type": "code",
   "execution_count": 39,
   "metadata": {},
   "outputs": [],
   "source": [
    "#UTILITIES\n",
    "\n",
    "\"\"\"\n",
    "Filters the trigger signals so that only the first value of each group of triggers that is close in time is retained. \n",
    "Necessary because the triggers are analog so each real trigger results in a string of triggers being detected.\n",
    "\n",
    "Trig array: the array straight out of mne.find_events\n",
    "Threshold: the minimum difference in the first column between the previous and current row for the current row to be retained \n",
    "\"\"\" \n",
    "def clean_triggers(trig_array, threshold = 100):\n",
    "    #setting threshold for how much time has to pass between each trigger\n",
    "    diff_time = np.diff(trig_array[:, 0])\n",
    "    indices = np.where(diff_time > threshold)[0]\n",
    "    indices = np.concatenate(([0], indices + 1))\n",
    "    return trig_array[indices]\n",
    "\n",
    "\n",
    "\"\"\"\n",
    "Concatenates different sections of the EEG experiment that are OF THE SAME LENGTH\n",
    "(It does the same thing as Epochs sort of, but you end up with a raw object instead of an epoch object so you can work with it further...)\n",
    "Useful for gathering all the recordings of muted and unmuted sections of the motor experiment. \n",
    "\n",
    "raw: the original raw file straight out of mne.io.read_raw_bdf\n",
    "events: the events array of interest. Take only the first column, like tc_mute[:,0]\n",
    "segment_dur: duration of the segment. For muted segments it's 30 seconds, for unmuted it's 10\n",
    "\n",
    "\n",
    "Note: the time axis will still be continuous even if the data has been chopped up\n",
    "\"\"\"\n",
    "def concat_uniform(raw, events, segment_dur):\n",
    "    segments = []\n",
    "    for time in events[:,0]:\n",
    "\n",
    "        segment_start = time/fs #because crop() uses seconds and not samples\n",
    "        segment_end = segment_start+segment_dur\n",
    "\n",
    "        #make sure the max length of eeg is not exceeded\n",
    "        if segment_end > raw.times.max():\n",
    "            segment_end = raw.times.max()\n",
    "\n",
    "        segment = raw.copy().crop(tmin = segment_start, tmax = segment_end)\n",
    "        segments.append(segment)\n",
    "\n",
    "    return mne.io.concatenate_raws(segments)\n",
    "\n",
    "\n",
    "\"\"\" \n",
    "Concatenates different sections of the EEG experiment that are OF DIFFERENT LENGTHS\n",
    "Useful for gathering all the recordings of the inv and norm mapping segments of error trials\n",
    "\n",
    "raw: the original raw file straight out of mne.io.read_raw_bdf\n",
    "events1: trigger array marking beginning of the segment of interest. Take only first column. Ex. trig_inv[:,0]\n",
    "events2: trigger array marking beginning of other segments (and therefore the end of the segment of interest)\n",
    "\"\"\"\n",
    "def concat_nonuniform(raw, events1, events2):\n",
    "    segments = []\n",
    "    for time in events1[:,0]:\n",
    "\n",
    "        segment_start = time/fs #because crop() uses seconds and not samples\n",
    "        remaining_trigs =  [x for x in events2[:,0] if x > time]\n",
    "        if len(remaining_trigs) > 0: \n",
    "            segment_end = remaining_trigs[0]/fs\n",
    "\n",
    "        #make sure the max length of eeg is not exceeded\n",
    "        else:\n",
    "            segment_end = raw.times.max()\n",
    "\n",
    "        segment = raw.copy().crop(tmin = segment_start, tmax = segment_end)\n",
    "        segments.append(segment)\n",
    "        \n",
    "    return mne.io.concatenate_raws(segments)\n"
   ]
  },
  {
   "cell_type": "code",
   "execution_count": 40,
   "metadata": {},
   "outputs": [
    {
     "name": "stdout",
     "output_type": "stream",
     "text": [
      "Extracting EDF parameters from /Users/cindyzhang/Documents/M2/AM-piano/EEG/trig_tests/error_trig_test.bdf...\n",
      "BDF file detected\n",
      "Setting channel info structure...\n",
      "Creating raw.info structure...\n"
     ]
    }
   ],
   "source": [
    "#import BDF and setting important parameters\n",
    "raw = mne.io.read_raw_bdf('error_trig_test.bdf')\n",
    "\n",
    "fs = raw.info['sfreq']\n",
    "#raw.info.ch_names"
   ]
  },
  {
   "cell_type": "code",
   "execution_count": 41,
   "metadata": {},
   "outputs": [
    {
     "name": "stdout",
     "output_type": "stream",
     "text": [
      "Trigger channel has a non-zero initial value of 130816 (consider using initial_event=True to detect this event)\n",
      "1104 events found\n",
      "Event IDs: [65282 65284 65288 65290]\n"
     ]
    }
   ],
   "source": [
    "#loading the raw events\n",
    "#the stim channel is called 'Status' \n",
    "events = mne.find_events(raw, stim_channel='Status', shortest_event=1) #raises exception if shortest event is default 2...?"
   ]
  },
  {
   "cell_type": "code",
   "execution_count": 42,
   "metadata": {},
   "outputs": [],
   "source": [
    "#sorting events into different IDs\n",
    "\n",
    "#65282 = trig 2 (keystrokes)\n",
    "#65284 = trig 3 (trig-inv)\n",
    "#65288 = trig 4 (trig-shinv)\n",
    "#not sure what's up with 65890 (maybe trig 5 but I didn't really test it here?)\n",
    "\n",
    "t_keystrokes = events[events[:,2]==65282]\n",
    "t_inv = events[events[:,2]==65284]\n",
    "t_shinv = events[events[:,2]==65288]\n"
   ]
  },
  {
   "cell_type": "code",
   "execution_count": 43,
   "metadata": {},
   "outputs": [],
   "source": [
    "#cleaning the events (this can be combined with the cell above later\n",
    "tc_keystrokes = clean_triggers(t_keystrokes)\n",
    "tc_inv = clean_triggers(t_inv)\n",
    "tc_shinv = clean_triggers(t_shinv)\n",
    "\n",
    "#maybe need to reconcatenate and resort this?"
   ]
  },
  {
   "cell_type": "code",
   "execution_count": 44,
   "metadata": {},
   "outputs": [],
   "source": [
    "#gathering the segments depending on the key mapping condition\n",
    "shinv_raw = concat_uniform(raw, tc_shinv, 2)"
   ]
  },
  {
   "cell_type": "code",
   "execution_count": 53,
   "metadata": {},
   "outputs": [
    {
     "name": "stdout",
     "output_type": "stream",
     "text": [
      "6.42236328125 18.4208984375\n",
      "20.4208984375 26.42138671875\n",
      "28.4208984375 30.4208984375\n",
      "32.421875 38.99951171875\n"
     ]
    }
   ],
   "source": [
    "inv_raw = concat_nonuniform(raw, tc_inv, tc_shinv)"
   ]
  },
  {
   "cell_type": "code",
   "execution_count": null,
   "metadata": {},
   "outputs": [],
   "source": [
    "#epoching by keystroke"
   ]
  }
 ],
 "metadata": {
  "kernelspec": {
   "display_name": "AMpiano",
   "language": "python",
   "name": "python3"
  },
  "language_info": {
   "codemirror_mode": {
    "name": "ipython",
    "version": 3
   },
   "file_extension": ".py",
   "mimetype": "text/x-python",
   "name": "python",
   "nbconvert_exporter": "python",
   "pygments_lexer": "ipython3",
   "version": "3.11.5"
  },
  "orig_nbformat": 4
 },
 "nbformat": 4,
 "nbformat_minor": 2
}
