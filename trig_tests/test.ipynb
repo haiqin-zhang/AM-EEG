{
 "cells": [
  {
   "cell_type": "code",
   "execution_count": 1,
   "metadata": {},
   "outputs": [],
   "source": [
    "import matplotlib.pyplot as plt\n",
    "import matplotlib\n",
    "import mne\n",
    "import pandas as pd\n",
    "from utils import *"
   ]
  },
  {
   "cell_type": "code",
   "execution_count": 2,
   "metadata": {},
   "outputs": [
    {
     "name": "stdout",
     "output_type": "stream",
     "text": [
      "[]\n"
     ]
    }
   ],
   "source": [
    "no()"
   ]
  },
  {
   "cell_type": "code",
   "execution_count": 2,
   "metadata": {},
   "outputs": [
    {
     "name": "stdout",
     "output_type": "stream",
     "text": [
      "Extracting EDF parameters from /Users/cindyzhang/Documents/M2/AM-piano/EEG/trig_tests/error2.bdf...\n",
      "BDF file detected\n",
      "Setting channel info structure...\n",
      "Creating raw.info structure...\n"
     ]
    }
   ],
   "source": [
    "raw = mne.io.read_raw_bdf('error2.bdf')"
   ]
  },
  {
   "cell_type": "code",
   "execution_count": 3,
   "metadata": {},
   "outputs": [
    {
     "name": "stdout",
     "output_type": "stream",
     "text": [
      "Trigger channel has a non-zero initial value of 130816 (consider using initial_event=True to detect this event)\n",
      "1104 events found\n",
      "Event IDs: [65282 65284 65288 65290]\n"
     ]
    }
   ],
   "source": [
    "events = mne.find_events(raw, stim_channel='Status', shortest_event=1) #raises exception if shortest event is default 2...?"
   ]
  },
  {
   "cell_type": "code",
   "execution_count": 16,
   "metadata": {},
   "outputs": [
    {
     "name": "stdout",
     "output_type": "stream",
     "text": [
      "[[37726 65280 65288]\n",
      " [54111 65282 65288]\n",
      " [62302 65280 65288]]\n"
     ]
    },
    {
     "ename": "",
     "evalue": "",
     "output_type": "error",
     "traceback": [
      "\u001b[1;31mThe Kernel crashed while executing code in the the current cell or a previous cell. Please review the code in the cell(s) to identify a possible cause of the failure. Click <a href='https://aka.ms/vscodeJupyterKernelCrash'>here</a> for more info. View Jupyter <a href='command:jupyter.viewOutput'>log</a> for further details."
     ]
    }
   ],
   "source": [
    "import numpy as np\n",
    "\n",
    "# Your array\n",
    "my_array = np.array([\n",
    "    [37726, 65280, 65288],\n",
    "    [37729, 65280, 65288],\n",
    "    [37733, 65280, 65288],\n",
    "    [37735, 65280, 65288],\n",
    "    [37739, 65280, 65288],\n",
    "    [37746, 65280, 65288],\n",
    "    [37753, 65280, 65288],\n",
    "    [37757, 65280, 65288],\n",
    "    [37764, 65280, 65288],\n",
    "    [37783, 65280, 65288],\n",
    "    [54111, 65282, 65288],\n",
    "    [54119, 65280, 65288],\n",
    "    [54123, 65280, 65288],\n",
    "    [54130, 65280, 65288],\n",
    "    [54152, 65280, 65288],\n",
    "    [54159, 65280, 65288],\n",
    "    [54166, 65280, 65288],\n",
    "    [54213, 65280, 65288],\n",
    "    [62302, 65280, 65288],\n",
    "    [62311, 65280, 65288],\n",
    "    [62315, 65280, 65288],\n",
    "    [62321, 65280, 65288],\n",
    "    [62329, 65280, 65288],\n",
    "    [62339, 65280, 65288],\n",
    "    [62347, 65280, 65288],\n",
    "    [62405, 65280, 65288]\n",
    "])\n",
    "\n",
    "# Set the threshold for proximity between values in the first column\n",
    "threshold = 100\n",
    "\n",
    "# Calculate the difference between consecutive values in the first column\n",
    "diff_first_column = np.diff(my_array[:, 0])\n",
    "\n",
    "# Find the indices where the difference is greater than the threshold\n",
    "indices = np.where(diff_first_column > threshold)[0]\n",
    "\n",
    "# Include the first index to capture the first row\n",
    "indices = np.concatenate(([0], indices + 1))\n",
    "\n",
    "# Filter the array based on the indices\n",
    "filtered_array = my_array[indices]\n",
    "\n",
    "print(filtered_array)\n"
   ]
  },
  {
   "cell_type": "code",
   "execution_count": 9,
   "metadata": {},
   "outputs": [
    {
     "data": {
      "text/plain": [
       "array([    3,     4,     2,     4,     7,     7,     4,     7,    19,\n",
       "       16328,     8,     4,     7,    22,     7,     7,    47,  8089,\n",
       "           9,     4,     6,     8,    10,     8,    58])"
      ]
     },
     "execution_count": 9,
     "metadata": {},
     "output_type": "execute_result"
    }
   ],
   "source": [
    "diff_first_column"
   ]
  }
 ],
 "metadata": {
  "kernelspec": {
   "display_name": "eelbrain-cnsp",
   "language": "python",
   "name": "python3"
  },
  "language_info": {
   "codemirror_mode": {
    "name": "ipython",
    "version": 3
   },
   "file_extension": ".py",
   "mimetype": "text/x-python",
   "name": "python",
   "nbconvert_exporter": "python",
   "pygments_lexer": "ipython3",
   "version": "3.11.5"
  },
  "orig_nbformat": 4
 },
 "nbformat": 4,
 "nbformat_minor": 2
}
