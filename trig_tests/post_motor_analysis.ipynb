{
 "cells": [
  {
   "cell_type": "code",
   "execution_count": 69,
   "metadata": {},
   "outputs": [],
   "source": [
    "import matplotlib.pyplot as plt\n",
    "import matplotlib\n",
    "import mne\n",
    "import pandas as pd\n",
    "import numpy as np"
   ]
  },
  {
   "cell_type": "code",
   "execution_count": 70,
   "metadata": {},
   "outputs": [],
   "source": [
    "#UTILITIES\n",
    "\n",
    "\"\"\"\n",
    "Filters the trigger signals so that only the first value of each group of triggers that is close in time is retained. \n",
    "Necessary because the triggers are analog so each real trigger results in a string of triggers being detected.\n",
    "\n",
    "Trig array: the array straight out of mne.find_events\n",
    "Threshold: the minimum difference in the first column between the previous and current row for the current row to be retained \n",
    "\"\"\" \n",
    "def clean_triggers(trig_array, threshold = 100):\n",
    "    #setting threshold for how much time has to pass between each trigger\n",
    "    diff_time = np.diff(trig_array[:, 0])\n",
    "    indices = np.where(diff_time > threshold)[0]\n",
    "    indices = np.concatenate(([0], indices + 1))\n",
    "    return trig_array[indices]\n",
    "\n",
    "\n",
    "\"\"\"\n",
    "Concatenates different sections of the EEG experiment. It does the same thing as Epochs sort of, but you end up with a raw object instead of epoch\n",
    "Useful for gathering all the recordings of muted and unmuted sections of the motor experiment. \n",
    "\n",
    "raw: the original raw file straight out of mne.io.read_raw_bdf\n",
    "events: the events array of interest, like tc_mute\n",
    "segment_dur: duration of the segment. For muted segments it's 30 seconds, for unmuted it's 10\n",
    "\n",
    "\n",
    "Note: the time axis will still be continuous even if the data has been chopped up\n",
    "\"\"\"\n",
    "def concat_uniform(raw, events, segment_dur):\n",
    "    segments = []\n",
    "    for time in events[:,0]:\n",
    "        print(time)\n",
    "        segment_start = time/fs #because crop() uses seconds and not samples\n",
    "        segment_end = segment_start+segment_dur\n",
    "\n",
    "        #make sure the max length of eeg is not exceeded\n",
    "        if segment_end > raw.times.max():\n",
    "            segment_end = raw.times.max()\n",
    "\n",
    "        segment = raw.copy().crop(tmin = segment_start, tmax = segment_end)\n",
    "        segments.append(segment)\n",
    "\n",
    "    return mne.io.concatenate_raws(segments)\n",
    "\n",
    "\n",
    "def concat_nonuniform(raw, events1, events2):\n",
    "    pass\n"
   ]
  },
  {
   "cell_type": "code",
   "execution_count": 71,
   "metadata": {},
   "outputs": [
    {
     "name": "stdout",
     "output_type": "stream",
     "text": [
      "Extracting EDF parameters from /Users/cindyzhang/Documents/M2/AM-piano/EEG/trig_tests/motor_trig_test.bdf...\n",
      "BDF file detected\n",
      "Setting channel info structure...\n",
      "Creating raw.info structure...\n"
     ]
    }
   ],
   "source": [
    "#import BDF and setting important parameters\n",
    "raw = mne.io.read_raw_bdf('motor_trig_test.bdf')\n",
    "\n",
    "fs = raw.info['sfreq']\n",
    "#raw.info.ch_names"
   ]
  },
  {
   "cell_type": "code",
   "execution_count": 72,
   "metadata": {},
   "outputs": [
    {
     "name": "stdout",
     "output_type": "stream",
     "text": [
      "Trigger channel has a non-zero initial value of 130816 (consider using initial_event=True to detect this event)\n",
      "3964 events found\n",
      "Event IDs: [65282 65284 65288 65290]\n"
     ]
    }
   ],
   "source": [
    "#loading the raw events\n",
    "#the stim channel is called 'Status' \n",
    "events = mne.find_events(raw, stim_channel='Status', shortest_event=1) #raises exception if shortest event is default 2...?"
   ]
  },
  {
   "cell_type": "code",
   "execution_count": 73,
   "metadata": {},
   "outputs": [
    {
     "data": {
      "text/plain": [
       "2048.0"
      ]
     },
     "execution_count": 73,
     "metadata": {},
     "output_type": "execute_result"
    }
   ],
   "source": [
    "raw.info['sfreq']"
   ]
  },
  {
   "cell_type": "code",
   "execution_count": 74,
   "metadata": {},
   "outputs": [],
   "source": [
    "#sorting events into different IDs\n",
    "\n",
    "#65282 = trig 2 (keystrokes)\n",
    "#65284 = trig 3 (trig-mute in motor test)\n",
    "#65288 = trig 4 (trig-unmute in motor test)\n",
    "#not sure what's up with 65890 (maybe trig 5 but I didn't really test it here?)\n",
    "\n",
    "t_keystrokes = events[events[:,2]==65282]\n",
    "t_mute = events[events[:,2]==65284]\n",
    "t_unmute = events[events[:,2]==65288]\n"
   ]
  },
  {
   "cell_type": "code",
   "execution_count": 75,
   "metadata": {},
   "outputs": [],
   "source": [
    "#cleaning the events (this can be combined with the cell above later\n",
    "tc_keystrokes = clean_triggers(t_keystrokes)\n",
    "tc_mute = clean_triggers(t_mute)\n",
    "tc_unmute = clean_triggers(t_unmute)\n",
    "\n",
    "#maybe need to reconcatenate and resort this?"
   ]
  },
  {
   "cell_type": "code",
   "execution_count": 76,
   "metadata": {},
   "outputs": [
    {
     "name": "stdout",
     "output_type": "stream",
     "text": [
      "17777\n",
      "91512\n",
      "173419\n"
     ]
    }
   ],
   "source": [
    "#gathering the segments that are muted or unmuted\n",
    "mute_raw = concat_uniform(raw, tc_mute, 30)\n",
    "#unmute_raw = concat_uniform(raw, tc_unmute, 10)\n"
   ]
  },
  {
   "cell_type": "code",
   "execution_count": 77,
   "metadata": {},
   "outputs": [
    {
     "name": "stdout",
     "output_type": "stream",
     "text": [
      "Using pyopengl with version 3.1.6\n"
     ]
    },
    {
     "data": {
      "text/plain": [
       "<mne_qt_browser._pg_figure.MNEQtBrowser at 0x17c548700>"
      ]
     },
     "execution_count": 77,
     "metadata": {},
     "output_type": "execute_result"
    }
   ],
   "source": [
    "#plotting the keystroke events on segmented data\n",
    "mute_raw.plot(events = tc_keystrokes)"
   ]
  },
  {
   "cell_type": "markdown",
   "metadata": {},
   "source": [
    "Possible analyses"
   ]
  },
  {
   "cell_type": "code",
   "execution_count": null,
   "metadata": {},
   "outputs": [],
   "source": [
    "#epoching by keystroke\n",
    "\n",
    "#correlation to spectrogram (mTRF?)"
   ]
  }
 ],
 "metadata": {
  "kernelspec": {
   "display_name": "AMpiano",
   "language": "python",
   "name": "python3"
  },
  "language_info": {
   "codemirror_mode": {
    "name": "ipython",
    "version": 3
   },
   "file_extension": ".py",
   "mimetype": "text/x-python",
   "name": "python",
   "nbconvert_exporter": "python",
   "pygments_lexer": "ipython3",
   "version": "3.11.5"
  },
  "orig_nbformat": 4
 },
 "nbformat": 4,
 "nbformat_minor": 2
}
