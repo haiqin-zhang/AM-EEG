{
 "cells": [
  {
   "cell_type": "code",
   "execution_count": 21,
   "metadata": {},
   "outputs": [],
   "source": [
    "import matplotlib.pyplot as plt\n",
    "import matplotlib.ticker as ticker\n",
    "import numpy as np\n",
    "import pandas as pd\n",
    "\n",
    "import scipy\n",
    "from scipy.io import loadmat, savemat\n",
    "import pywt\n",
    "import mne\n",
    "\n",
    "import sys\n",
    "from tqdm import tqdm\n",
    "\n",
    "\n",
    "sys.path.append('../utils')\n",
    "from ERP_utils import *\n",
    "from update_sub_lists import *\n",
    "from wavelet_utils import *\n",
    "import glob\n",
    "import os\n"
   ]
  },
  {
   "cell_type": "code",
   "execution_count": 24,
   "metadata": {},
   "outputs": [],
   "source": [
    "def ave_wav(input_dir, output_dir, axis = 0):\n",
    "    \"\"\" \n",
    "    Takes average wavelet transforms. Typically used to get average over trials (axis = 0)\n",
    "    wavelet_dir: directory with the wavelet files\n",
    "    axis: axis to take average over (wavelet transform data usually in shape n_trials x n_channels x freqs x timepoints)\n",
    "    \n",
    "    ---\n",
    "    saves the averages as a new .mat file with the same name and _ave appended\n",
    "    \"\"\"\n",
    "    if not os.path.exists(output_dir):\n",
    "        os.mkdir(output_dir)\n",
    "    for file in sorted(os.listdir(input_dir)):\n",
    "        data = loadmat(os.path.join(input_dir, file))\n",
    "        if 'wavelet_transform' not in data.keys():\n",
    "            continue\n",
    "        wavelet_full = data['wavelet_transform']\n",
    "        wavelet_ave = np.mean(wavelet_full, axis = 0)\n",
    "\n",
    "        #save file\n",
    "        wavelet_ave_mat = {\n",
    "            'wavelet_transform': wavelet_ave\n",
    "        }\n",
    "        ave_name = 'ave_'+file.split('.')[0]\n",
    "        print(ave_name)\n",
    "        savemat(os.path.join(output_dir, f\"{ave_name}.mat\"), wavelet_ave_mat)\n"
   ]
  },
  {
   "cell_type": "code",
   "execution_count": 25,
   "metadata": {},
   "outputs": [
    {
     "name": "stdout",
     "output_type": "stream",
     "text": [
      "ave_motor_wavelet_post_01\n",
      "ave_motor_wavelet_post_03\n",
      "ave_motor_wavelet_post_04\n",
      "ave_motor_wavelet_post_05\n",
      "ave_motor_wavelet_post_06\n",
      "ave_motor_wavelet_post_07\n",
      "ave_motor_wavelet_post_08\n",
      "ave_motor_wavelet_post_09\n",
      "ave_motor_wavelet_post_10\n",
      "ave_motor_wavelet_post_11\n",
      "ave_motor_wavelet_post_12\n",
      "ave_motor_wavelet_post_13\n",
      "ave_motor_wavelet_post_14\n",
      "ave_motor_wavelet_post_15\n",
      "ave_motor_wavelet_post_16\n",
      "ave_motor_wavelet_post_18\n",
      "ave_motor_wavelet_post_19\n",
      "ave_motor_wavelet_post_20\n",
      "ave_motor_wavelet_pre_01\n",
      "ave_motor_wavelet_pre_03\n",
      "ave_motor_wavelet_pre_04\n",
      "ave_motor_wavelet_pre_05\n",
      "ave_motor_wavelet_pre_06\n",
      "ave_motor_wavelet_pre_07\n",
      "ave_motor_wavelet_pre_08\n",
      "ave_motor_wavelet_pre_09\n",
      "ave_motor_wavelet_pre_10\n",
      "ave_motor_wavelet_pre_11\n",
      "ave_motor_wavelet_pre_12\n",
      "ave_motor_wavelet_pre_13\n",
      "ave_motor_wavelet_pre_14\n",
      "ave_motor_wavelet_pre_15\n",
      "ave_motor_wavelet_pre_16\n",
      "ave_motor_wavelet_pre_18\n",
      "ave_motor_wavelet_pre_19\n",
      "ave_motor_wavelet_pre_20\n"
     ]
    }
   ],
   "source": [
    "\n",
    "\n",
    "input_dir = '/Users/cindyzhang/Documents/M2/Audiomotor_Piano/AM-EEG/wavelet/wavelets_mat_motor__n05to05_30Hz_all'\n",
    "output_dir = '/Users/cindyzhang/Documents/M2/Audiomotor_Piano/AM-EEG/wavelet/wavelets_mat_motor__n05to05_30Hz_all_ave'\n",
    "ave_wav(input_dir, output_dir)\n"
   ]
  },
  {
   "cell_type": "markdown",
   "metadata": {},
   "source": [
    "Split training into early and late training"
   ]
  },
  {
   "cell_type": "code",
   "execution_count": null,
   "metadata": {},
   "outputs": [],
   "source": [
    "input_dir = '/Users/cindyzhang/Documents/M2/Audiomotor_Piano/AM-EEG/wavelet/wavelets_mat_motor__n05to05_30Hz_all'\n",
    "output_dir = '/Users/cindyzhang/Documents/M2/Audiomotor_Piano/AM-EEG/wavelet/wavelets_mat_motor__n05to05_30Hz_all_ave'\n",
    "ave_wav(input_dir, output_dir)"
   ]
  }
 ],
 "metadata": {
  "kernelspec": {
   "display_name": "eelbrain-cnsp",
   "language": "python",
   "name": "python3"
  },
  "language_info": {
   "codemirror_mode": {
    "name": "ipython",
    "version": 3
   },
   "file_extension": ".py",
   "mimetype": "text/x-python",
   "name": "python",
   "nbconvert_exporter": "python",
   "pygments_lexer": "ipython3",
   "version": "3.11.5"
  },
  "orig_nbformat": 4
 },
 "nbformat": 4,
 "nbformat_minor": 2
}
