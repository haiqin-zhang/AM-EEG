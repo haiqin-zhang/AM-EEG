{
 "cells": [
  {
   "cell_type": "code",
   "execution_count": 25,
   "metadata": {},
   "outputs": [],
   "source": [
    "import matplotlib.pyplot as plt\n",
    "import matplotlib.ticker as ticker\n",
    "import numpy as np\n",
    "import pandas as pd\n",
    "\n",
    "import scipy\n",
    "import pywt\n",
    "import mne\n",
    "\n",
    "import sys\n",
    "from tqdm import tqdm\n",
    "\n",
    "\n",
    "sys.path.append('../utils')\n",
    "from ERP_utils import *\n",
    "from update_sub_lists import *\n",
    "from wavelet_utils import *\n",
    "import glob\n",
    "import os\n",
    "\n",
    "\n",
    "import seaborn as sns\n",
    "import warnings\n",
    "\n",
    "# Suppress all FutureWarnings\n",
    "warnings.simplefilter(action='ignore', category=FutureWarning)"
   ]
  },
  {
   "cell_type": "code",
   "execution_count": 26,
   "metadata": {},
   "outputs": [
    {
     "name": "stdout",
     "output_type": "stream",
     "text": [
      "processing subjects: ['01', '01', '02', '02', '03', '03', '04', '04', '05', '05', '06', '06', '07', '07', '08', '08', '09', '09', '10', '10', '11', '11', '12', '12', '13', '13', '14', '14', '15', '15', '16', '16', '17', '17', '18', '18', '19', '19', '20', '20', '21', '21']\n",
      "processing channels: [47]\n"
     ]
    }
   ],
   "source": [
    "task = 'listen'\n",
    "erp_window = '_n05to05'\n",
    "freq_high = 30\n",
    "\n",
    "###### CHOOSE SUBJECTS\n",
    "subjects_to_process = find_existing_subjects(task = task, period = 'pre',erp_window=erp_window,freq_high=freq_high) #subs that exist in pre should exist in post\n",
    "#subjects_to_process = ['01']\n",
    "\n",
    "##### CHOOSE CHANNELS\n",
    "#ch_to_process = 'all'\n",
    "ch_to_process = ch_index(['Cz'])\n",
    "\n",
    "\n",
    "\n",
    "wavelet_params = {\n",
    "    'fs' :128 , # example sampling frequency in Hz\n",
    "    'centerfreq' : 5 ,\n",
    "    'bandwidth': 1.5,\n",
    "    'level': 10,\n",
    "    'scale_values':[6, 150, 40]\n",
    "}\n",
    "\n",
    "epochs_dir = f'/Users/cindyzhang/Documents/M2/Audiomotor_Piano/AM-EEG/analysis_{task}/{task}_epochs_data{erp_window}_{freq_high}Hz'\n",
    "wavelet_dir = f\"./wavelets_mat_{task}_{erp_window}_{freq_high}Hz\"\n",
    "\n",
    "print('processing subjects:', subjects_to_process)\n",
    "print('processing channels:', ch_to_process)\n",
    "\n",
    "mne.set_log_level('CRITICAL')"
   ]
  },
  {
   "cell_type": "markdown",
   "metadata": {},
   "source": [
    "## Batch processing wavelets"
   ]
  },
  {
   "cell_type": "code",
   "execution_count": 27,
   "metadata": {},
   "outputs": [],
   "source": [
    "def wavelet_batch(subjects_to_process, channels, ep_dir, output_dir, wavelet_params, ave = False, overwrite = False, erp_begin = -0.5, erp_end = 0.5):\n",
    "\n",
    "    \"\"\"\n",
    "    wavelet transforms epochs trial by trial for each subject\n",
    "\n",
    "    \n",
    "    subjects_to_process: list of subjects\n",
    "    channels: 'all' or a list of channels. If not all, will only save the wavelet transformed channels and others are discarded\n",
    "    ep_dir: directory where epochs are saved\n",
    "    output_dir: dir to save wavelet data\n",
    "    wavelet_params: dict with wavelet parameters. Example:\n",
    "        wavelet_params = {\n",
    "                'fs' :128 , # example sampling frequency in Hz\n",
    "                'centerfreq' : 5 ,\n",
    "                'bandwidth': 1.5,\n",
    "                'level': 10,\n",
    "                'scale_values':[6, 150, 40]\n",
    "            }\n",
    "\n",
    "    ave: whether to average spectrograms all the trials before saving (TO IMPLEMENT)\n",
    "\n",
    "     ----\n",
    "    saves wavelet transforms to .mat files\n",
    "    'wavelet': wavelet data of dim n_trials x n_channels x spect_freqs x spect_times\n",
    "    \"\"\"\n",
    "    if not os.path.exists(output_dir):\n",
    "        os.mkdir(output_dir)\n",
    "\n",
    "    times = create_erp_times(erp_begin, erp_end, 128)\n",
    "\n",
    "    #check file type\n",
    "    for fif_name in sorted(os.listdir(ep_dir)):\n",
    "        if not fif_name.endswith(\".fif\"):\n",
    "            print('skipping file, not epochs:', fif_name)\n",
    "            continue\n",
    "\n",
    "    #identify subject\n",
    "        subject_id = fif_name.split(\"_\")[-1].split(\".\")[0]\n",
    "        if subject_id not in subjects_to_process:\n",
    "           # print(f'subject {subject_id} not in subjects to process. skipping...')\n",
    "            continue\n",
    "        \n",
    "        mat_name = fif_name.split(\".\")[0].replace(\"epochs\", \"wavelet\")\n",
    "        mat_path = os.path.join(output_dir, f\"{mat_name}.mat\")\n",
    "\n",
    "        if not os.path.exists(mat_path) or overwrite: #skip if the file already exists\n",
    "            print('processing', fif_name)\n",
    "            \n",
    "            #get data to loop over\n",
    "            epochs = mne.read_epochs(os.path.join(ep_dir, fif_name))\n",
    "\n",
    "            \n",
    "            epochs_data = epochs.get_data()\n",
    "\n",
    "            wavelet_data = []\n",
    "            #for trial in range(10):\n",
    "            for trial in tqdm(range(epochs_data.shape[0])):\n",
    "                \n",
    "                #initiate storage matrix\n",
    "                n_freqs = wavelet_params['scale_values'][2]\n",
    "                n_times = times.shape[0]\n",
    "                if isinstance(channels, str) and channels == 'all':\n",
    "                    trial_wavelet = np.zeros((64, n_freqs, n_times))\n",
    "                    ch_towav = np.arange(64) \n",
    "                else:\n",
    "                    trial_wavelet = np.zeros((len(channels), n_freqs, n_times)) \n",
    "                    ch_towav = channels\n",
    "\n",
    "                for j, ch in enumerate(ch_towav):\n",
    "                    trial_data = epochs_data[trial, ch, :]\n",
    "\n",
    "                    cwtmatr, freqs, wavelet = morwav_trans(trial_data, \n",
    "                                                    centerfreq=wavelet_params['centerfreq'], \n",
    "                                                    bandwidth=wavelet_params['bandwidth'], \n",
    "                                                    scale_values=wavelet_params['scale_values'])\n",
    "\n",
    "                    cwtmatr_abs = np.abs(cwtmatr)\n",
    "                    trial_wavelet[j, :,:] = cwtmatr_abs\n",
    "\n",
    "                wavelet_data.append(trial_wavelet)\n",
    "\n",
    "            #save subject data to mat file\n",
    "            wavelet_data = np.array(wavelet_data)\n",
    "            wavelet_tosave = {\n",
    "                'wavelet_transform':wavelet_data\n",
    "            }\n",
    "\n",
    "            savemat(mat_path, wavelet_tosave)\n",
    "    \n",
    "    #processing record for wavelet\n",
    "    \n",
    "    wavelet_record = {\n",
    "        'freqs': freqs,\n",
    "        'wavelet': wavelet,\n",
    "        'subjects': subjects_to_process,\n",
    "        'centerfreq': wavelet_params['centerfreq'],\n",
    "        'bandwidth': wavelet_params['bandwidth'],\n",
    "        'scale_values': wavelet_params['scale_values'],\n",
    "        'times': times, \n",
    "        'channels': channels\n",
    "    }\n",
    "    savemat(os.path.join(output_dir, f'wavelet_record.mat'), wavelet_record)\n"
   ]
  },
  {
   "cell_type": "code",
   "execution_count": 28,
   "metadata": {},
   "outputs": [
    {
     "name": "stdout",
     "output_type": "stream",
     "text": [
      "processing listen_epochs_post_01.fif\n"
     ]
    },
    {
     "name": "stderr",
     "output_type": "stream",
     "text": [
      "  0%|          | 0/328 [00:00<?, ?it/s]"
     ]
    },
    {
     "name": "stderr",
     "output_type": "stream",
     "text": [
      "100%|██████████| 328/328 [00:00<00:00, 380.12it/s]\n"
     ]
    },
    {
     "name": "stdout",
     "output_type": "stream",
     "text": [
      "processing listen_epochs_post_02.fif\n"
     ]
    },
    {
     "name": "stderr",
     "output_type": "stream",
     "text": [
      "100%|██████████| 328/328 [00:00<00:00, 373.99it/s]\n"
     ]
    },
    {
     "name": "stdout",
     "output_type": "stream",
     "text": [
      "processing listen_epochs_post_03.fif\n"
     ]
    },
    {
     "name": "stderr",
     "output_type": "stream",
     "text": [
      "100%|██████████| 268/268 [00:00<00:00, 381.83it/s]\n"
     ]
    },
    {
     "name": "stdout",
     "output_type": "stream",
     "text": [
      "processing listen_epochs_post_04.fif\n"
     ]
    },
    {
     "name": "stderr",
     "output_type": "stream",
     "text": [
      "100%|██████████| 328/328 [00:00<00:00, 384.30it/s]\n"
     ]
    },
    {
     "name": "stdout",
     "output_type": "stream",
     "text": [
      "processing listen_epochs_post_05.fif\n"
     ]
    },
    {
     "name": "stderr",
     "output_type": "stream",
     "text": [
      "100%|██████████| 328/328 [00:00<00:00, 382.07it/s]\n"
     ]
    },
    {
     "name": "stdout",
     "output_type": "stream",
     "text": [
      "processing listen_epochs_post_06.fif\n"
     ]
    },
    {
     "name": "stderr",
     "output_type": "stream",
     "text": [
      "100%|██████████| 328/328 [00:00<00:00, 380.42it/s]\n"
     ]
    },
    {
     "name": "stdout",
     "output_type": "stream",
     "text": [
      "processing listen_epochs_post_07.fif\n"
     ]
    },
    {
     "name": "stderr",
     "output_type": "stream",
     "text": [
      "100%|██████████| 328/328 [00:00<00:00, 381.12it/s]\n"
     ]
    },
    {
     "name": "stdout",
     "output_type": "stream",
     "text": [
      "processing listen_epochs_post_08.fif\n"
     ]
    },
    {
     "name": "stderr",
     "output_type": "stream",
     "text": [
      "100%|██████████| 328/328 [00:00<00:00, 371.71it/s]\n"
     ]
    },
    {
     "name": "stdout",
     "output_type": "stream",
     "text": [
      "processing listen_epochs_post_09.fif\n"
     ]
    },
    {
     "name": "stderr",
     "output_type": "stream",
     "text": [
      "100%|██████████| 328/328 [00:00<00:00, 383.92it/s]\n"
     ]
    },
    {
     "name": "stdout",
     "output_type": "stream",
     "text": [
      "processing listen_epochs_post_10.fif\n"
     ]
    },
    {
     "name": "stderr",
     "output_type": "stream",
     "text": [
      "100%|██████████| 322/322 [00:00<00:00, 379.72it/s]\n"
     ]
    },
    {
     "name": "stdout",
     "output_type": "stream",
     "text": [
      "processing listen_epochs_post_11.fif\n"
     ]
    },
    {
     "name": "stderr",
     "output_type": "stream",
     "text": [
      "100%|██████████| 328/328 [00:00<00:00, 379.10it/s]\n"
     ]
    },
    {
     "name": "stdout",
     "output_type": "stream",
     "text": [
      "processing listen_epochs_post_12.fif\n"
     ]
    },
    {
     "name": "stderr",
     "output_type": "stream",
     "text": [
      "100%|██████████| 328/328 [00:00<00:00, 380.34it/s]\n"
     ]
    },
    {
     "name": "stdout",
     "output_type": "stream",
     "text": [
      "processing listen_epochs_post_13.fif\n"
     ]
    },
    {
     "name": "stderr",
     "output_type": "stream",
     "text": [
      "100%|██████████| 328/328 [00:00<00:00, 376.44it/s]\n"
     ]
    },
    {
     "name": "stdout",
     "output_type": "stream",
     "text": [
      "processing listen_epochs_post_14.fif\n"
     ]
    },
    {
     "name": "stderr",
     "output_type": "stream",
     "text": [
      "100%|██████████| 328/328 [00:00<00:00, 381.73it/s]\n"
     ]
    },
    {
     "name": "stdout",
     "output_type": "stream",
     "text": [
      "processing listen_epochs_post_15.fif\n"
     ]
    },
    {
     "name": "stderr",
     "output_type": "stream",
     "text": [
      "100%|██████████| 314/314 [00:00<00:00, 384.03it/s]\n"
     ]
    },
    {
     "name": "stdout",
     "output_type": "stream",
     "text": [
      "processing listen_epochs_post_16.fif\n"
     ]
    },
    {
     "name": "stderr",
     "output_type": "stream",
     "text": [
      "100%|██████████| 328/328 [00:00<00:00, 381.74it/s]\n"
     ]
    },
    {
     "name": "stdout",
     "output_type": "stream",
     "text": [
      "processing listen_epochs_post_17.fif\n"
     ]
    },
    {
     "name": "stderr",
     "output_type": "stream",
     "text": [
      "100%|██████████| 328/328 [00:00<00:00, 383.89it/s]\n"
     ]
    },
    {
     "name": "stdout",
     "output_type": "stream",
     "text": [
      "processing listen_epochs_post_18.fif\n"
     ]
    },
    {
     "name": "stderr",
     "output_type": "stream",
     "text": [
      "100%|██████████| 328/328 [00:00<00:00, 381.79it/s]\n"
     ]
    },
    {
     "name": "stdout",
     "output_type": "stream",
     "text": [
      "processing listen_epochs_post_19.fif\n"
     ]
    },
    {
     "name": "stderr",
     "output_type": "stream",
     "text": [
      "100%|██████████| 328/328 [00:00<00:00, 374.62it/s]\n"
     ]
    },
    {
     "name": "stdout",
     "output_type": "stream",
     "text": [
      "processing listen_epochs_post_20.fif\n"
     ]
    },
    {
     "name": "stderr",
     "output_type": "stream",
     "text": [
      "100%|██████████| 328/328 [00:00<00:00, 381.94it/s]\n"
     ]
    },
    {
     "name": "stdout",
     "output_type": "stream",
     "text": [
      "processing listen_epochs_post_21.fif\n"
     ]
    },
    {
     "name": "stderr",
     "output_type": "stream",
     "text": [
      "100%|██████████| 328/328 [00:00<00:00, 382.73it/s]\n"
     ]
    },
    {
     "name": "stdout",
     "output_type": "stream",
     "text": [
      "processing listen_epochs_pre_01.fif\n"
     ]
    },
    {
     "name": "stderr",
     "output_type": "stream",
     "text": [
      "100%|██████████| 328/328 [00:00<00:00, 381.83it/s]\n"
     ]
    },
    {
     "name": "stdout",
     "output_type": "stream",
     "text": [
      "processing listen_epochs_pre_02.fif\n"
     ]
    },
    {
     "name": "stderr",
     "output_type": "stream",
     "text": [
      "100%|██████████| 328/328 [00:00<00:00, 383.98it/s]\n"
     ]
    },
    {
     "name": "stdout",
     "output_type": "stream",
     "text": [
      "processing listen_epochs_pre_03.fif\n"
     ]
    },
    {
     "name": "stderr",
     "output_type": "stream",
     "text": [
      "100%|██████████| 317/317 [00:00<00:00, 382.63it/s]\n"
     ]
    },
    {
     "name": "stdout",
     "output_type": "stream",
     "text": [
      "processing listen_epochs_pre_04.fif\n"
     ]
    },
    {
     "name": "stderr",
     "output_type": "stream",
     "text": [
      "100%|██████████| 328/328 [00:00<00:00, 377.49it/s]\n"
     ]
    },
    {
     "name": "stdout",
     "output_type": "stream",
     "text": [
      "processing listen_epochs_pre_05.fif\n"
     ]
    },
    {
     "name": "stderr",
     "output_type": "stream",
     "text": [
      "100%|██████████| 328/328 [00:00<00:00, 375.60it/s]\n"
     ]
    },
    {
     "name": "stdout",
     "output_type": "stream",
     "text": [
      "processing listen_epochs_pre_06.fif\n"
     ]
    },
    {
     "name": "stderr",
     "output_type": "stream",
     "text": [
      "100%|██████████| 328/328 [00:00<00:00, 381.47it/s]\n"
     ]
    },
    {
     "name": "stdout",
     "output_type": "stream",
     "text": [
      "processing listen_epochs_pre_07.fif\n"
     ]
    },
    {
     "name": "stderr",
     "output_type": "stream",
     "text": [
      "100%|██████████| 328/328 [00:00<00:00, 368.06it/s]\n"
     ]
    },
    {
     "name": "stdout",
     "output_type": "stream",
     "text": [
      "processing listen_epochs_pre_08.fif\n"
     ]
    },
    {
     "name": "stderr",
     "output_type": "stream",
     "text": [
      "100%|██████████| 328/328 [00:00<00:00, 380.98it/s]\n"
     ]
    },
    {
     "name": "stdout",
     "output_type": "stream",
     "text": [
      "processing listen_epochs_pre_09.fif\n"
     ]
    },
    {
     "name": "stderr",
     "output_type": "stream",
     "text": [
      "100%|██████████| 328/328 [00:00<00:00, 381.45it/s]\n"
     ]
    },
    {
     "name": "stdout",
     "output_type": "stream",
     "text": [
      "processing listen_epochs_pre_10.fif\n"
     ]
    },
    {
     "name": "stderr",
     "output_type": "stream",
     "text": [
      "100%|██████████| 328/328 [00:00<00:00, 373.32it/s]\n"
     ]
    },
    {
     "name": "stdout",
     "output_type": "stream",
     "text": [
      "processing listen_epochs_pre_11.fif\n"
     ]
    },
    {
     "name": "stderr",
     "output_type": "stream",
     "text": [
      "100%|██████████| 328/328 [00:00<00:00, 382.08it/s]\n"
     ]
    },
    {
     "name": "stdout",
     "output_type": "stream",
     "text": [
      "processing listen_epochs_pre_12.fif\n"
     ]
    },
    {
     "name": "stderr",
     "output_type": "stream",
     "text": [
      "100%|██████████| 328/328 [00:00<00:00, 383.37it/s]\n"
     ]
    },
    {
     "name": "stdout",
     "output_type": "stream",
     "text": [
      "processing listen_epochs_pre_13.fif\n"
     ]
    },
    {
     "name": "stderr",
     "output_type": "stream",
     "text": [
      "100%|██████████| 328/328 [00:00<00:00, 383.61it/s]\n"
     ]
    },
    {
     "name": "stdout",
     "output_type": "stream",
     "text": [
      "processing listen_epochs_pre_14.fif\n"
     ]
    },
    {
     "name": "stderr",
     "output_type": "stream",
     "text": [
      "100%|██████████| 328/328 [00:00<00:00, 382.96it/s]\n"
     ]
    },
    {
     "name": "stdout",
     "output_type": "stream",
     "text": [
      "processing listen_epochs_pre_15.fif\n"
     ]
    },
    {
     "name": "stderr",
     "output_type": "stream",
     "text": [
      "100%|██████████| 328/328 [00:00<00:00, 378.36it/s]\n"
     ]
    },
    {
     "name": "stdout",
     "output_type": "stream",
     "text": [
      "processing listen_epochs_pre_16.fif\n"
     ]
    },
    {
     "name": "stderr",
     "output_type": "stream",
     "text": [
      "100%|██████████| 328/328 [00:00<00:00, 375.53it/s]\n"
     ]
    },
    {
     "name": "stdout",
     "output_type": "stream",
     "text": [
      "processing listen_epochs_pre_17.fif\n"
     ]
    },
    {
     "name": "stderr",
     "output_type": "stream",
     "text": [
      "100%|██████████| 319/319 [00:00<00:00, 383.18it/s]\n"
     ]
    },
    {
     "name": "stdout",
     "output_type": "stream",
     "text": [
      "processing listen_epochs_pre_18.fif\n"
     ]
    },
    {
     "name": "stderr",
     "output_type": "stream",
     "text": [
      "100%|██████████| 328/328 [00:00<00:00, 381.36it/s]\n"
     ]
    },
    {
     "name": "stdout",
     "output_type": "stream",
     "text": [
      "processing listen_epochs_pre_19.fif\n"
     ]
    },
    {
     "name": "stderr",
     "output_type": "stream",
     "text": [
      "100%|██████████| 328/328 [00:00<00:00, 382.24it/s]\n"
     ]
    },
    {
     "name": "stdout",
     "output_type": "stream",
     "text": [
      "processing listen_epochs_pre_20.fif\n"
     ]
    },
    {
     "name": "stderr",
     "output_type": "stream",
     "text": [
      "100%|██████████| 328/328 [00:00<00:00, 382.22it/s]\n"
     ]
    },
    {
     "name": "stdout",
     "output_type": "stream",
     "text": [
      "processing listen_epochs_pre_21.fif\n"
     ]
    },
    {
     "name": "stderr",
     "output_type": "stream",
     "text": [
      "100%|██████████| 328/328 [00:00<00:00, 384.08it/s]\n"
     ]
    }
   ],
   "source": [
    "\n",
    "wavelet_batch(subjects_to_process, ch_to_process, epochs_dir, wavelet_dir, wavelet_params, overwrite=True)"
   ]
  }
 ],
 "metadata": {
  "kernelspec": {
   "display_name": "eelbrain-cnsp",
   "language": "python",
   "name": "python3"
  },
  "language_info": {
   "codemirror_mode": {
    "name": "ipython",
    "version": 3
   },
   "file_extension": ".py",
   "mimetype": "text/x-python",
   "name": "python",
   "nbconvert_exporter": "python",
   "pygments_lexer": "ipython3",
   "version": "3.13.0"
  },
  "orig_nbformat": 4
 },
 "nbformat": 4,
 "nbformat_minor": 2
}
