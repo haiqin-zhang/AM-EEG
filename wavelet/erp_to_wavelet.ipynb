{
 "cells": [
  {
   "cell_type": "code",
   "execution_count": 2,
   "metadata": {},
   "outputs": [],
   "source": [
    "import matplotlib.pyplot as plt\n",
    "import matplotlib.ticker as ticker\n",
    "import numpy as np\n",
    "import pandas as pd\n",
    "\n",
    "import scipy\n",
    "import pywt\n",
    "import mne\n",
    "\n",
    "import sys\n",
    "from tqdm import tqdm\n",
    "\n",
    "\n",
    "sys.path.append('../utils')\n",
    "from ERP_utils import *\n",
    "from update_sub_lists import *\n",
    "from wavelet_utils import *\n",
    "import glob\n",
    "import os\n",
    "\n",
    "\n",
    "#import seaborn as sns\n",
    "import warnings\n",
    "\n",
    "# Suppress all FutureWarnings\n",
    "warnings.simplefilter(action='ignore', category=FutureWarning)"
   ]
  },
  {
   "cell_type": "code",
   "execution_count": 10,
   "metadata": {},
   "outputs": [
    {
     "name": "stdout",
     "output_type": "stream",
     "text": [
      "processing subjects: ['01', '04', '05', '06', '07', '08', '09', '12']\n",
      "processing channels: all\n"
     ]
    }
   ],
   "source": [
    "task = 'error'\n",
    "erp_window = '_n05to05'\n",
    "freq_high = 30\n",
    "\n",
    "###### CHOOSE SUBJECTS\n",
    "#subjects_to_process = find_existing_subjects(task = task, period = 'pre',erp_window=erp_window,freq_high=freq_high) #subs that exist in pre should exist in post\n",
    "subjects_to_process = ['01','04','05','06','07','08','09','12']\n",
    "\n",
    "##### CHOOSE CHANNELS\n",
    "ch_to_process = 'all'\n",
    "#ch_to_process = ch_index(['Cz'])\n",
    "\n",
    "\n",
    "\n",
    "wavelet_params = {\n",
    "    'fs' :128 , # example sampling frequency in Hz\n",
    "    'centerfreq' : 1 ,\n",
    "    'bandwidth': 1.5,\n",
    "    'level': 10,\n",
    "    'scale_values':[6, 150, 40]\n",
    "}\n",
    "\n",
    "#epochs_dir = f'/Users/cindyzhang/Documents/M2/Audiomotor_Piano/AM-EEG/analysis_{task}/{task}_epochs_data{erp_window}_{freq_high}Hz'\n",
    "epochs_dir = f'/Users/cindyzhang/Documents/M2/Audiomotor_Piano/AM-EEG/analysis_error/error_epochs_data_n05to05_30Hz_corrected'\n",
    "\n",
    "wavelet_dir = f\"./wavelets_mat_{task}_{erp_window}_{freq_high}Hz_time\"\n",
    "\n",
    "print('processing subjects:', subjects_to_process)\n",
    "print('processing channels:', ch_to_process)\n",
    "\n",
    "mne.set_log_level('CRITICAL')"
   ]
  },
  {
   "cell_type": "markdown",
   "metadata": {},
   "source": [
    "## Batch processing wavelets"
   ]
  },
  {
   "cell_type": "code",
   "execution_count": 11,
   "metadata": {},
   "outputs": [],
   "source": [
    "def wavelet_batch(subjects_to_process, channels, ep_dir, output_dir, wavelet_params, ave = False, overwrite = False, erp_begin = -0.5, erp_end = 0.5):\n",
    "\n",
    "    \"\"\"\n",
    "    wavelet transforms epochs trial by trial for each subject\n",
    "\n",
    "    \n",
    "    subjects_to_process: list of subjects\n",
    "    channels: 'all' or a list of channels. If not all, will only save the wavelet transformed channels and others are discarded\n",
    "    ep_dir: directory where epochs are saved\n",
    "    output_dir: dir to save wavelet data\n",
    "    wavelet_params: dict with wavelet parameters. Example:\n",
    "        wavelet_params = {\n",
    "                'fs' :128 , # example sampling frequency in Hz\n",
    "                'centerfreq' : 5 ,\n",
    "                'bandwidth': 1.5,\n",
    "                'level': 10,\n",
    "                'scale_values':[6, 150, 40]\n",
    "            }\n",
    "\n",
    "    ave: whether to average spectrograms all the trials before saving (TO IMPLEMENT)\n",
    "\n",
    "     ----\n",
    "    saves wavelet transforms to .mat files\n",
    "    'wavelet': wavelet data of dim n_trials x n_channels x spect_freqs x spect_times\n",
    "    \"\"\"\n",
    "    if not os.path.exists(output_dir):\n",
    "        os.mkdir(output_dir)\n",
    "\n",
    "    times = create_erp_times(erp_begin, erp_end, 128)\n",
    "\n",
    "    #check file type\n",
    "    for fif_name in sorted(os.listdir(ep_dir)):\n",
    "        if not fif_name.endswith(\".fif\"):\n",
    "            print('skipping file, not epochs:', fif_name)\n",
    "            continue\n",
    "\n",
    "    #identify subject\n",
    "        subject_id = fif_name.split(\"_\")[-1].split(\".\")[0]\n",
    "        if subject_id not in subjects_to_process:\n",
    "           # print(f'subject {subject_id} not in subjects to process. skipping...')\n",
    "            continue\n",
    "\n",
    "        if any(sub in fif_name for sub in ('inv', 'firsts', 'norm', 'shinv')):\n",
    "            continue\n",
    "\n",
    "        mat_name = fif_name.split(\".\")[0].replace(\"epochs\", \"wavelet\")\n",
    "        mat_path = os.path.join(output_dir, f\"{mat_name}.mat\")\n",
    "\n",
    "        if not os.path.exists(mat_path) or overwrite: #skip if the file already exists\n",
    "            print('processing', fif_name)\n",
    "            \n",
    "            #get data to loop over\n",
    "            epochs = mne.read_epochs(os.path.join(ep_dir, fif_name))\n",
    "\n",
    "            \n",
    "            epochs_data = epochs.get_data()\n",
    "\n",
    "            wavelet_data = []\n",
    "            #for trial in range(10):\n",
    "            for trial in tqdm(range(epochs_data.shape[0])):\n",
    "                \n",
    "                #initiate storage matrix\n",
    "                n_freqs = wavelet_params['scale_values'][2]\n",
    "                n_times = times.shape[0]\n",
    "                if isinstance(channels, str) and channels == 'all':\n",
    "                    trial_wavelet = np.zeros((64, n_freqs, n_times))\n",
    "                    ch_towav = np.arange(64) \n",
    "                else:\n",
    "                    trial_wavelet = np.zeros((len(channels), n_freqs, n_times)) \n",
    "                    ch_towav = channels\n",
    "\n",
    "                for j, ch in enumerate(ch_towav):\n",
    "                    trial_data = epochs_data[trial, ch, :]\n",
    "\n",
    "                    cwtmatr, freqs, wavelet = morwav_trans(trial_data, \n",
    "                                                    centerfreq=wavelet_params['centerfreq'], \n",
    "                                                    bandwidth=wavelet_params['bandwidth'], \n",
    "                                                    scale_values=wavelet_params['scale_values'])\n",
    "\n",
    "                    cwtmatr_abs = np.abs(cwtmatr)\n",
    "                    trial_wavelet[j, :,:] = cwtmatr_abs\n",
    "\n",
    "                wavelet_data.append(trial_wavelet)\n",
    "\n",
    "            #save subject data to mat file\n",
    "            wavelet_data = np.array(wavelet_data)\n",
    "            wavelet_tosave = {\n",
    "                'wavelet_transform':wavelet_data\n",
    "            }\n",
    "\n",
    "            savemat(mat_path, wavelet_tosave)\n",
    "    \n",
    "    #processing record for wavelet\n",
    "    \n",
    "    wavelet_record = {\n",
    "        'freqs': freqs,\n",
    "        'wavelet': wavelet,\n",
    "        'subjects': subjects_to_process,\n",
    "        'centerfreq': wavelet_params['centerfreq'],\n",
    "        'bandwidth': wavelet_params['bandwidth'],\n",
    "        'scale_values': wavelet_params['scale_values'],\n",
    "        'times': times, \n",
    "        'channels': channels\n",
    "    }\n",
    "    savemat(os.path.join(output_dir, f'wavelet_record.mat'), wavelet_record)\n"
   ]
  },
  {
   "cell_type": "code",
   "execution_count": 12,
   "metadata": {},
   "outputs": [
    {
     "name": "stdout",
     "output_type": "stream",
     "text": [
      "processing error_epochs_all_post_01.fif\n"
     ]
    },
    {
     "name": "stderr",
     "output_type": "stream",
     "text": [
      "100%|██████████| 390/390 [02:06<00:00,  3.08it/s]\n"
     ]
    },
    {
     "name": "stdout",
     "output_type": "stream",
     "text": [
      "processing error_epochs_all_post_04.fif\n"
     ]
    },
    {
     "name": "stderr",
     "output_type": "stream",
     "text": [
      "100%|██████████| 362/362 [01:56<00:00,  3.12it/s]\n"
     ]
    },
    {
     "name": "stdout",
     "output_type": "stream",
     "text": [
      "processing error_epochs_all_post_05.fif\n"
     ]
    },
    {
     "name": "stderr",
     "output_type": "stream",
     "text": [
      "100%|██████████| 275/275 [02:07<00:00,  2.15it/s]\n"
     ]
    },
    {
     "name": "stdout",
     "output_type": "stream",
     "text": [
      "processing error_epochs_all_post_06.fif\n"
     ]
    },
    {
     "name": "stderr",
     "output_type": "stream",
     "text": [
      "100%|██████████| 386/386 [02:22<00:00,  2.70it/s]\n"
     ]
    },
    {
     "name": "stdout",
     "output_type": "stream",
     "text": [
      "processing error_epochs_all_post_07.fif\n"
     ]
    },
    {
     "name": "stderr",
     "output_type": "stream",
     "text": [
      "100%|██████████| 308/308 [01:31<00:00,  3.36it/s]\n"
     ]
    },
    {
     "name": "stdout",
     "output_type": "stream",
     "text": [
      "processing error_epochs_all_post_08.fif\n"
     ]
    },
    {
     "name": "stderr",
     "output_type": "stream",
     "text": [
      "100%|██████████| 325/325 [01:35<00:00,  3.40it/s]\n"
     ]
    },
    {
     "name": "stdout",
     "output_type": "stream",
     "text": [
      "processing error_epochs_all_post_09.fif\n"
     ]
    },
    {
     "name": "stderr",
     "output_type": "stream",
     "text": [
      "100%|██████████| 381/381 [01:52<00:00,  3.40it/s]\n"
     ]
    },
    {
     "name": "stdout",
     "output_type": "stream",
     "text": [
      "processing error_epochs_all_post_12.fif\n"
     ]
    },
    {
     "name": "stderr",
     "output_type": "stream",
     "text": [
      "100%|██████████| 358/358 [01:51<00:00,  3.21it/s]\n"
     ]
    },
    {
     "name": "stdout",
     "output_type": "stream",
     "text": [
      "processing error_epochs_all_pre_01.fif\n"
     ]
    },
    {
     "name": "stderr",
     "output_type": "stream",
     "text": [
      "100%|██████████| 285/285 [01:27<00:00,  3.24it/s]\n"
     ]
    },
    {
     "name": "stdout",
     "output_type": "stream",
     "text": [
      "processing error_epochs_all_pre_04.fif\n"
     ]
    },
    {
     "name": "stderr",
     "output_type": "stream",
     "text": [
      "100%|██████████| 185/185 [01:26<00:00,  2.14it/s]\n"
     ]
    },
    {
     "name": "stdout",
     "output_type": "stream",
     "text": [
      "processing error_epochs_all_pre_05.fif\n"
     ]
    },
    {
     "name": "stderr",
     "output_type": "stream",
     "text": [
      "100%|██████████| 303/303 [01:59<00:00,  2.53it/s]\n"
     ]
    },
    {
     "name": "stdout",
     "output_type": "stream",
     "text": [
      "processing error_epochs_all_pre_06.fif\n"
     ]
    },
    {
     "name": "stderr",
     "output_type": "stream",
     "text": [
      "100%|██████████| 369/369 [02:29<00:00,  2.48it/s]\n"
     ]
    },
    {
     "name": "stdout",
     "output_type": "stream",
     "text": [
      "processing error_epochs_all_pre_07.fif\n"
     ]
    },
    {
     "name": "stderr",
     "output_type": "stream",
     "text": [
      "100%|██████████| 373/373 [01:59<00:00,  3.13it/s]\n"
     ]
    },
    {
     "name": "stdout",
     "output_type": "stream",
     "text": [
      "processing error_epochs_all_pre_08.fif\n"
     ]
    },
    {
     "name": "stderr",
     "output_type": "stream",
     "text": [
      "100%|██████████| 267/267 [01:24<00:00,  3.16it/s]\n"
     ]
    },
    {
     "name": "stdout",
     "output_type": "stream",
     "text": [
      "processing error_epochs_all_pre_09.fif\n"
     ]
    },
    {
     "name": "stderr",
     "output_type": "stream",
     "text": [
      "100%|██████████| 394/394 [02:14<00:00,  2.93it/s]\n"
     ]
    },
    {
     "name": "stdout",
     "output_type": "stream",
     "text": [
      "processing error_epochs_all_pre_12.fif\n"
     ]
    },
    {
     "name": "stderr",
     "output_type": "stream",
     "text": [
      "100%|██████████| 281/281 [01:53<00:00,  2.48it/s]\n"
     ]
    },
    {
     "name": "stdout",
     "output_type": "stream",
     "text": [
      "processing error_epochs_others_post_01.fif\n"
     ]
    },
    {
     "name": "stderr",
     "output_type": "stream",
     "text": [
      "100%|██████████| 297/297 [01:38<00:00,  3.03it/s]\n"
     ]
    },
    {
     "name": "stdout",
     "output_type": "stream",
     "text": [
      "processing error_epochs_others_post_04.fif\n"
     ]
    },
    {
     "name": "stderr",
     "output_type": "stream",
     "text": [
      "100%|██████████| 307/307 [02:07<00:00,  2.41it/s]\n"
     ]
    },
    {
     "name": "stdout",
     "output_type": "stream",
     "text": [
      "processing error_epochs_others_post_05.fif\n"
     ]
    },
    {
     "name": "stderr",
     "output_type": "stream",
     "text": [
      "100%|██████████| 199/199 [01:03<00:00,  3.11it/s]\n"
     ]
    },
    {
     "name": "stdout",
     "output_type": "stream",
     "text": [
      "processing error_epochs_others_post_06.fif\n"
     ]
    },
    {
     "name": "stderr",
     "output_type": "stream",
     "text": [
      "100%|██████████| 293/293 [01:30<00:00,  3.23it/s]\n"
     ]
    },
    {
     "name": "stdout",
     "output_type": "stream",
     "text": [
      "processing error_epochs_others_post_07.fif\n"
     ]
    },
    {
     "name": "stderr",
     "output_type": "stream",
     "text": [
      "100%|██████████| 218/218 [01:02<00:00,  3.49it/s]\n"
     ]
    },
    {
     "name": "stdout",
     "output_type": "stream",
     "text": [
      "processing error_epochs_others_post_08.fif\n"
     ]
    },
    {
     "name": "stderr",
     "output_type": "stream",
     "text": [
      "100%|██████████| 244/244 [01:10<00:00,  3.48it/s]\n"
     ]
    },
    {
     "name": "stdout",
     "output_type": "stream",
     "text": [
      "processing error_epochs_others_post_09.fif\n"
     ]
    },
    {
     "name": "stderr",
     "output_type": "stream",
     "text": [
      "100%|██████████| 288/288 [01:23<00:00,  3.45it/s]\n"
     ]
    },
    {
     "name": "stdout",
     "output_type": "stream",
     "text": [
      "processing error_epochs_others_post_12.fif\n"
     ]
    },
    {
     "name": "stderr",
     "output_type": "stream",
     "text": [
      "100%|██████████| 337/337 [01:36<00:00,  3.51it/s]\n"
     ]
    },
    {
     "name": "stdout",
     "output_type": "stream",
     "text": [
      "processing error_epochs_others_pre_01.fif\n"
     ]
    },
    {
     "name": "stderr",
     "output_type": "stream",
     "text": [
      "100%|██████████| 224/224 [01:03<00:00,  3.52it/s]\n"
     ]
    },
    {
     "name": "stdout",
     "output_type": "stream",
     "text": [
      "processing error_epochs_others_pre_04.fif\n"
     ]
    },
    {
     "name": "stderr",
     "output_type": "stream",
     "text": [
      "100%|██████████| 154/154 [00:44<00:00,  3.48it/s]\n"
     ]
    },
    {
     "name": "stdout",
     "output_type": "stream",
     "text": [
      "processing error_epochs_others_pre_05.fif\n"
     ]
    },
    {
     "name": "stderr",
     "output_type": "stream",
     "text": [
      "100%|██████████| 250/250 [01:11<00:00,  3.47it/s]\n"
     ]
    },
    {
     "name": "stdout",
     "output_type": "stream",
     "text": [
      "processing error_epochs_others_pre_06.fif\n"
     ]
    },
    {
     "name": "stderr",
     "output_type": "stream",
     "text": [
      "100%|██████████| 273/273 [01:17<00:00,  3.51it/s]\n"
     ]
    },
    {
     "name": "stdout",
     "output_type": "stream",
     "text": [
      "processing error_epochs_others_pre_07.fif\n"
     ]
    },
    {
     "name": "stderr",
     "output_type": "stream",
     "text": [
      "100%|██████████| 353/353 [01:40<00:00,  3.51it/s]\n"
     ]
    },
    {
     "name": "stdout",
     "output_type": "stream",
     "text": [
      "processing error_epochs_others_pre_08.fif\n"
     ]
    },
    {
     "name": "stderr",
     "output_type": "stream",
     "text": [
      "100%|██████████| 217/217 [01:02<00:00,  3.49it/s]\n"
     ]
    },
    {
     "name": "stdout",
     "output_type": "stream",
     "text": [
      "processing error_epochs_others_pre_09.fif\n"
     ]
    },
    {
     "name": "stderr",
     "output_type": "stream",
     "text": [
      "100%|██████████| 298/298 [01:24<00:00,  3.51it/s]\n"
     ]
    },
    {
     "name": "stdout",
     "output_type": "stream",
     "text": [
      "processing error_epochs_others_pre_12.fif\n"
     ]
    },
    {
     "name": "stderr",
     "output_type": "stream",
     "text": [
      "100%|██████████| 260/260 [01:13<00:00,  3.52it/s]\n"
     ]
    }
   ],
   "source": [
    "\n",
    "wavelet_batch(subjects_to_process, ch_to_process, epochs_dir, wavelet_dir, wavelet_params, overwrite=False)"
   ]
  }
 ],
 "metadata": {
  "kernelspec": {
   "display_name": "eelbrain-cnsp",
   "language": "python",
   "name": "python3"
  },
  "language_info": {
   "codemirror_mode": {
    "name": "ipython",
    "version": 3
   },
   "file_extension": ".py",
   "mimetype": "text/x-python",
   "name": "python",
   "nbconvert_exporter": "python",
   "pygments_lexer": "ipython3",
   "version": "3.13.0"
  },
  "orig_nbformat": 4
 },
 "nbformat": 4,
 "nbformat_minor": 2
}
