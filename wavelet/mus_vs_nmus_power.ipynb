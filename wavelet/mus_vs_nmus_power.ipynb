{
 "cells": [
  {
   "cell_type": "code",
   "execution_count": 1,
   "metadata": {},
   "outputs": [],
   "source": [
    "import matplotlib.pyplot as plt\n",
    "import matplotlib.ticker as ticker\n",
    "import numpy as np\n",
    "import pandas as pd\n",
    "import scipy.stats as stats\n",
    "\n",
    "import scipy\n",
    "import pywt\n",
    "import mne\n",
    "import math\n",
    "\n",
    "import sys\n",
    "from tqdm import tqdm\n",
    "\n",
    "\n",
    "sys.path.append('../utils')\n",
    "from ERP_utils import *\n",
    "from update_sub_lists import *\n",
    "from wavelet_utils import *\n",
    "from stats_utils import *\n",
    "import glob\n",
    "import os\n",
    "\n",
    "\n",
    "import seaborn as sns\n",
    "import warnings\n",
    "\n",
    "# Suppress all FutureWarnings\n",
    "warnings.simplefilter(action='ignore', category=FutureWarning)"
   ]
  },
  {
   "cell_type": "markdown",
   "metadata": {},
   "source": [
    "### Wavelet for multiple subjects listen and motor"
   ]
  },
  {
   "cell_type": "code",
   "execution_count": 2,
   "metadata": {},
   "outputs": [
    {
     "name": "stdout",
     "output_type": "stream",
     "text": [
      "processing subjects ['01', '02', '03', '04', '05', '06', '07', '08', '09', '10', '11', '12', '13', '14', '15', '16', '17', '18', '19', '20', '21']\n"
     ]
    }
   ],
   "source": [
    "task = 'listen'\n",
    "ch_to_visualize = ['Cz']\n",
    "\n",
    "wavelet_dir = f'/Users/cindyzhang/Documents/M2/Audiomotor_Piano/AM-EEG/wavelet/wavelets_mat_{task}__n05to05_30Hz_all_ave_freq'\n",
    "subjects_to_process = find_existing_subjects(wavelet_dir)\n",
    "\n",
    "good_listen_subjects, good_motor_subjects, musicians, nonmusicians = load_subject_lists()\n",
    "\n",
    "print('processing subjects', subjects_to_process)\n",
    "\n",
    "wavelet_trans_info = loadmat(os.path.join(wavelet_dir,f'wavelet_record.mat'))\n",
    "times = wavelet_trans_info['times'].squeeze()\n",
    "freqs = wavelet_trans_info['freqs'].squeeze()"
   ]
  },
  {
   "cell_type": "code",
   "execution_count": 3,
   "metadata": {},
   "outputs": [
    {
     "name": "stdout",
     "output_type": "stream",
     "text": [
      "wavelet sub shape: (40, 129)\n",
      "skipping sub record\n"
     ]
    }
   ],
   "source": [
    "\"\"\"period = 'pre'\n",
    "task = 'listen'\n",
    "channels = 'Cz'\"\"\"\n",
    "\n",
    "power_df_all = power_over_subs(subjects_to_process, wavelet_dir, freqs_to_sum='all', already_ave=True, ch_to_process = ch_to_visualize)\n",
    "\n",
    "power_all_pre = power_df_all.query(\"period == 'pre'\")\n",
    "power_all_post = power_df_all.query(\"period == 'post'\")"
   ]
  },
  {
   "cell_type": "code",
   "execution_count": 26,
   "metadata": {},
   "outputs": [
    {
     "name": "stdout",
     "output_type": "stream",
     "text": [
      "wavelet sub shape: (40, 129)\n",
      "skipping sub record\n"
     ]
    }
   ],
   "source": [
    "power_df_610 = power_over_subs(subjects_to_process, wavelet_dir, already_ave=True, freqs_to_sum=[12,30], ch_to_process = ['Cz'])\n"
   ]
  },
  {
   "cell_type": "code",
   "execution_count": 27,
   "metadata": {},
   "outputs": [],
   "source": [
    "scores_df = pd.read_csv('/Users/cindyzhang/Documents/M2/Audiomotor_Piano/AM-EEG/utils/training_scores_rank.csv')\n"
   ]
  },
  {
   "cell_type": "code",
   "execution_count": 28,
   "metadata": {},
   "outputs": [],
   "source": [
    "scores_df['subject'] = scores_df['subject'].astype(int).apply(lambda x: f'{x:02d}')\n"
   ]
  },
  {
   "cell_type": "code",
   "execution_count": 29,
   "metadata": {},
   "outputs": [],
   "source": [
    "power_ranked = power_df_610.merge(scores_df, on = ['subject'])"
   ]
  },
  {
   "cell_type": "code",
   "execution_count": 30,
   "metadata": {},
   "outputs": [],
   "source": [
    "power_ranked_pre = power_ranked.query('period == \"pre\"')\n",
    "power_ranked_post = power_ranked.query('period == \"post\"')"
   ]
  },
  {
   "cell_type": "code",
   "execution_count": 31,
   "metadata": {},
   "outputs": [
    {
     "data": {
      "text/html": [
       "<div>\n",
       "<style scoped>\n",
       "    .dataframe tbody tr th:only-of-type {\n",
       "        vertical-align: middle;\n",
       "    }\n",
       "\n",
       "    .dataframe tbody tr th {\n",
       "        vertical-align: top;\n",
       "    }\n",
       "\n",
       "    .dataframe thead th {\n",
       "        text-align: right;\n",
       "    }\n",
       "</style>\n",
       "<table border=\"1\" class=\"dataframe\">\n",
       "  <thead>\n",
       "    <tr style=\"text-align: right;\">\n",
       "      <th></th>\n",
       "      <th>subject</th>\n",
       "      <th>musician_x</th>\n",
       "      <th>period</th>\n",
       "      <th>power</th>\n",
       "      <th>Unnamed: 0</th>\n",
       "      <th>score</th>\n",
       "      <th>musician_y</th>\n",
       "      <th>rank</th>\n",
       "    </tr>\n",
       "  </thead>\n",
       "  <tbody>\n",
       "    <tr>\n",
       "      <th>1</th>\n",
       "      <td>01</td>\n",
       "      <td>0</td>\n",
       "      <td>pre</td>\n",
       "      <td>4.873706e-09</td>\n",
       "      <td>16</td>\n",
       "      <td>2.602410</td>\n",
       "      <td>0</td>\n",
       "      <td>17</td>\n",
       "    </tr>\n",
       "    <tr>\n",
       "      <th>3</th>\n",
       "      <td>02</td>\n",
       "      <td>1</td>\n",
       "      <td>pre</td>\n",
       "      <td>6.772040e-09</td>\n",
       "      <td>3</td>\n",
       "      <td>3.698795</td>\n",
       "      <td>1</td>\n",
       "      <td>4</td>\n",
       "    </tr>\n",
       "    <tr>\n",
       "      <th>5</th>\n",
       "      <td>03</td>\n",
       "      <td>0</td>\n",
       "      <td>pre</td>\n",
       "      <td>9.746506e-09</td>\n",
       "      <td>5</td>\n",
       "      <td>3.469880</td>\n",
       "      <td>0</td>\n",
       "      <td>6</td>\n",
       "    </tr>\n",
       "    <tr>\n",
       "      <th>7</th>\n",
       "      <td>04</td>\n",
       "      <td>0</td>\n",
       "      <td>pre</td>\n",
       "      <td>7.770045e-09</td>\n",
       "      <td>19</td>\n",
       "      <td>2.192771</td>\n",
       "      <td>0</td>\n",
       "      <td>20</td>\n",
       "    </tr>\n",
       "    <tr>\n",
       "      <th>9</th>\n",
       "      <td>05</td>\n",
       "      <td>0</td>\n",
       "      <td>pre</td>\n",
       "      <td>1.179194e-08</td>\n",
       "      <td>17</td>\n",
       "      <td>2.313253</td>\n",
       "      <td>0</td>\n",
       "      <td>18</td>\n",
       "    </tr>\n",
       "    <tr>\n",
       "      <th>11</th>\n",
       "      <td>06</td>\n",
       "      <td>1</td>\n",
       "      <td>pre</td>\n",
       "      <td>1.169928e-08</td>\n",
       "      <td>12</td>\n",
       "      <td>3.060241</td>\n",
       "      <td>1</td>\n",
       "      <td>13</td>\n",
       "    </tr>\n",
       "    <tr>\n",
       "      <th>13</th>\n",
       "      <td>07</td>\n",
       "      <td>1</td>\n",
       "      <td>pre</td>\n",
       "      <td>6.627163e-09</td>\n",
       "      <td>11</td>\n",
       "      <td>3.180723</td>\n",
       "      <td>1</td>\n",
       "      <td>12</td>\n",
       "    </tr>\n",
       "    <tr>\n",
       "      <th>15</th>\n",
       "      <td>08</td>\n",
       "      <td>0</td>\n",
       "      <td>pre</td>\n",
       "      <td>9.779460e-09</td>\n",
       "      <td>13</td>\n",
       "      <td>3.036145</td>\n",
       "      <td>0</td>\n",
       "      <td>14</td>\n",
       "    </tr>\n",
       "    <tr>\n",
       "      <th>17</th>\n",
       "      <td>09</td>\n",
       "      <td>0</td>\n",
       "      <td>pre</td>\n",
       "      <td>2.961503e-09</td>\n",
       "      <td>9</td>\n",
       "      <td>3.325301</td>\n",
       "      <td>0</td>\n",
       "      <td>10</td>\n",
       "    </tr>\n",
       "    <tr>\n",
       "      <th>19</th>\n",
       "      <td>10</td>\n",
       "      <td>0</td>\n",
       "      <td>pre</td>\n",
       "      <td>4.765000e-09</td>\n",
       "      <td>8</td>\n",
       "      <td>3.373494</td>\n",
       "      <td>0</td>\n",
       "      <td>9</td>\n",
       "    </tr>\n",
       "    <tr>\n",
       "      <th>21</th>\n",
       "      <td>11</td>\n",
       "      <td>0</td>\n",
       "      <td>pre</td>\n",
       "      <td>7.074813e-09</td>\n",
       "      <td>20</td>\n",
       "      <td>1.975904</td>\n",
       "      <td>0</td>\n",
       "      <td>21</td>\n",
       "    </tr>\n",
       "    <tr>\n",
       "      <th>23</th>\n",
       "      <td>12</td>\n",
       "      <td>1</td>\n",
       "      <td>pre</td>\n",
       "      <td>1.098565e-08</td>\n",
       "      <td>4</td>\n",
       "      <td>3.674699</td>\n",
       "      <td>1</td>\n",
       "      <td>5</td>\n",
       "    </tr>\n",
       "    <tr>\n",
       "      <th>25</th>\n",
       "      <td>13</td>\n",
       "      <td>1</td>\n",
       "      <td>pre</td>\n",
       "      <td>2.568080e-08</td>\n",
       "      <td>0</td>\n",
       "      <td>3.903614</td>\n",
       "      <td>1</td>\n",
       "      <td>1</td>\n",
       "    </tr>\n",
       "    <tr>\n",
       "      <th>27</th>\n",
       "      <td>14</td>\n",
       "      <td>1</td>\n",
       "      <td>pre</td>\n",
       "      <td>1.962916e-08</td>\n",
       "      <td>7</td>\n",
       "      <td>3.409639</td>\n",
       "      <td>1</td>\n",
       "      <td>8</td>\n",
       "    </tr>\n",
       "    <tr>\n",
       "      <th>29</th>\n",
       "      <td>15</td>\n",
       "      <td>1</td>\n",
       "      <td>pre</td>\n",
       "      <td>4.707585e-09</td>\n",
       "      <td>2</td>\n",
       "      <td>3.783133</td>\n",
       "      <td>1</td>\n",
       "      <td>3</td>\n",
       "    </tr>\n",
       "    <tr>\n",
       "      <th>31</th>\n",
       "      <td>16</td>\n",
       "      <td>0</td>\n",
       "      <td>pre</td>\n",
       "      <td>7.812396e-09</td>\n",
       "      <td>18</td>\n",
       "      <td>2.228916</td>\n",
       "      <td>0</td>\n",
       "      <td>19</td>\n",
       "    </tr>\n",
       "    <tr>\n",
       "      <th>33</th>\n",
       "      <td>17</td>\n",
       "      <td>1</td>\n",
       "      <td>pre</td>\n",
       "      <td>8.658976e-09</td>\n",
       "      <td>6</td>\n",
       "      <td>3.421687</td>\n",
       "      <td>1</td>\n",
       "      <td>7</td>\n",
       "    </tr>\n",
       "    <tr>\n",
       "      <th>35</th>\n",
       "      <td>18</td>\n",
       "      <td>1</td>\n",
       "      <td>pre</td>\n",
       "      <td>1.301145e-08</td>\n",
       "      <td>1</td>\n",
       "      <td>3.855422</td>\n",
       "      <td>1</td>\n",
       "      <td>2</td>\n",
       "    </tr>\n",
       "    <tr>\n",
       "      <th>37</th>\n",
       "      <td>19</td>\n",
       "      <td>0</td>\n",
       "      <td>pre</td>\n",
       "      <td>6.697892e-09</td>\n",
       "      <td>14</td>\n",
       "      <td>2.855422</td>\n",
       "      <td>0</td>\n",
       "      <td>15</td>\n",
       "    </tr>\n",
       "    <tr>\n",
       "      <th>39</th>\n",
       "      <td>20</td>\n",
       "      <td>0</td>\n",
       "      <td>pre</td>\n",
       "      <td>3.427530e-09</td>\n",
       "      <td>15</td>\n",
       "      <td>2.759036</td>\n",
       "      <td>0</td>\n",
       "      <td>16</td>\n",
       "    </tr>\n",
       "    <tr>\n",
       "      <th>41</th>\n",
       "      <td>21</td>\n",
       "      <td>1</td>\n",
       "      <td>pre</td>\n",
       "      <td>3.167748e-09</td>\n",
       "      <td>10</td>\n",
       "      <td>3.301205</td>\n",
       "      <td>1</td>\n",
       "      <td>11</td>\n",
       "    </tr>\n",
       "  </tbody>\n",
       "</table>\n",
       "</div>"
      ],
      "text/plain": [
       "   subject musician_x period         power  Unnamed: 0     score  musician_y  \\\n",
       "1       01          0    pre  4.873706e-09          16  2.602410           0   \n",
       "3       02          1    pre  6.772040e-09           3  3.698795           1   \n",
       "5       03          0    pre  9.746506e-09           5  3.469880           0   \n",
       "7       04          0    pre  7.770045e-09          19  2.192771           0   \n",
       "9       05          0    pre  1.179194e-08          17  2.313253           0   \n",
       "11      06          1    pre  1.169928e-08          12  3.060241           1   \n",
       "13      07          1    pre  6.627163e-09          11  3.180723           1   \n",
       "15      08          0    pre  9.779460e-09          13  3.036145           0   \n",
       "17      09          0    pre  2.961503e-09           9  3.325301           0   \n",
       "19      10          0    pre  4.765000e-09           8  3.373494           0   \n",
       "21      11          0    pre  7.074813e-09          20  1.975904           0   \n",
       "23      12          1    pre  1.098565e-08           4  3.674699           1   \n",
       "25      13          1    pre  2.568080e-08           0  3.903614           1   \n",
       "27      14          1    pre  1.962916e-08           7  3.409639           1   \n",
       "29      15          1    pre  4.707585e-09           2  3.783133           1   \n",
       "31      16          0    pre  7.812396e-09          18  2.228916           0   \n",
       "33      17          1    pre  8.658976e-09           6  3.421687           1   \n",
       "35      18          1    pre  1.301145e-08           1  3.855422           1   \n",
       "37      19          0    pre  6.697892e-09          14  2.855422           0   \n",
       "39      20          0    pre  3.427530e-09          15  2.759036           0   \n",
       "41      21          1    pre  3.167748e-09          10  3.301205           1   \n",
       "\n",
       "    rank  \n",
       "1     17  \n",
       "3      4  \n",
       "5      6  \n",
       "7     20  \n",
       "9     18  \n",
       "11    13  \n",
       "13    12  \n",
       "15    14  \n",
       "17    10  \n",
       "19     9  \n",
       "21    21  \n",
       "23     5  \n",
       "25     1  \n",
       "27     8  \n",
       "29     3  \n",
       "31    19  \n",
       "33     7  \n",
       "35     2  \n",
       "37    15  \n",
       "39    16  \n",
       "41    11  "
      ]
     },
     "execution_count": 31,
     "metadata": {},
     "output_type": "execute_result"
    }
   ],
   "source": [
    "power_ranked_pre"
   ]
  },
  {
   "cell_type": "code",
   "execution_count": 34,
   "metadata": {},
   "outputs": [
    {
     "data": {
      "text/plain": [
       "<matplotlib.collections.PathCollection at 0x141ef3450>"
      ]
     },
     "execution_count": 34,
     "metadata": {},
     "output_type": "execute_result"
    },
    {
     "data": {
      "image/png": "[encoded data removed]",
      "text/plain": [
       "<Figure size 640x480 with 1 Axes>"
      ]
     },
     "metadata": {},
     "output_type": "display_data"
    }
   ],
   "source": [
    "plt.scatter(power_ranked_pre['score'], power_ranked_pre['power'])"
   ]
  },
  {
   "cell_type": "code",
   "execution_count": 35,
   "metadata": {},
   "outputs": [
    {
     "data": {
      "text/plain": [
       "SignificanceResult(statistic=0.18571428571428572, pvalue=0.4202513335237501)"
      ]
     },
     "execution_count": 35,
     "metadata": {},
     "output_type": "execute_result"
    }
   ],
   "source": [
    "stats.spearmanr(power_ranked_post['score'], power_ranked_post['power'])"
   ]
  }
 ],
 "metadata": {
  "kernelspec": {
   "display_name": "eelbrain-cnsp",
   "language": "python",
   "name": "python3"
  },
  "language_info": {
   "codemirror_mode": {
    "name": "ipython",
    "version": 3
   },
   "file_extension": ".py",
   "mimetype": "text/x-python",
   "name": "python",
   "nbconvert_exporter": "python",
   "pygments_lexer": "ipython3",
   "version": "3.11.5"
  },
  "orig_nbformat": 4
 },
 "nbformat": 4,
 "nbformat_minor": 2
}
