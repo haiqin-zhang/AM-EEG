{
 "cells": [
  {
   "cell_type": "code",
   "execution_count": null,
   "metadata": {},
   "outputs": [],
   "source": [
    "import mne\n",
    "from mne.preprocessing import ICA\n",
    "\n",
    "\n",
    "import mtrf\n",
    "from mtrf.model import TRF\n",
    "from mtrf.stats import crossval, nested_crossval\n",
    "#import eelbrain as eel\n",
    "\n",
    "import matplotlib.pyplot as plt\n",
    "import pandas as pd\n",
    "import seaborn as sns\n",
    "import numpy as np\n",
    "import scipy\n",
    "from scipy.io import wavfile, loadmat, savemat\n",
    "from scipy.signal import hilbert\n",
    "\n",
    "import librosa\n",
    "import librosa.display\n",
    "import mido\n",
    "\n",
    "import sys\n",
    "sys.path.append('../utils')\n",
    "from pp_utils import *\n",
    "from plot_utils import *\n",
    "from mTRF_utils import *\n",
    "from midi_utils import *\n",
    "\n",
    "import pickle\n"
   ]
  }
 ],
 "metadata": {
  "language_info": {
   "name": "python"
  },
  "orig_nbformat": 4
 },
 "nbformat": 4,
 "nbformat_minor": 2
}
