{
 "cells": [
  {
   "cell_type": "code",
   "execution_count": 1,
   "metadata": {},
   "outputs": [],
   "source": [
    "import numpy as np\n",
    "import matplotlib.pyplot as plt\n",
    "from scipy.io import loadmat, savemat"
   ]
  },
  {
   "cell_type": "code",
   "execution_count": 20,
   "metadata": {},
   "outputs": [],
   "source": [
    "mTRF_data = loadmat('/Users/cindyzhang/Documents/M2/Audiomotor_Piano/AM-EEG/analysis_listen/listen_mTRF_data/listen_mTRF_data_normalized_AM/mTRF_normalized_listen_post_01.mat')"
   ]
  },
  {
   "cell_type": "code",
   "execution_count": 21,
   "metadata": {},
   "outputs": [
    {
     "data": {
      "text/plain": [
       "[<matplotlib.lines.Line2D at 0x146c26d50>,\n",
       " <matplotlib.lines.Line2D at 0x146acc050>]"
      ]
     },
     "execution_count": 21,
     "metadata": {},
     "output_type": "execute_result"
    },
    {
     "data": {
      "image/png": "[encoded data removed]",
      "text/plain": [
       "<Figure size 640x480 with 1 Axes>"
      ]
     },
     "metadata": {},
     "output_type": "display_data"
    }
   ],
   "source": [
    "original_stimuli = mTRF_data['stimuli'][0]\n",
    "plt.plot(original_stimuli)"
   ]
  },
  {
   "cell_type": "code",
   "execution_count": 22,
   "metadata": {},
   "outputs": [
    {
     "data": {
      "text/plain": [
       "(8512, 2)"
      ]
     },
     "execution_count": 22,
     "metadata": {},
     "output_type": "execute_result"
    }
   ],
   "source": [
    "original_stimuli.shape"
   ]
  },
  {
   "cell_type": "code",
   "execution_count": 24,
   "metadata": {},
   "outputs": [
    {
     "ename": "AssertionError",
     "evalue": "",
     "output_type": "error",
     "traceback": [
      "\u001b[0;31m---------------------------------------------------------------------------\u001b[0m",
      "\u001b[0;31mAssertionError\u001b[0m                            Traceback (most recent call last)",
      "\u001b[1;32m/Users/cindyzhang/Documents/M2/Audiomotor_Piano/AM-EEG/analysis_listen/mTRF_explore.ipynb Cell 5\u001b[0m line \u001b[0;36m2\n\u001b[1;32m     <a href='vscode-notebook-cell:/Users/cindyzhang/Documents/M2/Audiomotor_Piano/AM-EEG/analysis_listen/mTRF_explore.ipynb#W4sZmlsZQ%3D%3D?line=18'>19</a>\u001b[0m \u001b[39m    \u001b[39m\u001b[39m\"\"\" elif original_stimuli.shape[1] == 2: \u001b[39;00m\n\u001b[1;32m     <a href='vscode-notebook-cell:/Users/cindyzhang/Documents/M2/Audiomotor_Piano/AM-EEG/analysis_listen/mTRF_explore.ipynb#W4sZmlsZQ%3D%3D?line=19'>20</a>\u001b[0m \u001b[39m        shuffled_stimuli = original_stimuli.copy()\u001b[39;00m\n\u001b[1;32m     <a href='vscode-notebook-cell:/Users/cindyzhang/Documents/M2/Audiomotor_Piano/AM-EEG/analysis_listen/mTRF_explore.ipynb#W4sZmlsZQ%3D%3D?line=20'>21</a>\u001b[0m \u001b[39m        np.random.shuffle(shuffled_stimuli[:,0])\u001b[39;00m\n\u001b[1;32m     <a href='vscode-notebook-cell:/Users/cindyzhang/Documents/M2/Audiomotor_Piano/AM-EEG/analysis_listen/mTRF_explore.ipynb#W4sZmlsZQ%3D%3D?line=21'>22</a>\u001b[0m \u001b[39m    \"\"\"\u001b[39;00m\n\u001b[1;32m     <a href='vscode-notebook-cell:/Users/cindyzhang/Documents/M2/Audiomotor_Piano/AM-EEG/analysis_listen/mTRF_explore.ipynb#W4sZmlsZQ%3D%3D?line=23'>24</a>\u001b[0m     \u001b[39mreturn\u001b[39;00m shuffled_stimuli\n\u001b[0;32m---> <a href='vscode-notebook-cell:/Users/cindyzhang/Documents/M2/Audiomotor_Piano/AM-EEG/analysis_listen/mTRF_explore.ipynb#W4sZmlsZQ%3D%3D?line=25'>26</a>\u001b[0m shuffled_stimuli \u001b[39m=\u001b[39m shuffle_onsets(original_stimuli)\n\u001b[1;32m     <a href='vscode-notebook-cell:/Users/cindyzhang/Documents/M2/Audiomotor_Piano/AM-EEG/analysis_listen/mTRF_explore.ipynb#W4sZmlsZQ%3D%3D?line=28'>29</a>\u001b[0m plt\u001b[39m.\u001b[39mplot(shuffled_stimuli)\n",
      "\u001b[1;32m/Users/cindyzhang/Documents/M2/Audiomotor_Piano/AM-EEG/analysis_listen/mTRF_explore.ipynb Cell 5\u001b[0m line \u001b[0;36m1\n\u001b[1;32m      <a href='vscode-notebook-cell:/Users/cindyzhang/Documents/M2/Audiomotor_Piano/AM-EEG/analysis_listen/mTRF_explore.ipynb#W4sZmlsZQ%3D%3D?line=1'>2</a>\u001b[0m \u001b[39m    \u001b[39m\u001b[39m\"\"\" \u001b[39;00m\n\u001b[1;32m      <a href='vscode-notebook-cell:/Users/cindyzhang/Documents/M2/Audiomotor_Piano/AM-EEG/analysis_listen/mTRF_explore.ipynb#W4sZmlsZQ%3D%3D?line=2'>3</a>\u001b[0m \u001b[39m    Shuffles the POSITION of the onsets but not their values\u001b[39;00m\n\u001b[1;32m      <a href='vscode-notebook-cell:/Users/cindyzhang/Documents/M2/Audiomotor_Piano/AM-EEG/analysis_listen/mTRF_explore.ipynb#W4sZmlsZQ%3D%3D?line=3'>4</a>\u001b[0m \u001b[39m    original_stimuli: nd array. Onset vector expected to occpy the first row of the array (array[:,0])\u001b[39;00m\n\u001b[0;32m   (...)\u001b[0m\n\u001b[1;32m      <a href='vscode-notebook-cell:/Users/cindyzhang/Documents/M2/Audiomotor_Piano/AM-EEG/analysis_listen/mTRF_explore.ipynb#W4sZmlsZQ%3D%3D?line=6'>7</a>\u001b[0m \n\u001b[1;32m      <a href='vscode-notebook-cell:/Users/cindyzhang/Documents/M2/Audiomotor_Piano/AM-EEG/analysis_listen/mTRF_explore.ipynb#W4sZmlsZQ%3D%3D?line=7'>8</a>\u001b[0m \u001b[39m    \"\"\"\u001b[39;00m\n\u001b[1;32m      <a href='vscode-notebook-cell:/Users/cindyzhang/Documents/M2/Audiomotor_Piano/AM-EEG/analysis_listen/mTRF_explore.ipynb#W4sZmlsZQ%3D%3D?line=8'>9</a>\u001b[0m     \u001b[39massert\u001b[39;00m \u001b[39misinstance\u001b[39m(original_stimuli, np\u001b[39m.\u001b[39mndarray)\n\u001b[0;32m---> <a href='vscode-notebook-cell:/Users/cindyzhang/Documents/M2/Audiomotor_Piano/AM-EEG/analysis_listen/mTRF_explore.ipynb#W4sZmlsZQ%3D%3D?line=9'>10</a>\u001b[0m     \u001b[39massert\u001b[39;00m original_stimuli\u001b[39m.\u001b[39mshape[\u001b[39m1\u001b[39m] \u001b[39m<\u001b[39m \u001b[39m2\u001b[39m\n\u001b[1;32m     <a href='vscode-notebook-cell:/Users/cindyzhang/Documents/M2/Audiomotor_Piano/AM-EEG/analysis_listen/mTRF_explore.ipynb#W4sZmlsZQ%3D%3D?line=11'>12</a>\u001b[0m \u001b[39m#ensuring that the dimensions are correct, if it's a support vector with more than one feature such as with onset+suprisal, takes the first feature only\u001b[39;00m\n\u001b[1;32m     <a href='vscode-notebook-cell:/Users/cindyzhang/Documents/M2/Audiomotor_Piano/AM-EEG/analysis_listen/mTRF_explore.ipynb#W4sZmlsZQ%3D%3D?line=12'>13</a>\u001b[0m     \u001b[39mif\u001b[39;00m original_stimuli\u001b[39m.\u001b[39mshape[\u001b[39m1\u001b[39m] \u001b[39m==\u001b[39m \u001b[39m1\u001b[39m:\n",
      "\u001b[0;31mAssertionError\u001b[0m: "
     ]
    }
   ],
   "source": [
    "def shuffle_onsets(original_stimuli):\n",
    "    \"\"\" \n",
    "    Shuffles the POSITION of the onsets but not their values\n",
    "    original_stimuli: nd array. \n",
    "        Future: might add a way to handle arrays with Onset vector expected to occpy the first row of the array (array[:,0])\n",
    "\n",
    "    Returns: an array of 0s and 1s with the same number of 1s as in the original stimulus\n",
    "\n",
    "    \"\"\"\n",
    "    assert isinstance(original_stimuli, np.ndarray)\n",
    "    assert original_stimuli.shape[1] < 2 #\n",
    "\n",
    "#ensuring that the dimensions are correct, if it's a support vector with more than one feature such as with onset+suprisal, takes the first feature only\n",
    "    if original_stimuli.shape[1] == 1:\n",
    "        shuffled_stimuli = original_stimuli.copy()\n",
    "        #shuffle positions of onset\n",
    "        np.random.shuffle(shuffled_stimuli)\n",
    "\n",
    "#going to ignore how to deal with multiple features for now\n",
    "    \"\"\" elif original_stimuli.shape[1] == 2: \n",
    "        shuffled_stimuli = original_stimuli.copy()\n",
    "        np.random.shuffle(shuffled_stimuli[:,0])\n",
    "    \"\"\"\n",
    "\n",
    "    return shuffled_stimuli\n",
    "\n",
    "shuffled_stimuli = shuffle_onsets(original_stimuli)\n",
    "\n",
    "\n",
    "plt.plot(shuffled_stimuli)"
   ]
  }
 ],
 "metadata": {
  "kernelspec": {
   "display_name": "mtrfpy2",
   "language": "python",
   "name": "python3"
  },
  "language_info": {
   "codemirror_mode": {
    "name": "ipython",
    "version": 3
   },
   "file_extension": ".py",
   "mimetype": "text/x-python",
   "name": "python",
   "nbconvert_exporter": "python",
   "pygments_lexer": "ipython3",
   "version": "3.11.5"
  },
  "orig_nbformat": 4
 },
 "nbformat": 4,
 "nbformat_minor": 2
}
