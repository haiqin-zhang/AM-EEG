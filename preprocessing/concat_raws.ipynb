{
 "cells": [
  {
   "cell_type": "code",
   "execution_count": 1,
   "metadata": {},
   "outputs": [],
   "source": [
    "import mne"
   ]
  },
  {
   "cell_type": "code",
   "execution_count": 3,
   "metadata": {},
   "outputs": [
    {
     "name": "stdout",
     "output_type": "stream",
     "text": [
      "Extracting EDF parameters from /Users/cindyzhang/Documents/M2/Audiomotor_Piano/AM-EEG/data_raw/sub_01_pre.bdf...\n",
      "BDF file detected\n",
      "Setting channel info structure...\n",
      "Creating raw.info structure...\n",
      "Extracting EDF parameters from /Users/cindyzhang/Documents/M2/Audiomotor_Piano/AM-EEG/data_raw/sub_01_post.bdf...\n",
      "BDF file detected\n",
      "Setting channel info structure...\n",
      "Creating raw.info structure...\n"
     ]
    },
    {
     "ename": "AttributeError",
     "evalue": "'tuple' object has no attribute 'info'",
     "output_type": "error",
     "traceback": [
      "\u001b[0;31m---------------------------------------------------------------------------\u001b[0m",
      "\u001b[0;31mAttributeError\u001b[0m                            Traceback (most recent call last)",
      "\u001b[1;32m/Users/cindyzhang/Documents/M2/Audiomotor_Piano/AM-EEG/preprocessing/concat_raws.ipynb Cell 2\u001b[0m line \u001b[0;36m6\n\u001b[1;32m      <a href='vscode-notebook-cell:/Users/cindyzhang/Documents/M2/Audiomotor_Piano/AM-EEG/preprocessing/concat_raws.ipynb#W1sZmlsZQ%3D%3D?line=1'>2</a>\u001b[0m raw_post \u001b[39m=\u001b[39m mne\u001b[39m.\u001b[39mio\u001b[39m.\u001b[39mread_raw_bdf(\u001b[39m'\u001b[39m\u001b[39m../data_raw/sub_01_post.bdf\u001b[39m\u001b[39m'\u001b[39m, eog\u001b[39m=\u001b[39m\u001b[39mNone\u001b[39;00m, misc\u001b[39m=\u001b[39m\u001b[39mNone\u001b[39;00m, stim_channel\u001b[39m=\u001b[39m\u001b[39m'\u001b[39m\u001b[39mStatus\u001b[39m\u001b[39m'\u001b[39m, infer_types\u001b[39m=\u001b[39m\u001b[39mFalse\u001b[39;00m, preload\u001b[39m=\u001b[39m\u001b[39mFalse\u001b[39;00m, verbose\u001b[39m=\u001b[39m\u001b[39mNone\u001b[39;00m)\n\u001b[1;32m      <a href='vscode-notebook-cell:/Users/cindyzhang/Documents/M2/Audiomotor_Piano/AM-EEG/preprocessing/concat_raws.ipynb#W1sZmlsZQ%3D%3D?line=3'>4</a>\u001b[0m raw_post \u001b[39m=\u001b[39m raw_post\u001b[39m.\u001b[39mcrop(tmin \u001b[39m=\u001b[39m raw_post\u001b[39m.\u001b[39mtimes\u001b[39m.\u001b[39mmin(), tmax \u001b[39m=\u001b[39m raw_post\u001b[39m.\u001b[39mtimes\u001b[39m.\u001b[39mmax()\u001b[39m-\u001b[39m\u001b[39m5\u001b[39m)\n\u001b[0;32m----> <a href='vscode-notebook-cell:/Users/cindyzhang/Documents/M2/Audiomotor_Piano/AM-EEG/preprocessing/concat_raws.ipynb#W1sZmlsZQ%3D%3D?line=5'>6</a>\u001b[0m raw \u001b[39m=\u001b[39m mne\u001b[39m.\u001b[39;49mconcatenate_raws(raw_pre, raw_post)\n",
      "File \u001b[0;32m<decorator-gen-245>:12\u001b[0m, in \u001b[0;36mconcatenate_raws\u001b[0;34m(raws, preload, events_list, on_mismatch, verbose)\u001b[0m\n",
      "File \u001b[0;32m~/anaconda3/envs/eelbrain-cnsp/lib/python3.11/site-packages/mne/io/base.py:3013\u001b[0m, in \u001b[0;36mconcatenate_raws\u001b[0;34m(raws, preload, events_list, on_mismatch, verbose)\u001b[0m\n\u001b[1;32m   2986\u001b[0m \u001b[39m\u001b[39m\u001b[39m\"\"\"Concatenate `~mne.io.Raw` instances as if they were continuous.\u001b[39;00m\n\u001b[1;32m   2987\u001b[0m \n\u001b[1;32m   2988\u001b[0m \u001b[39m.. note:: ``raws[0]`` is modified in-place to achieve the concatenation.\u001b[39;00m\n\u001b[0;32m   (...)\u001b[0m\n\u001b[1;32m   3009\u001b[0m \u001b[39m    The events. Only returned if ``event_list`` is not None.\u001b[39;00m\n\u001b[1;32m   3010\u001b[0m \u001b[39m\"\"\"\u001b[39;00m\n\u001b[1;32m   3011\u001b[0m \u001b[39mfor\u001b[39;00m idx, raw \u001b[39min\u001b[39;00m \u001b[39menumerate\u001b[39m(raws[\u001b[39m1\u001b[39m:], start\u001b[39m=\u001b[39m\u001b[39m1\u001b[39m):\n\u001b[1;32m   3012\u001b[0m     _ensure_infos_match(\n\u001b[0;32m-> 3013\u001b[0m         info1\u001b[39m=\u001b[39mraws[\u001b[39m0\u001b[39;49m]\u001b[39m.\u001b[39;49minfo,\n\u001b[1;32m   3014\u001b[0m         info2\u001b[39m=\u001b[39mraw\u001b[39m.\u001b[39minfo,\n\u001b[1;32m   3015\u001b[0m         name\u001b[39m=\u001b[39m\u001b[39mf\u001b[39m\u001b[39m\"\u001b[39m\u001b[39mraws[\u001b[39m\u001b[39m{\u001b[39;00midx\u001b[39m}\u001b[39;00m\u001b[39m]\u001b[39m\u001b[39m\"\u001b[39m,\n\u001b[1;32m   3016\u001b[0m         on_mismatch\u001b[39m=\u001b[39mon_mismatch,\n\u001b[1;32m   3017\u001b[0m     )\n\u001b[1;32m   3019\u001b[0m \u001b[39mif\u001b[39;00m events_list \u001b[39mis\u001b[39;00m \u001b[39mnot\u001b[39;00m \u001b[39mNone\u001b[39;00m:\n\u001b[1;32m   3020\u001b[0m     \u001b[39mif\u001b[39;00m \u001b[39mlen\u001b[39m(events_list) \u001b[39m!=\u001b[39m \u001b[39mlen\u001b[39m(raws):\n",
      "\u001b[0;31mAttributeError\u001b[0m: 'tuple' object has no attribute 'info'"
     ]
    }
   ],
   "source": [
    "raw_pre = mne.io.read_raw_bdf('../data_raw/sub_01_pre.bdf', eog=None, misc=None, stim_channel='Status', infer_types=False, preload=False, verbose=None)\n",
    "raw_post = mne.io.read_raw_bdf('../data_raw/sub_01_post.bdf', eog=None, misc=None, stim_channel='Status', infer_types=False, preload=False, verbose=None)\n",
    "\n",
    "raw_post = raw_post.crop(tmin = raw_post.times.min(), tmax = raw_post.times.max()-5)\n",
    "\n"
   ]
  },
  {
   "cell_type": "code",
   "execution_count": 4,
   "metadata": {},
   "outputs": [],
   "source": [
    "raw = mne.concatenate_raws([raw_pre, raw_post])"
   ]
  },
  {
   "cell_type": "code",
   "execution_count": 6,
   "metadata": {},
   "outputs": [
    {
     "name": "stdout",
     "output_type": "stream",
     "text": [
      "Writing /Users/cindyzhang/Documents/M2/Audiomotor_Piano/AM-EEG/preprocessing/sub_01.fif\n"
     ]
    },
    {
     "name": "stderr",
     "output_type": "stream",
     "text": [
      "/var/folders/18/hp_602x50x34x_4p_qjc80g40000gn/T/ipykernel_5435/1291316090.py:1: RuntimeWarning: This filename (/Users/cindyzhang/Documents/M2/Audiomotor_Piano/AM-EEG/preprocessing/sub_01.fif) does not conform to MNE naming conventions. All raw files should end with raw.fif, raw_sss.fif, raw_tsss.fif, _meg.fif, _eeg.fif, _ieeg.fif, raw.fif.gz, raw_sss.fif.gz, raw_tsss.fif.gz, _meg.fif.gz, _eeg.fif.gz or _ieeg.fif.gz\n",
      "  raw.save('sub_01.fif')\n"
     ]
    },
    {
     "name": "stdout",
     "output_type": "stream",
     "text": [
      "Overwriting existing file.\n",
      "Writing /Users/cindyzhang/Documents/M2/Audiomotor_Piano/AM-EEG/preprocessing/sub_01-1.fif\n",
      "Closing /Users/cindyzhang/Documents/M2/Audiomotor_Piano/AM-EEG/preprocessing/sub_01-1.fif\n",
      "Closing /Users/cindyzhang/Documents/M2/Audiomotor_Piano/AM-EEG/preprocessing/sub_01.fif\n",
      "[done]\n"
     ]
    }
   ],
   "source": [
    "raw.save('sub_01.fif')"
   ]
  },
  {
   "cell_type": "code",
   "execution_count": 10,
   "metadata": {},
   "outputs": [
    {
     "name": "stdout",
     "output_type": "stream",
     "text": [
      "Trigger channel has a non-zero initial value of 130816 (consider using initial_event=True to detect this event)\n",
      "441450 events found\n",
      "Event IDs: [ 65282  65284  65286  65288  65290  65296  65298  65535 130816 130818]\n",
      "Using qt as 2D backend.\n",
      "Using pyopengl with version 3.1.6\n"
     ]
    },
    {
     "data": {
      "text/plain": [
       "<mne_qt_browser._pg_figure.MNEQtBrowser at 0x292c85630>"
      ]
     },
     "execution_count": 10,
     "metadata": {},
     "output_type": "execute_result"
    },
    {
     "name": "stdout",
     "output_type": "stream",
     "text": [
      "Channels marked as bad:\n",
      "none\n"
     ]
    }
   ],
   "source": [
    "events = mne.find_events(raw_test, shortest_event=1)\n",
    "raw_test.plot(duration = 10)"
   ]
  },
  {
   "cell_type": "code",
   "execution_count": null,
   "metadata": {},
   "outputs": [],
   "source": []
  }
 ],
 "metadata": {
  "kernelspec": {
   "display_name": "eelbrain-cnsp",
   "language": "python",
   "name": "python3"
  },
  "language_info": {
   "codemirror_mode": {
    "name": "ipython",
    "version": 3
   },
   "file_extension": ".py",
   "mimetype": "text/x-python",
   "name": "python",
   "nbconvert_exporter": "python",
   "pygments_lexer": "ipython3",
   "version": "3.11.5"
  },
  "orig_nbformat": 4
 },
 "nbformat": 4,
 "nbformat_minor": 2
}
