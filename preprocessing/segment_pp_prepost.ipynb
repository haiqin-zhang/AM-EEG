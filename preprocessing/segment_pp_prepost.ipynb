{
 "cells": [
  {
   "cell_type": "code",
   "execution_count": 1,
   "metadata": {},
   "outputs": [],
   "source": [
    "import mne\n",
    "import os\n",
    "import glob\n",
    "import numpy as np\n",
    "import pandas as pd\n",
    "from scipy.io import savemat\n",
    "import matplotlib.pyplot as plt\n",
    "import pickle\n",
    "\n",
    "import sys\n",
    "sys.path.append('../utils')\n",
    "from pp_utils import *"
   ]
  },
  {
   "cell_type": "code",
   "execution_count": 2,
   "metadata": {},
   "outputs": [],
   "source": [
    "#======================================================================================\n",
    "#                        INITIALIZE DIRECTORIES\n",
    "#======================================================================================\n",
    "root_dir = \"/Users/cindyzhang/Documents/M2/Audiomotor_Piano/AM-EEG/data_raw\" #where the raw bdf files are\n",
    "output_base = '/Users/cindyzhang/Documents/M2/Audiomotor_Piano/AM-EEG/data_preprocessed' #where all the preprocessed .mat files and other info go\n",
    "\n",
    "plot = False\n",
    "FS_ORIG = 2048  # Hz\n",
    "#fs was 1024 for participant 03 and 2048 for participants 01 and 02\n",
    "#subjects_to_process = ['01', '02', '03', '04', '05', '06', '07', '08', '09', '10', \n",
    "                     #  '11', '12', '13', '14', '15', '16', '17', '18', '19', '20']  \n"
   ]
  },
  {
   "cell_type": "code",
   "execution_count": 3,
   "metadata": {},
   "outputs": [],
   "source": [
    "#======================================================================================\n",
    "#                       PREPROCESSING PARAMETERS\n",
    "#======================================================================================\n",
    "# Printing general info\n",
    "print_info = False\n",
    "\n",
    "# Notch filtering\n",
    "notch_applied = True\n",
    "freq_notch = 50\n",
    "\n",
    "# Bandpass filtering\n",
    "bpf_applied = True\n",
    "freq_low   = 0.01\n",
    "freq_high  = 15\n",
    "bandpass = str(freq_low) + '-' + str(freq_high)\n",
    "ftype = 'butter'\n",
    "order = 3\n",
    "\n",
    "# Spherical interpolation\n",
    "int_applied = False\n",
    "interpolation = 'spline'\n",
    "\n",
    "# Rereferencing using average of mastoids electrodes\n",
    "reref_applied = True\n",
    "reref_type = 'Mastoids'  #Mastoids #Average\n",
    "\n",
    "# Downsampling\n",
    "down_applied = True\n",
    "downfreq = 128\n",
    "if not down_applied:\n",
    "    downfreq = FS_ORIG\n",
    "downfreq_factor =int(FS_ORIG/downfreq)"
   ]
  },
  {
   "cell_type": "code",
   "execution_count": 32,
   "metadata": {},
   "outputs": [
    {
     "name": "stdout",
     "output_type": "stream",
     "text": [
      "Extracting EDF parameters from /Users/cindyzhang/Documents/M2/Audiomotor_Piano/AM-EEG/data_raw/sub_03/sub_03_03.bdf...\n",
      "BDF file detected\n",
      "Setting channel info structure...\n",
      "Creating raw.info structure...\n",
      "Reading 0 ... 1248255  =      0.000 ...  1218.999 secs...\n",
      "Trigger channel has a non-zero initial value of 130816 (consider using initial_event=True to detect this event)\n",
      "106366 events found\n",
      "Event IDs: [65282 65328 65535]\n",
      "Some event types missing. Check data.\n"
     ]
    }
   ],
   "source": [
    "#load file\n",
    "\n",
    "#file = '/Users/cindyzhang/Documents/M2/Audiomotor_Piano/AM-EEG/data_raw/sub_03/sub_03_02.bdf'\n",
    "file = '/Users/cindyzhang/Documents/M2/Audiomotor_Piano/AM-EEG/data_raw/sub_03/sub_03_03.bdf'\n",
    "\n",
    "raw = mne.io.read_raw_bdf(file, eog=None, misc=None, stim_channel='Status', \n",
    "                              infer_types=False, preload=True, verbose=None)\n",
    "\n",
    "events = mne.find_events(raw, stim_channel='Status', shortest_event=1)\n",
    "events_2, events_3, events_4, events_5, events_6, trial_starts = sort_events(events)"
   ]
  },
  {
   "cell_type": "code",
   "execution_count": 33,
   "metadata": {},
   "outputs": [
    {
     "data": {
      "image/png": "[encoded data removed]",
      "text/plain": [
       "<Figure size 2000x1000 with 1 Axes>"
      ]
     },
     "metadata": {},
     "output_type": "display_data"
    }
   ],
   "source": [
    "#check events\n",
    "\n",
    "plot_subset = False\n",
    "start = 0\n",
    "end = 100\n",
    "\n",
    "\n",
    "plt.figure(figsize = (20,10))\n",
    "\n",
    "if plot_subset:\n",
    "#keystrokes\n",
    "    plt.eventplot(events_2[:,0][start:end], lineoffsets = 0)\n",
    "    plt.eventplot(events_3[:,0][start:end], color = 'green', lineoffsets = -2)\n",
    "    plt.eventplot(events_4[:,0][start:end], color = 'orange', lineoffsets = -3)\n",
    "    plt.eventplot(events_5[:,0][start:end], color = 'red', lineoffsets=-4)\n",
    "else:\n",
    "    plt.eventplot(events_2[:,0], lineoffsets = 0)\n",
    "    plt.eventplot(events_3[:,0], color = 'green', lineoffsets = -2)\n",
    "    plt.eventplot(events_4[:,0], color = 'orange', lineoffsets = -3)\n",
    "    plt.eventplot(events_5[:,0], color = 'red', lineoffsets=-4)\n",
    "\n",
    "plt.show()"
   ]
  },
  {
   "cell_type": "code",
   "execution_count": 23,
   "metadata": {},
   "outputs": [
    {
     "name": "stdout",
     "output_type": "stream",
     "text": [
      "/Users/cindyzhang/Documents/M2/Audiomotor_Piano/AM-EEG/data_raw/sub_04/sub_04.bdf\n",
      "Currently processing  /Users/cindyzhang/Documents/M2/Audiomotor_Piano/AM-EEG/data_raw/sub_04/sub_04.bdf\n",
      "Extracting EDF parameters from /Users/cindyzhang/Documents/M2/Audiomotor_Piano/AM-EEG/data_raw/sub_04/sub_04.bdf...\n",
      "BDF file detected\n",
      "Setting channel info structure...\n",
      "Creating raw.info structure...\n",
      "Reading 0 ... 3059711  =      0.000 ...  1494.000 secs...\n",
      "Trigger channel has a non-zero initial value of 130816 (consider using initial_event=True to detect this event)\n",
      "159013 events found\n",
      "Event IDs: [65282 65296]\n",
      "All event types present\n",
      "trial starts: \n",
      " [[  95370   65280   65296]\n",
      " [1865570   65280   65296]]\n",
      "NOTE: pick_channels() is a legacy function. New code should use inst.pick(...).\n",
      "Filtering raw data in 1 contiguous segment\n",
      "Setting up band-stop filter from 49 - 51 Hz\n",
      "\n",
      "FIR filter parameters\n",
      "---------------------\n",
      "Designing a one-pass, zero-phase, non-causal bandstop filter:\n",
      "- Windowed time-domain design (firwin) method\n",
      "- Hamming window with 0.0194 passband ripple and 53 dB stopband attenuation\n",
      "- Lower passband edge: 49.38\n",
      "- Lower transition bandwidth: 0.50 Hz (-6 dB cutoff frequency: 49.12 Hz)\n",
      "- Upper passband edge: 50.62 Hz\n",
      "- Upper transition bandwidth: 0.50 Hz (-6 dB cutoff frequency: 50.88 Hz)\n",
      "- Filter length: 13517 samples (6.600 s)\n",
      "\n"
     ]
    },
    {
     "name": "stderr",
     "output_type": "stream",
     "text": [
      "[Parallel(n_jobs=1)]: Done  17 tasks      | elapsed:    0.6s\n",
      "[Parallel(n_jobs=1)]: Done  71 tasks      | elapsed:    2.4s\n"
     ]
    },
    {
     "name": "stdout",
     "output_type": "stream",
     "text": [
      "Setting up band-pass filter from 0.01 - 15 Hz\n",
      "\n",
      "IIR filter parameters\n",
      "---------------------\n",
      "Butterworth bandpass zero-phase (two-pass forward and reverse) non-causal filter:\n",
      "- Filter order 12 (effective, after forward-backward)\n",
      "- Cutoffs at 0.01, 15.00 Hz: -6.02, -6.02 dB\n",
      "\n",
      "Filtering raw data in 1 contiguous segment\n",
      "Setting up band-pass filter from 0.01 - 15 Hz\n",
      "\n",
      "IIR filter parameters\n",
      "---------------------\n",
      "Butterworth bandpass zero-phase (two-pass forward and reverse) non-causal filter:\n",
      "- Filter order 12 (effective, after forward-backward)\n",
      "- Cutoffs at 0.01, 15.00 Hz: -6.02, -6.02 dB\n",
      "\n",
      "EEG channel type selected for re-referencing\n",
      "Applying a custom ('EEG',) reference.\n",
      "Trigger channel has a non-zero initial value of 65296 (consider using initial_event=True to detect this event)\n",
      "59325 events found\n",
      "Event IDs: [65282 65296]\n",
      "All event types present\n",
      "NOTE: pick_channels() is a legacy function. New code should use inst.pick(...).\n",
      "Filtering raw data in 1 contiguous segment\n",
      "Setting up band-stop filter from 49 - 51 Hz\n",
      "\n",
      "FIR filter parameters\n",
      "---------------------\n",
      "Designing a one-pass, zero-phase, non-causal bandstop filter:\n",
      "- Windowed time-domain design (firwin) method\n",
      "- Hamming window with 0.0194 passband ripple and 53 dB stopband attenuation\n",
      "- Lower passband edge: 49.38\n",
      "- Lower transition bandwidth: 0.50 Hz (-6 dB cutoff frequency: 49.12 Hz)\n",
      "- Upper passband edge: 50.62 Hz\n",
      "- Upper transition bandwidth: 0.50 Hz (-6 dB cutoff frequency: 50.88 Hz)\n",
      "- Filter length: 13517 samples (6.600 s)\n",
      "\n"
     ]
    },
    {
     "name": "stderr",
     "output_type": "stream",
     "text": [
      "[Parallel(n_jobs=1)]: Done  17 tasks      | elapsed:    0.5s\n"
     ]
    },
    {
     "name": "stdout",
     "output_type": "stream",
     "text": [
      "Setting up band-pass filter from 0.01 - 15 Hz\n",
      "\n",
      "IIR filter parameters\n",
      "---------------------\n",
      "Butterworth bandpass zero-phase (two-pass forward and reverse) non-causal filter:\n",
      "- Filter order 12 (effective, after forward-backward)\n",
      "- Cutoffs at 0.01, 15.00 Hz: -6.02, -6.02 dB\n",
      "\n",
      "Filtering raw data in 1 contiguous segment\n",
      "Setting up band-pass filter from 0.01 - 15 Hz\n",
      "\n",
      "IIR filter parameters\n",
      "---------------------\n",
      "Butterworth bandpass zero-phase (two-pass forward and reverse) non-causal filter:\n",
      "- Filter order 12 (effective, after forward-backward)\n",
      "- Cutoffs at 0.01, 15.00 Hz: -6.02, -6.02 dB\n",
      "\n"
     ]
    },
    {
     "name": "stderr",
     "output_type": "stream",
     "text": [
      "[Parallel(n_jobs=1)]: Done  71 tasks      | elapsed:    2.1s\n"
     ]
    },
    {
     "name": "stdout",
     "output_type": "stream",
     "text": [
      "EEG channel type selected for re-referencing\n",
      "Applying a custom ('EEG',) reference.\n",
      "Trigger channel has a non-zero initial value of 65296 (consider using initial_event=True to detect this event)\n",
      "98623 events found\n",
      "Event IDs: [65282 65296]\n",
      "All event types present\n"
     ]
    }
   ],
   "source": [
    "#Currently processing one subject at a time because many files are broken :(\n",
    "#sub_folder = 'sub_03'\n",
    "#files = sorted(glob.glob(os.path.join(root_dir, sub_folder, '**', '*.bdf'), recursive=True))\n",
    "\n",
    "files = [ '/Users/cindyzhang/Documents/M2/Audiomotor_Piano/AM-EEG/data_raw/sub_04/sub_04.bdf']\n",
    "period = 'pre'\n",
    "\n",
    "for idx, file in enumerate(files):\n",
    "    print(file)\n",
    "\n",
    "    df_pre = pd.DataFrame()\n",
    "\n",
    "    subject_ID = file.split('/')[-2][-2:]\n",
    "\n",
    "    print(\"Currently processing \", file)\n",
    "    #already_processed.append(subject_ID)\n",
    "\n",
    "    output_dir = os.path.join(output_base, subject_ID)\n",
    "    if not os.path.exists(output_dir):\n",
    "        os.makedirs(output_dir)\n",
    "    \n",
    "\n",
    "    \n",
    "\n",
    "    #======================================================================================\n",
    "    #                        READ EEG FILES\n",
    "    #======================================================================================\n",
    "\n",
    "    raw = mne.io.read_raw_bdf(file, eog=None, misc=None, stim_channel='Status', \n",
    "                              infer_types=False, preload=True, verbose=None)\n",
    "\n",
    "\n",
    "    # Check metadata\n",
    "    n_time_samps = raw.n_times\n",
    "    time_secs = raw.times\n",
    "    ch_names = raw.ch_names\n",
    "    n_chan = len(ch_names) \n",
    "\n",
    "    if print_info == True:\n",
    "        print('the (cropped) sample data object has {} time samples and {} channels.'\n",
    "            ''.format(n_time_samps, n_chan))\n",
    "        print('The last time sample is at {} seconds.'.format(time_secs[-1]))\n",
    "        print('The first few channel names are {}.'.format(', '.join(ch_names[:3])))\n",
    "        print('bad channels:', raw.info['bads'])  # chs marked \"bad\" during acquisition\n",
    "        print(raw.info['sfreq'], 'Hz')            # sampling frequency\n",
    "        print(raw.info['description'], '\\n')      # miscellaneous acquisition info\n",
    "        print(raw.info)\n",
    "\n",
    "    if plot:\n",
    "        raw.plot(start=100, duration=10)\n",
    "\n",
    "\n",
    "    #======================================================================================\n",
    "    #                       FIND TRIGGERS FOR SEGMENTING\n",
    "    #======================================================================================\n",
    "    #loading the raw events\n",
    "    #the stim channel is called 'Status' \n",
    "    events = mne.find_events(raw, stim_channel='Status', shortest_event=1) #raises exception if shortest event is default 2...?\n",
    "    \n",
    "\n",
    "#...TO DO: import bad triggers noted in experiment from corresponding csv \n",
    "    bad_triggers = []\n",
    "    #events.pop(bad_triggers indices)\n",
    "\n",
    "    #cleaned triggers according to channel\n",
    "    #trial start and end are indicated in channel 5, filtered for 10+ min duration\n",
    "    events_2, events_3, events_4, events_5, events_6, trial_starts = sort_events(events)\n",
    "    #_, _, _, _, _, trial_starts = sort_events(events)\n",
    "\n",
    "\n",
    "   \n",
    "    #======================================================================================\n",
    "    #                        CROPPING FILES TO THE TRIAL\n",
    "    #======================================================================================\n",
    "    print(\"trial starts: \\n\", trial_starts)\n",
    "    \n",
    "    #trial durations\n",
    "    listen_dur = 665\n",
    "    motor_dur = 600\n",
    "    error_dur = 600\n",
    "\n",
    "    #start times for cropping\n",
    "    #listen_pre_start, motor_pre_start, error_pre_start, listen_post_start, motor_post_start, error_post_start = trial_starts[:,0]/FS_ORIG\n",
    "    #listen_pre_start, motor_pre_start, error_pre_start = trial_starts[:,0]/FS_ORIG\n",
    "    listen_pre_start, motor_pre_start = trial_starts[:,0]/FS_ORIG\n",
    "\n",
    "    #end times\n",
    "    listen_pre_end = listen_pre_start+listen_dur\n",
    "    motor_pre_end = motor_pre_start+motor_dur\n",
    "    motor_pre_end = motor_pre_start + 580\n",
    "    #error_pre_end = error_pre_start+error_dur\n",
    "   # error_pre_end = error_pre_start + 440\n",
    "    \"\"\"\n",
    "    listen_post_end = listen_post_start+listen_dur\n",
    "    motor_post_end = motor_post_start+motor_dur\n",
    "    error_post_end = error_post_start+error_dur\"\"\"\n",
    "   \n",
    "    \n",
    "\n",
    "#.....TO DO\n",
    "    #add stuff for post \n",
    "    #approximate crop for training?\n",
    "    eeg_listen_pre = raw.copy().crop(tmin = listen_pre_start, tmax = listen_pre_end)\n",
    "    eeg_motor_pre = raw.copy().crop(tmin = motor_pre_start, tmax = motor_pre_end)\n",
    "    #eeg_error_pre = raw.copy().crop(tmin = error_pre_start, tmax = error_pre_end)\n",
    "\n",
    "    \"\"\"\n",
    "    \n",
    "    eeg_listen_post = raw.copy().crop(tmin = listen_post_start, tmax = listen_post_end)\n",
    "    eeg_motor_post = raw.copy().crop(tmin = motor_post_start, tmax = motor_post_end)\n",
    "    eeg_error_post = raw.copy().crop(tmin = error_post_start, tmax = error_post_end)    \"\"\"\n",
    "\n",
    "  \n",
    "\n",
    "    #------------------------   \n",
    "    # CHOOSING FILES TO PROCESS\n",
    "    #---------------------------\n",
    "\n",
    "    #get the eeg data\n",
    "    #eegs_to_process = [eeg_listen_pre, eeg_motor_pre, eeg_error_pre, eeg_listen_post, eeg_motor_post, eeg_error_post]\n",
    "    eegs_to_process = [eeg_listen_pre, eeg_motor_pre]\n",
    "\n",
    "   \n",
    "\n",
    "    if period == 'pre':\n",
    "        eeg_names = ['eeg_listen_pre', 'eeg_motor_pre', 'eeg_error_pre']\n",
    "    elif period == 'post':\n",
    "        eeg_names = ['eeg_listen_post', 'eeg_motor_post', 'eeg_error_post']\n",
    "     #eeg_names = ['eeg_listen_pre', 'eeg_motor_pre', 'eeg_error_pre', 'eeg_listen_post', 'eeg_motor_post', 'eeg_error_post']\n",
    "    \n",
    "  \n",
    "    eeg_names = ['eeg_listen_pre', 'eeg_motor_pre']\n",
    "\n",
    "    #======================================================================================\n",
    "    #                       FILTERING\n",
    "    #======================================================================================\n",
    "    for i, data in enumerate(eegs_to_process):\n",
    "        ## -------------\n",
    "        ## Select channels\n",
    "        ## -------------\n",
    "\n",
    "        #eeg_channels = ch_names[:66] + [ch_names[-1]]\n",
    "        eeg_channels = ch_names[0:72]\n",
    "        eeg = data.copy().pick_channels(eeg_channels)\n",
    "        if plot:\n",
    "            eeg.plot(start=100, duration=10, n_channels=len(raw.ch_names))\n",
    "\n",
    "        \n",
    "        \"\"\"eeg_channels = ch_names[0:66]\n",
    "        eeg = eeg.pick_channels(eeg_channels)\n",
    "        if plot:\n",
    "            eeg.plot(start=100, duration=10, n_channels=len(raw.ch_names))\"\"\"\n",
    "        \n",
    "        ## -------------\n",
    "        ## Notch filtering\n",
    "        ## -------------\n",
    "        df_pre['notch_applied'] = [notch_applied]\n",
    "        if notch_applied:\n",
    "            eeg = eeg.notch_filter(freqs=freq_notch)\n",
    "            df_pre['notch'] = [freq_notch]\n",
    "            if plot:\n",
    "                eeg.plot()\n",
    "  \n",
    "        ## -------------\n",
    "        ## BPFiltering\n",
    "        ## -------------\n",
    "        df_pre['bpf_applied'] = [bpf_applied]\n",
    "        if bpf_applied:\n",
    "            iir_params = dict(order=order, ftype=ftype)\n",
    "            filter_params = mne.filter.create_filter(eeg.get_data(), eeg.info['sfreq'], \n",
    "                                                    l_freq=freq_low, h_freq=freq_high, \n",
    "                                                    method='iir', iir_params=iir_params)\n",
    "\n",
    "            if plot:\n",
    "                flim = (1., eeg.info['sfreq'] / 2.)  # frequencies\n",
    "                dlim = (-0.001, 0.001)  # delays\n",
    "                kwargs = dict(flim=flim, dlim=dlim)\n",
    "                mne.viz.plot_filter(filter_params, eeg.info['sfreq'], compensate=True, **kwargs)\n",
    "                # plt.savefig(os.path.join(output_dir, 'bpf_ffilt_shape.png'))\n",
    "\n",
    "            eeg = eeg.filter(l_freq=freq_low, h_freq=freq_high, method='iir', iir_params=iir_params)\n",
    "            df_pre['bandpass'] = [iir_params]\n",
    "            df_pre['HPF'] = [freq_low]\n",
    "            df_pre['LPF'] = [freq_high]\n",
    "            if plot:\n",
    "                eeg.plot()\n",
    "\n",
    "         \n",
    "         #...interpolation\n",
    "                \n",
    "            \n",
    "        ## -------------\n",
    "        ## Rereferencing\n",
    "        ## -------------\n",
    "        df_pre['reref_applied'] = [reref_applied]\n",
    "        if reref_applied:\n",
    "            # Set electrodes for rereferencing\n",
    "            if reref_type == 'Mastoids':\n",
    "                reref_channels = ['EXG1', 'EXG2']\n",
    "                \"\"\"try:\n",
    "                    reref_channels = ['M1', 'M2']   \n",
    "                except ValueError as e:\n",
    "                    print(\"Mastoid channel names not changed:\", e)\n",
    "                    reref_channels = ['EXG1', 'EXG2']  \"\"\"\n",
    "            else:\n",
    "                reref_channels = 'average'           \n",
    "\n",
    "            # Actually r-referencing signals\n",
    "            eeg = eeg.set_eeg_reference(ref_channels=reref_channels)\n",
    "            df_pre['reref_type'] = [reref_type]\n",
    "            df_pre['reref_channels'] = [reref_channels]\n",
    "            if plot:\n",
    "                eeg.plot()\n",
    "\n",
    "         \n",
    "        ## -------------\n",
    "        ## Downsampling\n",
    "        ## -------------\n",
    "        df_pre['down_applied'] = [down_applied]\n",
    "        df_pre['downfreq'] = [downfreq]\n",
    "        if down_applied:\n",
    "            eeg = eeg.resample(sfreq=downfreq)\n",
    "            if plot:\n",
    "                eeg.plot()\n",
    "  \n",
    "\n",
    "    #======================================================================================\n",
    "    #                      UPDATE TRIGGERS\n",
    "    #======================================================================================\n",
    "      \n",
    "        #create support vectors\n",
    "        #zero array with downsampled dimensions\n",
    "        events_original = np.zeros((5, data.get_data().shape[1])) #5 rows = event types, along time axis zero when there is an event and 1 everywhere else\n",
    "        \n",
    "      \n",
    "        #get triggers\n",
    "        section_triggers = mne.find_events(data, stim_channel='Status', shortest_event=1)\n",
    "        events_2, events_3, events_4, events_5, events_6, section_start = sort_events(section_triggers, clean = True)\n",
    "\n",
    "        #get trial start time\n",
    "        section_start = section_start[0][0]\n",
    "        \n",
    "        #find indices corrected for start time\n",
    "        indices_2 = (events_2[:,0]) - section_start\n",
    "        indices_3 = (events_3[:,0]) - section_start\n",
    "        indices_4 = (events_4[:,0]) - section_start\n",
    "        indices_5 = (events_5[:,0]) - section_start   \n",
    "\n",
    "        #populate event array with 1s where there are events\n",
    "        \n",
    "        events_original[0][indices_2] = 1\n",
    "        events_original[1][indices_3] = 1\n",
    "        events_original[2][indices_4] = 1\n",
    "        events_original[3][indices_5] = 1\n",
    "\n",
    "        #resample while preserving events\n",
    "        cropped_length = eeg.get_data().shape[1]\n",
    "        events_resampled = np.zeros((5, cropped_length))\n",
    "        for row in range(events_resampled.shape[0]):\n",
    "            events_resampled[row] = discretize(events_original[row], final_length = cropped_length, downfreq_factor = downfreq_factor)\n",
    "\n",
    "    #======================================================================================\n",
    "    #                       SAVING CROPPED FILES\n",
    "    #======================================================================================\n",
    "        \n",
    "        name = eeg_names[i]\n",
    "        eeg_tosave = eeg.get_data()\n",
    "\n",
    "        savemat(os.path.join(output_dir,   f'{name}_{subject_ID}.mat'), {'trial_data': eeg_tosave[0:64, :], 'trial_mastoids': eeg_tosave[64:66, :], 'trial_exg': eeg_tosave[66:72, :], 'events': events_resampled})\n",
    "    \n",
    "\n",
    "         ## -------------\n",
    "        ## Save preprocessing stages\n",
    "        ## -------------\n",
    "    df_pre.to_csv(os.path.join(output_dir, f\"preprocess_record_{subject_ID}.csv\"), index=False)\n"
   ]
  },
  {
   "cell_type": "code",
   "execution_count": 19,
   "metadata": {},
   "outputs": [
    {
     "data": {
      "text/plain": [
       "array([[  95370,   65280,   65296],\n",
       "       [1865570,   65280,   65296]])"
      ]
     },
     "execution_count": 19,
     "metadata": {},
     "output_type": "execute_result"
    }
   ],
   "source": [
    "trial_starts"
   ]
  },
  {
   "cell_type": "code",
   "execution_count": 72,
   "metadata": {},
   "outputs": [],
   "source": [
    "a, b, c = events_5[:,0][[0,2, 4]]"
   ]
  },
  {
   "cell_type": "code",
   "execution_count": null,
   "metadata": {},
   "outputs": [],
   "source": []
  },
  {
   "cell_type": "code",
   "execution_count": null,
   "metadata": {},
   "outputs": [
    {
     "data": {
      "text/plain": [
       "['Fp1',\n",
       " 'AF7',\n",
       " 'AF3',\n",
       " 'F1',\n",
       " 'F3',\n",
       " 'F5',\n",
       " 'F7',\n",
       " 'FT7',\n",
       " 'FC5',\n",
       " 'FC3',\n",
       " 'FC1',\n",
       " 'C1',\n",
       " 'C3',\n",
       " 'C5',\n",
       " 'T7',\n",
       " 'TP7',\n",
       " 'CP5',\n",
       " 'CP3',\n",
       " 'CP1',\n",
       " 'P1',\n",
       " 'P3',\n",
       " 'P5',\n",
       " 'P7',\n",
       " 'P9',\n",
       " 'PO7',\n",
       " 'PO3',\n",
       " 'O1',\n",
       " 'Iz',\n",
       " 'Oz',\n",
       " 'POz',\n",
       " 'Pz',\n",
       " 'CPz',\n",
       " 'Fpz',\n",
       " 'Fp2',\n",
       " 'AF8',\n",
       " 'AF4',\n",
       " 'AFz',\n",
       " 'Fz',\n",
       " 'F2',\n",
       " 'F4',\n",
       " 'F6',\n",
       " 'F8',\n",
       " 'FT8',\n",
       " 'FC6',\n",
       " 'FC4',\n",
       " 'FC2',\n",
       " 'FCz',\n",
       " 'Cz',\n",
       " 'C2',\n",
       " 'C4',\n",
       " 'C6',\n",
       " 'T8',\n",
       " 'TP8',\n",
       " 'CP6',\n",
       " 'CP4',\n",
       " 'CP2',\n",
       " 'P2',\n",
       " 'P4',\n",
       " 'P6',\n",
       " 'P8',\n",
       " 'P10',\n",
       " 'PO8',\n",
       " 'PO4',\n",
       " 'O2',\n",
       " 'EXG1',\n",
       " 'EXG2',\n",
       " 'EXG3',\n",
       " 'EXG4',\n",
       " 'EXG5',\n",
       " 'EXG6',\n",
       " 'EXG7',\n",
       " 'EXG8',\n",
       " 'Status']"
      ]
     },
     "execution_count": 28,
     "metadata": {},
     "output_type": "execute_result"
    }
   ],
   "source": [
    "ch_names"
   ]
  },
  {
   "cell_type": "code",
   "execution_count": null,
   "metadata": {},
   "outputs": [
    {
     "data": {
      "text/plain": [
       "array([[  65361,   65280,   65328],\n",
       "       [1427257,   65280,   65328],\n",
       "       [1768381,   65280,   65328],\n",
       "       [2195456,   65280,   65535],\n",
       "       [2201600,   65280,   65535]])"
      ]
     },
     "execution_count": 32,
     "metadata": {},
     "output_type": "execute_result"
    }
   ],
   "source": [
    "events_6"
   ]
  },
  {
   "cell_type": "code",
   "execution_count": null,
   "metadata": {},
   "outputs": [
    {
     "data": {
      "text/plain": [
       "[<matplotlib.collections.EventCollection at 0x167407e10>]"
      ]
     },
     "execution_count": 8,
     "metadata": {},
     "output_type": "execute_result"
    },
    {
     "data": {
      "image/png": "[encoded data removed]",
      "text/plain": [
       "<Figure size 640x480 with 1 Axes>"
      ]
     },
     "metadata": {},
     "output_type": "display_data"
    }
   ],
   "source": [
    "plt.eventplot(events_6[:,0])"
   ]
  },
  {
   "cell_type": "code",
   "execution_count": null,
   "metadata": {},
   "outputs": [
    {
     "data": {
      "text/plain": [
       "1457.9404296875"
      ]
     },
     "execution_count": 22,
     "metadata": {},
     "output_type": "execute_result"
    }
   ],
   "source": [
    "error_pre_end"
   ]
  },
  {
   "cell_type": "code",
   "execution_count": null,
   "metadata": {},
   "outputs": [
    {
     "data": {
      "text/plain": [
       "array([[  65361,   65280,   65328],\n",
       "       [1427257,   65280,   65328],\n",
       "       [1768381,   65280,   65328],\n",
       "       [2195456,   65280,   65535],\n",
       "       [2201600,   65280,   65535]])"
      ]
     },
     "execution_count": 40,
     "metadata": {},
     "output_type": "execute_result"
    }
   ],
   "source": [
    "events_6"
   ]
  },
  {
   "cell_type": "code",
   "execution_count": null,
   "metadata": {},
   "outputs": [
    {
     "data": {
      "text/plain": [
       "array([[  65361,   65280,   65328],\n",
       "       [1768381,   65280,   65328],\n",
       "       [2195456,   65280,   65535]])"
      ]
     },
     "execution_count": 39,
     "metadata": {},
     "output_type": "execute_result"
    }
   ],
   "source": [
    "events_6[[0, 2, 3]]"
   ]
  },
  {
   "cell_type": "code",
   "execution_count": null,
   "metadata": {},
   "outputs": [
    {
     "data": {
      "text/plain": [
       "857.9404296875"
      ]
     },
     "execution_count": 30,
     "metadata": {},
     "output_type": "execute_result"
    }
   ],
   "source": [
    "error_pre_start"
   ]
  },
  {
   "cell_type": "code",
   "execution_count": null,
   "metadata": {},
   "outputs": [
    {
     "data": {
      "text/plain": [
       "[<matplotlib.collections.EventCollection at 0x287cdbf50>]"
      ]
     },
     "execution_count": 27,
     "metadata": {},
     "output_type": "execute_result"
    },
    {
     "data": {
      "image/png": "[encoded data removed]",
      "text/plain": [
       "<Figure size 640x480 with 1 Axes>"
      ]
     },
     "metadata": {},
     "output_type": "display_data"
    }
   ],
   "source": [
    "plt.eventplot(events[:,0])"
   ]
  },
  {
   "cell_type": "code",
   "execution_count": null,
   "metadata": {},
   "outputs": [
    {
     "data": {
      "text/plain": [
       "[<matplotlib.lines.Line2D at 0x287d64a10>]"
      ]
     },
     "execution_count": 33,
     "metadata": {},
     "output_type": "execute_result"
    },
    {
     "data": {
      "image/png": "[encoded data removed]",
      "text/plain": [
       "<Figure size 640x480 with 1 Axes>"
      ]
     },
     "metadata": {},
     "output_type": "display_data"
    }
   ],
   "source": [
    "plt.plot(events[:,2])"
   ]
  },
  {
   "cell_type": "code",
   "execution_count": null,
   "metadata": {},
   "outputs": [
    {
     "ename": "NameError",
     "evalue": "name 'events_original' is not defined",
     "output_type": "error",
     "traceback": [
      "\u001b[0;31m---------------------------------------------------------------------------\u001b[0m",
      "\u001b[0;31mNameError\u001b[0m                                 Traceback (most recent call last)",
      "\u001b[1;32m/Users/cindyzhang/Documents/M2/Audiomotor_Piano/AM-EEG/preprocessing/segment_pp_editable.ipynb Cell 15\u001b[0m line \u001b[0;36m2\n\u001b[1;32m      <a href='vscode-notebook-cell:/Users/cindyzhang/Documents/M2/Audiomotor_Piano/AM-EEG/preprocessing/segment_pp_editable.ipynb#X16sZmlsZQ%3D%3D?line=0'>1</a>\u001b[0m plt\u001b[39m.\u001b[39mfigure(figsize\u001b[39m=\u001b[39m(\u001b[39m20\u001b[39m,\u001b[39m10\u001b[39m))\n\u001b[0;32m----> <a href='vscode-notebook-cell:/Users/cindyzhang/Documents/M2/Audiomotor_Piano/AM-EEG/preprocessing/segment_pp_editable.ipynb#X16sZmlsZQ%3D%3D?line=1'>2</a>\u001b[0m plt\u001b[39m.\u001b[39mplot(events_original[\u001b[39m2\u001b[39m])\n",
      "\u001b[0;31mNameError\u001b[0m: name 'events_original' is not defined"
     ]
    },
    {
     "data": {
      "text/plain": [
       "<Figure size 2000x1000 with 0 Axes>"
      ]
     },
     "metadata": {},
     "output_type": "display_data"
    }
   ],
   "source": [
    "plt.figure(figsize=(20,10))\n",
    "plt.plot(events_original[2])"
   ]
  },
  {
   "cell_type": "code",
   "execution_count": null,
   "metadata": {},
   "outputs": [
    {
     "ename": "NameError",
     "evalue": "name 'events_resampled' is not defined",
     "output_type": "error",
     "traceback": [
      "\u001b[0;31m---------------------------------------------------------------------------\u001b[0m",
      "\u001b[0;31mNameError\u001b[0m                                 Traceback (most recent call last)",
      "\u001b[1;32m/Users/cindyzhang/Documents/M2/Audiomotor_Piano/AM-EEG/preprocessing/segment_pp_editable.ipynb Cell 16\u001b[0m line \u001b[0;36m2\n\u001b[1;32m      <a href='vscode-notebook-cell:/Users/cindyzhang/Documents/M2/Audiomotor_Piano/AM-EEG/preprocessing/segment_pp_editable.ipynb#X20sZmlsZQ%3D%3D?line=0'>1</a>\u001b[0m plt\u001b[39m.\u001b[39mfigure(figsize\u001b[39m=\u001b[39m(\u001b[39m20\u001b[39m,\u001b[39m10\u001b[39m))\n\u001b[0;32m----> <a href='vscode-notebook-cell:/Users/cindyzhang/Documents/M2/Audiomotor_Piano/AM-EEG/preprocessing/segment_pp_editable.ipynb#X20sZmlsZQ%3D%3D?line=1'>2</a>\u001b[0m plt\u001b[39m.\u001b[39mplot(events_resampled[\u001b[39m2\u001b[39m])\n",
      "\u001b[0;31mNameError\u001b[0m: name 'events_resampled' is not defined"
     ]
    },
    {
     "data": {
      "text/plain": [
       "<Figure size 2000x1000 with 0 Axes>"
      ]
     },
     "metadata": {},
     "output_type": "display_data"
    }
   ],
   "source": [
    "plt.figure(figsize=(20,10))\n",
    "plt.plot(events_resampled[2])"
   ]
  },
  {
   "cell_type": "markdown",
   "metadata": {},
   "source": [
    "## EXPLORATION BELOW, NOT FOR THE ACTUAL PIPELINE\n",
    "Note the different thresholds used (keystroke triggers are longer than mode switch or trial triggers)"
   ]
  },
  {
   "cell_type": "code",
   "execution_count": null,
   "metadata": {},
   "outputs": [
    {
     "data": {
      "text/plain": [
       "array([[ 332604,   65280,   65296],\n",
       "       [2072464,   65280,   65296],\n",
       "       [3681072,   65280,   65296],\n",
       "       [6102881,   65280,   65296],\n",
       "       [7850577,   65280,   65296],\n",
       "       [9370825,   65280,   65296]])"
      ]
     },
     "execution_count": 7,
     "metadata": {},
     "output_type": "execute_result"
    }
   ],
   "source": [
    "trial_starts"
   ]
  },
  {
   "cell_type": "code",
   "execution_count": null,
   "metadata": {},
   "outputs": [
    {
     "data": {
      "text/plain": [
       "'raw_events = mne.find_events(raw, shortest_event=1)\\nraw.plot(events = raw_events)'"
      ]
     },
     "execution_count": 16,
     "metadata": {},
     "output_type": "execute_result"
    }
   ],
   "source": [
    "\"\"\"raw_events = mne.find_events(raw, shortest_event=1)\n",
    "raw.plot(events = raw_events)\"\"\""
   ]
  },
  {
   "cell_type": "code",
   "execution_count": null,
   "metadata": {},
   "outputs": [
    {
     "name": "stdout",
     "output_type": "stream",
     "text": [
      "Trigger channel has a non-zero initial value of 65296 (consider using initial_event=True to detect this event)\n",
      "59401 events found\n",
      "Event IDs: [65282 65296]\n",
      "Using qt as 2D backend.\n",
      "Using pyopengl with version 3.1.6\n"
     ]
    },
    {
     "data": {
      "text/plain": [
       "<mne_qt_browser._pg_figure.MNEQtBrowser at 0x2cc77d630>"
      ]
     },
     "execution_count": 5,
     "metadata": {},
     "output_type": "execute_result"
    },
    {
     "name": "stdout",
     "output_type": "stream",
     "text": [
      "Channels marked as bad:\n",
      "none\n"
     ]
    }
   ],
   "source": [
    "listen_events_pre = clean_triggers(mne.find_events(eeg_listen_pre), threshold=1200)\n",
    "eeg_listen_pre.plot(events = listen_events_pre)"
   ]
  },
  {
   "cell_type": "code",
   "execution_count": null,
   "metadata": {},
   "outputs": [
    {
     "name": "stdout",
     "output_type": "stream",
     "text": [
      "Trigger channel has a non-zero initial value of 65296 (consider using initial_event=True to detect this event)\n",
      "65802 events found\n",
      "Event IDs: [65282 65296]\n",
      "Using qt as 2D backend.\n",
      "Using pyopengl with version 3.1.6\n"
     ]
    },
    {
     "data": {
      "text/plain": [
       "<mne_qt_browser._pg_figure.MNEQtBrowser at 0x32b70f5b0>"
      ]
     },
     "execution_count": 122,
     "metadata": {},
     "output_type": "execute_result"
    },
    {
     "name": "stdout",
     "output_type": "stream",
     "text": [
      "Channels marked as bad:\n",
      "none\n"
     ]
    }
   ],
   "source": [
    "motor_events_pre = clean_triggers(mne.find_events(eeg_motor_pre), threshold=1500)\n",
    "eeg_motor_pre.plot(events = motor_events_pre)"
   ]
  },
  {
   "cell_type": "code",
   "execution_count": null,
   "metadata": {},
   "outputs": [
    {
     "name": "stdout",
     "output_type": "stream",
     "text": [
      "Trigger channel has a non-zero initial value of 65328 (consider using initial_event=True to detect this event)\n",
      "47685 events found\n",
      "Event IDs: [65282 65328 65330]\n",
      "Using pyopengl with version 3.1.6\n"
     ]
    },
    {
     "data": {
      "text/plain": [
       "<mne_qt_browser._pg_figure.MNEQtBrowser at 0x2b09c7d00>"
      ]
     },
     "execution_count": 24,
     "metadata": {},
     "output_type": "execute_result"
    },
    {
     "name": "stdout",
     "output_type": "stream",
     "text": [
      "Channels marked as bad:\n",
      "none\n"
     ]
    }
   ],
   "source": [
    "error_events_pre = clean_triggers(mne.find_events(eeg_error_pre, shortest_event=1), threshold=1500)\n",
    "eeg_error_pre.plot(events = error_events_pre)"
   ]
  },
  {
   "cell_type": "code",
   "execution_count": null,
   "metadata": {},
   "outputs": [
    {
     "name": "stdout",
     "output_type": "stream",
     "text": [
      "Trigger channel has a non-zero initial value of 65296 (consider using initial_event=True to detect this event)\n",
      "59326 events found\n",
      "Event IDs: [65282 65296]\n",
      "Using pyopengl with version 3.1.6\n"
     ]
    },
    {
     "data": {
      "text/plain": [
       "<mne_qt_browser._pg_figure.MNEQtBrowser at 0x2d7b03eb0>"
      ]
     },
     "execution_count": 14,
     "metadata": {},
     "output_type": "execute_result"
    },
    {
     "name": "stdout",
     "output_type": "stream",
     "text": [
      "Channels marked as bad:\n",
      "none\n"
     ]
    }
   ],
   "source": [
    "listen_events_post =clean_triggers(mne.find_events(eeg_listen_post), threshold=1200)\n",
    "eeg_listen_post.plot(events = listen_events_post)"
   ]
  },
  {
   "cell_type": "code",
   "execution_count": null,
   "metadata": {},
   "outputs": [
    {
     "name": "stdout",
     "output_type": "stream",
     "text": [
      "Trigger channel has a non-zero initial value of 65296 (consider using initial_event=True to detect this event)\n",
      "69217 events found\n",
      "Event IDs: [65282 65296 65298]\n",
      "Using pyopengl with version 3.1.6\n"
     ]
    },
    {
     "data": {
      "text/plain": [
       "<mne_qt_browser._pg_figure.MNEQtBrowser at 0x325343760>"
      ]
     },
     "execution_count": 123,
     "metadata": {},
     "output_type": "execute_result"
    },
    {
     "name": "stdout",
     "output_type": "stream",
     "text": [
      "Channels marked as bad:\n",
      "none\n"
     ]
    }
   ],
   "source": [
    "motor_events_post =clean_triggers(mne.find_events(eeg_motor_post, shortest_event = 1), threshold=1200)\n",
    "eeg_motor_post.plot(events = motor_events_post)"
   ]
  },
  {
   "cell_type": "code",
   "execution_count": null,
   "metadata": {},
   "outputs": [
    {
     "name": "stdout",
     "output_type": "stream",
     "text": [
      "Trigger channel has a non-zero initial value of 65296 (consider using initial_event=True to detect this event)\n",
      "46522 events found\n",
      "Event IDs: [65282 65284 65286 65288 65290 65296 65298]\n"
     ]
    },
    {
     "name": "stdout",
     "output_type": "stream",
     "text": [
      "Using pyopengl with version 3.1.6\n"
     ]
    },
    {
     "data": {
      "text/plain": [
       "<mne_qt_browser._pg_figure.MNEQtBrowser at 0x29d401cf0>"
      ]
     },
     "execution_count": 55,
     "metadata": {},
     "output_type": "execute_result"
    },
    {
     "name": "stdout",
     "output_type": "stream",
     "text": [
      "Channels marked as bad:\n",
      "none\n"
     ]
    }
   ],
   "source": [
    "error_events_post =clean_triggers(mne.find_events(eeg_error_post, shortest_event = 1), threshold=1200)\n",
    "eeg_error_post.plot(events = error_events_post)"
   ]
  }
 ],
 "metadata": {
  "kernelspec": {
   "display_name": "eelbrain-cnsp",
   "language": "python",
   "name": "python3"
  },
  "language_info": {
   "codemirror_mode": {
    "name": "ipython",
    "version": 3
   },
   "file_extension": ".py",
   "mimetype": "text/x-python",
   "name": "python",
   "nbconvert_exporter": "python",
   "pygments_lexer": "ipython3",
   "version": "3.11.5"
  },
  "orig_nbformat": 4
 },
 "nbformat": 4,
 "nbformat_minor": 2
}
