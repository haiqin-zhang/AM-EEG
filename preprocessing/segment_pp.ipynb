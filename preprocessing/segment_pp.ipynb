{
 "cells": [
  {
   "cell_type": "code",
   "execution_count": 10,
   "metadata": {},
   "outputs": [],
   "source": [
    "import mne\n",
    "import os\n",
    "import glob\n",
    "import numpy as np\n",
    "import pandas as pd\n",
    "from scipy.io import savemat\n",
    "import matplotlib.pyplot as plt\n",
    "from utils import *"
   ]
  },
  {
   "cell_type": "code",
   "execution_count": 11,
   "metadata": {},
   "outputs": [],
   "source": [
    "#======================================================================================\n",
    "#                        INITIALIZE DIRECTORIES\n",
    "#======================================================================================\n",
    "root_dir = \"/Users/cindyzhang/Documents/M2/Audiomotor_Piano/AM-EEG/data_raw\" #where the raw bdf files are\n",
    "output_base = '/Users/cindyzhang/Documents/M2/Audiomotor_Piano/AM-EEG/data_preprocessed' #where all the preprocessed .mat files and other info go\n",
    "\n",
    "plot = False\n",
    "FS_ORIG = 2048  # Hz\n",
    "#subjects_to_process = ['01', '02', '03', '04', '05', '06', '07', '08', '09', '10', \n",
    "                     #  '11', '12', '13', '14', '15', '16', '17', '18', '19', '20']  \n",
    "\n",
    "subjects_to_process = ['00']\n"
   ]
  },
  {
   "cell_type": "code",
   "execution_count": 12,
   "metadata": {},
   "outputs": [],
   "source": [
    "#======================================================================================\n",
    "#                       PREPROCESSING PARAMETERS\n",
    "#======================================================================================\n",
    "# Notch filtering\n",
    "notch_applied = False\n",
    "freq_notch = 50\n",
    "\n",
    "# Bandpass filtering\n",
    "bpf_applied = True\n",
    "freq_low   = 0.01\n",
    "freq_high  = 8\n",
    "bandpass = str(freq_low) + '-' + str(freq_high)\n",
    "ftype = 'butter'\n",
    "order = 3\n",
    "\n",
    "# Spherical interpolation\n",
    "int_applied = False\n",
    "interpolation = 'spline'\n",
    "\n",
    "# Rereferencing using average of mastoids electrodes\n",
    "reref_applied = True\n",
    "reref_type = 'Mastoids'  #Mastoids #Average\n",
    "\n",
    "# Downsampling\n",
    "down_applied = True\n",
    "downfreq = 64\n",
    "if not down_applied:\n",
    "    downfreq = FS_ORIG\n"
   ]
  },
  {
   "cell_type": "code",
   "execution_count": 13,
   "metadata": {},
   "outputs": [
    {
     "name": "stdout",
     "output_type": "stream",
     "text": [
      "Currently processing  /Users/cindyzhang/Documents/M2/Audiomotor_Piano/AM-EEG/data_raw/sub_00.bdf\n",
      "Extracting EDF parameters from /Users/cindyzhang/Documents/M2/Audiomotor_Piano/AM-EEG/data_raw/sub_00.bdf...\n",
      "BDF file detected\n",
      "Setting channel info structure...\n",
      "Creating raw.info structure...\n",
      "the (cropped) sample data object has 4270080 time samples and 80 channels.\n",
      "The last time sample is at 2084.99951171875 seconds.\n",
      "The first few channel names are Fp1, AF7, AF3.\n",
      "bad channels: []\n",
      "2048.0 Hz\n",
      "None \n",
      "\n",
      "<Info | 8 non-empty values\n",
      " bads: []\n",
      " ch_names: Fp1, AF7, AF3, F1, F3, F5, F7, FT7, FC5, FC3, FC1, C1, C3, C5, ...\n",
      " chs: 79 EEG, 1 Stimulus\n",
      " custom_ref_applied: False\n",
      " highpass: 0.0 Hz\n",
      " lowpass: 417.0 Hz\n",
      " meas_date: 2024-03-15 17:38:06 UTC\n",
      " nchan: 80\n",
      " projs: []\n",
      " sfreq: 2048.0 Hz\n",
      " subject_info: 1 item (dict)\n",
      ">\n",
      "Trigger channel has a non-zero initial value of 130816 (consider using initial_event=True to detect this event)\n",
      "21987 events found\n",
      "Event IDs: [65282 65284 65286 65288 65296]\n",
      "trial starts:  [[  46413   65280   65296]\n",
      " [1555179   65280   65296]\n",
      " [2989776   65280   65296]]\n"
     ]
    }
   ],
   "source": [
    "#======================================================================================\n",
    "#                       LOOP THROUGH SUBJECTS\n",
    "#======================================================================================\n",
    "\n",
    "files = glob.glob(os.path.join(root_dir, '**', '*.bdf'), recursive=True)\n",
    "\n",
    "for idx, file in enumerate(files):\n",
    "    \n",
    "    print(\"Currently processing \", file)\n",
    "\n",
    "    df_pre = pd.DataFrame()\n",
    "\n",
    "    subject_ID = file.split('.')[0][-2:]\n",
    "    if subject_ID not in subjects_to_process:\n",
    "        continue\n",
    "    \n",
    "    \n",
    "    output_dir = os.path.join(output_base, str(idx))\n",
    "    if not os.path.exists(output_dir):\n",
    "        os.makedirs(output_dir)\n",
    "    \n",
    "    #======================================================================================\n",
    "    #                        READ EEG FILES\n",
    "    #======================================================================================\n",
    "        \n",
    "    raw = mne.io.read_raw_bdf(file, eog=None, misc=None, stim_channel='Status', \n",
    "                              infer_types=False, preload=False, verbose=None)\n",
    "   \n",
    "    # Check metadata\n",
    "    n_time_samps = raw.n_times\n",
    "    time_secs = raw.times\n",
    "    ch_names = raw.ch_names\n",
    "    n_chan = len(ch_names) \n",
    "    print('the (cropped) sample data object has {} time samples and {} channels.'\n",
    "        ''.format(n_time_samps, n_chan))\n",
    "    print('The last time sample is at {} seconds.'.format(time_secs[-1]))\n",
    "    print('The first few channel names are {}.'.format(', '.join(ch_names[:3])))\n",
    "    print('bad channels:', raw.info['bads'])  # chs marked \"bad\" during acquisition\n",
    "    print(raw.info['sfreq'], 'Hz')            # sampling frequency\n",
    "    print(raw.info['description'], '\\n')      # miscellaneous acquisition info\n",
    "    print(raw.info)\n",
    "\n",
    "    if plot:\n",
    "        raw.plot(start=100, duration=10)\n",
    "\n",
    "\n",
    "    #======================================================================================\n",
    "    #                       FIND TRIGGERS\n",
    "    #======================================================================================\n",
    "    #loading the raw events\n",
    "    #the stim channel is called 'Status' \n",
    "    events = mne.find_events(raw, stim_channel='Status', shortest_event=1) #raises exception if shortest event is default 2...?\n",
    "    \n",
    "\n",
    "#...TO DO: import bad triggers noted in experiment from corresponding csv \n",
    "    bad_triggers = []\n",
    "    #events.pop(bad_triggers indices)\n",
    "\n",
    "    #cleaned triggers according to channel\n",
    "    #trial start and end are indicated in channel 5, filtered for 10+ min duration\n",
    "    events_2, events_3, events_4, events_5, trial_starts = sort_events(events)\n",
    "\n",
    "\n",
    "   \n",
    "    #======================================================================================\n",
    "    #                        CROPPING FILES TO THE TRIAL\n",
    "    #======================================================================================\n",
    "    print(\"trial starts: \", trial_starts)\n",
    "    \n",
    "\n",
    "    listen_pre_start = trial_starts[0][0]/FS_ORIG\n",
    "    listen_pre_end = listen_pre_start+665\n",
    "\n",
    "    motor_pre_start = trial_starts[1][0]/FS_ORIG\n",
    "    motor_pre_end = motor_pre_start+600\n",
    "\n",
    "    error_pre_start = trial_starts[2][0]/FS_ORIG\n",
    "    error_pre_end = error_pre_start+600\n",
    "\n",
    "#.....TO DO\n",
    "    #add stuff for post \n",
    "    #approximate crop for training?\n",
    "\n",
    "    eeg_listen_pre = raw.copy().crop(tmin = listen_pre_start, tmax = listen_pre_end)\n",
    "    eeg_motor_pre = raw.copy().crop(tmin = motor_pre_start, tmax = motor_pre_end)\n",
    "    eeg_error_pre = raw.copy().crop(tmin = error_pre_start, tmax = error_pre_end)\n",
    "\n",
    "    \n",
    "    #eegs_to_process = [eeg_listen_pre]\n",
    "    eegs_to_process = []\n",
    "    eeg_names = ['eeg_listen_pre']\n",
    "\n",
    "    #get the eeg data\n",
    "    \n",
    "    for i, eeg in enumerate(eegs_to_process):\n",
    "\n",
    "    #======================================================================================\n",
    "    #                       FILTERING\n",
    "    #======================================================================================\n",
    "        \n",
    "        ## -------------\n",
    "        ## Select channels\n",
    "        ## -------------\n",
    "        eeg_channels = ch_names[0:66]\n",
    "        eeg = eeg.pick_channels(eeg_channels)\n",
    "        if plot:\n",
    "            eeg.plot(start=100, duration=10, n_channels=len(raw.ch_names))\n",
    "\n",
    "         \n",
    "         #...BP filtering\n",
    "         \n",
    "         #...interpolation\n",
    "            \n",
    "        \n",
    "        #... re-referencing\n",
    "         \n",
    "         \n",
    "        ## -------------\n",
    "        ## Downsampling\n",
    "        ## -------------\n",
    "        df_pre['down_applied'] = [down_applied]\n",
    "        df_pre['downfreq'] = [downfreq]\n",
    "        if down_applied:\n",
    "            eeg = eeg.resample(sfreq=downfreq)\n",
    "            print(eeg.info)\n",
    "            if plot:\n",
    "                eeg.plot()\n",
    "  \n",
    "        \n",
    "    #======================================================================================\n",
    "    #                       SAVING CROPPED FILES\n",
    "    #======================================================================================\n",
    "        \n",
    "        name = eeg_names[i]\n",
    "        eeg_tosave = eeg.get_data()\n",
    "\n",
    "        savemat(os.path.join(output_dir,   f'{name}_{subject_ID}.mat'), {'trial_data': eeg_tosave[0:64, :], \n",
    "                                                              'trial_mastoids': eeg_tosave[64:, :]})\n",
    "    \n",
    "\n",
    "         ## -------------\n",
    "        ## Save preprocessing stages\n",
    "        ## -------------\n",
    "    df_pre.to_csv(os.path.join(output_dir, f\"preprocess_record_{subject_ID}\"), index=False)\n"
   ]
  },
  {
   "cell_type": "markdown",
   "metadata": {},
   "source": [
    "EXPLORATION BELOW, NOT FOR THE ACTUAL PIPELINE\n",
    "Note the different thresholds used (keystroke triggers are longer than mode switch or trial triggers)"
   ]
  },
  {
   "cell_type": "code",
   "execution_count": 14,
   "metadata": {},
   "outputs": [
    {
     "data": {
      "text/plain": [
       "array([[  46413,   65280,   65296],\n",
       "       [1555179,   65280,   65296],\n",
       "       [2989776,   65280,   65296]])"
      ]
     },
     "execution_count": 14,
     "metadata": {},
     "output_type": "execute_result"
    }
   ],
   "source": [
    "trial_starts"
   ]
  },
  {
   "cell_type": "code",
   "execution_count": 6,
   "metadata": {},
   "outputs": [
    {
     "name": "stdout",
     "output_type": "stream",
     "text": [
      "Trigger channel has a non-zero initial value of 130816 (consider using initial_event=True to detect this event)\n",
      "21987 events found\n",
      "Event IDs: [65282 65284 65286 65288 65296]\n"
     ]
    }
   ],
   "source": [
    "\"\"\"raw_events = mne.find_events(raw, shortest_event=1)\n",
    "raw.plot(events = raw_events)\"\"\""
   ]
  },
  {
   "cell_type": "code",
   "execution_count": 15,
   "metadata": {},
   "outputs": [
    {
     "name": "stdout",
     "output_type": "stream",
     "text": [
      "Trigger channel has a non-zero initial value of 65296 (consider using initial_event=True to detect this event)\n",
      "19417 events found\n",
      "Event IDs: [65282 65296]\n",
      "Using pyopengl with version 3.1.6\n"
     ]
    },
    {
     "data": {
      "text/plain": [
       "<mne_qt_browser._pg_figure.MNEQtBrowser at 0x12ff200d0>"
      ]
     },
     "execution_count": 15,
     "metadata": {},
     "output_type": "execute_result"
    },
    {
     "name": "stdout",
     "output_type": "stream",
     "text": [
      "Channels marked as bad:\n",
      "none\n"
     ]
    }
   ],
   "source": [
    "listen_events = clean_triggers(mne.find_events(eeg_listen_pre), threshold=1000)\n",
    "eeg_listen_pre.plot(events = listen_events)"
   ]
  },
  {
   "cell_type": "code",
   "execution_count": 16,
   "metadata": {},
   "outputs": [
    {
     "name": "stdout",
     "output_type": "stream",
     "text": [
      "Trigger channel has a non-zero initial value of 65296 (consider using initial_event=True to detect this event)\n",
      "695 events found\n",
      "Event IDs: [65282 65296]\n",
      "Using pyopengl with version 3.1.6\n"
     ]
    },
    {
     "data": {
      "text/plain": [
       "<mne_qt_browser._pg_figure.MNEQtBrowser at 0x285c4f9a0>"
      ]
     },
     "execution_count": 16,
     "metadata": {},
     "output_type": "execute_result"
    },
    {
     "name": "stdout",
     "output_type": "stream",
     "text": [
      "Channels marked as bad:\n",
      "none\n"
     ]
    }
   ],
   "source": [
    "motor_events = clean_triggers(mne.find_events(eeg_motor_pre), threshold=1500)\n",
    "motor_events.shape\n",
    "eeg_motor_pre.plot(events = motor_events)"
   ]
  },
  {
   "cell_type": "code",
   "execution_count": 17,
   "metadata": {},
   "outputs": [
    {
     "name": "stdout",
     "output_type": "stream",
     "text": [
      "Trigger channel has a non-zero initial value of 65296 (consider using initial_event=True to detect this event)\n",
      "1795 events found\n",
      "Event IDs: [65282 65284 65286 65288 65296]\n",
      "Using pyopengl with version 3.1.6\n"
     ]
    },
    {
     "data": {
      "text/plain": [
       "<mne_qt_browser._pg_figure.MNEQtBrowser at 0x2868065f0>"
      ]
     },
     "execution_count": 17,
     "metadata": {},
     "output_type": "execute_result"
    },
    {
     "name": "stdout",
     "output_type": "stream",
     "text": [
      "Channels marked as bad:\n",
      "none\n"
     ]
    }
   ],
   "source": [
    "error_events = clean_triggers(mne.find_events(eeg_error_pre, shortest_event=1), threshold=1500)\n",
    "eeg_error_pre.plot(events = error_events)"
   ]
  }
 ],
 "metadata": {
  "kernelspec": {
   "display_name": "eelbrain-cnsp",
   "language": "python",
   "name": "python3"
  },
  "language_info": {
   "codemirror_mode": {
    "name": "ipython",
    "version": 3
   },
   "file_extension": ".py",
   "mimetype": "text/x-python",
   "name": "python",
   "nbconvert_exporter": "python",
   "pygments_lexer": "ipython3",
   "version": "3.11.5"
  },
  "orig_nbformat": 4
 },
 "nbformat": 4,
 "nbformat_minor": 2
}
