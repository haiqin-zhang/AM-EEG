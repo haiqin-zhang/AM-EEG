{
 "cells": [
  {
   "cell_type": "code",
   "execution_count": 1,
   "metadata": {},
   "outputs": [],
   "source": [
    "import mne\n",
    "import os\n",
    "import glob\n",
    "import numpy as np\n",
    "import pandas as pd\n",
    "from scipy.io import savemat\n",
    "import matplotlib.pyplot as plt\n",
    "import pickle\n",
    "\n",
    "import sys\n",
    "sys.path.append('../utils')\n",
    "from pp_utils import *"
   ]
  },
  {
   "cell_type": "code",
   "execution_count": 2,
   "metadata": {},
   "outputs": [],
   "source": [
    "#======================================================================================\n",
    "#                        INITIALIZE DIRECTORIES\n",
    "#======================================================================================\n",
    "root_dir = \"/Users/cindyzhang/Documents/M2/Audiomotor_Piano/AM-EEG/data_raw\" #where the raw bdf files are\n",
    "output_base = '/Users/cindyzhang/Documents/M2/Audiomotor_Piano/AM-EEG/data_preprocessed' #where all the preprocessed .mat files and other info go\n",
    "\n",
    "plot = False\n",
    "FS_ORIG = 2048  # Hz\n",
    "#subjects_to_process = ['01', '02', '03', '04', '05', '06', '07', '08', '09', '10', \n",
    "                     #  '11', '12', '13', '14', '15', '16', '17', '18', '19', '20']  \n",
    "\n",
    "subjects_to_process = ['01']\n",
    "\n"
   ]
  },
  {
   "cell_type": "code",
   "execution_count": 3,
   "metadata": {},
   "outputs": [],
   "source": [
    "#======================================================================================\n",
    "#                       PREPROCESSING PARAMETERS\n",
    "#======================================================================================\n",
    "# Printing general info\n",
    "print_info = False\n",
    "\n",
    "# Notch filtering\n",
    "notch_applied = False\n",
    "freq_notch = 50\n",
    "\n",
    "# Bandpass filtering\n",
    "bpf_applied = True\n",
    "freq_low   = 0.01\n",
    "freq_high  = 8\n",
    "bandpass = str(freq_low) + '-' + str(freq_high)\n",
    "ftype = 'butter'\n",
    "order = 3\n",
    "\n",
    "# Spherical interpolation\n",
    "int_applied = False\n",
    "interpolation = 'spline'\n",
    "\n",
    "# Rereferencing using average of mastoids electrodes\n",
    "reref_applied = True\n",
    "reref_type = 'Mastoids'  #Mastoids #Average\n",
    "\n",
    "# Downsampling\n",
    "down_applied = True\n",
    "downfreq = 128\n",
    "if not down_applied:\n",
    "    downfreq = FS_ORIG\n",
    "downfreq_factor =int(FS_ORIG/downfreq)"
   ]
  },
  {
   "cell_type": "code",
   "execution_count": 4,
   "metadata": {},
   "outputs": [
    {
     "name": "stdout",
     "output_type": "stream",
     "text": [
      "Currently processing  /Users/cindyzhang/Documents/M2/Audiomotor_Piano/AM-EEG/data_raw/sub_01_01.bdf\n",
      "Concatenating multiple parts for same subject.\n",
      "Files being concatenated:  ['/Users/cindyzhang/Documents/M2/Audiomotor_Piano/AM-EEG/data_raw/sub_01_01.bdf', '/Users/cindyzhang/Documents/M2/Audiomotor_Piano/AM-EEG/data_raw/sub_02_01.bdf']\n",
      "Extracting EDF parameters from /Users/cindyzhang/Documents/M2/Audiomotor_Piano/AM-EEG/data_raw/sub_01_01.bdf...\n",
      "BDF file detected\n",
      "Setting channel info structure...\n",
      "Creating raw.info structure...\n",
      "Extracting EDF parameters from /Users/cindyzhang/Documents/M2/Audiomotor_Piano/AM-EEG/data_raw/sub_02_01.bdf...\n",
      "BDF file detected\n",
      "Setting channel info structure...\n",
      "Creating raw.info structure...\n",
      "Trigger channel has a non-zero initial value of 130816 (consider using initial_event=True to detect this event)\n",
      "441450 events found\n",
      "Event IDs: [ 65282  65284  65286  65288  65290  65296  65298  65535 130816 130818]\n",
      "All event types present\n",
      "trial starts: \n",
      " [[ 332604   65280   65296]\n",
      " [2072464   65280   65296]\n",
      " [3681072   65280   65296]\n",
      " [6102881   65280   65296]\n",
      " [7850577   65280   65296]\n",
      " [9370825   65280   65296]]\n",
      "NOTE: pick_channels() is a legacy function. New code should use inst.pick(...).\n",
      "Trigger channel has a non-zero initial value of 65296 (consider using initial_event=True to detect this event)\n",
      "71718 events found\n",
      "Event IDs: [65282 65284 65286 65288 65290 65296 65298]\n",
      "All event types present\n"
     ]
    }
   ],
   "source": [
    "#======================================================================================\n",
    "#                       LOOP THROUGH SUBJECTS\n",
    "#======================================================================================\n",
    "\n",
    "files = sorted(glob.glob(os.path.join(root_dir, '**', '*.bdf'), recursive=True))\n",
    "\n",
    "already_processed = []\n",
    "\n",
    "for idx, file in enumerate(files):\n",
    "\n",
    "    df_pre = pd.DataFrame()\n",
    "\n",
    "    subject_ID = file.split('.')[0][-2:]\n",
    "    if subject_ID not in subjects_to_process:\n",
    "        continue\n",
    "    elif subject_ID in already_processed: #prevents looping over same subject twice if they have multiple file fragments\n",
    "        continue\n",
    "    \n",
    "    print(\"Currently processing \", file)\n",
    "    already_processed.append(subject_ID)\n",
    "\n",
    "    output_dir = os.path.join(output_base, subject_ID)\n",
    "    if not os.path.exists(output_dir):\n",
    "        os.makedirs(output_dir)\n",
    "    \n",
    "\n",
    "    \n",
    "\n",
    "    #======================================================================================\n",
    "    #                        READ EEG FILES\n",
    "    #======================================================================================\n",
    "\n",
    "    #concatenate multiple files if there are multiple files per subject\n",
    "    if len(file.split('/')[-1]) > 10: \n",
    "        print(\"Concatenating multiple parts for same subject.\")\n",
    "\n",
    "        subject_files = sorted([file for file in files if file.split('/')[-1].split('.')[0][-2:] == \"01\"])\n",
    "        print('Files being concatenated: ', subject_files)\n",
    "\n",
    "        raws = [mne.io.read_raw_bdf(file, eog=None, misc=None, stim_channel='Status', \n",
    "                              infer_types=False, preload=False, verbose=None) for file in subject_files]\n",
    "        \n",
    "        raw = mne.concatenate_raws(raws)\n",
    "\n",
    "    else:\n",
    "        raw = mne.io.read_raw_bdf(file, eog=None, misc=None, stim_channel='Status', \n",
    "                              infer_types=False, preload=False, verbose=None)\n",
    "\n",
    "\n",
    "    # Check metadata\n",
    "    n_time_samps = raw.n_times\n",
    "    time_secs = raw.times\n",
    "    ch_names = raw.ch_names\n",
    "    n_chan = len(ch_names) \n",
    "\n",
    "    if print_info == True:\n",
    "        print('the (cropped) sample data object has {} time samples and {} channels.'\n",
    "            ''.format(n_time_samps, n_chan))\n",
    "        print('The last time sample is at {} seconds.'.format(time_secs[-1]))\n",
    "        print('The first few channel names are {}.'.format(', '.join(ch_names[:3])))\n",
    "        print('bad channels:', raw.info['bads'])  # chs marked \"bad\" during acquisition\n",
    "        print(raw.info['sfreq'], 'Hz')            # sampling frequency\n",
    "        print(raw.info['description'], '\\n')      # miscellaneous acquisition info\n",
    "        print(raw.info)\n",
    "\n",
    "    if plot:\n",
    "        raw.plot(start=100, duration=10)\n",
    "\n",
    "\n",
    "    #======================================================================================\n",
    "    #                       FIND TRIGGERS FOR SEGMENTING\n",
    "    #======================================================================================\n",
    "    #loading the raw events\n",
    "    #the stim channel is called 'Status' \n",
    "    events = mne.find_events(raw, stim_channel='Status', shortest_event=1) #raises exception if shortest event is default 2...?\n",
    "    \n",
    "\n",
    "#...TO DO: import bad triggers noted in experiment from corresponding csv \n",
    "    bad_triggers = []\n",
    "    #events.pop(bad_triggers indices)\n",
    "\n",
    "    #cleaned triggers according to channel\n",
    "    #trial start and end are indicated in channel 5, filtered for 10+ min duration\n",
    "    #events_2, events_3, events_4, events_5, trial_starts = sort_events(events)\n",
    "    _, _, _, _, trial_starts = sort_events(events)\n",
    "\n",
    "\n",
    "   \n",
    "    #======================================================================================\n",
    "    #                        CROPPING FILES TO THE TRIAL\n",
    "    #======================================================================================\n",
    "    print(\"trial starts: \\n\", trial_starts)\n",
    "    \n",
    "    #trial durations\n",
    "    listen_dur = 665\n",
    "    motor_dur = 600\n",
    "    error_dur = 600\n",
    "\n",
    "    #start times for cropping\n",
    "    listen_pre_start, motor_pre_start, error_pre_start, listen_post_start, motor_post_start, error_post_start = trial_starts[:,0]/FS_ORIG\n",
    "    \n",
    "    #end times\n",
    "    listen_pre_end = listen_pre_start+listen_dur\n",
    "    motor_pre_end = motor_pre_start+motor_dur\n",
    "    error_pre_end = error_pre_start+error_dur\n",
    "    listen_post_end = listen_post_start+listen_dur\n",
    "    motor_post_end = motor_post_start+motor_dur\n",
    "    error_post_end = error_post_start+error_dur\n",
    "    \n",
    "\n",
    "\n",
    "    if subject_ID == '01':\n",
    "        error_pre_end = error_pre_start+430 #exception for subject 1\n",
    "\n",
    "#.....TO DO\n",
    "    #add stuff for post \n",
    "    #approximate crop for training?\n",
    "\n",
    "    eeg_listen_pre = raw.copy().crop(tmin = listen_pre_start, tmax = listen_pre_end)\n",
    "    eeg_motor_pre = raw.copy().crop(tmin = motor_pre_start, tmax = motor_pre_end)\n",
    "    eeg_error_pre = raw.copy().crop(tmin = error_pre_start, tmax = error_pre_end)\n",
    "    eeg_listen_post = raw.copy().crop(tmin = listen_post_start, tmax = listen_post_end)\n",
    "    eeg_motor_post = raw.copy().crop(tmin = motor_post_start, tmax = motor_post_end)\n",
    "    eeg_error_post = raw.copy().crop(tmin = error_post_start, tmax = error_post_end)\n",
    "   \n",
    "\n",
    "    #------------------------   \n",
    "    # CHOOSING FILES TO PROCESS\n",
    "    #---------------------------\n",
    "\n",
    "    #get the eeg data\n",
    "    eegs_to_process = [eeg_error_post]\n",
    "    #eegs_to_process = []\n",
    "    eeg_names = ['eeg_error_post']\n",
    "    \n",
    "\n",
    "    #======================================================================================\n",
    "    #                       FILTERING\n",
    "    #======================================================================================\n",
    "    for i, data in enumerate(eegs_to_process):\n",
    "        ## -------------\n",
    "        ## Select channels\n",
    "        ## -------------\n",
    "\n",
    "        #eeg_channels = ch_names[:66] + [ch_names[-1]]\n",
    "        eeg_channels = ch_names[0:66]\n",
    "        eeg = data.copy().pick_channels(eeg_channels)\n",
    "        if plot:\n",
    "            eeg.plot(start=100, duration=10, n_channels=len(raw.ch_names))\n",
    "\n",
    "        \n",
    "        \"\"\"eeg_channels = ch_names[0:66]\n",
    "        eeg = eeg.pick_channels(eeg_channels)\n",
    "        if plot:\n",
    "            eeg.plot(start=100, duration=10, n_channels=len(raw.ch_names))\"\"\"\n",
    "  \n",
    "         #...BP filtering\n",
    "         \n",
    "         #...interpolation\n",
    "            \n",
    "        \n",
    "        #... re-referencing\n",
    "         \n",
    "         \n",
    "        ## -------------\n",
    "        ## Downsampling\n",
    "        ## -------------\n",
    "        df_pre['down_applied'] = [down_applied]\n",
    "        df_pre['downfreq'] = [downfreq]\n",
    "        if down_applied:\n",
    "            eeg = eeg.resample(sfreq=downfreq)\n",
    "            if plot:\n",
    "                eeg.plot()\n",
    "  \n",
    "\n",
    "    #======================================================================================\n",
    "    #                      UPDATE TRIGGERS?\n",
    "    #======================================================================================\n",
    "      \n",
    "        #create support vectors\n",
    "        #zero array with downsampled dimensions\n",
    "        events_original = np.zeros((5, data.get_data().shape[1])) #5 rows = event types, along time axis zero when there is an event and 1 everywhere else\n",
    "        \n",
    "      \n",
    "        #get triggers\n",
    "        section_triggers = mne.find_events(data, stim_channel='Status', shortest_event=1)\n",
    "        events_2, events_3, events_4, events_5, section_start = sort_events(section_triggers, clean = True)\n",
    "\n",
    "        #get trial start time\n",
    "        section_start = section_start[0][0]\n",
    "        \n",
    "        #find indices corrected for start time\n",
    "        indices_2 = (events_2[:,0]) - section_start\n",
    "        indices_3 = (events_3[:,0]) - section_start\n",
    "        indices_4 = (events_4[:,0]) - section_start\n",
    "        indices_5 = (events_5[:,0]) - section_start   \n",
    "\n",
    "        #populate event array with 1s where there are events\n",
    "        \n",
    "        events_original[0][indices_2] = 1\n",
    "        events_original[1][indices_3] = 1\n",
    "        events_original[2][indices_4] = 1\n",
    "        events_original[3][indices_5] = 1\n",
    "\n",
    "        #resample while preserving events\n",
    "        cropped_length = eeg.get_data().shape[1]\n",
    "        events_resampled = np.zeros((5, cropped_length))\n",
    "        for row in range(events_resampled.shape[0]):\n",
    "            events_resampled[row] = discretize(events_original[row], final_length = cropped_length, downfreq_factor = downfreq_factor)\n",
    "\n",
    "        \n",
    "        \"\"\"events_resampled[1][indices_3] = 1\n",
    "        events_resampled[2][indices_4] = 1\n",
    "        events_resampled[3][indices_5] = 1  \"\"\"\n",
    "        \"\"\"\n",
    "        #discretize\n",
    "        n_bins = len(events_resampled[0]) //downfreq_factor\n",
    "        temp = events_resampled[0][:n_bins * 32].reshape(n_bins, 32)\n",
    "        events_resampled[0] = np.any(arr_reshaped, axis=1).astype(int)\n",
    "        \"\"\"\n",
    "       # triggers_tosave = triggers.get_data()\n",
    "    #======================================================================================\n",
    "    #                       SAVING CROPPED FILES\n",
    "    #======================================================================================\n",
    "        \n",
    "        name = eeg_names[i]\n",
    "        eeg_tosave = eeg.get_data()\n",
    "\n",
    "        savemat(os.path.join(output_dir,   f'{name}_{subject_ID}.mat'), {'trial_data': eeg_tosave[0:64, :], 'trial_mastoids': eeg_tosave[64:66, :], 'events': events_resampled})\n",
    "    \n",
    "\n",
    "         ## -------------\n",
    "        ## Save preprocessing stages\n",
    "        ## -------------\n",
    "    df_pre.to_csv(os.path.join(output_dir, f\"preprocess_record_{subject_ID}.csv\"), index=False)\n"
   ]
  },
  {
   "cell_type": "code",
   "execution_count": 5,
   "metadata": {},
   "outputs": [
    {
     "data": {
      "text/plain": [
       "'def discretize(arr, final_length, downfreq_factor = downfreq_factor):\\n    n_bins = int(len(arr)//downfreq_factor)\\n\\n    if len(arr) % downfreq_factor != 0:\\n        remainder = downfreq_factor - (len(arr) % downfreq_factor)\\n        arr = np.append(arr, [0] * int(remainder))\\n        n_bins +=1\\n\\n    arr_reshaped = arr.reshape(n_bins, downfreq_factor)\\n    discretized_arr = np.any(arr_reshaped, axis=1).astype(int)\\n\\n    discretized_arr = discretized_arr[0:final_length]\\n\\n    return discretized_arr'"
      ]
     },
     "execution_count": 5,
     "metadata": {},
     "output_type": "execute_result"
    }
   ],
   "source": [
    "\"\"\"def discretize(arr, final_length, downfreq_factor = downfreq_factor):\n",
    "    n_bins = int(len(arr)//downfreq_factor)\n",
    "\n",
    "    if len(arr) % downfreq_factor != 0:\n",
    "        remainder = downfreq_factor - (len(arr) % downfreq_factor)\n",
    "        arr = np.append(arr, [0] * int(remainder))\n",
    "        n_bins +=1\n",
    "\n",
    "    arr_reshaped = arr.reshape(n_bins, downfreq_factor)\n",
    "    discretized_arr = np.any(arr_reshaped, axis=1).astype(int)\n",
    "\n",
    "    discretized_arr = discretized_arr[0:final_length]\n",
    "\n",
    "    return discretized_arr\"\"\"\n"
   ]
  },
  {
   "cell_type": "code",
   "execution_count": 8,
   "metadata": {},
   "outputs": [
    {
     "data": {
      "text/plain": [
       "[<matplotlib.lines.Line2D at 0x17af40050>]"
      ]
     },
     "execution_count": 8,
     "metadata": {},
     "output_type": "execute_result"
    },
    {
     "data": {
      "image/png": "[encoded data removed]",
      "text/plain": [
       "<Figure size 2000x1000 with 1 Axes>"
      ]
     },
     "metadata": {},
     "output_type": "display_data"
    }
   ],
   "source": [
    "plt.figure(figsize=(20,10))\n",
    "plt.plot(events_original[2])"
   ]
  },
  {
   "cell_type": "code",
   "execution_count": 9,
   "metadata": {},
   "outputs": [
    {
     "data": {
      "text/plain": [
       "[<matplotlib.lines.Line2D at 0x17ddb14d0>]"
      ]
     },
     "execution_count": 9,
     "metadata": {},
     "output_type": "execute_result"
    },
    {
     "data": {
      "image/png": "[encoded data removed]",
      "text/plain": [
       "<Figure size 2000x1000 with 1 Axes>"
      ]
     },
     "metadata": {},
     "output_type": "display_data"
    }
   ],
   "source": [
    "plt.figure(figsize=(20,10))\n",
    "plt.plot(events_resampled[2])"
   ]
  },
  {
   "cell_type": "markdown",
   "metadata": {},
   "source": [
    "## EXPLORATION BELOW, NOT FOR THE ACTUAL PIPELINE\n",
    "Note the different thresholds used (keystroke triggers are longer than mode switch or trial triggers)"
   ]
  },
  {
   "cell_type": "code",
   "execution_count": null,
   "metadata": {},
   "outputs": [
    {
     "data": {
      "text/plain": [
       "array([[ 332604,   65280,   65296],\n",
       "       [2072464,   65280,   65296],\n",
       "       [3681072,   65280,   65296],\n",
       "       [6102881,   65280,   65296],\n",
       "       [7850577,   65280,   65296],\n",
       "       [9370825,   65280,   65296]])"
      ]
     },
     "execution_count": 76,
     "metadata": {},
     "output_type": "execute_result"
    }
   ],
   "source": [
    "trial_starts"
   ]
  },
  {
   "cell_type": "code",
   "execution_count": null,
   "metadata": {},
   "outputs": [
    {
     "data": {
      "text/plain": [
       "'raw_events = mne.find_events(raw, shortest_event=1)\\nraw.plot(events = raw_events)'"
      ]
     },
     "execution_count": 16,
     "metadata": {},
     "output_type": "execute_result"
    }
   ],
   "source": [
    "\"\"\"raw_events = mne.find_events(raw, shortest_event=1)\n",
    "raw.plot(events = raw_events)\"\"\""
   ]
  },
  {
   "cell_type": "code",
   "execution_count": null,
   "metadata": {},
   "outputs": [
    {
     "name": "stdout",
     "output_type": "stream",
     "text": [
      "Trigger channel has a non-zero initial value of 65296 (consider using initial_event=True to detect this event)\n",
      "59401 events found\n",
      "Event IDs: [65282 65296]\n",
      "Using qt as 2D backend.\n",
      "Using pyopengl with version 3.1.6\n"
     ]
    },
    {
     "data": {
      "text/plain": [
       "<mne_qt_browser._pg_figure.MNEQtBrowser at 0x2cc77d630>"
      ]
     },
     "execution_count": 5,
     "metadata": {},
     "output_type": "execute_result"
    },
    {
     "name": "stdout",
     "output_type": "stream",
     "text": [
      "Channels marked as bad:\n",
      "none\n"
     ]
    }
   ],
   "source": [
    "listen_events_pre = clean_triggers(mne.find_events(eeg_listen_pre), threshold=1200)\n",
    "eeg_listen_pre.plot(events = listen_events_pre)"
   ]
  },
  {
   "cell_type": "code",
   "execution_count": null,
   "metadata": {},
   "outputs": [
    {
     "name": "stdout",
     "output_type": "stream",
     "text": [
      "Trigger channel has a non-zero initial value of 65296 (consider using initial_event=True to detect this event)\n",
      "65802 events found\n",
      "Event IDs: [65282 65296]\n",
      "Using qt as 2D backend.\n",
      "Using pyopengl with version 3.1.6\n"
     ]
    },
    {
     "data": {
      "text/plain": [
       "<mne_qt_browser._pg_figure.MNEQtBrowser at 0x32b70f5b0>"
      ]
     },
     "execution_count": 122,
     "metadata": {},
     "output_type": "execute_result"
    },
    {
     "name": "stdout",
     "output_type": "stream",
     "text": [
      "Channels marked as bad:\n",
      "none\n"
     ]
    }
   ],
   "source": [
    "motor_events_pre = clean_triggers(mne.find_events(eeg_motor_pre), threshold=1500)\n",
    "eeg_motor_pre.plot(events = motor_events_pre)"
   ]
  },
  {
   "cell_type": "code",
   "execution_count": null,
   "metadata": {},
   "outputs": [
    {
     "name": "stdout",
     "output_type": "stream",
     "text": [
      "Trigger channel has a non-zero initial value of 65296 (consider using initial_event=True to detect this event)\n",
      "53780 events found\n",
      "Event IDs: [65282 65284 65286 65288 65290 65296 65298]\n",
      "Using pyopengl with version 3.1.6\n"
     ]
    },
    {
     "data": {
      "text/plain": [
       "<mne_qt_browser._pg_figure.MNEQtBrowser at 0x1181c3b50>"
      ]
     },
     "execution_count": 85,
     "metadata": {},
     "output_type": "execute_result"
    },
    {
     "name": "stdout",
     "output_type": "stream",
     "text": [
      "Channels marked as bad:\n",
      "none\n"
     ]
    }
   ],
   "source": [
    "error_events_pre = clean_triggers(mne.find_events(eeg_error_pre, shortest_event=1), threshold=1500)\n",
    "eeg_error_pre.plot(events = error_events_pre)"
   ]
  },
  {
   "cell_type": "code",
   "execution_count": null,
   "metadata": {},
   "outputs": [
    {
     "name": "stdout",
     "output_type": "stream",
     "text": [
      "Trigger channel has a non-zero initial value of 65296 (consider using initial_event=True to detect this event)\n",
      "59326 events found\n",
      "Event IDs: [65282 65296]\n",
      "Using pyopengl with version 3.1.6\n"
     ]
    },
    {
     "data": {
      "text/plain": [
       "<mne_qt_browser._pg_figure.MNEQtBrowser at 0x2d7b03eb0>"
      ]
     },
     "execution_count": 14,
     "metadata": {},
     "output_type": "execute_result"
    },
    {
     "name": "stdout",
     "output_type": "stream",
     "text": [
      "Channels marked as bad:\n",
      "none\n"
     ]
    }
   ],
   "source": [
    "listen_events_post =clean_triggers(mne.find_events(eeg_listen_post), threshold=1200)\n",
    "eeg_listen_post.plot(events = listen_events_post)"
   ]
  },
  {
   "cell_type": "code",
   "execution_count": null,
   "metadata": {},
   "outputs": [
    {
     "name": "stdout",
     "output_type": "stream",
     "text": [
      "Trigger channel has a non-zero initial value of 65296 (consider using initial_event=True to detect this event)\n",
      "69217 events found\n",
      "Event IDs: [65282 65296 65298]\n",
      "Using pyopengl with version 3.1.6\n"
     ]
    },
    {
     "data": {
      "text/plain": [
       "<mne_qt_browser._pg_figure.MNEQtBrowser at 0x325343760>"
      ]
     },
     "execution_count": 123,
     "metadata": {},
     "output_type": "execute_result"
    },
    {
     "name": "stdout",
     "output_type": "stream",
     "text": [
      "Channels marked as bad:\n",
      "none\n"
     ]
    }
   ],
   "source": [
    "motor_events_post =clean_triggers(mne.find_events(eeg_motor_post, shortest_event = 1), threshold=1200)\n",
    "eeg_motor_post.plot(events = motor_events_post)"
   ]
  },
  {
   "cell_type": "code",
   "execution_count": null,
   "metadata": {},
   "outputs": [
    {
     "name": "stdout",
     "output_type": "stream",
     "text": [
      "Trigger channel has a non-zero initial value of 65296 (consider using initial_event=True to detect this event)\n",
      "71718 events found\n",
      "Event IDs: [65282 65284 65286 65288 65290 65296 65298]\n",
      "Using pyopengl with version 3.1.6\n"
     ]
    },
    {
     "data": {
      "text/plain": [
       "<mne_qt_browser._pg_figure.MNEQtBrowser at 0x2a5d77910>"
      ]
     },
     "execution_count": 46,
     "metadata": {},
     "output_type": "execute_result"
    },
    {
     "name": "stdout",
     "output_type": "stream",
     "text": [
      "Channels marked as bad:\n",
      "none\n"
     ]
    }
   ],
   "source": [
    "error_events_post =clean_triggers(mne.find_events(eeg_error_post, shortest_event = 1), threshold=1200)\n",
    "eeg_error_post.plot(events = error_events_post)"
   ]
  }
 ],
 "metadata": {
  "kernelspec": {
   "display_name": "eelbrain-cnsp",
   "language": "python",
   "name": "python3"
  },
  "language_info": {
   "codemirror_mode": {
    "name": "ipython",
    "version": 3
   },
   "file_extension": ".py",
   "mimetype": "text/x-python",
   "name": "python",
   "nbconvert_exporter": "python",
   "pygments_lexer": "ipython3",
   "version": "3.11.5"
  },
  "orig_nbformat": 4
 },
 "nbformat": 4,
 "nbformat_minor": 2
}
